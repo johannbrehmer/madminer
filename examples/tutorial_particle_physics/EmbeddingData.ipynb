{
 "cells": [
  {
   "cell_type": "code",
   "execution_count": 3,
   "metadata": {},
   "outputs": [],
   "source": [
    "import h5py, os\n",
    "import numpy as np"
   ]
  },
  {
   "cell_type": "code",
   "execution_count": 4,
   "metadata": {},
   "outputs": [],
   "source": [
    "f = h5py.File(os.getcwd()+'/data/lhe_data_gw.h5', 'r+')\n",
    "#f = h5py.File(os.getcwd()+'/data/lhe_data_shuffled.h5', 'r+')"
   ]
  },
  {
   "cell_type": "code",
   "execution_count": 5,
   "metadata": {},
   "outputs": [
    {
     "data": {
      "text/plain": [
       "<KeysViewHDF5 ['benchmarks', 'morphing', 'observables', 'parameters', 'sample_summary', 'samples']>"
      ]
     },
     "execution_count": 5,
     "metadata": {},
     "output_type": "execute_result"
    }
   ],
   "source": [
    "f.keys()"
   ]
  },
  {
   "cell_type": "code",
   "execution_count": 6,
   "metadata": {},
   "outputs": [
    {
     "data": {
      "text/plain": [
       "<KeysViewHDF5 ['is_nuisance', 'is_reference', 'names', 'values']>"
      ]
     },
     "execution_count": 6,
     "metadata": {},
     "output_type": "execute_result"
    }
   ],
   "source": [
    "bm = f['benchmarks']\n",
    "bm.keys()"
   ]
  },
  {
   "cell_type": "code",
   "execution_count": 7,
   "metadata": {},
   "outputs": [
    {
     "data": {
      "text/plain": [
       "<KeysViewHDF5 ['components', 'morphing_matrix']>"
      ]
     },
     "execution_count": 7,
     "metadata": {},
     "output_type": "execute_result"
    }
   ],
   "source": [
    "mp = f['morphing']\n",
    "mp.keys()"
   ]
  },
  {
   "cell_type": "code",
   "execution_count": 8,
   "metadata": {},
   "outputs": [
    {
     "data": {
      "text/plain": [
       "<KeysViewHDF5 ['definitions', 'names']>"
      ]
     },
     "execution_count": 8,
     "metadata": {},
     "output_type": "execute_result"
    }
   ],
   "source": [
    "ob = f['observables']\n",
    "ob.keys()"
   ]
  },
  {
   "cell_type": "code",
   "execution_count": 9,
   "metadata": {},
   "outputs": [
    {
     "data": {
      "text/plain": [
       "<KeysViewHDF5 ['lha_blocks', 'lha_ids', 'max_power', 'names', 'ranges', 'transforms']>"
      ]
     },
     "execution_count": 9,
     "metadata": {},
     "output_type": "execute_result"
    }
   ],
   "source": [
    "pm = f['parameters']\n",
    "pm.keys()"
   ]
  },
  {
   "cell_type": "code",
   "execution_count": 10,
   "metadata": {},
   "outputs": [
    {
     "data": {
      "text/plain": [
       "<KeysViewHDF5 ['background_events', 'signal_events_per_benchmark']>"
      ]
     },
     "execution_count": 10,
     "metadata": {},
     "output_type": "execute_result"
    }
   ],
   "source": [
    "ss = f['sample_summary']\n",
    "ss.keys()"
   ]
  },
  {
   "cell_type": "code",
   "execution_count": 11,
   "metadata": {},
   "outputs": [
    {
     "data": {
      "text/plain": [
       "<KeysViewHDF5 ['observations', 'sampling_benchmarks', 'weights']>"
      ]
     },
     "execution_count": 11,
     "metadata": {},
     "output_type": "execute_result"
    }
   ],
   "source": [
    "samples = f['samples']\n",
    "samples.keys()"
   ]
  },
  {
   "cell_type": "code",
   "execution_count": 12,
   "metadata": {},
   "outputs": [
    {
     "data": {
      "text/plain": [
       "array([3, 3, 4, ..., 3, 3, 3])"
      ]
     },
     "execution_count": 12,
     "metadata": {},
     "output_type": "execute_result"
    }
   ],
   "source": [
    "np.array(f['samples/sampling_benchmarks'])"
   ]
  },
  {
   "cell_type": "code",
   "execution_count": 48,
   "metadata": {},
   "outputs": [],
   "source": [
    "f.close()"
   ]
  },
  {
   "cell_type": "markdown",
   "metadata": {},
   "source": [
    "### Samples"
   ]
  },
  {
   "cell_type": "code",
   "execution_count": 13,
   "metadata": {},
   "outputs": [
    {
     "data": {
      "text/plain": [
       "(110000, 3)"
      ]
     },
     "execution_count": 13,
     "metadata": {},
     "output_type": "execute_result"
    }
   ],
   "source": [
    "observations = np.array(samples['observations'])\n",
    "observations.shape"
   ]
  },
  {
   "cell_type": "code",
   "execution_count": 14,
   "metadata": {},
   "outputs": [
    {
     "data": {
      "text/plain": [
       "array([[2.7841223e-08, 1.4210410e-08, 2.1442170e-08, ..., 2.0985015e-08,\n",
       "        2.1245668e-08, 2.1771883e-08],\n",
       "       [2.2302728e-08, 1.9083157e-08, 2.0893168e-08, ..., 2.0786713e-08,\n",
       "        2.0847518e-08, 2.0969404e-08],\n",
       "       [1.1378621e-07, 9.1049680e-08, 1.0373078e-07, ..., 1.0297749e-07,\n",
       "        1.0340765e-07, 1.0427079e-07],\n",
       "       ...,\n",
       "       [2.0731574e-08, 2.0853072e-08, 2.0720938e-08, ..., 2.0724001e-08,\n",
       "        2.0722183e-08, 2.0719090e-08],\n",
       "       [2.0037817e-08, 2.1580510e-08, 2.0647189e-08, ..., 2.0697211e-08,\n",
       "        2.0668568e-08, 2.0611724e-08],\n",
       "       [2.9313322e-08, 1.3099329e-08, 2.1580261e-08, ..., 2.1034656e-08,\n",
       "        2.1345611e-08, 2.1974413e-08]])"
      ]
     },
     "execution_count": 14,
     "metadata": {},
     "output_type": "execute_result"
    }
   ],
   "source": [
    "weights = np.array(samples['weights'])\n",
    "weights"
   ]
  },
  {
   "cell_type": "code",
   "execution_count": 15,
   "metadata": {},
   "outputs": [
    {
     "name": "stdout",
     "output_type": "stream",
     "text": [
      "num of sm events: 50000\n",
      "num of 5 events: 10000\n",
      "num of neg_5 events: 10000\n",
      "num of 10 events: 10000\n",
      "num of neg_10 events: 10000\n",
      "num of 20 events: 10000\n",
      "num of neg_20 events: 10000\n"
     ]
    }
   ],
   "source": [
    "sampling_benchmarks = np.array(samples['sampling_benchmarks'])\n",
    "print('num of sm events: '+str(sum(sampling_benchmarks == 3)))\n",
    "print('num of 5 events: '+str(sum(sampling_benchmarks == 4)))\n",
    "print('num of neg_5 events: '+str(sum(sampling_benchmarks == 5)))\n",
    "print('num of 10 events: '+str(sum(sampling_benchmarks == 6)))\n",
    "print('num of neg_10 events: '+str(sum(sampling_benchmarks == 7)))\n",
    "print('num of 20 events: '+str(sum(sampling_benchmarks == 8)))\n",
    "print('num of neg_20 events: '+str(sum(sampling_benchmarks == 9)))"
   ]
  },
  {
   "cell_type": "markdown",
   "metadata": {},
   "source": [
    "### Embedding toy data"
   ]
  },
  {
   "cell_type": "code",
   "execution_count": 16,
   "metadata": {},
   "outputs": [],
   "source": [
    "toydataFile = h5py.File(os.getcwd()+'/toydata/gw_toydata.h5', 'r')"
   ]
  },
  {
   "cell_type": "markdown",
   "metadata": {},
   "source": [
    "#### data"
   ]
  },
  {
   "cell_type": "code",
   "execution_count": 17,
   "metadata": {
    "scrolled": true
   },
   "outputs": [
    {
     "data": {
      "text/plain": [
       "<HDF5 dataset \"observations\": shape (6000000, 9), type \"<f4\">"
      ]
     },
     "execution_count": 17,
     "metadata": {},
     "output_type": "execute_result"
    }
   ],
   "source": [
    "del f['samples/observations']\n",
    "f.create_dataset('samples/observations', data=np.array(toydataFile['Data']))"
   ]
  },
  {
   "cell_type": "markdown",
   "metadata": {},
   "source": [
    "#### sampling_benchmarks"
   ]
  },
  {
   "cell_type": "code",
   "execution_count": 18,
   "metadata": {},
   "outputs": [
    {
     "data": {
      "text/plain": [
       "<HDF5 dataset \"sampling_benchmarks\": shape (6000000,), type \"<f8\">"
      ]
     },
     "execution_count": 18,
     "metadata": {},
     "output_type": "execute_result"
    }
   ],
   "source": [
    "N = 500000\n",
    "sampling_benchmarks = np.concatenate([np.concatenate([np.ones(N)*3, np.ones(N)*i]) for i in range(4, 10)])\n",
    "del f['samples/sampling_benchmarks']\n",
    "f.create_dataset('samples/sampling_benchmarks', data=sampling_benchmarks)"
   ]
  },
  {
   "cell_type": "markdown",
   "metadata": {},
   "source": [
    "#### weights"
   ]
  },
  {
   "cell_type": "code",
   "execution_count": 19,
   "metadata": {},
   "outputs": [],
   "source": [
    "Weights = np.array(toydataFile['Weights'])"
   ]
  },
  {
   "cell_type": "code",
   "execution_count": 20,
   "metadata": {},
   "outputs": [
    {
     "data": {
      "text/plain": [
       "array([1.2393269e-07, 1.2393269e-07, 1.2393269e-07, ..., 3.1926135e-07,\n",
       "       3.1926135e-07, 3.1926135e-07], dtype=float32)"
      ]
     },
     "execution_count": 20,
     "metadata": {},
     "output_type": "execute_result"
    }
   ],
   "source": [
    "Weights"
   ]
  },
  {
   "cell_type": "code",
   "execution_count": 21,
   "metadata": {},
   "outputs": [],
   "source": [
    "weights = np.ones([N*12, 10])*(1e10)"
   ]
  },
  {
   "cell_type": "code",
   "execution_count": 20,
   "metadata": {},
   "outputs": [],
   "source": [
    "#weights[N*0:N*1, 3] = Weights[N*0]\n",
    "#weights[N*1:N*2, 4] = Weights[N*1]\n",
    "#weights[N*:N*1, 3] = Weights[N*0]"
   ]
  },
  {
   "cell_type": "code",
   "execution_count": 22,
   "metadata": {},
   "outputs": [
    {
     "name": "stdout",
     "output_type": "stream",
     "text": [
      "sm data, pos=3\n",
      "bsm data, pos=4\n",
      "sm data, pos=3\n",
      "bsm data, pos=5\n",
      "sm data, pos=3\n",
      "bsm data, pos=6\n",
      "sm data, pos=3\n",
      "bsm data, pos=7\n",
      "sm data, pos=3\n",
      "bsm data, pos=8\n",
      "sm data, pos=3\n",
      "bsm data, pos=9\n"
     ]
    }
   ],
   "source": [
    "for i in range(12):\n",
    "    if i%2==0:\n",
    "        print('sm data, pos=%d'%(3))\n",
    "        weights[N*i:N*(i+1), 3] = Weights[N*i]\n",
    "    else:\n",
    "        print('bsm data, pos=%d'%(3+(i+1)/2))\n",
    "        weights[N*i:N*(i+1), int(3+(i+1)/2)] = Weights[N*i]"
   ]
  },
  {
   "cell_type": "code",
   "execution_count": 23,
   "metadata": {},
   "outputs": [
    {
     "data": {
      "text/plain": [
       "<HDF5 dataset \"weights\": shape (6000000, 10), type \"<f8\">"
      ]
     },
     "execution_count": 23,
     "metadata": {},
     "output_type": "execute_result"
    }
   ],
   "source": [
    "del f['samples/weights']\n",
    "f.create_dataset('samples/weights', data=weights)"
   ]
  },
  {
   "cell_type": "markdown",
   "metadata": {},
   "source": [
    "#### observable numbers"
   ]
  },
  {
   "cell_type": "code",
   "execution_count": 24,
   "metadata": {},
   "outputs": [
    {
     "data": {
      "text/plain": [
       "<KeysViewHDF5 ['definitions', 'names']>"
      ]
     },
     "execution_count": 24,
     "metadata": {},
     "output_type": "execute_result"
    }
   ],
   "source": [
    "f['observables'].keys()"
   ]
  },
  {
   "cell_type": "code",
   "execution_count": 25,
   "metadata": {},
   "outputs": [
    {
     "name": "stdout",
     "output_type": "stream",
     "text": [
      "[b'j[0].pt' b'j[0].deltaphi(j[1]) * (-1. + 2.*float(j[0].eta > j[1].eta))'\n",
      " b'met.pt']\n",
      "[b'pt_j1' b'delta_phi_jj' b'met']\n"
     ]
    }
   ],
   "source": [
    "print(np.array(f['observables/definitions']))\n",
    "print(np.array(f['observables/names']))"
   ]
  },
  {
   "cell_type": "code",
   "execution_count": 26,
   "metadata": {},
   "outputs": [
    {
     "data": {
      "text/plain": [
       "<HDF5 dataset \"names\": shape (9,), type \"|S9\">"
      ]
     },
     "execution_count": 26,
     "metadata": {},
     "output_type": "execute_result"
    }
   ],
   "source": [
    "del f['observables/definitions']\n",
    "del f['observables/names']\n",
    "\n",
    "observables = ['s', 'theta', 'thetaZ', 'thetaW', 'Sin(phiZ)', 'Sin(phiW)', 'Cos(phiZ)', 'Cos(phiW)', 'Pt']\n",
    "f.create_dataset('observables/definitions', data=(np.array(observables, dtype='S')))\n",
    "f.create_dataset('observables/names', data=(np.array(observables, dtype='S')))"
   ]
  },
  {
   "cell_type": "code",
   "execution_count": 27,
   "metadata": {},
   "outputs": [],
   "source": [
    "f.close()"
   ]
  }
 ],
 "metadata": {
  "kernelspec": {
   "display_name": "Python 2",
   "language": "python",
   "name": "python2"
  },
  "language_info": {
   "codemirror_mode": {
    "name": "ipython",
    "version": 3
   },
   "file_extension": ".py",
   "mimetype": "text/x-python",
   "name": "python",
   "nbconvert_exporter": "python",
   "pygments_lexer": "ipython3",
   "version": "3.8.2"
  }
 },
 "nbformat": 4,
 "nbformat_minor": 4
}
