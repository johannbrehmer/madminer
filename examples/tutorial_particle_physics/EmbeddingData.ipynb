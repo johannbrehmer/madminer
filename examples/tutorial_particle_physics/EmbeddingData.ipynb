{
 "cells": [
  {
   "cell_type": "code",
   "execution_count": 1,
   "metadata": {},
   "outputs": [],
   "source": [
    "import h5py, os\n",
    "import numpy as np"
   ]
  },
  {
   "cell_type": "code",
   "execution_count": 2,
   "metadata": {},
   "outputs": [],
   "source": [
    "f = h5py.File(os.getcwd()+'/data/lhe_data.h5', 'r+')\n",
    "#f = h5py.File(os.getcwd()+'/data/lhe_data_shuffled.h5', 'r+')"
   ]
  },
  {
   "cell_type": "code",
   "execution_count": 3,
   "metadata": {},
   "outputs": [
    {
     "data": {
      "text/plain": [
       "<KeysViewHDF5 ['benchmarks', 'morphing', 'observables', 'parameters', 'sample_summary', 'samples']>"
      ]
     },
     "execution_count": 3,
     "metadata": {},
     "output_type": "execute_result"
    }
   ],
   "source": [
    "f.keys()"
   ]
  },
  {
   "cell_type": "code",
   "execution_count": 4,
   "metadata": {},
   "outputs": [
    {
     "data": {
      "text/plain": [
       "<KeysViewHDF5 ['is_nuisance', 'is_reference', 'names', 'values']>"
      ]
     },
     "execution_count": 4,
     "metadata": {},
     "output_type": "execute_result"
    }
   ],
   "source": [
    "bm = f['benchmarks']\n",
    "bm.keys()"
   ]
  },
  {
   "cell_type": "code",
   "execution_count": 5,
   "metadata": {},
   "outputs": [
    {
     "data": {
      "text/plain": [
       "<KeysViewHDF5 ['components', 'morphing_matrix']>"
      ]
     },
     "execution_count": 5,
     "metadata": {},
     "output_type": "execute_result"
    }
   ],
   "source": [
    "mp = f['morphing']\n",
    "mp.keys()"
   ]
  },
  {
   "cell_type": "code",
   "execution_count": 6,
   "metadata": {},
   "outputs": [
    {
     "data": {
      "text/plain": [
       "<KeysViewHDF5 ['definitions', 'names']>"
      ]
     },
     "execution_count": 6,
     "metadata": {},
     "output_type": "execute_result"
    }
   ],
   "source": [
    "ob = f['observables']\n",
    "ob.keys()"
   ]
  },
  {
   "cell_type": "code",
   "execution_count": 7,
   "metadata": {},
   "outputs": [
    {
     "data": {
      "text/plain": [
       "<KeysViewHDF5 ['lha_blocks', 'lha_ids', 'max_power', 'names', 'ranges', 'transforms']>"
      ]
     },
     "execution_count": 7,
     "metadata": {},
     "output_type": "execute_result"
    }
   ],
   "source": [
    "pm = f['parameters']\n",
    "pm.keys()"
   ]
  },
  {
   "cell_type": "code",
   "execution_count": 8,
   "metadata": {},
   "outputs": [
    {
     "data": {
      "text/plain": [
       "<KeysViewHDF5 ['background_events', 'signal_events_per_benchmark']>"
      ]
     },
     "execution_count": 8,
     "metadata": {},
     "output_type": "execute_result"
    }
   ],
   "source": [
    "ss = f['sample_summary']\n",
    "ss.keys()"
   ]
  },
  {
   "cell_type": "code",
   "execution_count": 9,
   "metadata": {},
   "outputs": [
    {
     "data": {
      "text/plain": [
       "<KeysViewHDF5 ['observations', 'sampling_benchmarks', 'weights']>"
      ]
     },
     "execution_count": 9,
     "metadata": {},
     "output_type": "execute_result"
    }
   ],
   "source": [
    "samples = f['samples']\n",
    "samples.keys()"
   ]
  },
  {
   "cell_type": "code",
   "execution_count": 10,
   "metadata": {},
   "outputs": [
    {
     "data": {
      "text/plain": [
       "array([3, 4, 3, ..., 8, 9, 4])"
      ]
     },
     "execution_count": 10,
     "metadata": {},
     "output_type": "execute_result"
    }
   ],
   "source": [
    "np.array(f['samples/sampling_benchmarks'])"
   ]
  },
  {
   "cell_type": "code",
   "execution_count": 11,
   "metadata": {},
   "outputs": [],
   "source": [
    "f.close()"
   ]
  },
  {
   "cell_type": "markdown",
   "metadata": {},
   "source": [
    "### Samples"
   ]
  },
  {
   "cell_type": "code",
   "execution_count": 11,
   "metadata": {},
   "outputs": [
    {
     "data": {
      "text/plain": [
       "(110000, 3)"
      ]
     },
     "execution_count": 11,
     "metadata": {},
     "output_type": "execute_result"
    }
   ],
   "source": [
    "observations = np.array(samples['observations'])\n",
    "observations.shape"
   ]
  },
  {
   "cell_type": "code",
   "execution_count": 12,
   "metadata": {},
   "outputs": [
    {
     "data": {
      "text/plain": [
       "array([[2.1131966e-08, 2.0625963e-08, 2.0327084e-08, ..., 2.0704025e-08,\n",
       "        2.0638013e-08, 2.0506882e-08],\n",
       "       [9.3489014e-08, 1.0419120e-07, 1.1103390e-07, ..., 1.0246854e-07,\n",
       "        1.0392355e-07, 1.0687026e-07],\n",
       "       [1.0805914e-08, 2.3687832e-08, 3.3784027e-08, ..., 2.1358859e-08,\n",
       "        2.3320070e-08, 2.7485005e-08],\n",
       "       ...,\n",
       "       [5.8120055e-08, 1.1497324e-07, 1.5831494e-07, ..., 1.0486168e-07,\n",
       "        1.1338000e-07, 1.3135714e-07],\n",
       "       [1.0464017e-07, 1.2612355e-07, 1.3991972e-07, ..., 1.2265724e-07,\n",
       "        1.2558481e-07, 1.3152000e-07],\n",
       "       [9.7356379e-08, 1.0285832e-07, 1.0621982e-07, ..., 1.0199417e-07,\n",
       "        1.0272455e-07, 1.0418750e-07]])"
      ]
     },
     "execution_count": 12,
     "metadata": {},
     "output_type": "execute_result"
    }
   ],
   "source": [
    "weights = np.array(samples['weights'])\n",
    "weights"
   ]
  },
  {
   "cell_type": "code",
   "execution_count": 13,
   "metadata": {},
   "outputs": [
    {
     "name": "stdout",
     "output_type": "stream",
     "text": [
      "num of sm events: 50000\n",
      "num of 50 events: 10000\n",
      "num of neg_50 events: 10000\n",
      "num of 200 events: 10000\n",
      "num of neg_200 events: 10000\n",
      "num of 500 events: 10000\n",
      "num of neg_500 events: 10000\n"
     ]
    }
   ],
   "source": [
    "sampling_benchmarks = np.array(samples['sampling_benchmarks'])\n",
    "print('num of sm events: '+str(sum(sampling_benchmarks == 3)))\n",
    "print('num of 50 events: '+str(sum(sampling_benchmarks == 4)))\n",
    "print('num of neg_50 events: '+str(sum(sampling_benchmarks == 5)))\n",
    "print('num of 200 events: '+str(sum(sampling_benchmarks == 6)))\n",
    "print('num of neg_200 events: '+str(sum(sampling_benchmarks == 7)))\n",
    "print('num of 500 events: '+str(sum(sampling_benchmarks == 8)))\n",
    "print('num of neg_500 events: '+str(sum(sampling_benchmarks == 9)))"
   ]
  },
  {
   "cell_type": "markdown",
   "metadata": {},
   "source": [
    "### Embedding toy data"
   ]
  },
  {
   "cell_type": "code",
   "execution_count": 15,
   "metadata": {},
   "outputs": [],
   "source": [
    "toydataFile = h5py.File(os.getcwd()+'/toydata/gphi_toydata.h5', 'r')"
   ]
  },
  {
   "cell_type": "markdown",
   "metadata": {},
   "source": [
    "#### data"
   ]
  },
  {
   "cell_type": "code",
   "execution_count": 16,
   "metadata": {
    "scrolled": true
   },
   "outputs": [
    {
     "data": {
      "text/plain": [
       "<HDF5 dataset \"observations\": shape (6000000, 9), type \"<f4\">"
      ]
     },
     "execution_count": 16,
     "metadata": {},
     "output_type": "execute_result"
    }
   ],
   "source": [
    "del f['samples/observations']\n",
    "f.create_dataset('samples/observations', data=np.array(toydataFile['Data']))"
   ]
  },
  {
   "cell_type": "markdown",
   "metadata": {},
   "source": [
    "#### sampling_benchmarks"
   ]
  },
  {
   "cell_type": "code",
   "execution_count": 17,
   "metadata": {},
   "outputs": [
    {
     "data": {
      "text/plain": [
       "<HDF5 dataset \"sampling_benchmarks\": shape (6000000,), type \"<f8\">"
      ]
     },
     "execution_count": 17,
     "metadata": {},
     "output_type": "execute_result"
    }
   ],
   "source": [
    "N = 500000\n",
    "sampling_benchmarks = np.concatenate([np.concatenate([np.ones(N)*3, np.ones(N)*i]) for i in range(4, 10)])\n",
    "del f['samples/sampling_benchmarks']\n",
    "f.create_dataset('samples/sampling_benchmarks', data=sampling_benchmarks)"
   ]
  },
  {
   "cell_type": "markdown",
   "metadata": {},
   "source": [
    "#### weights"
   ]
  },
  {
   "cell_type": "code",
   "execution_count": 18,
   "metadata": {},
   "outputs": [],
   "source": [
    "Weights = np.array(toydataFile['Weights'])"
   ]
  },
  {
   "cell_type": "code",
   "execution_count": 19,
   "metadata": {},
   "outputs": [
    {
     "data": {
      "text/plain": [
       "array([7.1692028e-08, 7.1692028e-08, 7.1692028e-08, ..., 4.0921014e-07,\n",
       "       4.0921014e-07, 4.0921014e-07], dtype=float32)"
      ]
     },
     "execution_count": 19,
     "metadata": {},
     "output_type": "execute_result"
    }
   ],
   "source": [
    "Weights"
   ]
  },
  {
   "cell_type": "code",
   "execution_count": 20,
   "metadata": {},
   "outputs": [],
   "source": [
    "weights = np.ones([N*12, 10])*(1e10)"
   ]
  },
  {
   "cell_type": "code",
   "execution_count": 25,
   "metadata": {},
   "outputs": [],
   "source": [
    "#weights[N*0:N*1, 3] = Weights[N*0]\n",
    "#weights[N*1:N*2, 4] = Weights[N*1]\n",
    "#weights[N*:N*1, 3] = Weights[N*0]"
   ]
  },
  {
   "cell_type": "code",
   "execution_count": 21,
   "metadata": {},
   "outputs": [
    {
     "name": "stdout",
     "output_type": "stream",
     "text": [
      "sm data, pos=3\n",
      "bsm data, pos=4\n",
      "sm data, pos=3\n",
      "bsm data, pos=5\n",
      "sm data, pos=3\n",
      "bsm data, pos=6\n",
      "sm data, pos=3\n",
      "bsm data, pos=7\n",
      "sm data, pos=3\n",
      "bsm data, pos=8\n",
      "sm data, pos=3\n",
      "bsm data, pos=9\n"
     ]
    }
   ],
   "source": [
    "for i in range(12):\n",
    "    if i%2==0:\n",
    "        print('sm data, pos=%d'%(3))\n",
    "        weights[N*i:N*(i+1), 3] = Weights[N*i]\n",
    "    else:\n",
    "        print('bsm data, pos=%d'%(3+(i+1)/2))\n",
    "        weights[N*i:N*(i+1), int(3+(i+1)/2)] = Weights[N*i]"
   ]
  },
  {
   "cell_type": "code",
   "execution_count": 22,
   "metadata": {},
   "outputs": [
    {
     "data": {
      "text/plain": [
       "<HDF5 dataset \"weights\": shape (6000000, 10), type \"<f8\">"
      ]
     },
     "execution_count": 22,
     "metadata": {},
     "output_type": "execute_result"
    }
   ],
   "source": [
    "del f['samples/weights']\n",
    "f.create_dataset('samples/weights', data=weights)"
   ]
  },
  {
   "cell_type": "markdown",
   "metadata": {},
   "source": [
    "#### observable numbers"
   ]
  },
  {
   "cell_type": "code",
   "execution_count": 23,
   "metadata": {},
   "outputs": [
    {
     "data": {
      "text/plain": [
       "<KeysViewHDF5 ['definitions', 'names']>"
      ]
     },
     "execution_count": 23,
     "metadata": {},
     "output_type": "execute_result"
    }
   ],
   "source": [
    "f['observables'].keys()"
   ]
  },
  {
   "cell_type": "code",
   "execution_count": 24,
   "metadata": {},
   "outputs": [
    {
     "name": "stdout",
     "output_type": "stream",
     "text": [
      "[b'j[0].pt' b'j[0].deltaphi(j[1]) * (-1. + 2.*float(j[0].eta > j[1].eta))'\n",
      " b'met.pt']\n",
      "[b'pt_j1' b'delta_phi_jj' b'met']\n"
     ]
    }
   ],
   "source": [
    "print(np.array(f['observables/definitions']))\n",
    "print(np.array(f['observables/names']))"
   ]
  },
  {
   "cell_type": "code",
   "execution_count": 25,
   "metadata": {},
   "outputs": [
    {
     "data": {
      "text/plain": [
       "<HDF5 dataset \"names\": shape (9,), type \"|S9\">"
      ]
     },
     "execution_count": 25,
     "metadata": {},
     "output_type": "execute_result"
    }
   ],
   "source": [
    "del f['observables/definitions']\n",
    "del f['observables/names']\n",
    "\n",
    "observables = ['s', 'theta', 'thetaZ', 'thetaW', 'Sin(phiZ)', 'Sin(phiW)', 'Cos(phiZ)', 'Cos(phiW)', 'Pt']\n",
    "f.create_dataset('observables/definitions', data=(np.array(observables, dtype='S')))\n",
    "f.create_dataset('observables/names', data=(np.array(observables, dtype='S')))"
   ]
  },
  {
   "cell_type": "code",
   "execution_count": 26,
   "metadata": {},
   "outputs": [],
   "source": [
    "f.close()"
   ]
  },
  {
   "cell_type": "code",
   "execution_count": null,
   "metadata": {},
   "outputs": [],
   "source": []
  }
 ],
 "metadata": {
  "kernelspec": {
   "display_name": "Python 2",
   "language": "python",
   "name": "python2"
  },
  "language_info": {
   "codemirror_mode": {
    "name": "ipython",
    "version": 3
   },
   "file_extension": ".py",
   "mimetype": "text/x-python",
   "name": "python",
   "nbconvert_exporter": "python",
   "pygments_lexer": "ipython3",
   "version": "3.8.2"
  }
 },
 "nbformat": 4,
 "nbformat_minor": 4
}
