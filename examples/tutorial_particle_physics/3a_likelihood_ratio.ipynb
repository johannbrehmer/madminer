{
 "cells": [
  {
   "cell_type": "markdown",
   "metadata": {},
   "source": [
    "# MadMiner particle physics tutorial\n",
    "\n",
    "# Part 3a: Training a likelihood ratio estimator\n",
    "\n",
    "Johann Brehmer, Felix Kling, Irina Espejo, and Kyle Cranmer 2018-2019"
   ]
  },
  {
   "cell_type": "markdown",
   "metadata": {},
   "source": [
    "In part 3a of this tutorial we will finally train a neural network to estimate likelihood ratios. We assume that you have run part 1 and 2a of this tutorial. If, instead of 2a, you have run part 2b, you just have to load a different filename later."
   ]
  },
  {
   "cell_type": "markdown",
   "metadata": {},
   "source": [
    "## Preparations"
   ]
  },
  {
   "cell_type": "code",
   "execution_count": 1,
   "metadata": {},
   "outputs": [],
   "source": [
    "from __future__ import absolute_import, division, print_function, unicode_literals\n",
    "\n",
    "import logging\n",
    "import numpy as np\n",
    "import matplotlib\n",
    "from matplotlib import pyplot as plt\n",
    "%matplotlib inline\n"
   ]
  },
  {
   "cell_type": "code",
   "execution_count": 2,
   "metadata": {},
   "outputs": [],
   "source": [
    "# MadMiner output\n",
    "logging.basicConfig(\n",
    "    format='%(asctime)-5.5s %(name)-20.20s %(levelname)-7.7s %(message)s',\n",
    "    datefmt='%H:%M',\n",
    "    level=logging.INFO\n",
    ")\n",
    "\n",
    "# Output of all other modules (e.g. matplotlib)\n",
    "for key in logging.Logger.manager.loggerDict:\n",
    "    if \"madminer\" not in key:\n",
    "        logging.getLogger(key).setLevel(logging.WARNING)"
   ]
  },
  {
   "cell_type": "code",
   "execution_count": 3,
   "metadata": {},
   "outputs": [
    {
     "name": "stderr",
     "output_type": "stream",
     "text": [
      "16:14 madminer             INFO    \n",
      "16:14 madminer             INFO    ------------------------------------------------------------------------\n",
      "16:14 madminer             INFO    |                                                                      |\n",
      "16:14 madminer             INFO    |  MadMiner v0.7.4                                                     |\n",
      "16:14 madminer             INFO    |                                                                      |\n",
      "16:14 madminer             INFO    |         Johann Brehmer, Felix Kling, Irina Espejo, and Kyle Cranmer  |\n",
      "16:14 madminer             INFO    |                                                                      |\n",
      "16:14 madminer             INFO    ------------------------------------------------------------------------\n",
      "16:14 madminer             INFO    \n"
     ]
    }
   ],
   "source": [
    "from madminer import SampleAugmenter, sampling, ParameterizedRatioEstimator"
   ]
  },
  {
   "cell_type": "markdown",
   "metadata": {},
   "source": [
    "## 1. Make (unweighted) training and test samples with augmented data"
   ]
  },
  {
   "cell_type": "markdown",
   "metadata": {},
   "source": [
    "At this point, we have all the information we need from the simulations. But the data is not quite ready to be used for machine learning. The `madminer.sampling` class `SampleAugmenter` will take care of the remaining book-keeping steps before we can train our estimators:\n",
    "\n",
    "First, it unweights the samples, i.e. for a given parameter vector `theta` (or a distribution `p(theta)`) it picks events `x` such that their distribution follows `p(x|theta)`. The selected samples will all come from the event file we have so far, but their frequency is changed -- some events will appear multiple times, some will disappear.\n",
    "\n",
    "Second, `SampleAugmenter` calculates all the augmented data (\"gold\") that is the key to our new inference methods. Depending on the specific technique, these are the joint likelihood ratio and / or the joint score. It saves all these pieces of information for the selected events in a set of numpy files that can easily be used in any machine learning framework."
   ]
  },
  {
   "cell_type": "code",
   "execution_count": 5,
   "metadata": {},
   "outputs": [
    {
     "name": "stderr",
     "output_type": "stream",
     "text": [
      "16:16 madminer.analysis.da INFO    Loading data from data/lhe_data_shuffled.h5\n",
      "16:16 madminer.analysis.da INFO    Found 1 parameters\n",
      "16:16 madminer.analysis.da INFO    Did not find nuisance parameters\n",
      "16:16 madminer.analysis.da INFO    Found 10 benchmarks, of which 10 physical\n",
      "16:16 madminer.analysis.da INFO    Found 9 observables\n",
      "16:16 madminer.analysis.da INFO    Found 6000000 events\n",
      "16:16 madminer.analysis.da INFO      3000000 signal events sampled from benchmark sm\n",
      "16:16 madminer.analysis.da INFO      500000 signal events sampled from benchmark 50\n",
      "16:16 madminer.analysis.da INFO      500000 signal events sampled from benchmark 200\n",
      "16:16 madminer.analysis.da INFO      500000 signal events sampled from benchmark 500\n",
      "16:16 madminer.analysis.da INFO      500000 signal events sampled from benchmark neg_50\n",
      "16:16 madminer.analysis.da INFO      500000 signal events sampled from benchmark neg_200\n",
      "16:16 madminer.analysis.da INFO      500000 signal events sampled from benchmark neg_500\n",
      "16:16 madminer.analysis.da INFO    Found morphing setup with 3 components\n",
      "16:16 madminer.analysis.da INFO    Did not find nuisance morphing setup\n"
     ]
    }
   ],
   "source": [
    "sampler = SampleAugmenter('data/lhe_data_shuffled.h5')\n",
    "# sampler = SampleAugmenter('data/delphes_data_shuffled.h5')"
   ]
  },
  {
   "cell_type": "markdown",
   "metadata": {},
   "source": [
    "The `SampleAugmenter` class defines five different high-level functions to generate train or test samples:\n",
    "- `sample_train_plain()`, which only saves observations x, for instance for histograms or ABC;\n",
    "- `sample_train_local()` for methods like SALLY and SALLINO, which will be demonstrated in the second part of the tutorial;\n",
    "- `sample_train_density()` for neural density estimation techniques like MAF or SCANDAL;\n",
    "- `sample_train_ratio()` for techniques like CARL, ROLR, CASCAL, and RASCAL, when only theta0 is parameterized;\n",
    "- `sample_train_more_ratios()` for the same techniques, but with both theta0 and theta1 parameterized;\n",
    "- `sample_test()` for the evaluation of any method.\n",
    "\n",
    "For the arguments `theta`, `theta0`, or `theta1`, you can (and should!) use the helper functions `benchmark()`, `benchmarks()`, `morphing_point()`, `morphing_points()`, and `random_morphing_points()`, all defined in the `madminer.sampling` module.\n",
    "\n",
    "Here we'll train a likelihood ratio estimator with the ALICES method, so we focus on the `extract_samples_train_ratio()` function. We'll sample the numerator hypothesis in the likelihood ratio with 1000 points drawn from a Gaussian prior, and fix the denominator hypothesis to the SM.\n",
    "\n",
    "Note the keyword `sample_only_from_closest_benchmark=True`, which makes sure that for each parameter point we only use the events that were originally (in MG) generated from the closest benchmark. This reduces the statistical fluctuations in the outcome quite a bit."
   ]
  },
  {
   "cell_type": "code",
   "execution_count": 6,
   "metadata": {},
   "outputs": [
    {
     "name": "stderr",
     "output_type": "stream",
     "text": [
      "16:16 madminer.sampling.sa INFO    Extracting training sample for ratio-based methods. Numerator hypothesis: 7 benchmarks, starting with ['sm', '50', 'neg_50'], denominator hypothesis: sm\n",
      "16:16 madminer.sampling.sa INFO    Starting sampling serially\n",
      "16:16 madminer.sampling.sa INFO    Sampling from parameter point 1 / 7\n",
      "16:16 madminer.sampling.sa INFO    Sampling from parameter point 2 / 7\n",
      "16:16 madminer.sampling.sa INFO    Sampling from parameter point 3 / 7\n",
      "16:16 madminer.sampling.sa INFO    Sampling from parameter point 4 / 7\n",
      "16:16 madminer.sampling.sa INFO    Sampling from parameter point 5 / 7\n",
      "16:16 madminer.sampling.sa INFO    Sampling from parameter point 6 / 7\n",
      "16:16 madminer.sampling.sa INFO    Sampling from parameter point 7 / 7\n",
      "16:16 madminer.sampling.sa INFO    Effective number of samples: mean 514285.71428571426, with individual thetas ranging from 299754.0 to 1800699.9999999998\n",
      "16:16 madminer.sampling.sa INFO    Starting sampling serially\n",
      "16:16 madminer.sampling.sa INFO    Sampling from parameter point 1 / 7\n",
      "16:16 madminer.sampling.sa INFO    Sampling from parameter point 2 / 7\n",
      "16:16 madminer.sampling.sa INFO    Sampling from parameter point 3 / 7\n",
      "16:16 madminer.sampling.sa INFO    Sampling from parameter point 4 / 7\n",
      "16:16 madminer.sampling.sa INFO    Sampling from parameter point 5 / 7\n",
      "16:16 madminer.sampling.sa INFO    Sampling from parameter point 6 / 7\n",
      "16:16 madminer.sampling.sa INFO    Sampling from parameter point 7 / 7\n",
      "16:16 madminer.sampling.sa INFO    Effective number of samples: mean 1800699.9999999998, with individual thetas ranging from 1800699.9999999998 to 1800699.9999999998\n"
     ]
    }
   ],
   "source": [
    "x, theta0, theta1, y, r_xz, t_xz, n_effective = sampler.sample_train_ratio(\n",
    "    theta0=sampling.benchmarks(['sm', '50', 'neg_50', '200', 'neg_200', '500', 'neg_500']),\n",
    "    theta1=sampling.benchmark('sm'),\n",
    "    n_samples=500000,\n",
    "    folder='./data/samples',\n",
    "    filename='train_ratio',\n",
    "    sample_only_from_closest_benchmark=True,\n",
    "    return_individual_n_effective=True,\n",
    ")"
   ]
  },
  {
   "cell_type": "markdown",
   "metadata": {},
   "source": [
    "For the evaluation we'll need a test sample:"
   ]
  },
  {
   "cell_type": "code",
   "execution_count": 7,
   "metadata": {
    "scrolled": true
   },
   "outputs": [
    {
     "name": "stderr",
     "output_type": "stream",
     "text": [
      "16:16 madminer.sampling.sa INFO    Extracting evaluation sample. Sampling according to sm\n",
      "16:16 madminer.sampling.sa INFO    Starting sampling serially\n",
      "16:16 madminer.sampling.sa INFO    Sampling from parameter point 1 / 1\n",
      "16:16 madminer.sampling.sa INFO    Effective number of samples: mean 599782.0, with individual thetas ranging from 599782.0 to 599782.0\n"
     ]
    }
   ],
   "source": [
    "_ = sampler.sample_test(\n",
    "    theta=sampling.benchmark('sm'),\n",
    "    n_samples=1000,\n",
    "    folder='./data/samples',\n",
    "    filename='test'\n",
    ")"
   ]
  },
  {
   "cell_type": "code",
   "execution_count": 8,
   "metadata": {},
   "outputs": [
    {
     "name": "stderr",
     "output_type": "stream",
     "text": [
      "16:16 madminer.sampling.sa INFO    Extracting plain training sample. Sampling according to 6 benchmarks, starting with ['50', 'neg_50', '200']\n",
      "16:16 madminer.sampling.sa INFO    Starting sampling serially\n",
      "16:16 madminer.sampling.sa INFO    Sampling from parameter point 1 / 6\n",
      "16:16 madminer.sampling.sa INFO    Sampling from parameter point 2 / 6\n",
      "16:16 madminer.sampling.sa INFO    Sampling from parameter point 3 / 6\n",
      "16:16 madminer.sampling.sa INFO    Sampling from parameter point 4 / 6\n",
      "16:16 madminer.sampling.sa INFO    Sampling from parameter point 5 / 6\n",
      "16:16 madminer.sampling.sa INFO    Sampling from parameter point 6 / 6\n",
      "16:16 madminer.sampling.sa INFO    Effective number of samples: mean 299883.3333333333, with individual thetas ranging from 299754.0 to 300070.0\n"
     ]
    }
   ],
   "source": [
    "_,_,neff=sampler.sample_train_plain(\n",
    "    #theta=sampling.morphing_point([0,0.5]),\n",
    "    theta=sampling.benchmarks(['50', 'neg_50', '200', 'neg_200', '500', 'neg_500']),\n",
    "    n_samples=10000,\n",
    ")"
   ]
  },
  {
   "cell_type": "markdown",
   "metadata": {},
   "source": [
    "You might notice the information about the \"eeffective number of samples\" in the output. This is defined as `1 / max_events(weights)`; the smaller it is, the bigger the statistical fluctuations from too large weights. Let's plot this over the parameter space:"
   ]
  },
  {
   "cell_type": "code",
   "execution_count": 38,
   "metadata": {},
   "outputs": [
    {
     "ename": "IndexError",
     "evalue": "index 1 is out of bounds for axis 1 with size 1",
     "output_type": "error",
     "traceback": [
      "\u001b[0;31m---------------------------------------------------------------------------\u001b[0m",
      "\u001b[0;31mIndexError\u001b[0m                                Traceback (most recent call last)",
      "\u001b[0;32m<ipython-input-38-3e0bb4f2aca9>\u001b[0m in \u001b[0;36m<module>\u001b[0;34m\u001b[0m\n\u001b[1;32m      5\u001b[0m \u001b[0mfig\u001b[0m \u001b[0;34m=\u001b[0m \u001b[0mplt\u001b[0m\u001b[0;34m.\u001b[0m\u001b[0mfigure\u001b[0m\u001b[0;34m(\u001b[0m\u001b[0mfigsize\u001b[0m\u001b[0;34m=\u001b[0m\u001b[0;34m(\u001b[0m\u001b[0;36m5\u001b[0m\u001b[0;34m,\u001b[0m\u001b[0;36m4\u001b[0m\u001b[0;34m)\u001b[0m\u001b[0;34m)\u001b[0m\u001b[0;34m\u001b[0m\u001b[0;34m\u001b[0m\u001b[0m\n\u001b[1;32m      6\u001b[0m \u001b[0;34m\u001b[0m\u001b[0m\n\u001b[0;32m----> 7\u001b[0;31m sc = plt.scatter(theta0[cut][:,0], theta0[cut][:,1], c=n_effective[cut],\n\u001b[0m\u001b[1;32m      8\u001b[0m                  \u001b[0ms\u001b[0m\u001b[0;34m=\u001b[0m\u001b[0;36m30.\u001b[0m\u001b[0;34m,\u001b[0m \u001b[0mcmap\u001b[0m\u001b[0;34m=\u001b[0m\u001b[0;34m'viridis'\u001b[0m\u001b[0;34m,\u001b[0m\u001b[0;34m\u001b[0m\u001b[0;34m\u001b[0m\u001b[0m\n\u001b[1;32m      9\u001b[0m                  \u001b[0mnorm\u001b[0m\u001b[0;34m=\u001b[0m\u001b[0mmatplotlib\u001b[0m\u001b[0;34m.\u001b[0m\u001b[0mcolors\u001b[0m\u001b[0;34m.\u001b[0m\u001b[0mLogNorm\u001b[0m\u001b[0;34m(\u001b[0m\u001b[0mvmin\u001b[0m\u001b[0;34m=\u001b[0m\u001b[0mcmin\u001b[0m\u001b[0;34m,\u001b[0m \u001b[0mvmax\u001b[0m\u001b[0;34m=\u001b[0m\u001b[0mcmax\u001b[0m\u001b[0;34m)\u001b[0m\u001b[0;34m,\u001b[0m\u001b[0;34m\u001b[0m\u001b[0;34m\u001b[0m\u001b[0m\n",
      "\u001b[0;31mIndexError\u001b[0m: index 1 is out of bounds for axis 1 with size 1"
     ]
    },
    {
     "data": {
      "text/plain": [
       "<Figure size 360x288 with 0 Axes>"
      ]
     },
     "metadata": {},
     "output_type": "display_data"
    }
   ],
   "source": [
    "cmin, cmax = 10., 10000.\n",
    "\n",
    "cut = (y.flatten()==0)\n",
    "\n",
    "fig = plt.figure(figsize=(5,4))\n",
    "\n",
    "sc = plt.scatter(theta0[cut][:,0], theta0[cut][:,1], c=n_effective[cut],\n",
    "                 s=30., cmap='viridis',\n",
    "                 norm=matplotlib.colors.LogNorm(vmin=cmin, vmax=cmax),\n",
    "                 marker='o')\n",
    "\n",
    "cb = plt.colorbar(sc)\n",
    "cb.set_label('Effective number of samples')\n",
    "\n",
    "plt.xlim(-1.0,1.0)\n",
    "plt.ylim(-1.0,1.0)\n",
    "plt.tight_layout()\n",
    "plt.show()"
   ]
  },
  {
   "cell_type": "markdown",
   "metadata": {},
   "source": [
    "## 2. Plot cross section over parameter space"
   ]
  },
  {
   "cell_type": "markdown",
   "metadata": {},
   "source": [
    "This is not strictly necessary, but we can also plot the cross section as a function of parameter space:"
   ]
  },
  {
   "cell_type": "code",
   "execution_count": 8,
   "metadata": {},
   "outputs": [
    {
     "name": "stderr",
     "output_type": "stream",
     "text": [
      "09:15 madminer.sampling.sa INFO    Starting cross-section calculation\n",
      "09:15 madminer.sampling.sa INFO    Starting cross-section calculation\n"
     ]
    },
    {
     "ename": "KeyboardInterrupt",
     "evalue": "",
     "output_type": "error",
     "traceback": [
      "\u001b[0;31m---------------------------------------------------------------------------\u001b[0m",
      "\u001b[0;31mKeyboardInterrupt\u001b[0m                         Traceback (most recent call last)",
      "\u001b[0;32m<ipython-input-8-ea8301247504>\u001b[0m in \u001b[0;36m<module>\u001b[0;34m\u001b[0m\n\u001b[1;32m      3\u001b[0m )\n\u001b[1;32m      4\u001b[0m \u001b[0;34m\u001b[0m\u001b[0m\n\u001b[0;32m----> 5\u001b[0;31m thetas_morphing, xsecs_morphing, xsec_errors_morphing = sampler.cross_sections(\n\u001b[0m\u001b[1;32m      6\u001b[0m     \u001b[0mtheta\u001b[0m\u001b[0;34m=\u001b[0m\u001b[0msampling\u001b[0m\u001b[0;34m.\u001b[0m\u001b[0mrandom_morphing_points\u001b[0m\u001b[0;34m(\u001b[0m\u001b[0;36m1000\u001b[0m\u001b[0;34m,\u001b[0m \u001b[0;34m[\u001b[0m\u001b[0;34m(\u001b[0m\u001b[0;34m'gaussian'\u001b[0m\u001b[0;34m,\u001b[0m \u001b[0;36m0.\u001b[0m\u001b[0;34m,\u001b[0m \u001b[0;36m1.\u001b[0m\u001b[0;34m)\u001b[0m\u001b[0;34m,\u001b[0m \u001b[0;34m(\u001b[0m\u001b[0;34m'gaussian'\u001b[0m\u001b[0;34m,\u001b[0m \u001b[0;36m0.\u001b[0m\u001b[0;34m,\u001b[0m \u001b[0;36m1.\u001b[0m\u001b[0;34m)\u001b[0m\u001b[0;34m]\u001b[0m\u001b[0;34m)\u001b[0m\u001b[0;34m\u001b[0m\u001b[0;34m\u001b[0m\u001b[0m\n\u001b[1;32m      7\u001b[0m )\n",
      "\u001b[0;32m/usr/local/lib/python3.8/dist-packages/madminer/sampling/sampleaugmenter.py\u001b[0m in \u001b[0;36mcross_sections\u001b[0;34m(self, theta, nu)\u001b[0m\n\u001b[1;32m   1196\u001b[0m             \u001b[0mparam_values\u001b[0m \u001b[0;34m=\u001b[0m \u001b[0mtheta_values\u001b[0m\u001b[0;34m\u001b[0m\u001b[0;34m\u001b[0m\u001b[0m\n\u001b[1;32m   1197\u001b[0m \u001b[0;34m\u001b[0m\u001b[0m\n\u001b[0;32m-> 1198\u001b[0;31m         \u001b[0mxsecs\u001b[0m\u001b[0;34m,\u001b[0m \u001b[0muncertainties\u001b[0m \u001b[0;34m=\u001b[0m \u001b[0mself\u001b[0m\u001b[0;34m.\u001b[0m\u001b[0mxsecs\u001b[0m\u001b[0;34m(\u001b[0m\u001b[0mthetas\u001b[0m\u001b[0;34m=\u001b[0m\u001b[0mparsed_thetas\u001b[0m\u001b[0;34m,\u001b[0m \u001b[0mnus\u001b[0m\u001b[0;34m=\u001b[0m\u001b[0mparsed_nus\u001b[0m\u001b[0;34m)\u001b[0m\u001b[0;34m\u001b[0m\u001b[0;34m\u001b[0m\u001b[0m\n\u001b[0m\u001b[1;32m   1199\u001b[0m \u001b[0;34m\u001b[0m\u001b[0m\n\u001b[1;32m   1200\u001b[0m         \u001b[0;32mreturn\u001b[0m \u001b[0mparam_values\u001b[0m\u001b[0;34m,\u001b[0m \u001b[0mxsecs\u001b[0m\u001b[0;34m,\u001b[0m \u001b[0muncertainties\u001b[0m\u001b[0;34m\u001b[0m\u001b[0;34m\u001b[0m\u001b[0m\n",
      "\u001b[0;32m/usr/local/lib/python3.8/dist-packages/madminer/analysis/dataanalyzer.py\u001b[0m in \u001b[0;36mxsecs\u001b[0;34m(self, thetas, nus, partition, test_split, validation_split, include_nuisance_benchmarks, batch_size, generated_close_to)\u001b[0m\n\u001b[1;32m    346\u001b[0m             \u001b[0;32melse\u001b[0m\u001b[0;34m:\u001b[0m\u001b[0;34m\u001b[0m\u001b[0;34m\u001b[0m\u001b[0m\n\u001b[1;32m    347\u001b[0m                 \u001b[0;31m# Weights at nominal nuisance params (nu=0)\u001b[0m\u001b[0;34m\u001b[0m\u001b[0;34m\u001b[0m\u001b[0;34m\u001b[0m\u001b[0m\n\u001b[0;32m--> 348\u001b[0;31m                 \u001b[0mweights_nom\u001b[0m \u001b[0;34m=\u001b[0m \u001b[0mmdot\u001b[0m\u001b[0;34m(\u001b[0m\u001b[0mtheta_matrices\u001b[0m\u001b[0;34m,\u001b[0m \u001b[0mbenchmark_weights\u001b[0m\u001b[0;34m)\u001b[0m  \u001b[0;31m# Shape (n_thetas, n_batch)\u001b[0m\u001b[0;34m\u001b[0m\u001b[0;34m\u001b[0m\u001b[0m\n\u001b[0m\u001b[1;32m    349\u001b[0m                 \u001b[0mweights_sq_nom\u001b[0m \u001b[0;34m=\u001b[0m \u001b[0mmdot\u001b[0m\u001b[0;34m(\u001b[0m\u001b[0mtheta_matrices\u001b[0m\u001b[0;34m,\u001b[0m \u001b[0mbenchmark_weights\u001b[0m \u001b[0;34m*\u001b[0m \u001b[0mbenchmark_weights\u001b[0m\u001b[0;34m)\u001b[0m  \u001b[0;31m# same\u001b[0m\u001b[0;34m\u001b[0m\u001b[0;34m\u001b[0m\u001b[0m\n\u001b[1;32m    350\u001b[0m \u001b[0;34m\u001b[0m\u001b[0m\n",
      "\u001b[0;32m/usr/local/lib/python3.8/dist-packages/madminer/utils/various.py\u001b[0m in \u001b[0;36mmdot\u001b[0;34m(matrix, benchmark_information)\u001b[0m\n\u001b[1;32m    326\u001b[0m         \u001b[0mweights_t\u001b[0m \u001b[0;34m=\u001b[0m \u001b[0mweights_t\u001b[0m\u001b[0;34m[\u001b[0m\u001b[0;34m:\u001b[0m\u001b[0mn_smaller\u001b[0m\u001b[0;34m]\u001b[0m\u001b[0;34m\u001b[0m\u001b[0;34m\u001b[0m\u001b[0m\n\u001b[1;32m    327\u001b[0m \u001b[0;34m\u001b[0m\u001b[0m\n\u001b[0;32m--> 328\u001b[0;31m     \u001b[0;32mreturn\u001b[0m \u001b[0mmatrix\u001b[0m\u001b[0;34m.\u001b[0m\u001b[0mdot\u001b[0m\u001b[0;34m(\u001b[0m\u001b[0mweights_t\u001b[0m\u001b[0;34m)\u001b[0m\u001b[0;34m\u001b[0m\u001b[0;34m\u001b[0m\u001b[0m\n\u001b[0m\u001b[1;32m    329\u001b[0m \u001b[0;34m\u001b[0m\u001b[0m\n\u001b[1;32m    330\u001b[0m \u001b[0;34m\u001b[0m\u001b[0m\n",
      "\u001b[0;31mKeyboardInterrupt\u001b[0m: "
     ]
    }
   ],
   "source": [
    "thetas_benchmarks, xsecs_benchmarks, xsec_errors_benchmarks = sampler.cross_sections(\n",
    "    theta=sampling.benchmarks(list(sampler.benchmarks.keys()))\n",
    ")\n",
    "\n",
    "thetas_morphing, xsecs_morphing, xsec_errors_morphing = sampler.cross_sections(\n",
    "    theta=sampling.random_morphing_points(1000, [('gaussian', 0., 1.), ('gaussian', 0., 1.)])\n",
    ")"
   ]
  },
  {
   "cell_type": "code",
   "execution_count": 23,
   "metadata": {},
   "outputs": [
    {
     "ename": "IndexError",
     "evalue": "index 1 is out of bounds for axis 1 with size 1",
     "output_type": "error",
     "traceback": [
      "\u001b[0;31m---------------------------------------------------------------------------\u001b[0m",
      "\u001b[0;31mIndexError\u001b[0m                                Traceback (most recent call last)",
      "\u001b[0;32m<ipython-input-23-a35891dc8154>\u001b[0m in \u001b[0;36m<module>\u001b[0;34m\u001b[0m\n\u001b[1;32m      7\u001b[0m             marker='o')\n\u001b[1;32m      8\u001b[0m \u001b[0;34m\u001b[0m\u001b[0m\n\u001b[0;32m----> 9\u001b[0;31m plt.scatter(thetas_benchmarks[:,0], thetas_benchmarks[:,1], c=xsecs_benchmarks,\n\u001b[0m\u001b[1;32m     10\u001b[0m             \u001b[0ms\u001b[0m\u001b[0;34m=\u001b[0m\u001b[0;36m200.\u001b[0m\u001b[0;34m,\u001b[0m \u001b[0mcmap\u001b[0m\u001b[0;34m=\u001b[0m\u001b[0;34m'viridis'\u001b[0m\u001b[0;34m,\u001b[0m \u001b[0mvmin\u001b[0m\u001b[0;34m=\u001b[0m\u001b[0mcmin\u001b[0m\u001b[0;34m,\u001b[0m \u001b[0mvmax\u001b[0m\u001b[0;34m=\u001b[0m\u001b[0mcmax\u001b[0m\u001b[0;34m,\u001b[0m \u001b[0mlw\u001b[0m\u001b[0;34m=\u001b[0m\u001b[0;36m2.\u001b[0m\u001b[0;34m,\u001b[0m \u001b[0medgecolor\u001b[0m\u001b[0;34m=\u001b[0m\u001b[0;34m'black'\u001b[0m\u001b[0;34m,\u001b[0m\u001b[0;34m\u001b[0m\u001b[0;34m\u001b[0m\u001b[0m\n\u001b[1;32m     11\u001b[0m             marker='s')\n",
      "\u001b[0;31mIndexError\u001b[0m: index 1 is out of bounds for axis 1 with size 1"
     ]
    },
    {
     "data": {
      "image/png": "[encoded data removed]",
      "text/plain": [
       "<Figure size 360x288 with 1 Axes>"
      ]
     },
     "metadata": {
      "needs_background": "light"
     },
     "output_type": "display_data"
    }
   ],
   "source": [
    "cmin, cmax = 0., 2.5 * np.mean(xsecs_morphing)\n",
    "\n",
    "fig = plt.figure(figsize=(5,4))\n",
    "\n",
    "sc = plt.scatter(thetas_morphing[:,0], thetas_morphing[:,1], c=xsecs_morphing,\n",
    "            s=40., cmap='viridis', vmin=cmin, vmax=cmax,\n",
    "            marker='o')\n",
    "\n",
    "plt.scatter(thetas_benchmarks[:,0], thetas_benchmarks[:,1], c=xsecs_benchmarks,\n",
    "            s=200., cmap='viridis', vmin=cmin, vmax=cmax, lw=2., edgecolor='black',\n",
    "            marker='s')\n",
    "\n",
    "cb = plt.colorbar(sc)\n",
    "cb.set_label('xsec [pb]')\n",
    "\n",
    "plt.xlim(-3.,3.)\n",
    "plt.ylim(-3.,3.)\n",
    "plt.tight_layout()\n",
    "plt.show()"
   ]
  },
  {
   "cell_type": "markdown",
   "metadata": {},
   "source": [
    "What  you see here is a morphing algorithm in action. We only asked MadGraph to calculate event weights (differential cross sections, or basically squared matrix elements) at six fixed parameter points (shown here as squares with black edges). But with our knowledge about the structure of the process we can interpolate any observable to any parameter point without loss (except that statistical uncertainties might increase)!"
   ]
  },
  {
   "cell_type": "markdown",
   "metadata": {},
   "source": [
    "## 3. Train likelihood ratio estimator"
   ]
  },
  {
   "cell_type": "markdown",
   "metadata": {},
   "source": [
    "It's now time to build the neural network that estimates the likelihood ratio. The central object for this is the `madminer.ml.ParameterizedRatioEstimator` class. It defines functions that train, save, load, and evaluate the estimators.\n",
    "\n",
    "In the initialization, the keywords `n_hidden` and `activation` define the architecture of the (fully connected) neural network:"
   ]
  },
  {
   "cell_type": "code",
   "execution_count": 9,
   "metadata": {},
   "outputs": [],
   "source": [
    "from madminer.ml.morphing_aware import MorphingAwareRatioEstimator"
   ]
  },
  {
   "cell_type": "code",
   "execution_count": 9,
   "metadata": {},
   "outputs": [
    {
     "name": "stderr",
     "output_type": "stream",
     "text": [
      "14:11 madminer.ml.morphing INFO    Setting up morphing-aware ratio estimator with 3 morphing components\n"
     ]
    }
   ],
   "source": [
    "#estimator = ParameterizedRatioEstimator(\n",
    "estimator = MorphingAwareRatioEstimator(\n",
    "    morphing_setup_filename='data/setup.h5',\n",
    "    n_hidden=(60,60),\n",
    "    activation=\"tanh\",\n",
    ")"
   ]
  },
  {
   "cell_type": "markdown",
   "metadata": {},
   "source": [
    "To train this model we will minimize the ALICES loss function described in [\"Likelihood-free inference with an improved cross-entropy estimator\"](https://arxiv.org/abs/1808.00973). Many alternatives, including RASCAL, are described in [\"Constraining Effective Field Theories With Machine Learning\"](https://arxiv.org/abs/1805.00013) and [\"A Guide to Constraining Effective Field Theories With Machine Learning\"](https://arxiv.org/abs/1805.00020). There is also SCANDAL introduced in [\"Mining gold from implicit models to improve likelihood-free inference\"](https://arxiv.org/abs/1805.12244)."
   ]
  },
  {
   "cell_type": "code",
   "execution_count": 10,
   "metadata": {
    "scrolled": true
   },
   "outputs": [
    {
     "name": "stderr",
     "output_type": "stream",
     "text": [
      "13:05 madminer.ml.paramete INFO    Starting training\n",
      "13:05 madminer.ml.paramete INFO      Method:                 carl\n",
      "13:05 madminer.ml.paramete INFO      Batch size:             128\n",
      "13:05 madminer.ml.paramete INFO      Optimizer:              amsgrad\n",
      "13:05 madminer.ml.paramete INFO      Epochs:                 1000\n",
      "13:05 madminer.ml.paramete INFO      Learning rate:          0.001 initially, decaying to 0.0001\n",
      "13:05 madminer.ml.paramete INFO      Validation split:       0.25\n",
      "13:05 madminer.ml.paramete INFO      Early stopping:         True\n",
      "13:05 madminer.ml.paramete INFO      Scale inputs:           True\n",
      "13:05 madminer.ml.paramete INFO      Scale parameters:       False\n",
      "13:05 madminer.ml.paramete INFO      Shuffle labels          False\n",
      "13:05 madminer.ml.paramete INFO      Samples:                all\n",
      "13:05 madminer.ml.paramete INFO    Loading training data\n",
      "13:05 madminer.utils.vario INFO      Loading data/samples/theta0_train_ratio.npy into RAM\n",
      "13:05 madminer.utils.vario INFO      Loading data/samples/x_train_ratio.npy into RAM\n",
      "13:05 madminer.utils.vario INFO      Loading data/samples/y_train_ratio.npy into RAM\n",
      "13:05 madminer.utils.vario INFO      Loading data/samples/r_xz_train_ratio.npy into RAM\n",
      "13:05 madminer.utils.vario INFO      Loading data/samples/t_xz_train_ratio.npy into RAM\n",
      "13:05 madminer.ml.paramete INFO    Found 499996 samples with 1 parameters and 9 observables\n",
      "13:05 madminer.ml.base     INFO    Setting up input rescaling\n",
      "13:05 madminer.ml.base     INFO    Disabling parameter rescaling\n",
      "13:05 madminer.ml.paramete INFO    Creating model\n",
      "13:05 madminer.ml.paramete INFO    Training model\n",
      "13:05 madminer.utils.ml.tr INFO    Training on CPU with single precision\n",
      "14:13 madminer.utils.ml.tr INFO      Epoch  50: train loss  0.59790 (xe:  0.598)\n",
      "14:13 madminer.utils.ml.tr INFO                 val. loss   0.60543 (xe:  0.605)\n",
      "15:33 madminer.utils.ml.tr INFO      Epoch 100: train loss  0.59206 (xe:  0.592)\n",
      "15:33 madminer.utils.ml.tr INFO                 val. loss   0.60853 (xe:  0.609)\n",
      "18:06 madminer.utils.ml.tr INFO      Epoch 150: train loss  0.58596 (xe:  0.586)\n",
      "18:06 madminer.utils.ml.tr INFO                 val. loss   0.61429 (xe:  0.614)\n",
      "19:46 madminer.utils.ml.tr INFO      Epoch 200: train loss  0.58111 (xe:  0.581)\n",
      "19:46 madminer.utils.ml.tr INFO                 val. loss   0.61771 (xe:  0.618)\n",
      "21:06 madminer.utils.ml.tr INFO      Epoch 250: train loss  0.57721 (xe:  0.577)\n",
      "21:06 madminer.utils.ml.tr INFO                 val. loss   0.62141 (xe:  0.621)\n",
      "22:29 madminer.utils.ml.tr INFO      Epoch 300: train loss  0.57441 (xe:  0.574)\n",
      "22:29 madminer.utils.ml.tr INFO                 val. loss   0.62435 (xe:  0.624)\n",
      "23:55 madminer.utils.ml.tr INFO      Epoch 350: train loss  0.57209 (xe:  0.572)\n",
      "23:55 madminer.utils.ml.tr INFO                 val. loss   0.62718 (xe:  0.627)\n",
      "01:22 madminer.utils.ml.tr INFO      Epoch 400: train loss  0.57003 (xe:  0.570)\n",
      "01:22 madminer.utils.ml.tr INFO                 val. loss   0.62936 (xe:  0.629)\n",
      "02:51 madminer.utils.ml.tr INFO      Epoch 450: train loss  0.56850 (xe:  0.569)\n",
      "02:51 madminer.utils.ml.tr INFO                 val. loss   0.63129 (xe:  0.631)\n",
      "04:24 madminer.utils.ml.tr INFO      Epoch 500: train loss  0.56723 (xe:  0.567)\n",
      "04:24 madminer.utils.ml.tr INFO                 val. loss   0.63299 (xe:  0.633)\n",
      "05:58 madminer.utils.ml.tr INFO      Epoch 550: train loss  0.56615 (xe:  0.566)\n",
      "05:58 madminer.utils.ml.tr INFO                 val. loss   0.63418 (xe:  0.634)\n",
      "07:31 madminer.utils.ml.tr INFO      Epoch 600: train loss  0.56526 (xe:  0.565)\n",
      "07:31 madminer.utils.ml.tr INFO                 val. loss   0.63512 (xe:  0.635)\n",
      "09:07 madminer.utils.ml.tr INFO      Epoch 650: train loss  0.56447 (xe:  0.564)\n",
      "09:07 madminer.utils.ml.tr INFO                 val. loss   0.63610 (xe:  0.636)\n",
      "10:43 madminer.utils.ml.tr INFO      Epoch 700: train loss  0.56374 (xe:  0.564)\n",
      "10:43 madminer.utils.ml.tr INFO                 val. loss   0.63686 (xe:  0.637)\n",
      "12:19 madminer.utils.ml.tr INFO      Epoch 750: train loss  0.56314 (xe:  0.563)\n",
      "12:19 madminer.utils.ml.tr INFO                 val. loss   0.63767 (xe:  0.638)\n",
      "13:58 madminer.utils.ml.tr INFO      Epoch 800: train loss  0.56257 (xe:  0.563)\n",
      "13:58 madminer.utils.ml.tr INFO                 val. loss   0.63843 (xe:  0.638)\n",
      "15:38 madminer.utils.ml.tr INFO      Epoch 850: train loss  0.56209 (xe:  0.562)\n",
      "15:38 madminer.utils.ml.tr INFO                 val. loss   0.63894 (xe:  0.639)\n",
      "17:20 madminer.utils.ml.tr INFO      Epoch 900: train loss  0.56167 (xe:  0.562)\n",
      "17:20 madminer.utils.ml.tr INFO                 val. loss   0.63929 (xe:  0.639)\n",
      "19:07 madminer.utils.ml.tr INFO      Epoch 950: train loss  0.56131 (xe:  0.561)\n",
      "19:07 madminer.utils.ml.tr INFO                 val. loss   0.63991 (xe:  0.640)\n",
      "20:54 madminer.utils.ml.tr INFO      Epoch 1000: train loss  0.56100 (xe:  0.561)\n",
      "20:54 madminer.utils.ml.tr INFO                 val. loss   0.64024 (xe:  0.640)\n",
      "20:54 madminer.utils.ml.tr INFO    Early stopping after epoch 27, with loss  0.60422 compared to final loss  0.64024\n",
      "20:54 madminer.utils.ml.tr INFO    Training time spend on:\n",
      "20:54 madminer.utils.ml.tr INFO                      initialize model:   0.00h\n",
      "20:54 madminer.utils.ml.tr INFO                                   ALL:  31.82h\n",
      "20:54 madminer.utils.ml.tr INFO                            check data:   0.00h\n",
      "20:54 madminer.utils.ml.tr INFO                          make dataset:   0.00h\n",
      "20:54 madminer.utils.ml.tr INFO                       make dataloader:   0.00h\n",
      "20:54 madminer.utils.ml.tr INFO                       setup optimizer:   0.00h\n",
      "20:54 madminer.utils.ml.tr INFO                   initialize training:   0.00h\n",
      "20:54 madminer.utils.ml.tr INFO                                set lr:   0.00h\n",
      "20:54 madminer.utils.ml.tr INFO                   load training batch:   5.23h\n",
      "20:54 madminer.utils.ml.tr INFO                        fwd: move data:   0.08h\n",
      "20:54 madminer.utils.ml.tr INFO                   fwd: check for nans:   0.45h\n",
      "20:54 madminer.utils.ml.tr INFO                    fwd: model.forward:  11.85h\n",
      "20:54 madminer.utils.ml.tr INFO                 fwd: calculate losses:   0.54h\n",
      "20:54 madminer.utils.ml.tr INFO                 training forward pass:   9.58h\n",
      "20:54 madminer.utils.ml.tr INFO                   training sum losses:   0.10h\n",
      "20:54 madminer.utils.ml.tr INFO                        opt: zero grad:   0.15h\n",
      "20:54 madminer.utils.ml.tr INFO                         opt: backward:   7.30h\n",
      "20:54 madminer.utils.ml.tr INFO                   opt: clip grad norm:   0.01h\n",
      "20:54 madminer.utils.ml.tr INFO                             opt: step:   2.66h\n",
      "20:54 madminer.utils.ml.tr INFO                        optimizer step:  10.12h\n",
      "20:54 madminer.utils.ml.tr INFO                 load validation batch:   3.37h\n",
      "20:54 madminer.utils.ml.tr INFO               validation forward pass:   3.34h\n",
      "20:54 madminer.utils.ml.tr INFO                 validation sum losses:   0.05h\n",
      "20:54 madminer.utils.ml.tr INFO                        early stopping:   0.00h\n",
      "20:54 madminer.utils.ml.tr INFO                          report epoch:   0.00h\n",
      "20:54 madminer.ml.base     INFO    Saving model to models/carl\n"
     ]
    }
   ],
   "source": [
    "estimator.train(\n",
    "    method='carl',\n",
    "    theta='data/samples/theta0_train_ratio.npy',\n",
    "    x='data/samples/x_train_ratio.npy',\n",
    "    y='data/samples/y_train_ratio.npy',\n",
    "    r_xz='data/samples/r_xz_train_ratio.npy',\n",
    "    t_xz='data/samples/t_xz_train_ratio.npy',\n",
    "    alpha=10,\n",
    "    n_epochs=1000,\n",
    "    #scale_parameters=True,\n",
    ")\n",
    "\n",
    "estimator.save('models/carl')"
   ]
  },
  {
   "cell_type": "markdown",
   "metadata": {},
   "source": [
    "### 50 epochs Robustness Check"
   ]
  },
  {
   "cell_type": "code",
   "execution_count": 11,
   "metadata": {
    "scrolled": true
   },
   "outputs": [
    {
     "name": "stderr",
     "output_type": "stream",
     "text": [
      "10:10 madminer.ml.paramete INFO    Starting training\n",
      "10:10 madminer.ml.paramete INFO      Method:                 carl\n",
      "10:10 madminer.ml.paramete INFO      Batch size:             128\n",
      "10:10 madminer.ml.paramete INFO      Optimizer:              amsgrad\n",
      "10:10 madminer.ml.paramete INFO      Epochs:                 50\n",
      "10:10 madminer.ml.paramete INFO      Learning rate:          0.001 initially, decaying to 0.0001\n",
      "10:10 madminer.ml.paramete INFO      Validation split:       0.25\n",
      "10:10 madminer.ml.paramete INFO      Early stopping:         True\n",
      "10:10 madminer.ml.paramete INFO      Scale inputs:           True\n",
      "10:10 madminer.ml.paramete INFO      Scale parameters:       False\n",
      "10:10 madminer.ml.paramete INFO      Shuffle labels          False\n",
      "10:10 madminer.ml.paramete INFO      Samples:                all\n",
      "10:10 madminer.ml.paramete INFO    Loading training data\n",
      "10:10 madminer.utils.vario INFO      Loading data/samples/theta0_train_ratio.npy into RAM\n",
      "10:10 madminer.utils.vario INFO      Loading data/samples/x_train_ratio.npy into RAM\n",
      "10:10 madminer.utils.vario INFO      Loading data/samples/y_train_ratio.npy into RAM\n",
      "10:10 madminer.utils.vario INFO      Loading data/samples/r_xz_train_ratio.npy into RAM\n",
      "10:10 madminer.utils.vario INFO      Loading data/samples/t_xz_train_ratio.npy into RAM\n",
      "10:10 madminer.ml.paramete INFO    Found 499996 samples with 1 parameters and 9 observables\n",
      "10:10 madminer.ml.base     INFO    Setting up input rescaling\n",
      "10:10 madminer.ml.base     INFO    Disabling parameter rescaling\n",
      "10:10 madminer.ml.paramete INFO    Creating model\n",
      "10:10 madminer.ml.paramete INFO    Training model\n",
      "10:10 madminer.utils.ml.tr INFO    Training on CPU with single precision\n",
      "10:13 madminer.utils.ml.tr INFO      Epoch   2: train loss  0.60979 (xe:  0.610)\n",
      "10:13 madminer.utils.ml.tr INFO                 val. loss   0.60960 (xe:  0.610)\n",
      "10:15 madminer.utils.ml.tr INFO      Epoch   4: train loss  0.60686 (xe:  0.607)\n",
      "10:15 madminer.utils.ml.tr INFO                 val. loss   0.60770 (xe:  0.608)\n",
      "10:18 madminer.utils.ml.tr INFO      Epoch   6: train loss  0.60550 (xe:  0.606)\n",
      "10:18 madminer.utils.ml.tr INFO                 val. loss   0.60728 (xe:  0.607)\n",
      "10:21 madminer.utils.ml.tr INFO      Epoch   8: train loss  0.60462 (xe:  0.605)\n",
      "10:21 madminer.utils.ml.tr INFO                 val. loss   0.60581 (xe:  0.606)\n",
      "10:24 madminer.utils.ml.tr INFO      Epoch  10: train loss  0.60395 (xe:  0.604)\n",
      "10:24 madminer.utils.ml.tr INFO                 val. loss   0.60534 (xe:  0.605)\n",
      "10:27 madminer.utils.ml.tr INFO      Epoch  12: train loss  0.60348 (xe:  0.603)\n",
      "10:27 madminer.utils.ml.tr INFO                 val. loss   0.60477 (xe:  0.605)\n",
      "10:30 madminer.utils.ml.tr INFO      Epoch  14: train loss  0.60303 (xe:  0.603)\n",
      "10:30 madminer.utils.ml.tr INFO                 val. loss   0.60480 (xe:  0.605)\n",
      "10:33 madminer.utils.ml.tr INFO      Epoch  16: train loss  0.60280 (xe:  0.603)\n",
      "10:33 madminer.utils.ml.tr INFO                 val. loss   0.60472 (xe:  0.605)\n",
      "10:36 madminer.utils.ml.tr INFO      Epoch  18: train loss  0.60239 (xe:  0.602)\n",
      "10:36 madminer.utils.ml.tr INFO                 val. loss   0.60467 (xe:  0.605)\n",
      "10:39 madminer.utils.ml.tr INFO      Epoch  20: train loss  0.60205 (xe:  0.602)\n",
      "10:39 madminer.utils.ml.tr INFO                 val. loss   0.60414 (xe:  0.604)\n",
      "10:42 madminer.utils.ml.tr INFO      Epoch  22: train loss  0.60182 (xe:  0.602)\n",
      "10:42 madminer.utils.ml.tr INFO                 val. loss   0.60446 (xe:  0.604)\n",
      "10:45 madminer.utils.ml.tr INFO      Epoch  24: train loss  0.60156 (xe:  0.602)\n",
      "10:45 madminer.utils.ml.tr INFO                 val. loss   0.60429 (xe:  0.604)\n",
      "10:48 madminer.utils.ml.tr INFO      Epoch  26: train loss  0.60131 (xe:  0.601)\n",
      "10:48 madminer.utils.ml.tr INFO                 val. loss   0.60428 (xe:  0.604)\n",
      "10:51 madminer.utils.ml.tr INFO      Epoch  28: train loss  0.60117 (xe:  0.601)\n",
      "10:51 madminer.utils.ml.tr INFO                 val. loss   0.60388 (xe:  0.604)\n",
      "10:54 madminer.utils.ml.tr INFO      Epoch  30: train loss  0.60100 (xe:  0.601)\n",
      "10:54 madminer.utils.ml.tr INFO                 val. loss   0.60421 (xe:  0.604)\n",
      "10:57 madminer.utils.ml.tr INFO      Epoch  32: train loss  0.60080 (xe:  0.601)\n",
      "10:57 madminer.utils.ml.tr INFO                 val. loss   0.60411 (xe:  0.604)\n",
      "11:00 madminer.utils.ml.tr INFO      Epoch  34: train loss  0.60067 (xe:  0.601)\n",
      "11:00 madminer.utils.ml.tr INFO                 val. loss   0.60380 (xe:  0.604)\n",
      "11:03 madminer.utils.ml.tr INFO      Epoch  36: train loss  0.60049 (xe:  0.600)\n",
      "11:03 madminer.utils.ml.tr INFO                 val. loss   0.60380 (xe:  0.604)\n",
      "11:06 madminer.utils.ml.tr INFO      Epoch  38: train loss  0.60040 (xe:  0.600)\n",
      "11:06 madminer.utils.ml.tr INFO                 val. loss   0.60362 (xe:  0.604)\n",
      "11:09 madminer.utils.ml.tr INFO      Epoch  40: train loss  0.60027 (xe:  0.600)\n",
      "11:09 madminer.utils.ml.tr INFO                 val. loss   0.60359 (xe:  0.604)\n",
      "11:12 madminer.utils.ml.tr INFO      Epoch  42: train loss  0.60013 (xe:  0.600)\n",
      "11:12 madminer.utils.ml.tr INFO                 val. loss   0.60357 (xe:  0.604)\n",
      "11:15 madminer.utils.ml.tr INFO      Epoch  44: train loss  0.60004 (xe:  0.600)\n",
      "11:15 madminer.utils.ml.tr INFO                 val. loss   0.60355 (xe:  0.604)\n",
      "11:18 madminer.utils.ml.tr INFO      Epoch  46: train loss  0.59997 (xe:  0.600)\n",
      "11:18 madminer.utils.ml.tr INFO                 val. loss   0.60379 (xe:  0.604)\n",
      "11:21 madminer.utils.ml.tr INFO      Epoch  48: train loss  0.59987 (xe:  0.600)\n",
      "11:21 madminer.utils.ml.tr INFO                 val. loss   0.60359 (xe:  0.604)\n",
      "11:25 madminer.utils.ml.tr INFO      Epoch  50: train loss  0.59978 (xe:  0.600)\n",
      "11:25 madminer.utils.ml.tr INFO                 val. loss   0.60354 (xe:  0.604)\n",
      "11:25 madminer.utils.ml.tr INFO    Early stopping after epoch 47, with loss  0.60339 compared to final loss  0.60354\n",
      "11:25 madminer.utils.ml.tr INFO    Training time spend on:\n",
      "11:25 madminer.utils.ml.tr INFO                      initialize model:   0.00h\n",
      "11:25 madminer.utils.ml.tr INFO                                   ALL:   1.25h\n",
      "11:25 madminer.utils.ml.tr INFO                            check data:   0.00h\n",
      "11:25 madminer.utils.ml.tr INFO                          make dataset:   0.00h\n",
      "11:25 madminer.utils.ml.tr INFO                       make dataloader:   0.00h\n",
      "11:25 madminer.utils.ml.tr INFO                       setup optimizer:   0.00h\n",
      "11:25 madminer.utils.ml.tr INFO                   initialize training:   0.00h\n",
      "11:25 madminer.utils.ml.tr INFO                                set lr:   0.00h\n",
      "11:25 madminer.utils.ml.tr INFO                   load training batch:   0.12h\n",
      "11:25 madminer.utils.ml.tr INFO                        fwd: move data:   0.00h\n",
      "11:25 madminer.utils.ml.tr INFO                   fwd: check for nans:   0.02h\n",
      "11:25 madminer.utils.ml.tr INFO                    fwd: model.forward:   0.58h\n",
      "11:25 madminer.utils.ml.tr INFO                 fwd: calculate losses:   0.02h\n",
      "11:25 madminer.utils.ml.tr INFO                 training forward pass:   0.46h\n",
      "11:25 madminer.utils.ml.tr INFO                   training sum losses:   0.00h\n",
      "11:25 madminer.utils.ml.tr INFO                        opt: zero grad:   0.01h\n",
      "11:25 madminer.utils.ml.tr INFO                         opt: backward:   0.35h\n",
      "11:25 madminer.utils.ml.tr INFO                   opt: clip grad norm:   0.00h\n",
      "11:25 madminer.utils.ml.tr INFO                             opt: step:   0.10h\n",
      "11:25 madminer.utils.ml.tr INFO                        optimizer step:   0.46h\n",
      "11:25 madminer.utils.ml.tr INFO                 load validation batch:   0.05h\n",
      "11:25 madminer.utils.ml.tr INFO               validation forward pass:   0.15h\n",
      "11:25 madminer.utils.ml.tr INFO                 validation sum losses:   0.00h\n",
      "11:25 madminer.utils.ml.tr INFO                        early stopping:   0.00h\n",
      "11:25 madminer.utils.ml.tr INFO                          report epoch:   0.00h\n",
      "11:25 madminer.ml.base     INFO    Saving model to models/carl50-1\n"
     ]
    }
   ],
   "source": [
    "estimator.train(\n",
    "    method='carl',\n",
    "    theta='data/samples/theta0_train_ratio.npy',\n",
    "    x='data/samples/x_train_ratio.npy',\n",
    "    y='data/samples/y_train_ratio.npy',\n",
    "    r_xz='data/samples/r_xz_train_ratio.npy',\n",
    "    t_xz='data/samples/t_xz_train_ratio.npy',\n",
    "    alpha=10,\n",
    "    n_epochs=50,\n",
    "    #scale_parameters=True,\n",
    ")\n",
    "\n",
    "estimator.save('models/carl50-1')"
   ]
  },
  {
   "cell_type": "code",
   "execution_count": 12,
   "metadata": {
    "scrolled": true
   },
   "outputs": [
    {
     "name": "stderr",
     "output_type": "stream",
     "text": [
      "11:25 madminer.ml.morphing INFO    Setting up morphing-aware ratio estimator with 3 morphing components\n",
      "11:25 madminer.ml.paramete INFO    Starting training\n",
      "11:25 madminer.ml.paramete INFO      Method:                 carl\n",
      "11:25 madminer.ml.paramete INFO      Batch size:             128\n",
      "11:25 madminer.ml.paramete INFO      Optimizer:              amsgrad\n",
      "11:25 madminer.ml.paramete INFO      Epochs:                 50\n",
      "11:25 madminer.ml.paramete INFO      Learning rate:          0.001 initially, decaying to 0.0001\n",
      "11:25 madminer.ml.paramete INFO      Validation split:       0.25\n",
      "11:25 madminer.ml.paramete INFO      Early stopping:         True\n",
      "11:25 madminer.ml.paramete INFO      Scale inputs:           True\n",
      "11:25 madminer.ml.paramete INFO      Scale parameters:       False\n",
      "11:25 madminer.ml.paramete INFO      Shuffle labels          False\n",
      "11:25 madminer.ml.paramete INFO      Samples:                all\n",
      "11:25 madminer.ml.paramete INFO    Loading training data\n",
      "11:25 madminer.utils.vario INFO      Loading data/samples/theta0_train_ratio.npy into RAM\n",
      "11:25 madminer.utils.vario INFO      Loading data/samples/x_train_ratio.npy into RAM\n",
      "11:25 madminer.utils.vario INFO      Loading data/samples/y_train_ratio.npy into RAM\n",
      "11:25 madminer.utils.vario INFO      Loading data/samples/r_xz_train_ratio.npy into RAM\n",
      "11:25 madminer.utils.vario INFO      Loading data/samples/t_xz_train_ratio.npy into RAM\n",
      "11:25 madminer.ml.paramete INFO    Found 499996 samples with 1 parameters and 9 observables\n",
      "11:25 madminer.ml.base     INFO    Setting up input rescaling\n",
      "11:25 madminer.ml.base     INFO    Disabling parameter rescaling\n",
      "11:25 madminer.ml.paramete INFO    Creating model\n",
      "11:25 madminer.ml.paramete INFO    Training model\n",
      "11:25 madminer.utils.ml.tr INFO    Training on CPU with single precision\n",
      "11:28 madminer.utils.ml.tr INFO      Epoch   2: train loss  0.60939 (xe:  0.609)\n",
      "11:28 madminer.utils.ml.tr INFO                 val. loss   0.60925 (xe:  0.609)\n",
      "11:31 madminer.utils.ml.tr INFO      Epoch   4: train loss  0.60647 (xe:  0.606)\n",
      "11:31 madminer.utils.ml.tr INFO                 val. loss   0.60676 (xe:  0.607)\n",
      "11:34 madminer.utils.ml.tr INFO      Epoch   6: train loss  0.60514 (xe:  0.605)\n",
      "11:34 madminer.utils.ml.tr INFO                 val. loss   0.60641 (xe:  0.606)\n",
      "11:37 madminer.utils.ml.tr INFO      Epoch   8: train loss  0.60438 (xe:  0.604)\n",
      "11:37 madminer.utils.ml.tr INFO                 val. loss   0.60536 (xe:  0.605)\n",
      "11:40 madminer.utils.ml.tr INFO      Epoch  10: train loss  0.60371 (xe:  0.604)\n",
      "11:40 madminer.utils.ml.tr INFO                 val. loss   0.60680 (xe:  0.607)\n",
      "11:43 madminer.utils.ml.tr INFO      Epoch  12: train loss  0.60316 (xe:  0.603)\n",
      "11:43 madminer.utils.ml.tr INFO                 val. loss   0.60594 (xe:  0.606)\n",
      "11:46 madminer.utils.ml.tr INFO      Epoch  14: train loss  0.60286 (xe:  0.603)\n",
      "11:46 madminer.utils.ml.tr INFO                 val. loss   0.60520 (xe:  0.605)\n",
      "11:49 madminer.utils.ml.tr INFO      Epoch  16: train loss  0.60241 (xe:  0.602)\n",
      "11:49 madminer.utils.ml.tr INFO                 val. loss   0.60511 (xe:  0.605)\n",
      "11:53 madminer.utils.ml.tr INFO      Epoch  18: train loss  0.60211 (xe:  0.602)\n",
      "11:53 madminer.utils.ml.tr INFO                 val. loss   0.60494 (xe:  0.605)\n",
      "11:56 madminer.utils.ml.tr INFO      Epoch  20: train loss  0.60186 (xe:  0.602)\n",
      "11:56 madminer.utils.ml.tr INFO                 val. loss   0.60480 (xe:  0.605)\n",
      "11:59 madminer.utils.ml.tr INFO      Epoch  22: train loss  0.60169 (xe:  0.602)\n",
      "11:59 madminer.utils.ml.tr INFO                 val. loss   0.60460 (xe:  0.605)\n",
      "12:02 madminer.utils.ml.tr INFO      Epoch  24: train loss  0.60142 (xe:  0.601)\n",
      "12:02 madminer.utils.ml.tr INFO                 val. loss   0.60458 (xe:  0.605)\n",
      "12:05 madminer.utils.ml.tr INFO      Epoch  26: train loss  0.60118 (xe:  0.601)\n",
      "12:05 madminer.utils.ml.tr INFO                 val. loss   0.60438 (xe:  0.604)\n",
      "12:09 madminer.utils.ml.tr INFO      Epoch  28: train loss  0.60103 (xe:  0.601)\n",
      "12:09 madminer.utils.ml.tr INFO                 val. loss   0.60436 (xe:  0.604)\n",
      "12:12 madminer.utils.ml.tr INFO      Epoch  30: train loss  0.60083 (xe:  0.601)\n",
      "12:12 madminer.utils.ml.tr INFO                 val. loss   0.60410 (xe:  0.604)\n",
      "12:15 madminer.utils.ml.tr INFO      Epoch  32: train loss  0.60068 (xe:  0.601)\n",
      "12:15 madminer.utils.ml.tr INFO                 val. loss   0.60400 (xe:  0.604)\n",
      "12:18 madminer.utils.ml.tr INFO      Epoch  34: train loss  0.60051 (xe:  0.601)\n",
      "12:18 madminer.utils.ml.tr INFO                 val. loss   0.60402 (xe:  0.604)\n",
      "12:29 madminer.utils.ml.tr INFO      Epoch  36: train loss  0.60037 (xe:  0.600)\n",
      "12:29 madminer.utils.ml.tr INFO                 val. loss   0.60402 (xe:  0.604)\n",
      "12:33 madminer.utils.ml.tr INFO      Epoch  38: train loss  0.60023 (xe:  0.600)\n",
      "12:33 madminer.utils.ml.tr INFO                 val. loss   0.60405 (xe:  0.604)\n",
      "12:36 madminer.utils.ml.tr INFO      Epoch  40: train loss  0.60012 (xe:  0.600)\n",
      "12:36 madminer.utils.ml.tr INFO                 val. loss   0.60391 (xe:  0.604)\n",
      "12:40 madminer.utils.ml.tr INFO      Epoch  42: train loss  0.60002 (xe:  0.600)\n",
      "12:40 madminer.utils.ml.tr INFO                 val. loss   0.60402 (xe:  0.604)\n",
      "12:44 madminer.utils.ml.tr INFO      Epoch  44: train loss  0.59990 (xe:  0.600)\n",
      "12:44 madminer.utils.ml.tr INFO                 val. loss   0.60407 (xe:  0.604)\n",
      "12:48 madminer.utils.ml.tr INFO      Epoch  46: train loss  0.59984 (xe:  0.600)\n",
      "12:48 madminer.utils.ml.tr INFO                 val. loss   0.60373 (xe:  0.604)\n",
      "12:52 madminer.utils.ml.tr INFO      Epoch  48: train loss  0.59973 (xe:  0.600)\n",
      "12:52 madminer.utils.ml.tr INFO                 val. loss   0.60381 (xe:  0.604)\n",
      "12:56 madminer.utils.ml.tr INFO      Epoch  50: train loss  0.59962 (xe:  0.600)\n",
      "12:56 madminer.utils.ml.tr INFO                 val. loss   0.60396 (xe:  0.604)\n",
      "12:56 madminer.utils.ml.tr INFO    Early stopping after epoch 46, with loss  0.60373 compared to final loss  0.60396\n",
      "12:56 madminer.utils.ml.tr INFO    Training time spend on:\n",
      "12:56 madminer.utils.ml.tr INFO                      initialize model:   0.00h\n",
      "12:56 madminer.utils.ml.tr INFO                                   ALL:   1.53h\n",
      "12:56 madminer.utils.ml.tr INFO                            check data:   0.00h\n",
      "12:56 madminer.utils.ml.tr INFO                          make dataset:   0.00h\n",
      "12:56 madminer.utils.ml.tr INFO                       make dataloader:   0.00h\n",
      "12:56 madminer.utils.ml.tr INFO                       setup optimizer:   0.00h\n",
      "12:56 madminer.utils.ml.tr INFO                   initialize training:   0.00h\n",
      "12:56 madminer.utils.ml.tr INFO                                set lr:   0.00h\n",
      "12:56 madminer.utils.ml.tr INFO                   load training batch:   0.15h\n",
      "12:56 madminer.utils.ml.tr INFO                        fwd: move data:   0.00h\n",
      "12:56 madminer.utils.ml.tr INFO                   fwd: check for nans:   0.02h\n",
      "12:56 madminer.utils.ml.tr INFO                    fwd: model.forward:   0.70h\n",
      "12:56 madminer.utils.ml.tr INFO                 fwd: calculate losses:   0.02h\n",
      "12:56 madminer.utils.ml.tr INFO                 training forward pass:   0.56h\n",
      "12:56 madminer.utils.ml.tr INFO                   training sum losses:   0.00h\n",
      "12:56 madminer.utils.ml.tr INFO                        opt: zero grad:   0.01h\n",
      "12:56 madminer.utils.ml.tr INFO                         opt: backward:   0.45h\n",
      "12:56 madminer.utils.ml.tr INFO                   opt: clip grad norm:   0.00h\n",
      "12:56 madminer.utils.ml.tr INFO                             opt: step:   0.11h\n",
      "12:56 madminer.utils.ml.tr INFO                        optimizer step:   0.57h\n",
      "12:56 madminer.utils.ml.tr INFO                 load validation batch:   0.06h\n",
      "12:56 madminer.utils.ml.tr INFO               validation forward pass:   0.18h\n",
      "12:56 madminer.utils.ml.tr INFO                 validation sum losses:   0.00h\n",
      "12:56 madminer.utils.ml.tr INFO                        early stopping:   0.00h\n",
      "12:56 madminer.utils.ml.tr INFO                          report epoch:   0.00h\n",
      "12:56 madminer.ml.base     INFO    Saving model to models/carl50-2\n"
     ]
    }
   ],
   "source": [
    "#estimator = ParameterizedRatioEstimator(\n",
    "estimator = MorphingAwareRatioEstimator(\n",
    "    morphing_setup_filename='data/setup.h5',\n",
    "    n_hidden=(60,60),\n",
    "    activation=\"tanh\",\n",
    ")\n",
    "\n",
    "estimator.train(\n",
    "    method='carl',\n",
    "    theta='data/samples/theta0_train_ratio.npy',\n",
    "    x='data/samples/x_train_ratio.npy',\n",
    "    y='data/samples/y_train_ratio.npy',\n",
    "    r_xz='data/samples/r_xz_train_ratio.npy',\n",
    "    t_xz='data/samples/t_xz_train_ratio.npy',\n",
    "    alpha=10,\n",
    "    n_epochs=50,\n",
    "    #scale_parameters=True,\n",
    ")\n",
    "\n",
    "estimator.save('models/carl50-2')"
   ]
  },
  {
   "cell_type": "code",
   "execution_count": 12,
   "metadata": {
    "scrolled": true
   },
   "outputs": [
    {
     "name": "stderr",
     "output_type": "stream",
     "text": [
      "14:42 madminer.ml.morphing INFO    Setting up morphing-aware ratio estimator with 3 morphing components\n",
      "14:42 madminer.ml.paramete INFO    Starting training\n",
      "14:42 madminer.ml.paramete INFO      Method:                 carl\n",
      "14:42 madminer.ml.paramete INFO      Batch size:             128\n",
      "14:42 madminer.ml.paramete INFO      Optimizer:              amsgrad\n",
      "14:42 madminer.ml.paramete INFO      Epochs:                 50\n",
      "14:42 madminer.ml.paramete INFO      Learning rate:          0.001 initially, decaying to 0.0001\n",
      "14:42 madminer.ml.paramete INFO      Validation split:       0.25\n",
      "14:42 madminer.ml.paramete INFO      Early stopping:         True\n",
      "14:42 madminer.ml.paramete INFO      Scale inputs:           True\n",
      "14:42 madminer.ml.paramete INFO      Scale parameters:       False\n",
      "14:42 madminer.ml.paramete INFO      Shuffle labels          False\n",
      "14:42 madminer.ml.paramete INFO      Samples:                all\n",
      "14:42 madminer.ml.paramete INFO    Loading training data\n",
      "14:42 madminer.utils.vario INFO      Loading data/samples/theta0_train_ratio.npy into RAM\n",
      "14:42 madminer.utils.vario INFO      Loading data/samples/x_train_ratio.npy into RAM\n",
      "14:42 madminer.utils.vario INFO      Loading data/samples/y_train_ratio.npy into RAM\n",
      "14:42 madminer.utils.vario INFO      Loading data/samples/r_xz_train_ratio.npy into RAM\n",
      "14:42 madminer.utils.vario INFO      Loading data/samples/t_xz_train_ratio.npy into RAM\n",
      "14:42 madminer.ml.paramete INFO    Found 499996 samples with 1 parameters and 9 observables\n",
      "14:42 madminer.ml.base     INFO    Setting up input rescaling\n",
      "14:42 madminer.ml.base     INFO    Disabling parameter rescaling\n",
      "14:42 madminer.ml.paramete INFO    Creating model\n",
      "14:42 madminer.ml.paramete INFO    Training model\n",
      "14:42 madminer.utils.ml.tr INFO    Training on CPU with single precision\n",
      "14:47 madminer.utils.ml.tr INFO      Epoch   2: train loss  0.60818 (xe:  0.608)\n",
      "14:47 madminer.utils.ml.tr INFO                 val. loss   0.60521 (xe:  0.605)\n",
      "14:52 madminer.utils.ml.tr INFO      Epoch   4: train loss  0.60559 (xe:  0.606)\n",
      "14:52 madminer.utils.ml.tr INFO                 val. loss   0.60461 (xe:  0.605)\n",
      "14:57 madminer.utils.ml.tr INFO      Epoch   6: train loss  0.60438 (xe:  0.604)\n",
      "14:57 madminer.utils.ml.tr INFO                 val. loss   0.60443 (xe:  0.604)\n",
      "15:02 madminer.utils.ml.tr INFO      Epoch   8: train loss  0.60364 (xe:  0.604)\n",
      "15:02 madminer.utils.ml.tr INFO                 val. loss   0.60439 (xe:  0.604)\n",
      "15:07 madminer.utils.ml.tr INFO      Epoch  10: train loss  0.60299 (xe:  0.603)\n",
      "15:07 madminer.utils.ml.tr INFO                 val. loss   0.60285 (xe:  0.603)\n",
      "15:12 madminer.utils.ml.tr INFO      Epoch  12: train loss  0.60245 (xe:  0.602)\n",
      "15:12 madminer.utils.ml.tr INFO                 val. loss   0.60250 (xe:  0.603)\n",
      "15:17 madminer.utils.ml.tr INFO      Epoch  14: train loss  0.60198 (xe:  0.602)\n",
      "15:17 madminer.utils.ml.tr INFO                 val. loss   0.60171 (xe:  0.602)\n",
      "15:22 madminer.utils.ml.tr INFO      Epoch  16: train loss  0.60163 (xe:  0.602)\n",
      "15:22 madminer.utils.ml.tr INFO                 val. loss   0.60150 (xe:  0.602)\n",
      "15:27 madminer.utils.ml.tr INFO      Epoch  18: train loss  0.60134 (xe:  0.601)\n",
      "15:27 madminer.utils.ml.tr INFO                 val. loss   0.60130 (xe:  0.601)\n",
      "15:32 madminer.utils.ml.tr INFO      Epoch  20: train loss  0.60094 (xe:  0.601)\n",
      "15:32 madminer.utils.ml.tr INFO                 val. loss   0.60156 (xe:  0.602)\n",
      "15:37 madminer.utils.ml.tr INFO      Epoch  22: train loss  0.60063 (xe:  0.601)\n",
      "15:37 madminer.utils.ml.tr INFO                 val. loss   0.60102 (xe:  0.601)\n",
      "15:42 madminer.utils.ml.tr INFO      Epoch  24: train loss  0.60037 (xe:  0.600)\n",
      "15:42 madminer.utils.ml.tr INFO                 val. loss   0.60140 (xe:  0.601)\n",
      "15:47 madminer.utils.ml.tr INFO      Epoch  26: train loss  0.60015 (xe:  0.600)\n",
      "15:47 madminer.utils.ml.tr INFO                 val. loss   0.60048 (xe:  0.600)\n",
      "15:52 madminer.utils.ml.tr INFO      Epoch  28: train loss  0.59985 (xe:  0.600)\n",
      "15:52 madminer.utils.ml.tr INFO                 val. loss   0.60073 (xe:  0.601)\n",
      "15:57 madminer.utils.ml.tr INFO      Epoch  30: train loss  0.59966 (xe:  0.600)\n",
      "15:57 madminer.utils.ml.tr INFO                 val. loss   0.60073 (xe:  0.601)\n",
      "16:02 madminer.utils.ml.tr INFO      Epoch  32: train loss  0.59944 (xe:  0.599)\n",
      "16:02 madminer.utils.ml.tr INFO                 val. loss   0.60053 (xe:  0.601)\n",
      "16:07 madminer.utils.ml.tr INFO      Epoch  34: train loss  0.59932 (xe:  0.599)\n",
      "16:07 madminer.utils.ml.tr INFO                 val. loss   0.60043 (xe:  0.600)\n",
      "16:12 madminer.utils.ml.tr INFO      Epoch  36: train loss  0.59914 (xe:  0.599)\n",
      "16:12 madminer.utils.ml.tr INFO                 val. loss   0.60072 (xe:  0.601)\n",
      "16:16 madminer.utils.ml.tr INFO      Epoch  38: train loss  0.59897 (xe:  0.599)\n",
      "16:16 madminer.utils.ml.tr INFO                 val. loss   0.60052 (xe:  0.601)\n",
      "16:21 madminer.utils.ml.tr INFO      Epoch  40: train loss  0.59885 (xe:  0.599)\n",
      "16:21 madminer.utils.ml.tr INFO                 val. loss   0.60025 (xe:  0.600)\n",
      "16:26 madminer.utils.ml.tr INFO      Epoch  42: train loss  0.59876 (xe:  0.599)\n",
      "16:26 madminer.utils.ml.tr INFO                 val. loss   0.60046 (xe:  0.600)\n",
      "16:31 madminer.utils.ml.tr INFO      Epoch  44: train loss  0.59866 (xe:  0.599)\n",
      "16:31 madminer.utils.ml.tr INFO                 val. loss   0.60015 (xe:  0.600)\n",
      "16:36 madminer.utils.ml.tr INFO      Epoch  46: train loss  0.59850 (xe:  0.599)\n",
      "16:36 madminer.utils.ml.tr INFO                 val. loss   0.60037 (xe:  0.600)\n",
      "16:41 madminer.utils.ml.tr INFO      Epoch  48: train loss  0.59843 (xe:  0.598)\n",
      "16:41 madminer.utils.ml.tr INFO                 val. loss   0.60037 (xe:  0.600)\n",
      "16:46 madminer.utils.ml.tr INFO      Epoch  50: train loss  0.59832 (xe:  0.598)\n",
      "16:46 madminer.utils.ml.tr INFO                 val. loss   0.60025 (xe:  0.600)\n",
      "16:46 madminer.utils.ml.tr INFO    Early stopping after epoch 47, with loss  0.60006 compared to final loss  0.60025\n",
      "16:46 madminer.utils.ml.tr INFO    Training time spend on:\n",
      "16:46 madminer.utils.ml.tr INFO                      initialize model:   0.00h\n",
      "16:46 madminer.utils.ml.tr INFO                                   ALL:   2.07h\n",
      "16:46 madminer.utils.ml.tr INFO                            check data:   0.00h\n",
      "16:46 madminer.utils.ml.tr INFO                          make dataset:   0.00h\n",
      "16:46 madminer.utils.ml.tr INFO                       make dataloader:   0.00h\n",
      "16:46 madminer.utils.ml.tr INFO                       setup optimizer:   0.00h\n",
      "16:46 madminer.utils.ml.tr INFO                   initialize training:   0.00h\n",
      "16:46 madminer.utils.ml.tr INFO                                set lr:   0.00h\n",
      "16:46 madminer.utils.ml.tr INFO                   load training batch:   0.12h\n",
      "16:46 madminer.utils.ml.tr INFO                        fwd: move data:   0.00h\n",
      "16:46 madminer.utils.ml.tr INFO                   fwd: check for nans:   0.02h\n",
      "16:46 madminer.utils.ml.tr INFO                    fwd: model.forward:   0.99h\n",
      "16:46 madminer.utils.ml.tr INFO                 fwd: calculate losses:   0.02h\n",
      "16:46 madminer.utils.ml.tr INFO                 training forward pass:   0.76h\n",
      "16:46 madminer.utils.ml.tr INFO                   training sum losses:   0.00h\n",
      "16:46 madminer.utils.ml.tr INFO                        opt: zero grad:   0.01h\n",
      "16:46 madminer.utils.ml.tr INFO                         opt: backward:   0.76h\n",
      "16:46 madminer.utils.ml.tr INFO                   opt: clip grad norm:   0.00h\n",
      "16:46 madminer.utils.ml.tr INFO                             opt: step:   0.10h\n",
      "16:46 madminer.utils.ml.tr INFO                        optimizer step:   0.87h\n",
      "16:46 madminer.utils.ml.tr INFO                 load validation batch:   0.05h\n",
      "16:46 madminer.utils.ml.tr INFO               validation forward pass:   0.27h\n",
      "16:46 madminer.utils.ml.tr INFO                 validation sum losses:   0.00h\n",
      "16:46 madminer.utils.ml.tr INFO                        early stopping:   0.00h\n",
      "16:46 madminer.utils.ml.tr INFO                          report epoch:   0.00h\n",
      "16:46 madminer.ml.base     INFO    Saving model to models/carl50-3\n"
     ]
    }
   ],
   "source": [
    "#estimator = ParameterizedRatioEstimator(\n",
    "estimator = MorphingAwareRatioEstimator(\n",
    "    morphing_setup_filename='data/setup.h5',\n",
    "    n_hidden=(60,60),\n",
    "    activation=\"tanh\",\n",
    ")\n",
    "\n",
    "estimator.train(\n",
    "    method='carl',\n",
    "    theta='data/samples/theta0_train_ratio.npy',\n",
    "    x='data/samples/x_train_ratio.npy',\n",
    "    y='data/samples/y_train_ratio.npy',\n",
    "    r_xz='data/samples/r_xz_train_ratio.npy',\n",
    "    t_xz='data/samples/t_xz_train_ratio.npy',\n",
    "    alpha=10,\n",
    "    n_epochs=50,\n",
    "    #scale_parameters=True,\n",
    ")\n",
    "\n",
    "estimator.save('models/carl50-3')"
   ]
  },
  {
   "cell_type": "markdown",
   "metadata": {},
   "source": [
    "### 10 epochs Reproduce"
   ]
  },
  {
   "cell_type": "code",
   "execution_count": 11,
   "metadata": {
    "scrolled": true
   },
   "outputs": [
    {
     "name": "stderr",
     "output_type": "stream",
     "text": [
      "14:14 madminer.ml.morphing INFO    Setting up morphing-aware ratio estimator with 3 morphing components\n",
      "14:14 madminer.ml.paramete INFO    Starting training\n",
      "14:14 madminer.ml.paramete INFO      Method:                 carl\n",
      "14:14 madminer.ml.paramete INFO      Batch size:             128\n",
      "14:14 madminer.ml.paramete INFO      Optimizer:              amsgrad\n",
      "14:14 madminer.ml.paramete INFO      Epochs:                 10\n",
      "14:14 madminer.ml.paramete INFO      Learning rate:          0.001 initially, decaying to 0.0001\n",
      "14:14 madminer.ml.paramete INFO      Validation split:       0.25\n",
      "14:14 madminer.ml.paramete INFO      Early stopping:         True\n",
      "14:14 madminer.ml.paramete INFO      Scale inputs:           True\n",
      "14:14 madminer.ml.paramete INFO      Scale parameters:       False\n",
      "14:14 madminer.ml.paramete INFO      Shuffle labels          False\n",
      "14:14 madminer.ml.paramete INFO      Samples:                all\n",
      "14:14 madminer.ml.paramete INFO    Loading training data\n",
      "14:14 madminer.utils.vario INFO      Loading data/samples/theta0_train_ratio.npy into RAM\n",
      "14:14 madminer.utils.vario INFO      Loading data/samples/x_train_ratio.npy into RAM\n",
      "14:14 madminer.utils.vario INFO      Loading data/samples/y_train_ratio.npy into RAM\n",
      "14:14 madminer.utils.vario INFO      Loading data/samples/r_xz_train_ratio.npy into RAM\n",
      "14:14 madminer.utils.vario INFO      Loading data/samples/t_xz_train_ratio.npy into RAM\n",
      "14:14 madminer.ml.paramete INFO    Found 499996 samples with 1 parameters and 9 observables\n",
      "14:14 madminer.ml.base     INFO    Setting up input rescaling\n",
      "14:14 madminer.ml.base     INFO    Disabling parameter rescaling\n",
      "14:14 madminer.ml.paramete INFO    Creating model\n",
      "14:14 madminer.ml.paramete INFO    Training model\n",
      "14:14 madminer.utils.ml.tr INFO    Training on CPU with single precision\n",
      "14:17 madminer.utils.ml.tr INFO      Epoch   1: train loss  0.61550 (xe:  0.615)\n",
      "14:17 madminer.utils.ml.tr INFO                 val. loss   0.60847 (xe:  0.608)\n",
      "14:20 madminer.utils.ml.tr INFO      Epoch   2: train loss  0.60802 (xe:  0.608)\n",
      "14:20 madminer.utils.ml.tr INFO                 val. loss   0.60763 (xe:  0.608)\n",
      "14:23 madminer.utils.ml.tr INFO      Epoch   3: train loss  0.60611 (xe:  0.606)\n",
      "14:23 madminer.utils.ml.tr INFO                 val. loss   0.60637 (xe:  0.606)\n",
      "14:26 madminer.utils.ml.tr INFO      Epoch   4: train loss  0.60512 (xe:  0.605)\n",
      "14:26 madminer.utils.ml.tr INFO                 val. loss   0.60559 (xe:  0.606)\n",
      "14:28 madminer.utils.ml.tr INFO      Epoch   5: train loss  0.60429 (xe:  0.604)\n",
      "14:28 madminer.utils.ml.tr INFO                 val. loss   0.60460 (xe:  0.605)\n",
      "14:31 madminer.utils.ml.tr INFO      Epoch   6: train loss  0.60376 (xe:  0.604)\n",
      "14:31 madminer.utils.ml.tr INFO                 val. loss   0.60431 (xe:  0.604)\n",
      "14:34 madminer.utils.ml.tr INFO      Epoch   7: train loss  0.60341 (xe:  0.603)\n",
      "14:34 madminer.utils.ml.tr INFO                 val. loss   0.60392 (xe:  0.604)\n",
      "14:36 madminer.utils.ml.tr INFO      Epoch   8: train loss  0.60311 (xe:  0.603)\n",
      "14:36 madminer.utils.ml.tr INFO                 val. loss   0.60357 (xe:  0.604)\n",
      "14:39 madminer.utils.ml.tr INFO      Epoch   9: train loss  0.60286 (xe:  0.603)\n",
      "14:39 madminer.utils.ml.tr INFO                 val. loss   0.60343 (xe:  0.603)\n",
      "14:42 madminer.utils.ml.tr INFO      Epoch  10: train loss  0.60271 (xe:  0.603)\n",
      "14:42 madminer.utils.ml.tr INFO                 val. loss   0.60329 (xe:  0.603)\n",
      "14:42 madminer.utils.ml.tr INFO    Early stopping did not improve performance\n",
      "14:42 madminer.utils.ml.tr INFO    Training time spend on:\n",
      "14:42 madminer.utils.ml.tr INFO                      initialize model:   0.00h\n",
      "14:42 madminer.utils.ml.tr INFO                                   ALL:   0.45h\n",
      "14:42 madminer.utils.ml.tr INFO                            check data:   0.00h\n",
      "14:42 madminer.utils.ml.tr INFO                          make dataset:   0.00h\n",
      "14:42 madminer.utils.ml.tr INFO                       make dataloader:   0.00h\n",
      "14:42 madminer.utils.ml.tr INFO                       setup optimizer:   0.00h\n",
      "14:42 madminer.utils.ml.tr INFO                   initialize training:   0.00h\n",
      "14:42 madminer.utils.ml.tr INFO                                set lr:   0.00h\n",
      "14:42 madminer.utils.ml.tr INFO                   load training batch:   0.02h\n",
      "14:42 madminer.utils.ml.tr INFO                        fwd: move data:   0.00h\n",
      "14:42 madminer.utils.ml.tr INFO                   fwd: check for nans:   0.00h\n",
      "14:42 madminer.utils.ml.tr INFO                    fwd: model.forward:   0.22h\n",
      "14:42 madminer.utils.ml.tr INFO                 fwd: calculate losses:   0.00h\n",
      "14:42 madminer.utils.ml.tr INFO                 training forward pass:   0.17h\n",
      "14:42 madminer.utils.ml.tr INFO                   training sum losses:   0.00h\n",
      "14:42 madminer.utils.ml.tr INFO                        opt: zero grad:   0.00h\n",
      "14:42 madminer.utils.ml.tr INFO                         opt: backward:   0.17h\n",
      "14:42 madminer.utils.ml.tr INFO                   opt: clip grad norm:   0.00h\n",
      "14:42 madminer.utils.ml.tr INFO                             opt: step:   0.02h\n",
      "14:42 madminer.utils.ml.tr INFO                        optimizer step:   0.19h\n",
      "14:42 madminer.utils.ml.tr INFO                 load validation batch:   0.01h\n",
      "14:42 madminer.utils.ml.tr INFO               validation forward pass:   0.06h\n",
      "14:42 madminer.utils.ml.tr INFO                 validation sum losses:   0.00h\n",
      "14:42 madminer.utils.ml.tr INFO                        early stopping:   0.00h\n",
      "14:42 madminer.utils.ml.tr INFO                          report epoch:   0.00h\n",
      "14:42 madminer.ml.base     INFO    Saving model to models/carl10\n"
     ]
    }
   ],
   "source": [
    "#estimator = ParameterizedRatioEstimator(\n",
    "estimator = MorphingAwareRatioEstimator(\n",
    "    morphing_setup_filename='data/setup.h5',\n",
    "    n_hidden=(60,60),\n",
    "    activation=\"tanh\",\n",
    ")\n",
    "\n",
    "estimator.train(\n",
    "    method='carl',\n",
    "    theta='data/samples/theta0_train_ratio.npy',\n",
    "    x='data/samples/x_train_ratio.npy',\n",
    "    y='data/samples/y_train_ratio.npy',\n",
    "    r_xz='data/samples/r_xz_train_ratio.npy',\n",
    "    t_xz='data/samples/t_xz_train_ratio.npy',\n",
    "    alpha=10,\n",
    "    n_epochs=10,\n",
    "    #scale_parameters=True,\n",
    ")\n",
    "\n",
    "estimator.save('models/carl10')"
   ]
  },
  {
   "cell_type": "code",
   "execution_count": 10,
   "metadata": {
    "scrolled": true
   },
   "outputs": [
    {
     "name": "stderr",
     "output_type": "stream",
     "text": [
      "16:16 madminer.ml.morphing INFO    Setting up morphing-aware ratio estimator with 3 morphing components\n",
      "16:16 madminer.ml.paramete INFO    Starting training\n",
      "16:16 madminer.ml.paramete INFO      Method:                 carl\n",
      "16:16 madminer.ml.paramete INFO      Batch size:             128\n",
      "16:16 madminer.ml.paramete INFO      Optimizer:              amsgrad\n",
      "16:16 madminer.ml.paramete INFO      Epochs:                 10\n",
      "16:16 madminer.ml.paramete INFO      Learning rate:          0.001 initially, decaying to 0.0001\n",
      "16:16 madminer.ml.paramete INFO      Validation split:       0.25\n",
      "16:16 madminer.ml.paramete INFO      Early stopping:         True\n",
      "16:16 madminer.ml.paramete INFO      Scale inputs:           True\n",
      "16:16 madminer.ml.paramete INFO      Scale parameters:       False\n",
      "16:16 madminer.ml.paramete INFO      Shuffle labels          False\n",
      "16:16 madminer.ml.paramete INFO      Samples:                all\n",
      "16:16 madminer.ml.paramete INFO    Loading training data\n",
      "16:16 madminer.utils.vario INFO      Loading data/samples/theta0_train_ratio.npy into RAM\n",
      "16:16 madminer.utils.vario INFO      Loading data/samples/x_train_ratio.npy into RAM\n",
      "16:16 madminer.utils.vario INFO      Loading data/samples/y_train_ratio.npy into RAM\n",
      "16:16 madminer.utils.vario INFO      Loading data/samples/r_xz_train_ratio.npy into RAM\n",
      "16:16 madminer.utils.vario INFO      Loading data/samples/t_xz_train_ratio.npy into RAM\n",
      "16:16 madminer.ml.paramete INFO    Found 499996 samples with 1 parameters and 9 observables\n",
      "16:16 madminer.ml.base     INFO    Setting up input rescaling\n",
      "16:16 madminer.ml.base     INFO    Disabling parameter rescaling\n",
      "16:16 madminer.ml.paramete INFO    Creating model\n",
      "16:16 madminer.ml.paramete INFO    Training model\n",
      "16:16 madminer.utils.ml.tr INFO    Training on CPU with single precision\n",
      "16:18 madminer.utils.ml.tr INFO      Epoch   1: train loss  0.55276 (xe:  0.553)\n",
      "16:18 madminer.utils.ml.tr INFO                 val. loss   0.53669 (xe:  0.537)\n",
      "16:19 madminer.utils.ml.tr INFO      Epoch   2: train loss  0.53490 (xe:  0.535)\n",
      "16:19 madminer.utils.ml.tr INFO                 val. loss   0.53069 (xe:  0.531)\n",
      "16:21 madminer.utils.ml.tr INFO      Epoch   3: train loss  0.53215 (xe:  0.532)\n",
      "16:21 madminer.utils.ml.tr INFO                 val. loss   0.53034 (xe:  0.530)\n",
      "16:22 madminer.utils.ml.tr INFO      Epoch   4: train loss  0.53069 (xe:  0.531)\n",
      "16:22 madminer.utils.ml.tr INFO                 val. loss   0.52894 (xe:  0.529)\n",
      "16:24 madminer.utils.ml.tr INFO      Epoch   5: train loss  0.52989 (xe:  0.530)\n",
      "16:24 madminer.utils.ml.tr INFO                 val. loss   0.52835 (xe:  0.528)\n",
      "16:25 madminer.utils.ml.tr INFO      Epoch   6: train loss  0.52932 (xe:  0.529)\n",
      "16:25 madminer.utils.ml.tr INFO                 val. loss   0.52794 (xe:  0.528)\n",
      "16:26 madminer.utils.ml.tr INFO      Epoch   7: train loss  0.52894 (xe:  0.529)\n",
      "16:26 madminer.utils.ml.tr INFO                 val. loss   0.52760 (xe:  0.528)\n",
      "16:28 madminer.utils.ml.tr INFO      Epoch   8: train loss  0.52864 (xe:  0.529)\n",
      "16:28 madminer.utils.ml.tr INFO                 val. loss   0.52730 (xe:  0.527)\n",
      "16:30 madminer.utils.ml.tr INFO      Epoch   9: train loss  0.52842 (xe:  0.528)\n",
      "16:30 madminer.utils.ml.tr INFO                 val. loss   0.52721 (xe:  0.527)\n",
      "16:31 madminer.utils.ml.tr INFO      Epoch  10: train loss  0.52828 (xe:  0.528)\n",
      "16:31 madminer.utils.ml.tr INFO                 val. loss   0.52708 (xe:  0.527)\n",
      "16:31 madminer.utils.ml.tr INFO    Early stopping did not improve performance\n",
      "16:31 madminer.utils.ml.tr INFO    Training time spend on:\n",
      "16:31 madminer.utils.ml.tr INFO                      initialize model:   0.00h\n",
      "16:31 madminer.utils.ml.tr INFO                                   ALL:   0.25h\n",
      "16:31 madminer.utils.ml.tr INFO                            check data:   0.00h\n",
      "16:31 madminer.utils.ml.tr INFO                          make dataset:   0.00h\n",
      "16:31 madminer.utils.ml.tr INFO                       make dataloader:   0.00h\n",
      "16:31 madminer.utils.ml.tr INFO                       setup optimizer:   0.00h\n",
      "16:31 madminer.utils.ml.tr INFO                   initialize training:   0.00h\n",
      "16:31 madminer.utils.ml.tr INFO                                set lr:   0.00h\n",
      "16:31 madminer.utils.ml.tr INFO                   load training batch:   0.03h\n",
      "16:31 madminer.utils.ml.tr INFO                        fwd: move data:   0.00h\n",
      "16:31 madminer.utils.ml.tr INFO                   fwd: check for nans:   0.00h\n",
      "16:31 madminer.utils.ml.tr INFO                    fwd: model.forward:   0.11h\n",
      "16:31 madminer.utils.ml.tr INFO                 fwd: calculate losses:   0.00h\n",
      "16:31 madminer.utils.ml.tr INFO                 training forward pass:   0.09h\n",
      "16:31 madminer.utils.ml.tr INFO                   training sum losses:   0.00h\n",
      "16:31 madminer.utils.ml.tr INFO                        opt: zero grad:   0.00h\n",
      "16:31 madminer.utils.ml.tr INFO                         opt: backward:   0.08h\n",
      "16:31 madminer.utils.ml.tr INFO                   opt: clip grad norm:   0.00h\n",
      "16:31 madminer.utils.ml.tr INFO                             opt: step:   0.02h\n",
      "16:31 madminer.utils.ml.tr INFO                        optimizer step:   0.10h\n",
      "16:31 madminer.utils.ml.tr INFO                 load validation batch:   0.01h\n",
      "16:31 madminer.utils.ml.tr INFO               validation forward pass:   0.03h\n",
      "16:31 madminer.utils.ml.tr INFO                 validation sum losses:   0.00h\n",
      "16:31 madminer.utils.ml.tr INFO                        early stopping:   0.00h\n",
      "16:31 madminer.utils.ml.tr INFO                          report epoch:   0.00h\n",
      "16:31 madminer.ml.base     INFO    Saving model to models/carl10-1\n"
     ]
    }
   ],
   "source": [
    "#estimator = ParameterizedRatioEstimator(\n",
    "estimator = MorphingAwareRatioEstimator(\n",
    "    morphing_setup_filename='data/setup.h5',\n",
    "    n_hidden=(60,60),\n",
    "    activation=\"tanh\",\n",
    ")\n",
    "\n",
    "estimator.train(\n",
    "    method='carl',\n",
    "    theta='data/samples/theta0_train_ratio.npy',\n",
    "    x='data/samples/x_train_ratio.npy',\n",
    "    y='data/samples/y_train_ratio.npy',\n",
    "    r_xz='data/samples/r_xz_train_ratio.npy',\n",
    "    t_xz='data/samples/t_xz_train_ratio.npy',\n",
    "    alpha=10,\n",
    "    n_epochs=10,\n",
    "    #scale_parameters=True,\n",
    ")\n",
    "\n",
    "estimator.save('models/carl10-1')"
   ]
  },
  {
   "cell_type": "code",
   "execution_count": null,
   "metadata": {
    "scrolled": true
   },
   "outputs": [
    {
     "name": "stderr",
     "output_type": "stream",
     "text": [
      "16:31 madminer.ml.morphing INFO    Setting up morphing-aware ratio estimator with 3 morphing components\n",
      "16:31 madminer.ml.paramete INFO    Starting training\n",
      "16:31 madminer.ml.paramete INFO      Method:                 carl\n",
      "16:31 madminer.ml.paramete INFO      Batch size:             128\n",
      "16:31 madminer.ml.paramete INFO      Optimizer:              amsgrad\n",
      "16:31 madminer.ml.paramete INFO      Epochs:                 10\n",
      "16:31 madminer.ml.paramete INFO      Learning rate:          0.001 initially, decaying to 0.0001\n",
      "16:31 madminer.ml.paramete INFO      Validation split:       0.25\n",
      "16:31 madminer.ml.paramete INFO      Early stopping:         True\n",
      "16:31 madminer.ml.paramete INFO      Scale inputs:           True\n",
      "16:31 madminer.ml.paramete INFO      Scale parameters:       False\n",
      "16:31 madminer.ml.paramete INFO      Shuffle labels          False\n",
      "16:31 madminer.ml.paramete INFO      Samples:                all\n",
      "16:31 madminer.ml.paramete INFO    Loading training data\n",
      "16:31 madminer.utils.vario INFO      Loading data/samples/theta0_train_ratio.npy into RAM\n",
      "16:31 madminer.utils.vario INFO      Loading data/samples/x_train_ratio.npy into RAM\n",
      "16:31 madminer.utils.vario INFO      Loading data/samples/y_train_ratio.npy into RAM\n",
      "16:31 madminer.utils.vario INFO      Loading data/samples/r_xz_train_ratio.npy into RAM\n",
      "16:31 madminer.utils.vario INFO      Loading data/samples/t_xz_train_ratio.npy into RAM\n",
      "16:31 madminer.ml.paramete INFO    Found 499996 samples with 1 parameters and 9 observables\n",
      "16:31 madminer.ml.base     INFO    Setting up input rescaling\n",
      "16:31 madminer.ml.base     INFO    Disabling parameter rescaling\n",
      "16:31 madminer.ml.paramete INFO    Creating model\n",
      "16:31 madminer.ml.paramete INFO    Training model\n",
      "16:31 madminer.utils.ml.tr INFO    Training on CPU with single precision\n",
      "16:33 madminer.utils.ml.tr INFO      Epoch   1: train loss  0.55259 (xe:  0.553)\n",
      "16:33 madminer.utils.ml.tr INFO                 val. loss   0.53661 (xe:  0.537)\n",
      "16:34 madminer.utils.ml.tr INFO      Epoch   2: train loss  0.53416 (xe:  0.534)\n",
      "16:34 madminer.utils.ml.tr INFO                 val. loss   0.53243 (xe:  0.532)\n",
      "16:36 madminer.utils.ml.tr INFO      Epoch   3: train loss  0.53153 (xe:  0.532)\n",
      "16:36 madminer.utils.ml.tr INFO                 val. loss   0.53033 (xe:  0.530)\n",
      "16:37 madminer.utils.ml.tr INFO      Epoch   4: train loss  0.53008 (xe:  0.530)\n",
      "16:37 madminer.utils.ml.tr INFO                 val. loss   0.52938 (xe:  0.529)\n"
     ]
    }
   ],
   "source": [
    "#estimator = ParameterizedRatioEstimator(\n",
    "estimator = MorphingAwareRatioEstimator(\n",
    "    morphing_setup_filename='data/setup.h5',\n",
    "    n_hidden=(60,60),\n",
    "    activation=\"tanh\",\n",
    ")\n",
    "\n",
    "estimator.train(\n",
    "    method='carl',\n",
    "    theta='data/samples/theta0_train_ratio.npy',\n",
    "    x='data/samples/x_train_ratio.npy',\n",
    "    y='data/samples/y_train_ratio.npy',\n",
    "    r_xz='data/samples/r_xz_train_ratio.npy',\n",
    "    t_xz='data/samples/t_xz_train_ratio.npy',\n",
    "    alpha=10,\n",
    "    n_epochs=10,\n",
    "    #scale_parameters=True,\n",
    ")\n",
    "\n",
    "estimator.save('models/carl10-2')"
   ]
  },
  {
   "cell_type": "code",
   "execution_count": null,
   "metadata": {},
   "outputs": [],
   "source": [
    "#estimator = ParameterizedRatioEstimator(\n",
    "estimator = MorphingAwareRatioEstimator(\n",
    "    morphing_setup_filename='data/setup.h5',\n",
    "    n_hidden=(60,60),\n",
    "    activation=\"tanh\",\n",
    ")\n",
    "\n",
    "estimator.train(\n",
    "    method='carl',\n",
    "    theta='data/samples/theta0_train_ratio.npy',\n",
    "    x='data/samples/x_train_ratio.npy',\n",
    "    y='data/samples/y_train_ratio.npy',\n",
    "    r_xz='data/samples/r_xz_train_ratio.npy',\n",
    "    t_xz='data/samples/t_xz_train_ratio.npy',\n",
    "    alpha=10,\n",
    "    n_epochs=10,\n",
    "    #scale_parameters=True,\n",
    ")\n",
    "\n",
    "estimator.save('models/carl10-3')"
   ]
  },
  {
   "cell_type": "markdown",
   "metadata": {},
   "source": [
    "### Bigger Batch size"
   ]
  },
  {
   "cell_type": "code",
   "execution_count": 10,
   "metadata": {
    "scrolled": true
   },
   "outputs": [
    {
     "name": "stderr",
     "output_type": "stream",
     "text": [
      "14:11 madminer.ml.morphing INFO    Setting up morphing-aware ratio estimator with 3 morphing components\n",
      "14:11 madminer.ml.paramete INFO    Starting training\n",
      "14:11 madminer.ml.paramete INFO      Method:                 carl\n",
      "14:11 madminer.ml.paramete INFO      Batch size:             1500000\n",
      "14:11 madminer.ml.paramete INFO      Optimizer:              amsgrad\n",
      "14:11 madminer.ml.paramete INFO      Epochs:                 10\n",
      "14:11 madminer.ml.paramete INFO      Learning rate:          0.001 initially, decaying to 0.0001\n",
      "14:11 madminer.ml.paramete INFO      Validation split:       0.25\n",
      "14:11 madminer.ml.paramete INFO      Early stopping:         True\n",
      "14:11 madminer.ml.paramete INFO      Scale inputs:           True\n",
      "14:11 madminer.ml.paramete INFO      Scale parameters:       False\n",
      "14:11 madminer.ml.paramete INFO      Shuffle labels          False\n",
      "14:11 madminer.ml.paramete INFO      Samples:                all\n",
      "14:11 madminer.ml.paramete INFO    Loading training data\n",
      "14:11 madminer.utils.vario INFO      Loading data/samples/theta0_train_ratio.npy into RAM\n",
      "14:11 madminer.utils.vario INFO      Loading data/samples/x_train_ratio.npy into RAM\n",
      "14:11 madminer.utils.vario INFO      Loading data/samples/y_train_ratio.npy into RAM\n",
      "14:11 madminer.utils.vario INFO      Loading data/samples/r_xz_train_ratio.npy into RAM\n",
      "14:11 madminer.utils.vario INFO      Loading data/samples/t_xz_train_ratio.npy into RAM\n",
      "14:11 madminer.ml.paramete INFO    Found 499996 samples with 1 parameters and 9 observables\n",
      "14:11 madminer.ml.base     INFO    Setting up input rescaling\n",
      "14:11 madminer.ml.base     INFO    Disabling parameter rescaling\n",
      "14:11 madminer.ml.paramete INFO    Creating model\n",
      "14:11 madminer.ml.paramete INFO    Training model\n",
      "14:11 madminer.utils.ml.tr INFO    Training on CPU with single precision\n",
      "14:11 madminer.utils.ml.tr INFO      Epoch   1: train loss  0.69928 (xe:  0.699)\n",
      "14:11 madminer.utils.ml.tr INFO                 val. loss   0.69277 (xe:  0.693)\n",
      "14:12 madminer.utils.ml.tr INFO      Epoch   2: train loss  0.69301 (xe:  0.693)\n",
      "14:12 madminer.utils.ml.tr INFO                 val. loss   0.68831 (xe:  0.688)\n",
      "14:12 madminer.utils.ml.tr INFO      Epoch   3: train loss  0.68855 (xe:  0.689)\n",
      "14:12 madminer.utils.ml.tr INFO                 val. loss   0.68508 (xe:  0.685)\n",
      "14:12 madminer.utils.ml.tr INFO      Epoch   4: train loss  0.68533 (xe:  0.685)\n",
      "14:12 madminer.utils.ml.tr INFO                 val. loss   0.68272 (xe:  0.683)\n",
      "14:13 madminer.utils.ml.tr INFO      Epoch   5: train loss  0.68298 (xe:  0.683)\n",
      "14:13 madminer.utils.ml.tr INFO                 val. loss   0.68097 (xe:  0.681)\n",
      "14:13 madminer.utils.ml.tr INFO      Epoch   6: train loss  0.68123 (xe:  0.681)\n",
      "14:13 madminer.utils.ml.tr INFO                 val. loss   0.67965 (xe:  0.680)\n",
      "14:13 madminer.utils.ml.tr INFO      Epoch   7: train loss  0.67992 (xe:  0.680)\n",
      "14:13 madminer.utils.ml.tr INFO                 val. loss   0.67866 (xe:  0.679)\n",
      "14:14 madminer.utils.ml.tr INFO      Epoch   8: train loss  0.67893 (xe:  0.679)\n",
      "14:14 madminer.utils.ml.tr INFO                 val. loss   0.67791 (xe:  0.678)\n",
      "14:14 madminer.utils.ml.tr INFO      Epoch   9: train loss  0.67818 (xe:  0.678)\n",
      "14:14 madminer.utils.ml.tr INFO                 val. loss   0.67734 (xe:  0.677)\n",
      "14:14 madminer.utils.ml.tr INFO      Epoch  10: train loss  0.67761 (xe:  0.678)\n",
      "14:14 madminer.utils.ml.tr INFO                 val. loss   0.67690 (xe:  0.677)\n",
      "14:14 madminer.utils.ml.tr INFO    Early stopping did not improve performance\n",
      "14:14 madminer.utils.ml.tr INFO    Training time spend on:\n",
      "14:14 madminer.utils.ml.tr INFO                      initialize model:   0.00h\n",
      "14:14 madminer.utils.ml.tr INFO                                   ALL:   0.05h\n",
      "14:14 madminer.utils.ml.tr INFO                            check data:   0.00h\n",
      "14:14 madminer.utils.ml.tr INFO                          make dataset:   0.00h\n",
      "14:14 madminer.utils.ml.tr INFO                       make dataloader:   0.00h\n",
      "14:14 madminer.utils.ml.tr INFO                       setup optimizer:   0.00h\n",
      "14:14 madminer.utils.ml.tr INFO                   initialize training:   0.00h\n",
      "14:14 madminer.utils.ml.tr INFO                                set lr:   0.00h\n",
      "14:14 madminer.utils.ml.tr INFO                   load training batch:   0.04h\n",
      "14:14 madminer.utils.ml.tr INFO                        fwd: move data:   0.00h\n",
      "14:14 madminer.utils.ml.tr INFO                   fwd: check for nans:   0.00h\n",
      "14:14 madminer.utils.ml.tr INFO                    fwd: model.forward:   0.00h\n",
      "14:14 madminer.utils.ml.tr INFO                 fwd: calculate losses:   0.00h\n",
      "14:14 madminer.utils.ml.tr INFO                 training forward pass:   0.00h\n",
      "14:14 madminer.utils.ml.tr INFO                   training sum losses:   0.00h\n",
      "14:14 madminer.utils.ml.tr INFO                        opt: zero grad:   0.00h\n",
      "14:14 madminer.utils.ml.tr INFO                         opt: backward:   0.00h\n",
      "14:14 madminer.utils.ml.tr INFO                   opt: clip grad norm:   0.00h\n",
      "14:14 madminer.utils.ml.tr INFO                             opt: step:   0.00h\n",
      "14:14 madminer.utils.ml.tr INFO                        optimizer step:   0.00h\n",
      "14:14 madminer.utils.ml.tr INFO                 load validation batch:   0.01h\n",
      "14:14 madminer.utils.ml.tr INFO               validation forward pass:   0.00h\n",
      "14:14 madminer.utils.ml.tr INFO                 validation sum losses:   0.00h\n",
      "14:14 madminer.utils.ml.tr INFO                        early stopping:   0.00h\n",
      "14:14 madminer.utils.ml.tr INFO                          report epoch:   0.00h\n",
      "14:14 madminer.ml.base     INFO    Saving model to models/carl10-bigbatch\n"
     ]
    }
   ],
   "source": [
    "#estimator = ParameterizedRatioEstimator(\n",
    "estimator = MorphingAwareRatioEstimator(\n",
    "    morphing_setup_filename='data/setup.h5',\n",
    "    n_hidden=(60,60),\n",
    "    activation=\"tanh\",\n",
    ")\n",
    "\n",
    "estimator.train(\n",
    "    method='carl',\n",
    "    theta='data/samples/theta0_train_ratio.npy',\n",
    "    x='data/samples/x_train_ratio.npy',\n",
    "    y='data/samples/y_train_ratio.npy',\n",
    "    r_xz='data/samples/r_xz_train_ratio.npy',\n",
    "    t_xz='data/samples/t_xz_train_ratio.npy',\n",
    "    alpha=10,\n",
    "    n_epochs=10,\n",
    "    batch_size=int(6000000/4),\n",
    ")\n",
    "\n",
    "estimator.save('models/carl10-bigbatch')"
   ]
  },
  {
   "cell_type": "code",
   "execution_count": 13,
   "metadata": {
    "scrolled": true
   },
   "outputs": [
    {
     "name": "stderr",
     "output_type": "stream",
     "text": [
      "15:36 madminer.ml.morphing INFO    Setting up morphing-aware ratio estimator with 3 morphing components\n",
      "15:36 madminer.ml.paramete INFO    Starting training\n",
      "15:36 madminer.ml.paramete INFO      Method:                 carl\n",
      "15:36 madminer.ml.paramete INFO      Batch size:             1500000\n",
      "15:36 madminer.ml.paramete INFO      Optimizer:              amsgrad\n",
      "15:36 madminer.ml.paramete INFO      Epochs:                 50\n",
      "15:36 madminer.ml.paramete INFO      Learning rate:          0.001 initially, decaying to 0.0001\n",
      "15:36 madminer.ml.paramete INFO      Validation split:       0.25\n",
      "15:36 madminer.ml.paramete INFO      Early stopping:         True\n",
      "15:36 madminer.ml.paramete INFO      Scale inputs:           True\n",
      "15:36 madminer.ml.paramete INFO      Scale parameters:       False\n",
      "15:36 madminer.ml.paramete INFO      Shuffle labels          False\n",
      "15:36 madminer.ml.paramete INFO      Samples:                all\n",
      "15:36 madminer.ml.paramete INFO    Loading training data\n",
      "15:36 madminer.utils.vario INFO      Loading data/samples/theta0_train_ratio.npy into RAM\n",
      "15:36 madminer.utils.vario INFO      Loading data/samples/x_train_ratio.npy into RAM\n",
      "15:36 madminer.utils.vario INFO      Loading data/samples/y_train_ratio.npy into RAM\n",
      "15:36 madminer.utils.vario INFO      Loading data/samples/r_xz_train_ratio.npy into RAM\n",
      "15:36 madminer.utils.vario INFO      Loading data/samples/t_xz_train_ratio.npy into RAM\n",
      "15:36 madminer.ml.paramete INFO    Found 499996 samples with 1 parameters and 9 observables\n",
      "15:36 madminer.ml.base     INFO    Setting up input rescaling\n",
      "15:36 madminer.ml.base     INFO    Disabling parameter rescaling\n",
      "15:36 madminer.ml.paramete INFO    Creating model\n",
      "15:36 madminer.ml.paramete INFO    Training model\n",
      "15:36 madminer.utils.ml.tr INFO    Training on CPU with single precision\n",
      "15:37 madminer.utils.ml.tr INFO      Epoch   2: train loss  0.69539 (xe:  0.695)\n",
      "15:37 madminer.utils.ml.tr INFO                 val. loss   0.68948 (xe:  0.689)\n",
      "15:38 madminer.utils.ml.tr INFO      Epoch   4: train loss  0.68433 (xe:  0.684)\n",
      "15:38 madminer.utils.ml.tr INFO                 val. loss   0.67985 (xe:  0.680)\n",
      "15:39 madminer.utils.ml.tr INFO      Epoch   6: train loss  0.67634 (xe:  0.676)\n",
      "15:39 madminer.utils.ml.tr INFO                 val. loss   0.67278 (xe:  0.673)\n",
      "15:40 madminer.utils.ml.tr INFO      Epoch   8: train loss  0.67039 (xe:  0.670)\n",
      "15:40 madminer.utils.ml.tr INFO                 val. loss   0.66742 (xe:  0.667)\n",
      "15:40 madminer.utils.ml.tr INFO      Epoch  10: train loss  0.66581 (xe:  0.666)\n",
      "15:40 madminer.utils.ml.tr INFO                 val. loss   0.66322 (xe:  0.663)\n",
      "15:41 madminer.utils.ml.tr INFO      Epoch  12: train loss  0.66217 (xe:  0.662)\n",
      "15:41 madminer.utils.ml.tr INFO                 val. loss   0.65985 (xe:  0.660)\n",
      "15:42 madminer.utils.ml.tr INFO      Epoch  14: train loss  0.65920 (xe:  0.659)\n",
      "15:42 madminer.utils.ml.tr INFO                 val. loss   0.65710 (xe:  0.657)\n",
      "15:43 madminer.utils.ml.tr INFO      Epoch  16: train loss  0.65674 (xe:  0.657)\n",
      "15:43 madminer.utils.ml.tr INFO                 val. loss   0.65482 (xe:  0.655)\n",
      "15:44 madminer.utils.ml.tr INFO      Epoch  18: train loss  0.65469 (xe:  0.655)\n",
      "15:44 madminer.utils.ml.tr INFO                 val. loss   0.65291 (xe:  0.653)\n",
      "15:45 madminer.utils.ml.tr INFO      Epoch  20: train loss  0.65297 (xe:  0.653)\n",
      "15:45 madminer.utils.ml.tr INFO                 val. loss   0.65132 (xe:  0.651)\n",
      "15:46 madminer.utils.ml.tr INFO      Epoch  22: train loss  0.65151 (xe:  0.652)\n",
      "15:46 madminer.utils.ml.tr INFO                 val. loss   0.64998 (xe:  0.650)\n",
      "15:47 madminer.utils.ml.tr INFO      Epoch  24: train loss  0.65028 (xe:  0.650)\n",
      "15:47 madminer.utils.ml.tr INFO                 val. loss   0.64885 (xe:  0.649)\n",
      "15:48 madminer.utils.ml.tr INFO      Epoch  26: train loss  0.64923 (xe:  0.649)\n",
      "15:48 madminer.utils.ml.tr INFO                 val. loss   0.64788 (xe:  0.648)\n",
      "15:48 madminer.utils.ml.tr INFO      Epoch  28: train loss  0.64834 (xe:  0.648)\n",
      "15:48 madminer.utils.ml.tr INFO                 val. loss   0.64706 (xe:  0.647)\n",
      "15:49 madminer.utils.ml.tr INFO      Epoch  30: train loss  0.64757 (xe:  0.648)\n",
      "15:49 madminer.utils.ml.tr INFO                 val. loss   0.64636 (xe:  0.646)\n",
      "15:50 madminer.utils.ml.tr INFO      Epoch  32: train loss  0.64691 (xe:  0.647)\n",
      "15:50 madminer.utils.ml.tr INFO                 val. loss   0.64575 (xe:  0.646)\n",
      "15:51 madminer.utils.ml.tr INFO      Epoch  34: train loss  0.64633 (xe:  0.646)\n",
      "15:51 madminer.utils.ml.tr INFO                 val. loss   0.64522 (xe:  0.645)\n",
      "15:52 madminer.utils.ml.tr INFO      Epoch  36: train loss  0.64583 (xe:  0.646)\n",
      "15:52 madminer.utils.ml.tr INFO                 val. loss   0.64476 (xe:  0.645)\n",
      "15:53 madminer.utils.ml.tr INFO      Epoch  38: train loss  0.64539 (xe:  0.645)\n",
      "15:53 madminer.utils.ml.tr INFO                 val. loss   0.64435 (xe:  0.644)\n",
      "15:53 madminer.utils.ml.tr INFO      Epoch  40: train loss  0.64501 (xe:  0.645)\n",
      "15:53 madminer.utils.ml.tr INFO                 val. loss   0.64399 (xe:  0.644)\n",
      "15:54 madminer.utils.ml.tr INFO      Epoch  42: train loss  0.64466 (xe:  0.645)\n",
      "15:54 madminer.utils.ml.tr INFO                 val. loss   0.64367 (xe:  0.644)\n",
      "15:55 madminer.utils.ml.tr INFO      Epoch  44: train loss  0.64436 (xe:  0.644)\n",
      "15:55 madminer.utils.ml.tr INFO                 val. loss   0.64339 (xe:  0.643)\n",
      "15:56 madminer.utils.ml.tr INFO      Epoch  46: train loss  0.64408 (xe:  0.644)\n",
      "15:56 madminer.utils.ml.tr INFO                 val. loss   0.64313 (xe:  0.643)\n",
      "15:56 madminer.utils.ml.tr INFO      Epoch  48: train loss  0.64384 (xe:  0.644)\n",
      "15:56 madminer.utils.ml.tr INFO                 val. loss   0.64290 (xe:  0.643)\n",
      "15:57 madminer.utils.ml.tr INFO      Epoch  50: train loss  0.64362 (xe:  0.644)\n",
      "15:57 madminer.utils.ml.tr INFO                 val. loss   0.64270 (xe:  0.643)\n",
      "15:57 madminer.utils.ml.tr INFO    Early stopping did not improve performance\n",
      "15:57 madminer.utils.ml.tr INFO    Training time spend on:\n",
      "15:57 madminer.utils.ml.tr INFO                      initialize model:   0.00h\n",
      "15:57 madminer.utils.ml.tr INFO                                   ALL:   0.35h\n",
      "15:57 madminer.utils.ml.tr INFO                            check data:   0.00h\n",
      "15:57 madminer.utils.ml.tr INFO                          make dataset:   0.00h\n",
      "15:57 madminer.utils.ml.tr INFO                       make dataloader:   0.00h\n",
      "15:57 madminer.utils.ml.tr INFO                       setup optimizer:   0.00h\n",
      "15:57 madminer.utils.ml.tr INFO                   initialize training:   0.00h\n",
      "15:57 madminer.utils.ml.tr INFO                                set lr:   0.00h\n",
      "15:57 madminer.utils.ml.tr INFO                   load training batch:   0.22h\n",
      "15:57 madminer.utils.ml.tr INFO                        fwd: move data:   0.00h\n",
      "15:57 madminer.utils.ml.tr INFO                   fwd: check for nans:   0.00h\n",
      "15:57 madminer.utils.ml.tr INFO                    fwd: model.forward:   0.00h\n",
      "15:57 madminer.utils.ml.tr INFO                 fwd: calculate losses:   0.00h\n",
      "15:57 madminer.utils.ml.tr INFO                 training forward pass:   0.00h\n",
      "15:57 madminer.utils.ml.tr INFO                   training sum losses:   0.00h\n",
      "15:57 madminer.utils.ml.tr INFO                        opt: zero grad:   0.00h\n",
      "15:57 madminer.utils.ml.tr INFO                         opt: backward:   0.02h\n",
      "15:57 madminer.utils.ml.tr INFO                   opt: clip grad norm:   0.00h\n",
      "15:57 madminer.utils.ml.tr INFO                             opt: step:   0.00h\n",
      "15:57 madminer.utils.ml.tr INFO                        optimizer step:   0.02h\n",
      "15:57 madminer.utils.ml.tr INFO                 load validation batch:   0.11h\n",
      "15:57 madminer.utils.ml.tr INFO               validation forward pass:   0.00h\n",
      "15:57 madminer.utils.ml.tr INFO                 validation sum losses:   0.00h\n",
      "15:57 madminer.utils.ml.tr INFO                        early stopping:   0.00h\n",
      "15:57 madminer.utils.ml.tr INFO                          report epoch:   0.00h\n",
      "15:57 madminer.ml.base     INFO    Saving model to models/carl50-bigbatch\n"
     ]
    }
   ],
   "source": [
    "#estimator = ParameterizedRatioEstimator(\n",
    "estimator = MorphingAwareRatioEstimator(\n",
    "    morphing_setup_filename='data/setup.h5',\n",
    "    n_hidden=(60,60),\n",
    "    activation=\"tanh\",\n",
    ")\n",
    "\n",
    "estimator.train(\n",
    "    method='carl',\n",
    "    theta='data/samples/theta0_train_ratio.npy',\n",
    "    x='data/samples/x_train_ratio.npy',\n",
    "    y='data/samples/y_train_ratio.npy',\n",
    "    r_xz='data/samples/r_xz_train_ratio.npy',\n",
    "    t_xz='data/samples/t_xz_train_ratio.npy',\n",
    "    alpha=10,\n",
    "    n_epochs=50,\n",
    "    batch_size=int(6000000/4),\n",
    ")\n",
    "\n",
    "estimator.save('models/carl50-bigbatch')"
   ]
  },
  {
   "cell_type": "code",
   "execution_count": 14,
   "metadata": {
    "scrolled": true
   },
   "outputs": [
    {
     "name": "stderr",
     "output_type": "stream",
     "text": [
      "15:57 madminer.ml.morphing INFO    Setting up morphing-aware ratio estimator with 3 morphing components\n",
      "15:57 madminer.ml.paramete INFO    Starting training\n",
      "15:57 madminer.ml.paramete INFO      Method:                 carl\n",
      "15:57 madminer.ml.paramete INFO      Batch size:             1500000\n",
      "15:57 madminer.ml.paramete INFO      Optimizer:              amsgrad\n",
      "15:57 madminer.ml.paramete INFO      Epochs:                 1000\n",
      "15:57 madminer.ml.paramete INFO      Learning rate:          0.001 initially, decaying to 0.0001\n",
      "15:57 madminer.ml.paramete INFO      Validation split:       0.25\n",
      "15:57 madminer.ml.paramete INFO      Early stopping:         True\n",
      "15:57 madminer.ml.paramete INFO      Scale inputs:           True\n",
      "15:57 madminer.ml.paramete INFO      Scale parameters:       False\n",
      "15:57 madminer.ml.paramete INFO      Shuffle labels          False\n",
      "15:57 madminer.ml.paramete INFO      Samples:                all\n",
      "15:57 madminer.ml.paramete INFO    Loading training data\n",
      "15:57 madminer.utils.vario INFO      Loading data/samples/theta0_train_ratio.npy into RAM\n",
      "15:57 madminer.utils.vario INFO      Loading data/samples/x_train_ratio.npy into RAM\n",
      "15:57 madminer.utils.vario INFO      Loading data/samples/y_train_ratio.npy into RAM\n",
      "15:57 madminer.utils.vario INFO      Loading data/samples/r_xz_train_ratio.npy into RAM\n",
      "15:57 madminer.utils.vario INFO      Loading data/samples/t_xz_train_ratio.npy into RAM\n",
      "15:57 madminer.ml.paramete INFO    Found 499996 samples with 1 parameters and 9 observables\n",
      "15:57 madminer.ml.base     INFO    Setting up input rescaling\n",
      "15:57 madminer.ml.base     INFO    Disabling parameter rescaling\n",
      "15:57 madminer.ml.paramete INFO    Creating model\n",
      "15:57 madminer.ml.paramete INFO    Training model\n",
      "15:57 madminer.utils.ml.tr INFO    Training on CPU with single precision\n",
      "16:17 madminer.utils.ml.tr INFO      Epoch  50: train loss  0.62876 (xe:  0.629)\n",
      "16:17 madminer.utils.ml.tr INFO                 val. loss   0.62966 (xe:  0.630)\n",
      "16:36 madminer.utils.ml.tr INFO      Epoch 100: train loss  0.61849 (xe:  0.618)\n",
      "16:36 madminer.utils.ml.tr INFO                 val. loss   0.62009 (xe:  0.620)\n",
      "16:56 madminer.utils.ml.tr INFO      Epoch 150: train loss  0.61411 (xe:  0.614)\n",
      "16:56 madminer.utils.ml.tr INFO                 val. loss   0.61567 (xe:  0.616)\n",
      "17:17 madminer.utils.ml.tr INFO      Epoch 200: train loss  0.61135 (xe:  0.611)\n",
      "17:17 madminer.utils.ml.tr INFO                 val. loss   0.61287 (xe:  0.613)\n",
      "17:38 madminer.utils.ml.tr INFO      Epoch 250: train loss  0.60965 (xe:  0.610)\n",
      "17:38 madminer.utils.ml.tr INFO                 val. loss   0.61122 (xe:  0.611)\n",
      "17:58 madminer.utils.ml.tr INFO      Epoch 300: train loss  0.60849 (xe:  0.608)\n",
      "17:58 madminer.utils.ml.tr INFO                 val. loss   0.61014 (xe:  0.610)\n",
      "18:17 madminer.utils.ml.tr INFO      Epoch 350: train loss  0.60765 (xe:  0.608)\n",
      "18:17 madminer.utils.ml.tr INFO                 val. loss   0.60937 (xe:  0.609)\n",
      "18:37 madminer.utils.ml.tr INFO      Epoch 400: train loss  0.60700 (xe:  0.607)\n",
      "18:37 madminer.utils.ml.tr INFO                 val. loss   0.60879 (xe:  0.609)\n",
      "18:57 madminer.utils.ml.tr INFO      Epoch 450: train loss  0.60647 (xe:  0.606)\n",
      "18:57 madminer.utils.ml.tr INFO                 val. loss   0.60831 (xe:  0.608)\n",
      "19:16 madminer.utils.ml.tr INFO      Epoch 500: train loss  0.60601 (xe:  0.606)\n",
      "19:16 madminer.utils.ml.tr INFO                 val. loss   0.60791 (xe:  0.608)\n",
      "19:36 madminer.utils.ml.tr INFO      Epoch 550: train loss  0.60562 (xe:  0.606)\n",
      "19:36 madminer.utils.ml.tr INFO                 val. loss   0.60756 (xe:  0.608)\n",
      "19:56 madminer.utils.ml.tr INFO      Epoch 600: train loss  0.60528 (xe:  0.605)\n",
      "19:56 madminer.utils.ml.tr INFO                 val. loss   0.60725 (xe:  0.607)\n",
      "20:16 madminer.utils.ml.tr INFO      Epoch 650: train loss  0.60499 (xe:  0.605)\n",
      "20:16 madminer.utils.ml.tr INFO                 val. loss   0.60699 (xe:  0.607)\n",
      "20:36 madminer.utils.ml.tr INFO      Epoch 700: train loss  0.60474 (xe:  0.605)\n",
      "20:36 madminer.utils.ml.tr INFO                 val. loss   0.60677 (xe:  0.607)\n",
      "20:55 madminer.utils.ml.tr INFO      Epoch 750: train loss  0.60452 (xe:  0.605)\n",
      "20:55 madminer.utils.ml.tr INFO                 val. loss   0.60658 (xe:  0.607)\n",
      "21:16 madminer.utils.ml.tr INFO      Epoch 800: train loss  0.60434 (xe:  0.604)\n",
      "21:16 madminer.utils.ml.tr INFO                 val. loss   0.60643 (xe:  0.606)\n",
      "21:36 madminer.utils.ml.tr INFO      Epoch 850: train loss  0.60418 (xe:  0.604)\n",
      "21:36 madminer.utils.ml.tr INFO                 val. loss   0.60629 (xe:  0.606)\n",
      "21:57 madminer.utils.ml.tr INFO      Epoch 900: train loss  0.60405 (xe:  0.604)\n",
      "21:57 madminer.utils.ml.tr INFO                 val. loss   0.60618 (xe:  0.606)\n",
      "22:19 madminer.utils.ml.tr INFO      Epoch 950: train loss  0.60393 (xe:  0.604)\n",
      "22:19 madminer.utils.ml.tr INFO                 val. loss   0.60609 (xe:  0.606)\n",
      "22:40 madminer.utils.ml.tr INFO      Epoch 1000: train loss  0.60383 (xe:  0.604)\n",
      "22:40 madminer.utils.ml.tr INFO                 val. loss   0.60600 (xe:  0.606)\n",
      "22:40 madminer.utils.ml.tr INFO    Early stopping did not improve performance\n",
      "22:40 madminer.utils.ml.tr INFO    Training time spend on:\n",
      "22:40 madminer.utils.ml.tr INFO                      initialize model:   0.00h\n",
      "22:40 madminer.utils.ml.tr INFO                                   ALL:   6.72h\n",
      "22:40 madminer.utils.ml.tr INFO                            check data:   0.00h\n",
      "22:40 madminer.utils.ml.tr INFO                          make dataset:   0.00h\n",
      "22:40 madminer.utils.ml.tr INFO                       make dataloader:   0.00h\n",
      "22:40 madminer.utils.ml.tr INFO                       setup optimizer:   0.00h\n",
      "22:40 madminer.utils.ml.tr INFO                   initialize training:   0.00h\n",
      "22:40 madminer.utils.ml.tr INFO                                set lr:   0.00h\n",
      "22:40 madminer.utils.ml.tr INFO                   load training batch:   4.15h\n",
      "22:40 madminer.utils.ml.tr INFO                        fwd: move data:   0.00h\n",
      "22:40 madminer.utils.ml.tr INFO                   fwd: check for nans:   0.00h\n",
      "22:40 madminer.utils.ml.tr INFO                    fwd: model.forward:   0.11h\n",
      "22:40 madminer.utils.ml.tr INFO                 fwd: calculate losses:   0.00h\n",
      "22:40 madminer.utils.ml.tr INFO                 training forward pass:   0.08h\n",
      "22:40 madminer.utils.ml.tr INFO                   training sum losses:   0.00h\n",
      "22:40 madminer.utils.ml.tr INFO                        opt: zero grad:   0.00h\n",
      "22:40 madminer.utils.ml.tr INFO                         opt: backward:   0.34h\n",
      "22:40 madminer.utils.ml.tr INFO                   opt: clip grad norm:   0.00h\n",
      "22:40 madminer.utils.ml.tr INFO                             opt: step:   0.00h\n",
      "22:40 madminer.utils.ml.tr INFO                        optimizer step:   0.34h\n",
      "22:40 madminer.utils.ml.tr INFO                 load validation batch:   2.11h\n",
      "22:40 madminer.utils.ml.tr INFO               validation forward pass:   0.03h\n",
      "22:40 madminer.utils.ml.tr INFO                 validation sum losses:   0.01h\n",
      "22:40 madminer.utils.ml.tr INFO                        early stopping:   0.00h\n",
      "22:40 madminer.utils.ml.tr INFO                          report epoch:   0.00h\n",
      "22:40 madminer.ml.base     INFO    Saving model to models/carl1000-bigbatch\n"
     ]
    }
   ],
   "source": [
    "#estimator = ParameterizedRatioEstimator(\n",
    "estimator = MorphingAwareRatioEstimator(\n",
    "    morphing_setup_filename='data/setup.h5',\n",
    "    n_hidden=(60,60),\n",
    "    activation=\"tanh\",\n",
    ")\n",
    "\n",
    "estimator.train(\n",
    "    method='carl',\n",
    "    theta='data/samples/theta0_train_ratio.npy',\n",
    "    x='data/samples/x_train_ratio.npy',\n",
    "    y='data/samples/y_train_ratio.npy',\n",
    "    r_xz='data/samples/r_xz_train_ratio.npy',\n",
    "    t_xz='data/samples/t_xz_train_ratio.npy',\n",
    "    alpha=10,\n",
    "    n_epochs=1000,\n",
    "    batch_size=int(6000000/4),\n",
    ")\n",
    "\n",
    "estimator.save('models/carl1000-bigbatch')"
   ]
  },
  {
   "cell_type": "markdown",
   "metadata": {},
   "source": [
    "Let's for fun also train a model that only used `pt_j1` as input observable, which can be specified using the option `features` when defining the `ParameterizedRatioEstimator`"
   ]
  },
  {
   "cell_type": "code",
   "execution_count": 11,
   "metadata": {},
   "outputs": [
    {
     "name": "stderr",
     "output_type": "stream",
     "text": [
      "20:54 madminer.ml.morphing INFO    Setting up morphing-aware ratio estimator with 3 morphing components\n",
      "20:54 madminer.ml.paramete INFO    Starting training\n",
      "20:54 madminer.ml.paramete INFO      Method:                 carl\n",
      "20:54 madminer.ml.paramete INFO      Batch size:             128\n",
      "20:54 madminer.ml.paramete INFO      Optimizer:              amsgrad\n",
      "20:54 madminer.ml.paramete INFO      Epochs:                 1000\n",
      "20:54 madminer.ml.paramete INFO      Learning rate:          0.001 initially, decaying to 0.0001\n",
      "20:54 madminer.ml.paramete INFO      Validation split:       0.25\n",
      "20:54 madminer.ml.paramete INFO      Early stopping:         True\n",
      "20:54 madminer.ml.paramete INFO      Scale inputs:           True\n",
      "20:54 madminer.ml.paramete INFO      Scale parameters:       False\n",
      "20:54 madminer.ml.paramete INFO      Shuffle labels          False\n",
      "20:54 madminer.ml.paramete INFO      Samples:                all\n",
      "20:54 madminer.ml.paramete INFO    Loading training data\n",
      "20:54 madminer.utils.vario INFO      Loading data/samples/theta0_train_ratio.npy into RAM\n",
      "20:54 madminer.utils.vario INFO      Loading data/samples/x_train_ratio.npy into RAM\n",
      "20:54 madminer.utils.vario INFO      Loading data/samples/y_train_ratio.npy into RAM\n",
      "20:54 madminer.utils.vario INFO      Loading data/samples/r_xz_train_ratio.npy into RAM\n",
      "20:54 madminer.utils.vario INFO      Loading data/samples/t_xz_train_ratio.npy into RAM\n",
      "20:54 madminer.ml.paramete INFO    Found 499996 samples with 1 parameters and 9 observables\n",
      "20:54 madminer.ml.base     INFO    Setting up input rescaling\n",
      "20:54 madminer.ml.base     INFO    Disabling parameter rescaling\n",
      "20:54 madminer.ml.paramete INFO    Only using 1 of 9 observables\n",
      "20:54 madminer.ml.paramete INFO    Creating model\n",
      "20:54 madminer.ml.paramete INFO    Training model\n",
      "20:54 madminer.utils.ml.tr INFO    Training on CPU with single precision\n"
     ]
    },
    {
     "ename": "OSError",
     "evalue": "[Errno 12] Cannot allocate memory",
     "output_type": "error",
     "traceback": [
      "\u001b[0;31m---------------------------------------------------------------------------\u001b[0m",
      "\u001b[0;31mOSError\u001b[0m                                   Traceback (most recent call last)",
      "\u001b[0;32m<ipython-input-11-65b64e3622ad>\u001b[0m in \u001b[0;36m<module>\u001b[0;34m\u001b[0m\n\u001b[1;32m      7\u001b[0m )\n\u001b[1;32m      8\u001b[0m \u001b[0;34m\u001b[0m\u001b[0m\n\u001b[0;32m----> 9\u001b[0;31m estimator_pt.train(\n\u001b[0m\u001b[1;32m     10\u001b[0m     \u001b[0mmethod\u001b[0m\u001b[0;34m=\u001b[0m\u001b[0;34m'carl'\u001b[0m\u001b[0;34m,\u001b[0m\u001b[0;34m\u001b[0m\u001b[0;34m\u001b[0m\u001b[0m\n\u001b[1;32m     11\u001b[0m     \u001b[0mtheta\u001b[0m\u001b[0;34m=\u001b[0m\u001b[0;34m'data/samples/theta0_train_ratio.npy'\u001b[0m\u001b[0;34m,\u001b[0m\u001b[0;34m\u001b[0m\u001b[0;34m\u001b[0m\u001b[0m\n",
      "\u001b[0;32m/usr/local/lib/python3.8/dist-packages/madminer/ml/morphing_aware.py\u001b[0m in \u001b[0;36mtrain\u001b[0;34m(self, *args, **kwargs)\u001b[0m\n\u001b[1;32m     44\u001b[0m             )\n\u001b[1;32m     45\u001b[0m \u001b[0;34m\u001b[0m\u001b[0m\n\u001b[0;32m---> 46\u001b[0;31m         \u001b[0msuper\u001b[0m\u001b[0;34m(\u001b[0m\u001b[0mMorphingAwareRatioEstimator\u001b[0m\u001b[0;34m,\u001b[0m \u001b[0mself\u001b[0m\u001b[0;34m)\u001b[0m\u001b[0;34m.\u001b[0m\u001b[0mtrain\u001b[0m\u001b[0;34m(\u001b[0m\u001b[0;34m*\u001b[0m\u001b[0margs\u001b[0m\u001b[0;34m,\u001b[0m \u001b[0mscale_parameters\u001b[0m\u001b[0;34m=\u001b[0m\u001b[0;32mFalse\u001b[0m\u001b[0;34m,\u001b[0m \u001b[0;34m**\u001b[0m\u001b[0mkwargs\u001b[0m\u001b[0;34m)\u001b[0m\u001b[0;34m\u001b[0m\u001b[0;34m\u001b[0m\u001b[0m\n\u001b[0m\u001b[1;32m     47\u001b[0m \u001b[0;34m\u001b[0m\u001b[0m\n\u001b[1;32m     48\u001b[0m     \u001b[0;32mdef\u001b[0m \u001b[0m_load_morphing_setup\u001b[0m\u001b[0;34m(\u001b[0m\u001b[0mself\u001b[0m\u001b[0;34m,\u001b[0m \u001b[0mfilename\u001b[0m\u001b[0;34m,\u001b[0m \u001b[0moptimize_morphing_basis\u001b[0m\u001b[0;34m=\u001b[0m\u001b[0;32mFalse\u001b[0m\u001b[0;34m)\u001b[0m\u001b[0;34m:\u001b[0m\u001b[0;34m\u001b[0m\u001b[0;34m\u001b[0m\u001b[0m\n",
      "\u001b[0;32m/usr/local/lib/python3.8/dist-packages/madminer/ml/parameterized_ratio.py\u001b[0m in \u001b[0;36mtrain\u001b[0;34m(self, method, x, y, theta, r_xz, t_xz, x_val, y_val, theta_val, r_xz_val, t_xz_val, alpha, optimizer, n_epochs, batch_size, initial_lr, final_lr, nesterov_momentum, validation_split, early_stopping, scale_inputs, shuffle_labels, limit_samplesize, memmap, verbose, scale_parameters, n_workers, clip_gradient, early_stopping_patience)\u001b[0m\n\u001b[1;32m    313\u001b[0m         \u001b[0mlogger\u001b[0m\u001b[0;34m.\u001b[0m\u001b[0minfo\u001b[0m\u001b[0;34m(\u001b[0m\u001b[0;34m\"Training model\"\u001b[0m\u001b[0;34m)\u001b[0m\u001b[0;34m\u001b[0m\u001b[0;34m\u001b[0m\u001b[0m\n\u001b[1;32m    314\u001b[0m         \u001b[0mtrainer\u001b[0m \u001b[0;34m=\u001b[0m \u001b[0mSingleParameterizedRatioTrainer\u001b[0m\u001b[0;34m(\u001b[0m\u001b[0mself\u001b[0m\u001b[0;34m.\u001b[0m\u001b[0mmodel\u001b[0m\u001b[0;34m,\u001b[0m \u001b[0mn_workers\u001b[0m\u001b[0;34m=\u001b[0m\u001b[0mn_workers\u001b[0m\u001b[0;34m)\u001b[0m\u001b[0;34m\u001b[0m\u001b[0;34m\u001b[0m\u001b[0m\n\u001b[0;32m--> 315\u001b[0;31m         result = trainer.train(\n\u001b[0m\u001b[1;32m    316\u001b[0m             \u001b[0mdata\u001b[0m\u001b[0;34m=\u001b[0m\u001b[0mdata\u001b[0m\u001b[0;34m,\u001b[0m\u001b[0;34m\u001b[0m\u001b[0;34m\u001b[0m\u001b[0m\n\u001b[1;32m    317\u001b[0m             \u001b[0mdata_val\u001b[0m\u001b[0;34m=\u001b[0m\u001b[0mdata_val\u001b[0m\u001b[0;34m,\u001b[0m\u001b[0;34m\u001b[0m\u001b[0;34m\u001b[0m\u001b[0m\n",
      "\u001b[0;32m/usr/local/lib/python3.8/dist-packages/madminer/utils/ml/trainer.py\u001b[0m in \u001b[0;36mtrain\u001b[0;34m(self, data, loss_functions, loss_weights, loss_labels, epochs, batch_size, optimizer, optimizer_kwargs, initial_lr, final_lr, data_val, validation_split, early_stopping, early_stopping_patience, clip_gradient, verbose)\u001b[0m\n\u001b[1;32m    171\u001b[0m \u001b[0;34m\u001b[0m\u001b[0m\n\u001b[1;32m    172\u001b[0m             \u001b[0;32mtry\u001b[0m\u001b[0;34m:\u001b[0m\u001b[0;34m\u001b[0m\u001b[0;34m\u001b[0m\u001b[0m\n\u001b[0;32m--> 173\u001b[0;31m                 loss_train, loss_val, loss_contributions_train, loss_contributions_val = self.epoch(\n\u001b[0m\u001b[1;32m    174\u001b[0m                     \u001b[0mi_epoch\u001b[0m\u001b[0;34m,\u001b[0m \u001b[0mdata_labels\u001b[0m\u001b[0;34m,\u001b[0m \u001b[0mtrain_loader\u001b[0m\u001b[0;34m,\u001b[0m \u001b[0mval_loader\u001b[0m\u001b[0;34m,\u001b[0m \u001b[0mopt\u001b[0m\u001b[0;34m,\u001b[0m \u001b[0mloss_functions\u001b[0m\u001b[0;34m,\u001b[0m \u001b[0mloss_weights\u001b[0m\u001b[0;34m,\u001b[0m \u001b[0mclip_gradient\u001b[0m\u001b[0;34m\u001b[0m\u001b[0;34m\u001b[0m\u001b[0m\n\u001b[1;32m    175\u001b[0m                 )\n",
      "\u001b[0;32m/usr/local/lib/python3.8/dist-packages/madminer/utils/ml/trainer.py\u001b[0m in \u001b[0;36mepoch\u001b[0;34m(self, i_epoch, data_labels, train_loader, val_loader, optimizer, loss_functions, loss_weights, clip_gradient)\u001b[0m\n\u001b[1;32m    343\u001b[0m \u001b[0;34m\u001b[0m\u001b[0m\n\u001b[1;32m    344\u001b[0m             \u001b[0mself\u001b[0m\u001b[0;34m.\u001b[0m\u001b[0m_timer\u001b[0m\u001b[0;34m(\u001b[0m\u001b[0mstart\u001b[0m\u001b[0;34m=\u001b[0m\u001b[0;34m\"load validation batch\"\u001b[0m\u001b[0;34m)\u001b[0m\u001b[0;34m\u001b[0m\u001b[0;34m\u001b[0m\u001b[0m\n\u001b[0;32m--> 345\u001b[0;31m             \u001b[0;32mfor\u001b[0m \u001b[0mi_batch\u001b[0m\u001b[0;34m,\u001b[0m \u001b[0mbatch_data\u001b[0m \u001b[0;32min\u001b[0m \u001b[0menumerate\u001b[0m\u001b[0;34m(\u001b[0m\u001b[0mval_loader\u001b[0m\u001b[0;34m)\u001b[0m\u001b[0;34m:\u001b[0m\u001b[0;34m\u001b[0m\u001b[0;34m\u001b[0m\u001b[0m\n\u001b[0m\u001b[1;32m    346\u001b[0m                 \u001b[0mbatch_data\u001b[0m \u001b[0;34m=\u001b[0m \u001b[0mOrderedDict\u001b[0m\u001b[0;34m(\u001b[0m\u001b[0mlist\u001b[0m\u001b[0;34m(\u001b[0m\u001b[0mzip\u001b[0m\u001b[0;34m(\u001b[0m\u001b[0mdata_labels\u001b[0m\u001b[0;34m,\u001b[0m \u001b[0mbatch_data\u001b[0m\u001b[0;34m)\u001b[0m\u001b[0;34m)\u001b[0m\u001b[0;34m)\u001b[0m\u001b[0;34m\u001b[0m\u001b[0;34m\u001b[0m\u001b[0m\n\u001b[1;32m    347\u001b[0m                 \u001b[0mself\u001b[0m\u001b[0;34m.\u001b[0m\u001b[0m_timer\u001b[0m\u001b[0;34m(\u001b[0m\u001b[0mstop\u001b[0m\u001b[0;34m=\u001b[0m\u001b[0;34m\"load validation batch\"\u001b[0m\u001b[0;34m)\u001b[0m\u001b[0;34m\u001b[0m\u001b[0;34m\u001b[0m\u001b[0m\n",
      "\u001b[0;32m/usr/local/lib/python3.8/dist-packages/torch/utils/data/dataloader.py\u001b[0m in \u001b[0;36m__iter__\u001b[0;34m(self)\u001b[0m\n\u001b[1;32m    277\u001b[0m             \u001b[0;32mreturn\u001b[0m \u001b[0m_SingleProcessDataLoaderIter\u001b[0m\u001b[0;34m(\u001b[0m\u001b[0mself\u001b[0m\u001b[0;34m)\u001b[0m\u001b[0;34m\u001b[0m\u001b[0;34m\u001b[0m\u001b[0m\n\u001b[1;32m    278\u001b[0m         \u001b[0;32melse\u001b[0m\u001b[0;34m:\u001b[0m\u001b[0;34m\u001b[0m\u001b[0;34m\u001b[0m\u001b[0m\n\u001b[0;32m--> 279\u001b[0;31m             \u001b[0;32mreturn\u001b[0m \u001b[0m_MultiProcessingDataLoaderIter\u001b[0m\u001b[0;34m(\u001b[0m\u001b[0mself\u001b[0m\u001b[0;34m)\u001b[0m\u001b[0;34m\u001b[0m\u001b[0;34m\u001b[0m\u001b[0m\n\u001b[0m\u001b[1;32m    280\u001b[0m \u001b[0;34m\u001b[0m\u001b[0m\n\u001b[1;32m    281\u001b[0m     \u001b[0;34m@\u001b[0m\u001b[0mproperty\u001b[0m\u001b[0;34m\u001b[0m\u001b[0;34m\u001b[0m\u001b[0m\n",
      "\u001b[0;32m/usr/local/lib/python3.8/dist-packages/torch/utils/data/dataloader.py\u001b[0m in \u001b[0;36m__init__\u001b[0;34m(self, loader)\u001b[0m\n\u001b[1;32m    717\u001b[0m             \u001b[0;31m#     before it starts, and __del__ tries to join but will get:\u001b[0m\u001b[0;34m\u001b[0m\u001b[0;34m\u001b[0m\u001b[0;34m\u001b[0m\u001b[0m\n\u001b[1;32m    718\u001b[0m             \u001b[0;31m#     AssertionError: can only join a started process.\u001b[0m\u001b[0;34m\u001b[0m\u001b[0;34m\u001b[0m\u001b[0;34m\u001b[0m\u001b[0m\n\u001b[0;32m--> 719\u001b[0;31m             \u001b[0mw\u001b[0m\u001b[0;34m.\u001b[0m\u001b[0mstart\u001b[0m\u001b[0;34m(\u001b[0m\u001b[0;34m)\u001b[0m\u001b[0;34m\u001b[0m\u001b[0;34m\u001b[0m\u001b[0m\n\u001b[0m\u001b[1;32m    720\u001b[0m             \u001b[0mself\u001b[0m\u001b[0;34m.\u001b[0m\u001b[0m_index_queues\u001b[0m\u001b[0;34m.\u001b[0m\u001b[0mappend\u001b[0m\u001b[0;34m(\u001b[0m\u001b[0mindex_queue\u001b[0m\u001b[0;34m)\u001b[0m\u001b[0;34m\u001b[0m\u001b[0;34m\u001b[0m\u001b[0m\n\u001b[1;32m    721\u001b[0m             \u001b[0mself\u001b[0m\u001b[0;34m.\u001b[0m\u001b[0m_workers\u001b[0m\u001b[0;34m.\u001b[0m\u001b[0mappend\u001b[0m\u001b[0;34m(\u001b[0m\u001b[0mw\u001b[0m\u001b[0;34m)\u001b[0m\u001b[0;34m\u001b[0m\u001b[0;34m\u001b[0m\u001b[0m\n",
      "\u001b[0;32m/usr/lib/python3.8/multiprocessing/process.py\u001b[0m in \u001b[0;36mstart\u001b[0;34m(self)\u001b[0m\n\u001b[1;32m    119\u001b[0m                \u001b[0;34m'daemonic processes are not allowed to have children'\u001b[0m\u001b[0;34m\u001b[0m\u001b[0;34m\u001b[0m\u001b[0m\n\u001b[1;32m    120\u001b[0m         \u001b[0m_cleanup\u001b[0m\u001b[0;34m(\u001b[0m\u001b[0;34m)\u001b[0m\u001b[0;34m\u001b[0m\u001b[0;34m\u001b[0m\u001b[0m\n\u001b[0;32m--> 121\u001b[0;31m         \u001b[0mself\u001b[0m\u001b[0;34m.\u001b[0m\u001b[0m_popen\u001b[0m \u001b[0;34m=\u001b[0m \u001b[0mself\u001b[0m\u001b[0;34m.\u001b[0m\u001b[0m_Popen\u001b[0m\u001b[0;34m(\u001b[0m\u001b[0mself\u001b[0m\u001b[0;34m)\u001b[0m\u001b[0;34m\u001b[0m\u001b[0;34m\u001b[0m\u001b[0m\n\u001b[0m\u001b[1;32m    122\u001b[0m         \u001b[0mself\u001b[0m\u001b[0;34m.\u001b[0m\u001b[0m_sentinel\u001b[0m \u001b[0;34m=\u001b[0m \u001b[0mself\u001b[0m\u001b[0;34m.\u001b[0m\u001b[0m_popen\u001b[0m\u001b[0;34m.\u001b[0m\u001b[0msentinel\u001b[0m\u001b[0;34m\u001b[0m\u001b[0;34m\u001b[0m\u001b[0m\n\u001b[1;32m    123\u001b[0m         \u001b[0;31m# Avoid a refcycle if the target function holds an indirect\u001b[0m\u001b[0;34m\u001b[0m\u001b[0;34m\u001b[0m\u001b[0;34m\u001b[0m\u001b[0m\n",
      "\u001b[0;32m/usr/lib/python3.8/multiprocessing/context.py\u001b[0m in \u001b[0;36m_Popen\u001b[0;34m(process_obj)\u001b[0m\n\u001b[1;32m    222\u001b[0m     \u001b[0;34m@\u001b[0m\u001b[0mstaticmethod\u001b[0m\u001b[0;34m\u001b[0m\u001b[0;34m\u001b[0m\u001b[0m\n\u001b[1;32m    223\u001b[0m     \u001b[0;32mdef\u001b[0m \u001b[0m_Popen\u001b[0m\u001b[0;34m(\u001b[0m\u001b[0mprocess_obj\u001b[0m\u001b[0;34m)\u001b[0m\u001b[0;34m:\u001b[0m\u001b[0;34m\u001b[0m\u001b[0;34m\u001b[0m\u001b[0m\n\u001b[0;32m--> 224\u001b[0;31m         \u001b[0;32mreturn\u001b[0m \u001b[0m_default_context\u001b[0m\u001b[0;34m.\u001b[0m\u001b[0mget_context\u001b[0m\u001b[0;34m(\u001b[0m\u001b[0;34m)\u001b[0m\u001b[0;34m.\u001b[0m\u001b[0mProcess\u001b[0m\u001b[0;34m.\u001b[0m\u001b[0m_Popen\u001b[0m\u001b[0;34m(\u001b[0m\u001b[0mprocess_obj\u001b[0m\u001b[0;34m)\u001b[0m\u001b[0;34m\u001b[0m\u001b[0;34m\u001b[0m\u001b[0m\n\u001b[0m\u001b[1;32m    225\u001b[0m \u001b[0;34m\u001b[0m\u001b[0m\n\u001b[1;32m    226\u001b[0m \u001b[0;32mclass\u001b[0m \u001b[0mDefaultContext\u001b[0m\u001b[0;34m(\u001b[0m\u001b[0mBaseContext\u001b[0m\u001b[0;34m)\u001b[0m\u001b[0;34m:\u001b[0m\u001b[0;34m\u001b[0m\u001b[0;34m\u001b[0m\u001b[0m\n",
      "\u001b[0;32m/usr/lib/python3.8/multiprocessing/context.py\u001b[0m in \u001b[0;36m_Popen\u001b[0;34m(process_obj)\u001b[0m\n\u001b[1;32m    274\u001b[0m         \u001b[0;32mdef\u001b[0m \u001b[0m_Popen\u001b[0m\u001b[0;34m(\u001b[0m\u001b[0mprocess_obj\u001b[0m\u001b[0;34m)\u001b[0m\u001b[0;34m:\u001b[0m\u001b[0;34m\u001b[0m\u001b[0;34m\u001b[0m\u001b[0m\n\u001b[1;32m    275\u001b[0m             \u001b[0;32mfrom\u001b[0m \u001b[0;34m.\u001b[0m\u001b[0mpopen_fork\u001b[0m \u001b[0;32mimport\u001b[0m \u001b[0mPopen\u001b[0m\u001b[0;34m\u001b[0m\u001b[0;34m\u001b[0m\u001b[0m\n\u001b[0;32m--> 276\u001b[0;31m             \u001b[0;32mreturn\u001b[0m \u001b[0mPopen\u001b[0m\u001b[0;34m(\u001b[0m\u001b[0mprocess_obj\u001b[0m\u001b[0;34m)\u001b[0m\u001b[0;34m\u001b[0m\u001b[0;34m\u001b[0m\u001b[0m\n\u001b[0m\u001b[1;32m    277\u001b[0m \u001b[0;34m\u001b[0m\u001b[0m\n\u001b[1;32m    278\u001b[0m     \u001b[0;32mclass\u001b[0m \u001b[0mSpawnProcess\u001b[0m\u001b[0;34m(\u001b[0m\u001b[0mprocess\u001b[0m\u001b[0;34m.\u001b[0m\u001b[0mBaseProcess\u001b[0m\u001b[0;34m)\u001b[0m\u001b[0;34m:\u001b[0m\u001b[0;34m\u001b[0m\u001b[0;34m\u001b[0m\u001b[0m\n",
      "\u001b[0;32m/usr/lib/python3.8/multiprocessing/popen_fork.py\u001b[0m in \u001b[0;36m__init__\u001b[0;34m(self, process_obj)\u001b[0m\n\u001b[1;32m     17\u001b[0m         \u001b[0mself\u001b[0m\u001b[0;34m.\u001b[0m\u001b[0mreturncode\u001b[0m \u001b[0;34m=\u001b[0m \u001b[0;32mNone\u001b[0m\u001b[0;34m\u001b[0m\u001b[0;34m\u001b[0m\u001b[0m\n\u001b[1;32m     18\u001b[0m         \u001b[0mself\u001b[0m\u001b[0;34m.\u001b[0m\u001b[0mfinalizer\u001b[0m \u001b[0;34m=\u001b[0m \u001b[0;32mNone\u001b[0m\u001b[0;34m\u001b[0m\u001b[0;34m\u001b[0m\u001b[0m\n\u001b[0;32m---> 19\u001b[0;31m         \u001b[0mself\u001b[0m\u001b[0;34m.\u001b[0m\u001b[0m_launch\u001b[0m\u001b[0;34m(\u001b[0m\u001b[0mprocess_obj\u001b[0m\u001b[0;34m)\u001b[0m\u001b[0;34m\u001b[0m\u001b[0;34m\u001b[0m\u001b[0m\n\u001b[0m\u001b[1;32m     20\u001b[0m \u001b[0;34m\u001b[0m\u001b[0m\n\u001b[1;32m     21\u001b[0m     \u001b[0;32mdef\u001b[0m \u001b[0mduplicate_for_child\u001b[0m\u001b[0;34m(\u001b[0m\u001b[0mself\u001b[0m\u001b[0;34m,\u001b[0m \u001b[0mfd\u001b[0m\u001b[0;34m)\u001b[0m\u001b[0;34m:\u001b[0m\u001b[0;34m\u001b[0m\u001b[0;34m\u001b[0m\u001b[0m\n",
      "\u001b[0;32m/usr/lib/python3.8/multiprocessing/popen_fork.py\u001b[0m in \u001b[0;36m_launch\u001b[0;34m(self, process_obj)\u001b[0m\n\u001b[1;32m     68\u001b[0m         \u001b[0mparent_r\u001b[0m\u001b[0;34m,\u001b[0m \u001b[0mchild_w\u001b[0m \u001b[0;34m=\u001b[0m \u001b[0mos\u001b[0m\u001b[0;34m.\u001b[0m\u001b[0mpipe\u001b[0m\u001b[0;34m(\u001b[0m\u001b[0;34m)\u001b[0m\u001b[0;34m\u001b[0m\u001b[0;34m\u001b[0m\u001b[0m\n\u001b[1;32m     69\u001b[0m         \u001b[0mchild_r\u001b[0m\u001b[0;34m,\u001b[0m \u001b[0mparent_w\u001b[0m \u001b[0;34m=\u001b[0m \u001b[0mos\u001b[0m\u001b[0;34m.\u001b[0m\u001b[0mpipe\u001b[0m\u001b[0;34m(\u001b[0m\u001b[0;34m)\u001b[0m\u001b[0;34m\u001b[0m\u001b[0;34m\u001b[0m\u001b[0m\n\u001b[0;32m---> 70\u001b[0;31m         \u001b[0mself\u001b[0m\u001b[0;34m.\u001b[0m\u001b[0mpid\u001b[0m \u001b[0;34m=\u001b[0m \u001b[0mos\u001b[0m\u001b[0;34m.\u001b[0m\u001b[0mfork\u001b[0m\u001b[0;34m(\u001b[0m\u001b[0;34m)\u001b[0m\u001b[0;34m\u001b[0m\u001b[0;34m\u001b[0m\u001b[0m\n\u001b[0m\u001b[1;32m     71\u001b[0m         \u001b[0;32mif\u001b[0m \u001b[0mself\u001b[0m\u001b[0;34m.\u001b[0m\u001b[0mpid\u001b[0m \u001b[0;34m==\u001b[0m \u001b[0;36m0\u001b[0m\u001b[0;34m:\u001b[0m\u001b[0;34m\u001b[0m\u001b[0;34m\u001b[0m\u001b[0m\n\u001b[1;32m     72\u001b[0m             \u001b[0;32mtry\u001b[0m\u001b[0;34m:\u001b[0m\u001b[0;34m\u001b[0m\u001b[0;34m\u001b[0m\u001b[0m\n",
      "\u001b[0;31mOSError\u001b[0m: [Errno 12] Cannot allocate memory"
     ]
    }
   ],
   "source": [
    "#estimator_pt = ParameterizedRatioEstimator(\n",
    "estimator_pt = MorphingAwareRatioEstimator(\n",
    "    morphing_setup_filename='data/setup.h5',\n",
    "    n_hidden=(40,40),\n",
    "    activation=\"tanh\",\n",
    "    features=[0],\n",
    ")\n",
    "\n",
    "estimator_pt.train(\n",
    "    method='carl',\n",
    "    theta='data/samples/theta0_train_ratio.npy',\n",
    "    x='data/samples/x_train_ratio.npy',\n",
    "    y='data/samples/y_train_ratio.npy',\n",
    "    r_xz='data/samples/r_xz_train_ratio.npy',\n",
    "    t_xz='data/samples/t_xz_train_ratio.npy',\n",
    "    alpha=8,\n",
    "    n_epochs=1000,\n",
    "    #scale_parameters=True,\n",
    ")\n",
    "\n",
    "estimator_pt.save('models/carl_pt')"
   ]
  },
  {
   "cell_type": "markdown",
   "metadata": {},
   "source": [
    "## 4. Evaluate likelihood ratio estimator"
   ]
  },
  {
   "cell_type": "markdown",
   "metadata": {},
   "source": [
    "`estimator.evaluate_log_likelihood_ratio(theta,x)` estimated the log likelihood ratio and the score for all combination between the given phase-space points `x` and parameters `theta`. That is, if given 100 events `x` and a grid of 25 `theta` points, it will return 25\\*100 estimates for the log likelihood ratio and 25\\*100 estimates for the score, both indexed by `[i_theta,i_x]`."
   ]
  },
  {
   "cell_type": "code",
   "execution_count": 19,
   "metadata": {},
   "outputs": [],
   "source": [
    "theta_each = np.linspace(-1,1,25)\n",
    "theta0, theta1 = np.meshgrid(theta_each, theta_each)\n",
    "theta_grid = np.vstack((theta0.flatten(), theta1.flatten())).T\n",
    "np.save('data/samples/theta_grid.npy', theta_grid)\n",
    "\n",
    "theta_denom = np.array([[0.,0.]])\n",
    "np.save('data/samples/theta_ref.npy', theta_denom)\n"
   ]
  },
  {
   "cell_type": "code",
   "execution_count": 20,
   "metadata": {},
   "outputs": [
    {
     "name": "stderr",
     "output_type": "stream",
     "text": [
      "14:09 madminer.ml.base     INFO    Loading model from models/carl\n",
      "14:09 madminer.utils.vario INFO      Loading data/samples/x_test.npy into RAM\n",
      "14:09 madminer.utils.vario INFO      Loading data/samples/theta_grid.npy into RAM\n"
     ]
    }
   ],
   "source": [
    "estimator.load('models/carl')\n",
    "\n",
    "log_r_hat, _ = estimator.evaluate_log_likelihood_ratio(\n",
    "    theta='data/samples/theta_grid.npy',\n",
    "    x='data/samples/x_test.npy',\n",
    "    evaluate_score=False\n",
    ")"
   ]
  },
  {
   "cell_type": "markdown",
   "metadata": {},
   "source": [
    "Let's look at the result:"
   ]
  },
  {
   "cell_type": "code",
   "execution_count": 21,
   "metadata": {},
   "outputs": [
    {
     "data": {
      "image/png": "[encoded data removed]",
      "text/plain": [
       "<Figure size 432x360 with 2 Axes>"
      ]
     },
     "metadata": {
      "needs_background": "light"
     },
     "output_type": "display_data"
    }
   ],
   "source": [
    "bin_size = theta_each[1] - theta_each[0]\n",
    "edges = np.linspace(theta_each[0] - bin_size/2, theta_each[-1] + bin_size/2, len(theta_each)+1)\n",
    "\n",
    "fig = plt.figure(figsize=(6,5))\n",
    "ax = plt.gca()\n",
    "\n",
    "expected_llr = np.mean(log_r_hat,axis=1)\n",
    "best_fit = theta_grid[np.argmin(-2.*expected_llr)]\n",
    "\n",
    "cmin, cmax = np.min(-2*expected_llr), np.max(-2*expected_llr)\n",
    "    \n",
    "pcm = ax.pcolormesh(edges, edges, -2. * expected_llr.reshape((25,25)),\n",
    "                    norm=matplotlib.colors.Normalize(vmin=cmin, vmax=cmax),\n",
    "                    cmap='viridis_r')\n",
    "cbar = fig.colorbar(pcm, ax=ax, extend='both')\n",
    "\n",
    "plt.scatter(best_fit[0], best_fit[1], s=80., color='black', marker='*')\n",
    "\n",
    "plt.xlabel(r'$\\theta_0$')\n",
    "plt.ylabel(r'$\\theta_1$')\n",
    "cbar.set_label(r'$\\mathbb{E}_x [ -2\\, \\log \\,\\hat{r}(x | \\theta, \\theta_{SM}) ]$')\n",
    "\n",
    "plt.tight_layout()\n",
    "plt.show()\n"
   ]
  },
  {
   "cell_type": "markdown",
   "metadata": {},
   "source": [
    "Note that in this tutorial our sample size was very small, and the network might not really have a chance to converge to the correct likelihood ratio function. So don't worry if you find a minimum that is not at the right point (the SM, i.e. the origin in this plot). Feel free to dial up the event numbers in the run card as well as the training samples and see what happens then!"
   ]
  },
  {
   "cell_type": "code",
   "execution_count": null,
   "metadata": {},
   "outputs": [],
   "source": [
    "log_r_hat.shape"
   ]
  },
  {
   "cell_type": "code",
   "execution_count": 18,
   "metadata": {},
   "outputs": [
    {
     "data": {
      "text/plain": [
       "(500000, 9)"
      ]
     },
     "execution_count": 18,
     "metadata": {},
     "output_type": "execute_result"
    }
   ],
   "source": [
    "np.load('data/samples/x_train_ratio.npy').shape"
   ]
  },
  {
   "cell_type": "code",
   "execution_count": 26,
   "metadata": {},
   "outputs": [],
   "source": [
    "theta = np.load('data/samples/theta0_train_ratio.npy')"
   ]
  },
  {
   "cell_type": "code",
   "execution_count": 28,
   "metadata": {},
   "outputs": [
    {
     "data": {
      "text/plain": [
       "(500000, 2)"
      ]
     },
     "execution_count": 28,
     "metadata": {},
     "output_type": "execute_result"
    }
   ],
   "source": [
    "theta.shape"
   ]
  },
  {
   "cell_type": "code",
   "execution_count": null,
   "metadata": {},
   "outputs": [],
   "source": []
  }
 ],
 "metadata": {
  "kernelspec": {
   "display_name": "Python 2",
   "language": "python",
   "name": "python2"
  },
  "language_info": {
   "codemirror_mode": {
    "name": "ipython",
    "version": 3
   },
   "file_extension": ".py",
   "mimetype": "text/x-python",
   "name": "python",
   "nbconvert_exporter": "python",
   "pygments_lexer": "ipython3",
   "version": "3.8.2"
  }
 },
 "nbformat": 4,
 "nbformat_minor": 2
}
