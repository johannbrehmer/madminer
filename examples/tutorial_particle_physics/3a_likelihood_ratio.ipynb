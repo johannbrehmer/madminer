{
 "cells": [
  {
   "cell_type": "markdown",
   "metadata": {},
   "source": [
    "# MadMiner particle physics tutorial\n",
    "\n",
    "# Part 3a: Training a likelihood ratio estimator\n",
    "\n",
    "Johann Brehmer, Felix Kling, Irina Espejo, and Kyle Cranmer 2018-2019"
   ]
  },
  {
   "cell_type": "markdown",
   "metadata": {},
   "source": [
    "In part 3a of this tutorial we will finally train a neural network to estimate likelihood ratios. We assume that you have run part 1 and 2a of this tutorial. If, instead of 2a, you have run part 2b, you just have to load a different filename later."
   ]
  },
  {
   "cell_type": "markdown",
   "metadata": {},
   "source": [
    "## Preparations"
   ]
  },
  {
   "cell_type": "code",
   "execution_count": 1,
   "metadata": {},
   "outputs": [],
   "source": [
    "from __future__ import absolute_import, division, print_function, unicode_literals\n",
    "\n",
    "import logging\n",
    "import numpy as np\n",
    "import matplotlib\n",
    "from matplotlib import pyplot as plt\n",
    "%matplotlib inline\n"
   ]
  },
  {
   "cell_type": "code",
   "execution_count": 2,
   "metadata": {},
   "outputs": [],
   "source": [
    "# MadMiner output\n",
    "logging.basicConfig(\n",
    "    format='%(asctime)-5.5s %(name)-20.20s %(levelname)-7.7s %(message)s',\n",
    "    datefmt='%H:%M',\n",
    "    level=logging.INFO\n",
    ")\n",
    "\n",
    "# Output of all other modules (e.g. matplotlib)\n",
    "for key in logging.Logger.manager.loggerDict:\n",
    "    if \"madminer\" not in key:\n",
    "        logging.getLogger(key).setLevel(logging.WARNING)"
   ]
  },
  {
   "cell_type": "code",
   "execution_count": 3,
   "metadata": {},
   "outputs": [
    {
     "name": "stderr",
     "output_type": "stream",
     "text": [
      "18:17 madminer             INFO    \n",
      "18:17 madminer             INFO    ------------------------------------------------------------------------\n",
      "18:17 madminer             INFO    |                                                                      |\n",
      "18:17 madminer             INFO    |  MadMiner v0.7.4                                                     |\n",
      "18:17 madminer             INFO    |                                                                      |\n",
      "18:17 madminer             INFO    |         Johann Brehmer, Felix Kling, Irina Espejo, and Kyle Cranmer  |\n",
      "18:17 madminer             INFO    |                                                                      |\n",
      "18:17 madminer             INFO    ------------------------------------------------------------------------\n",
      "18:17 madminer             INFO    \n"
     ]
    }
   ],
   "source": [
    "from madminer import SampleAugmenter, sampling, ParameterizedRatioEstimator"
   ]
  },
  {
   "cell_type": "markdown",
   "metadata": {},
   "source": [
    "## 1. Make (unweighted) training and test samples with augmented data"
   ]
  },
  {
   "cell_type": "markdown",
   "metadata": {},
   "source": [
    "At this point, we have all the information we need from the simulations. But the data is not quite ready to be used for machine learning. The `madminer.sampling` class `SampleAugmenter` will take care of the remaining book-keeping steps before we can train our estimators:\n",
    "\n",
    "First, it unweights the samples, i.e. for a given parameter vector `theta` (or a distribution `p(theta)`) it picks events `x` such that their distribution follows `p(x|theta)`. The selected samples will all come from the event file we have so far, but their frequency is changed -- some events will appear multiple times, some will disappear.\n",
    "\n",
    "Second, `SampleAugmenter` calculates all the augmented data (\"gold\") that is the key to our new inference methods. Depending on the specific technique, these are the joint likelihood ratio and / or the joint score. It saves all these pieces of information for the selected events in a set of numpy files that can easily be used in any machine learning framework."
   ]
  },
  {
   "cell_type": "code",
   "execution_count": 4,
   "metadata": {},
   "outputs": [
    {
     "name": "stderr",
     "output_type": "stream",
     "text": [
      "18:17 madminer.analysis.da INFO    Loading data from data/lhe_data_shuffled_gw.h5\n",
      "18:17 madminer.analysis.da INFO    Found 1 parameters\n",
      "18:17 madminer.analysis.da INFO    Did not find nuisance parameters\n",
      "18:17 madminer.analysis.da INFO    Found 10 benchmarks, of which 10 physical\n",
      "18:17 madminer.analysis.da INFO    Found 9 observables\n",
      "18:17 madminer.analysis.da INFO    Found 6000000 events\n",
      "18:17 madminer.analysis.da INFO      3000000 signal events sampled from benchmark sm\n",
      "18:17 madminer.analysis.da INFO      500000 signal events sampled from benchmark 5\n",
      "18:17 madminer.analysis.da INFO      500000 signal events sampled from benchmark 10\n",
      "18:17 madminer.analysis.da INFO      500000 signal events sampled from benchmark 20\n",
      "18:17 madminer.analysis.da INFO      500000 signal events sampled from benchmark neg_5\n",
      "18:17 madminer.analysis.da INFO      500000 signal events sampled from benchmark neg_10\n",
      "18:17 madminer.analysis.da INFO      500000 signal events sampled from benchmark neg_20\n",
      "18:17 madminer.analysis.da INFO    Found morphing setup with 3 components\n",
      "18:17 madminer.analysis.da INFO    Did not find nuisance morphing setup\n"
     ]
    }
   ],
   "source": [
    "sampler = SampleAugmenter('data/lhe_data_shuffled_gw.h5')"
   ]
  },
  {
   "cell_type": "markdown",
   "metadata": {},
   "source": [
    "The `SampleAugmenter` class defines five different high-level functions to generate train or test samples:\n",
    "- `sample_train_plain()`, which only saves observations x, for instance for histograms or ABC;\n",
    "- `sample_train_local()` for methods like SALLY and SALLINO, which will be demonstrated in the second part of the tutorial;\n",
    "- `sample_train_density()` for neural density estimation techniques like MAF or SCANDAL;\n",
    "- `sample_train_ratio()` for techniques like CARL, ROLR, CASCAL, and RASCAL, when only theta0 is parameterized;\n",
    "- `sample_train_more_ratios()` for the same techniques, but with both theta0 and theta1 parameterized;\n",
    "- `sample_test()` for the evaluation of any method.\n",
    "\n",
    "For the arguments `theta`, `theta0`, or `theta1`, you can (and should!) use the helper functions `benchmark()`, `benchmarks()`, `morphing_point()`, `morphing_points()`, and `random_morphing_points()`, all defined in the `madminer.sampling` module.\n",
    "\n",
    "Here we'll train a likelihood ratio estimator with the ALICES method, so we focus on the `extract_samples_train_ratio()` function. We'll sample the numerator hypothesis in the likelihood ratio with 1000 points drawn from a Gaussian prior, and fix the denominator hypothesis to the SM.\n",
    "\n",
    "Note the keyword `sample_only_from_closest_benchmark=True`, which makes sure that for each parameter point we only use the events that were originally (in MG) generated from the closest benchmark. This reduces the statistical fluctuations in the outcome quite a bit."
   ]
  },
  {
   "cell_type": "code",
   "execution_count": 5,
   "metadata": {},
   "outputs": [
    {
     "name": "stderr",
     "output_type": "stream",
     "text": [
      "18:17 madminer.sampling.sa INFO    Extracting training sample for ratio-based methods. Numerator hypothesis: 7 benchmarks, starting with ['sm', '5', 'neg_5'], denominator hypothesis: sm\n",
      "18:17 madminer.sampling.sa INFO    Starting sampling serially\n",
      "18:17 madminer.sampling.sa INFO    Sampling from parameter point 1 / 7\n",
      "18:17 madminer.sampling.sa INFO    Sampling from parameter point 2 / 7\n",
      "18:17 madminer.sampling.sa INFO    Sampling from parameter point 3 / 7\n",
      "18:17 madminer.sampling.sa INFO    Sampling from parameter point 4 / 7\n",
      "18:17 madminer.sampling.sa INFO    Sampling from parameter point 5 / 7\n",
      "18:17 madminer.sampling.sa INFO    Sampling from parameter point 6 / 7\n",
      "18:17 madminer.sampling.sa INFO    Sampling from parameter point 7 / 7\n",
      "18:17 madminer.sampling.sa INFO    Effective number of samples: mean 514285.71428571426, with individual thetas ranging from 299471.99999999994 to 1800306.9999999998\n",
      "18:17 madminer.sampling.sa INFO    Starting sampling serially\n",
      "18:17 madminer.sampling.sa INFO    Sampling from parameter point 1 / 7\n",
      "18:17 madminer.sampling.sa INFO    Sampling from parameter point 2 / 7\n",
      "18:17 madminer.sampling.sa INFO    Sampling from parameter point 3 / 7\n",
      "18:17 madminer.sampling.sa INFO    Sampling from parameter point 4 / 7\n",
      "18:17 madminer.sampling.sa INFO    Sampling from parameter point 5 / 7\n",
      "18:17 madminer.sampling.sa INFO    Sampling from parameter point 6 / 7\n",
      "18:17 madminer.sampling.sa INFO    Sampling from parameter point 7 / 7\n",
      "18:18 madminer.sampling.sa INFO    Effective number of samples: mean 1800306.9999999998, with individual thetas ranging from 1800306.9999999998 to 1800306.9999999998\n"
     ]
    }
   ],
   "source": [
    "x, theta0, theta1, y, r_xz, t_xz, n_effective = sampler.sample_train_ratio(\n",
    "    theta0=sampling.benchmarks(['sm', '5', 'neg_5', '10', 'neg_10', '20', 'neg_20']),\n",
    "    theta1=sampling.benchmark('sm'),\n",
    "    n_samples=500000,\n",
    "    folder='./data/samples',\n",
    "    filename='train_ratio',\n",
    "    sample_only_from_closest_benchmark=True,\n",
    "    return_individual_n_effective=True,\n",
    ")"
   ]
  },
  {
   "cell_type": "markdown",
   "metadata": {},
   "source": [
    "For the evaluation we'll need a test sample:"
   ]
  },
  {
   "cell_type": "code",
   "execution_count": 6,
   "metadata": {
    "scrolled": true
   },
   "outputs": [
    {
     "name": "stderr",
     "output_type": "stream",
     "text": [
      "18:18 madminer.sampling.sa INFO    Extracting evaluation sample. Sampling according to sm\n",
      "18:18 madminer.sampling.sa INFO    Starting sampling serially\n",
      "18:18 madminer.sampling.sa INFO    Sampling from parameter point 1 / 1\n",
      "18:18 madminer.sampling.sa INFO    Effective number of samples: mean 599971.0, with individual thetas ranging from 599971.0 to 599971.0\n"
     ]
    }
   ],
   "source": [
    "_ = sampler.sample_test(\n",
    "    theta=sampling.benchmark('sm'),\n",
    "    n_samples=1000,\n",
    "    folder='./data/samples',\n",
    "    filename='test'\n",
    ")"
   ]
  },
  {
   "cell_type": "code",
   "execution_count": 7,
   "metadata": {},
   "outputs": [
    {
     "name": "stderr",
     "output_type": "stream",
     "text": [
      "18:18 madminer.sampling.sa INFO    Extracting plain training sample. Sampling according to 6 benchmarks, starting with ['5', 'neg_5', '10']\n",
      "18:18 madminer.sampling.sa INFO    Starting sampling serially\n",
      "18:18 madminer.sampling.sa INFO    Sampling from parameter point 1 / 6\n",
      "18:18 madminer.sampling.sa INFO    Sampling from parameter point 2 / 6\n",
      "18:18 madminer.sampling.sa INFO    Sampling from parameter point 3 / 6\n",
      "18:18 madminer.sampling.sa INFO    Sampling from parameter point 4 / 6\n",
      "18:18 madminer.sampling.sa INFO    Sampling from parameter point 5 / 6\n",
      "18:18 madminer.sampling.sa INFO    Sampling from parameter point 6 / 6\n",
      "18:18 madminer.sampling.sa INFO    Effective number of samples: mean 299948.8333333333, with individual thetas ranging from 299471.99999999994 to 300180.0\n"
     ]
    }
   ],
   "source": [
    "_,_,neff=sampler.sample_train_plain(\n",
    "    #theta=sampling.morphing_point([0,0.5]),\n",
    "    theta=sampling.benchmarks(['5', 'neg_5', '10', 'neg_10', '20', 'neg_20']),\n",
    "    n_samples=10000,\n",
    ")"
   ]
  },
  {
   "cell_type": "markdown",
   "metadata": {},
   "source": [
    "You might notice the information about the \"eeffective number of samples\" in the output. This is defined as `1 / max_events(weights)`; the smaller it is, the bigger the statistical fluctuations from too large weights. Let's plot this over the parameter space:"
   ]
  },
  {
   "cell_type": "code",
   "execution_count": null,
   "metadata": {},
   "outputs": [],
   "source": [
    "cmin, cmax = 10., 10000.\n",
    "\n",
    "cut = (y.flatten()==0)\n",
    "\n",
    "fig = plt.figure(figsize=(5,4))\n",
    "\n",
    "sc = plt.scatter(theta0[cut][:,0], theta0[cut][:,1], c=n_effective[cut],\n",
    "                 s=30., cmap='viridis',\n",
    "                 norm=matplotlib.colors.LogNorm(vmin=cmin, vmax=cmax),\n",
    "                 marker='o')\n",
    "\n",
    "cb = plt.colorbar(sc)\n",
    "cb.set_label('Effective number of samples')\n",
    "\n",
    "plt.xlim(-1.0,1.0)\n",
    "plt.ylim(-1.0,1.0)\n",
    "plt.tight_layout()\n",
    "plt.show()"
   ]
  },
  {
   "cell_type": "markdown",
   "metadata": {},
   "source": [
    "## 2. Plot cross section over parameter space"
   ]
  },
  {
   "cell_type": "markdown",
   "metadata": {},
   "source": [
    "This is not strictly necessary, but we can also plot the cross section as a function of parameter space:"
   ]
  },
  {
   "cell_type": "code",
   "execution_count": null,
   "metadata": {},
   "outputs": [],
   "source": [
    "thetas_benchmarks, xsecs_benchmarks, xsec_errors_benchmarks = sampler.cross_sections(\n",
    "    theta=sampling.benchmarks(list(sampler.benchmarks.keys()))\n",
    ")\n",
    "\n",
    "thetas_morphing, xsecs_morphing, xsec_errors_morphing = sampler.cross_sections(\n",
    "    theta=sampling.random_morphing_points(1000, [('gaussian', 0., 1.), ('gaussian', 0., 1.)])\n",
    ")"
   ]
  },
  {
   "cell_type": "code",
   "execution_count": null,
   "metadata": {},
   "outputs": [],
   "source": [
    "cmin, cmax = 0., 2.5 * np.mean(xsecs_morphing)\n",
    "\n",
    "fig = plt.figure(figsize=(5,4))\n",
    "\n",
    "sc = plt.scatter(thetas_morphing[:,0], thetas_morphing[:,1], c=xsecs_morphing,\n",
    "            s=40., cmap='viridis', vmin=cmin, vmax=cmax,\n",
    "            marker='o')\n",
    "\n",
    "plt.scatter(thetas_benchmarks[:,0], thetas_benchmarks[:,1], c=xsecs_benchmarks,\n",
    "            s=200., cmap='viridis', vmin=cmin, vmax=cmax, lw=2., edgecolor='black',\n",
    "            marker='s')\n",
    "\n",
    "cb = plt.colorbar(sc)\n",
    "cb.set_label('xsec [pb]')\n",
    "\n",
    "plt.xlim(-3.,3.)\n",
    "plt.ylim(-3.,3.)\n",
    "plt.tight_layout()\n",
    "plt.show()"
   ]
  },
  {
   "cell_type": "markdown",
   "metadata": {},
   "source": [
    "What  you see here is a morphing algorithm in action. We only asked MadGraph to calculate event weights (differential cross sections, or basically squared matrix elements) at six fixed parameter points (shown here as squares with black edges). But with our knowledge about the structure of the process we can interpolate any observable to any parameter point without loss (except that statistical uncertainties might increase)!"
   ]
  },
  {
   "cell_type": "markdown",
   "metadata": {},
   "source": [
    "## 3. Train likelihood ratio estimator"
   ]
  },
  {
   "cell_type": "markdown",
   "metadata": {},
   "source": [
    "It's now time to build the neural network that estimates the likelihood ratio. The central object for this is the `madminer.ml.ParameterizedRatioEstimator` class. It defines functions that train, save, load, and evaluate the estimators.\n",
    "\n",
    "In the initialization, the keywords `n_hidden` and `activation` define the architecture of the (fully connected) neural network:"
   ]
  },
  {
   "cell_type": "code",
   "execution_count": 8,
   "metadata": {},
   "outputs": [],
   "source": [
    "from madminer.ml.morphing_aware import MorphingAwareRatioEstimator"
   ]
  },
  {
   "cell_type": "code",
   "execution_count": 9,
   "metadata": {},
   "outputs": [
    {
     "name": "stderr",
     "output_type": "stream",
     "text": [
      "18:18 madminer.ml.morphing INFO    Setting up morphing-aware ratio estimator with 3 morphing components\n"
     ]
    }
   ],
   "source": [
    "#estimator = ParameterizedRatioEstimator(\n",
    "estimator = MorphingAwareRatioEstimator(\n",
    "    morphing_setup_filename='data/setup_gw.h5',\n",
    "    n_hidden=(60,60),\n",
    "    activation=\"tanh\",\n",
    ")"
   ]
  },
  {
   "cell_type": "markdown",
   "metadata": {},
   "source": [
    "To train this model we will minimize the ALICES loss function described in [\"Likelihood-free inference with an improved cross-entropy estimator\"](https://arxiv.org/abs/1808.00973). Many alternatives, including RASCAL, are described in [\"Constraining Effective Field Theories With Machine Learning\"](https://arxiv.org/abs/1805.00013) and [\"A Guide to Constraining Effective Field Theories With Machine Learning\"](https://arxiv.org/abs/1805.00020). There is also SCANDAL introduced in [\"Mining gold from implicit models to improve likelihood-free inference\"](https://arxiv.org/abs/1805.12244)."
   ]
  },
  {
   "cell_type": "code",
   "execution_count": null,
   "metadata": {
    "scrolled": false
   },
   "outputs": [],
   "source": [
    "estimator.train(\n",
    "    method='carl',\n",
    "    theta='data/samples/theta0_train_ratio.npy',\n",
    "    x='data/samples/x_train_ratio.npy',\n",
    "    y='data/samples/y_train_ratio.npy',\n",
    "    r_xz='data/samples/r_xz_train_ratio.npy',\n",
    "    t_xz='data/samples/t_xz_train_ratio.npy',\n",
    "    alpha=10,\n",
    "    n_epochs=1000,\n",
    "    #scale_parameters=True,\n",
    ")\n",
    "\n",
    "estimator.save('models/carl_gw')"
   ]
  },
  {
   "cell_type": "markdown",
   "metadata": {},
   "source": [
    "### Bigger Batch size"
   ]
  },
  {
   "cell_type": "code",
   "execution_count": 10,
   "metadata": {
    "scrolled": true
   },
   "outputs": [
    {
     "name": "stderr",
     "output_type": "stream",
     "text": [
      "18:18 madminer.ml.morphing INFO    Setting up morphing-aware ratio estimator with 3 morphing components\n",
      "18:18 madminer.ml.paramete INFO    Starting training\n",
      "18:18 madminer.ml.paramete INFO      Method:                 carl\n",
      "18:18 madminer.ml.paramete INFO      Batch size:             1500000\n",
      "18:18 madminer.ml.paramete INFO      Optimizer:              amsgrad\n",
      "18:18 madminer.ml.paramete INFO      Epochs:                 10\n",
      "18:18 madminer.ml.paramete INFO      Learning rate:          0.001 initially, decaying to 0.0001\n",
      "18:18 madminer.ml.paramete INFO      Validation split:       0.25\n",
      "18:18 madminer.ml.paramete INFO      Early stopping:         True\n",
      "18:18 madminer.ml.paramete INFO      Scale inputs:           True\n",
      "18:18 madminer.ml.paramete INFO      Scale parameters:       False\n",
      "18:18 madminer.ml.paramete INFO      Shuffle labels          False\n",
      "18:18 madminer.ml.paramete INFO      Samples:                all\n",
      "18:18 madminer.ml.paramete INFO    Loading training data\n",
      "18:18 madminer.utils.vario INFO      Loading data/samples/theta0_train_ratio.npy into RAM\n",
      "18:18 madminer.utils.vario INFO      Loading data/samples/x_train_ratio.npy into RAM\n",
      "18:18 madminer.utils.vario INFO      Loading data/samples/y_train_ratio.npy into RAM\n",
      "18:18 madminer.utils.vario INFO      Loading data/samples/r_xz_train_ratio.npy into RAM\n",
      "18:18 madminer.utils.vario INFO      Loading data/samples/t_xz_train_ratio.npy into RAM\n",
      "18:18 madminer.ml.paramete INFO    Found 499996 samples with 1 parameters and 9 observables\n",
      "18:18 madminer.ml.base     INFO    Setting up input rescaling\n",
      "18:18 madminer.ml.base     INFO    Disabling parameter rescaling\n",
      "18:18 madminer.ml.paramete INFO    Creating model\n",
      "18:18 madminer.ml.paramete INFO    Training model\n",
      "18:18 madminer.utils.ml.tr INFO    Training on CPU with single precision\n",
      "18:18 madminer.utils.ml.tr INFO      Epoch   1: train loss  0.69087 (xe:  0.691)\n",
      "18:18 madminer.utils.ml.tr INFO                 val. loss   0.68757 (xe:  0.688)\n",
      "18:18 madminer.utils.ml.tr INFO      Epoch   2: train loss  0.68726 (xe:  0.687)\n",
      "18:18 madminer.utils.ml.tr INFO                 val. loss   0.68506 (xe:  0.685)\n",
      "18:18 madminer.utils.ml.tr INFO      Epoch   3: train loss  0.68473 (xe:  0.685)\n",
      "18:18 madminer.utils.ml.tr INFO                 val. loss   0.68327 (xe:  0.683)\n",
      "18:19 madminer.utils.ml.tr INFO      Epoch   4: train loss  0.68294 (xe:  0.683)\n",
      "18:19 madminer.utils.ml.tr INFO                 val. loss   0.68198 (xe:  0.682)\n",
      "18:19 madminer.utils.ml.tr INFO      Epoch   5: train loss  0.68165 (xe:  0.682)\n",
      "18:19 madminer.utils.ml.tr INFO                 val. loss   0.68105 (xe:  0.681)\n",
      "18:19 madminer.utils.ml.tr INFO      Epoch   6: train loss  0.68071 (xe:  0.681)\n",
      "18:19 madminer.utils.ml.tr INFO                 val. loss   0.68035 (xe:  0.680)\n",
      "18:19 madminer.utils.ml.tr INFO      Epoch   7: train loss  0.68001 (xe:  0.680)\n",
      "18:19 madminer.utils.ml.tr INFO                 val. loss   0.67984 (xe:  0.680)\n",
      "18:20 madminer.utils.ml.tr INFO      Epoch   8: train loss  0.67950 (xe:  0.679)\n",
      "18:20 madminer.utils.ml.tr INFO                 val. loss   0.67945 (xe:  0.679)\n",
      "18:20 madminer.utils.ml.tr INFO      Epoch   9: train loss  0.67911 (xe:  0.679)\n",
      "18:20 madminer.utils.ml.tr INFO                 val. loss   0.67916 (xe:  0.679)\n",
      "18:20 madminer.utils.ml.tr INFO      Epoch  10: train loss  0.67881 (xe:  0.679)\n",
      "18:20 madminer.utils.ml.tr INFO                 val. loss   0.67894 (xe:  0.679)\n",
      "18:20 madminer.utils.ml.tr INFO    Early stopping did not improve performance\n",
      "18:20 madminer.utils.ml.tr INFO    Training time spend on:\n",
      "18:20 madminer.utils.ml.tr INFO                      initialize model:   0.00h\n",
      "18:20 madminer.utils.ml.tr INFO                                   ALL:   0.04h\n",
      "18:20 madminer.utils.ml.tr INFO                            check data:   0.00h\n",
      "18:20 madminer.utils.ml.tr INFO                          make dataset:   0.00h\n",
      "18:20 madminer.utils.ml.tr INFO                       make dataloader:   0.00h\n",
      "18:20 madminer.utils.ml.tr INFO                       setup optimizer:   0.00h\n",
      "18:20 madminer.utils.ml.tr INFO                   initialize training:   0.00h\n",
      "18:20 madminer.utils.ml.tr INFO                                set lr:   0.00h\n",
      "18:20 madminer.utils.ml.tr INFO                   load training batch:   0.03h\n",
      "18:20 madminer.utils.ml.tr INFO                        fwd: move data:   0.00h\n",
      "18:20 madminer.utils.ml.tr INFO                   fwd: check for nans:   0.00h\n",
      "18:20 madminer.utils.ml.tr INFO                    fwd: model.forward:   0.00h\n",
      "18:20 madminer.utils.ml.tr INFO                 fwd: calculate losses:   0.00h\n",
      "18:20 madminer.utils.ml.tr INFO                 training forward pass:   0.00h\n",
      "18:20 madminer.utils.ml.tr INFO                   training sum losses:   0.00h\n",
      "18:20 madminer.utils.ml.tr INFO                        opt: zero grad:   0.00h\n",
      "18:20 madminer.utils.ml.tr INFO                         opt: backward:   0.00h\n",
      "18:20 madminer.utils.ml.tr INFO                   opt: clip grad norm:   0.00h\n",
      "18:20 madminer.utils.ml.tr INFO                             opt: step:   0.00h\n",
      "18:20 madminer.utils.ml.tr INFO                        optimizer step:   0.00h\n",
      "18:20 madminer.utils.ml.tr INFO                 load validation batch:   0.01h\n",
      "18:20 madminer.utils.ml.tr INFO               validation forward pass:   0.00h\n",
      "18:20 madminer.utils.ml.tr INFO                 validation sum losses:   0.00h\n",
      "18:20 madminer.utils.ml.tr INFO                        early stopping:   0.00h\n",
      "18:20 madminer.utils.ml.tr INFO                          report epoch:   0.00h\n",
      "18:20 madminer.ml.base     INFO    Saving model to models/carl10-bigbatch-gw\n"
     ]
    }
   ],
   "source": [
    "#estimator = ParameterizedRatioEstimator(\n",
    "estimator = MorphingAwareRatioEstimator(\n",
    "    morphing_setup_filename='data/setup.h5',\n",
    "    n_hidden=(60,60),\n",
    "    activation=\"tanh\",\n",
    ")\n",
    "\n",
    "estimator.train(\n",
    "    method='carl',\n",
    "    theta='data/samples/theta0_train_ratio.npy',\n",
    "    x='data/samples/x_train_ratio.npy',\n",
    "    y='data/samples/y_train_ratio.npy',\n",
    "    r_xz='data/samples/r_xz_train_ratio.npy',\n",
    "    t_xz='data/samples/t_xz_train_ratio.npy',\n",
    "    alpha=10,\n",
    "    n_epochs=10,\n",
    "    batch_size=int(6000000/4),\n",
    ")\n",
    "\n",
    "estimator.save('models/carl10-bigbatch-gw')"
   ]
  },
  {
   "cell_type": "code",
   "execution_count": 11,
   "metadata": {
    "scrolled": true
   },
   "outputs": [
    {
     "name": "stderr",
     "output_type": "stream",
     "text": [
      "18:20 madminer.ml.morphing INFO    Setting up morphing-aware ratio estimator with 3 morphing components\n",
      "18:20 madminer.ml.paramete INFO    Starting training\n",
      "18:20 madminer.ml.paramete INFO      Method:                 carl\n",
      "18:20 madminer.ml.paramete INFO      Batch size:             1500000\n",
      "18:20 madminer.ml.paramete INFO      Optimizer:              amsgrad\n",
      "18:20 madminer.ml.paramete INFO      Epochs:                 50\n",
      "18:20 madminer.ml.paramete INFO      Learning rate:          0.001 initially, decaying to 0.0001\n",
      "18:20 madminer.ml.paramete INFO      Validation split:       0.25\n",
      "18:20 madminer.ml.paramete INFO      Early stopping:         True\n",
      "18:20 madminer.ml.paramete INFO      Scale inputs:           True\n",
      "18:20 madminer.ml.paramete INFO      Scale parameters:       False\n",
      "18:20 madminer.ml.paramete INFO      Shuffle labels          False\n",
      "18:20 madminer.ml.paramete INFO      Samples:                all\n",
      "18:20 madminer.ml.paramete INFO    Loading training data\n",
      "18:20 madminer.utils.vario INFO      Loading data/samples/theta0_train_ratio.npy into RAM\n",
      "18:20 madminer.utils.vario INFO      Loading data/samples/x_train_ratio.npy into RAM\n",
      "18:20 madminer.utils.vario INFO      Loading data/samples/y_train_ratio.npy into RAM\n",
      "18:20 madminer.utils.vario INFO      Loading data/samples/r_xz_train_ratio.npy into RAM\n",
      "18:20 madminer.utils.vario INFO      Loading data/samples/t_xz_train_ratio.npy into RAM\n",
      "18:20 madminer.ml.paramete INFO    Found 499996 samples with 1 parameters and 9 observables\n",
      "18:20 madminer.ml.base     INFO    Setting up input rescaling\n",
      "18:20 madminer.ml.base     INFO    Disabling parameter rescaling\n",
      "18:20 madminer.ml.paramete INFO    Creating model\n",
      "18:20 madminer.ml.paramete INFO    Training model\n",
      "18:20 madminer.utils.ml.tr INFO    Training on CPU with single precision\n",
      "18:21 madminer.utils.ml.tr INFO      Epoch   2: train loss  0.68542 (xe:  0.685)\n",
      "18:21 madminer.utils.ml.tr INFO                 val. loss   0.68306 (xe:  0.683)\n",
      "18:21 madminer.utils.ml.tr INFO      Epoch   4: train loss  0.68055 (xe:  0.681)\n",
      "18:21 madminer.utils.ml.tr INFO                 val. loss   0.67899 (xe:  0.679)\n",
      "18:22 madminer.utils.ml.tr INFO      Epoch   6: train loss  0.67724 (xe:  0.677)\n",
      "18:22 madminer.utils.ml.tr INFO                 val. loss   0.67625 (xe:  0.676)\n",
      "18:22 madminer.utils.ml.tr INFO      Epoch   8: train loss  0.67497 (xe:  0.675)\n",
      "18:22 madminer.utils.ml.tr INFO                 val. loss   0.67439 (xe:  0.674)\n",
      "18:23 madminer.utils.ml.tr INFO      Epoch  10: train loss  0.67338 (xe:  0.673)\n",
      "18:23 madminer.utils.ml.tr INFO                 val. loss   0.67308 (xe:  0.673)\n",
      "18:23 madminer.utils.ml.tr INFO      Epoch  12: train loss  0.67220 (xe:  0.672)\n",
      "18:23 madminer.utils.ml.tr INFO                 val. loss   0.67213 (xe:  0.672)\n",
      "18:24 madminer.utils.ml.tr INFO      Epoch  14: train loss  0.67130 (xe:  0.671)\n",
      "18:24 madminer.utils.ml.tr INFO                 val. loss   0.67140 (xe:  0.671)\n",
      "18:24 madminer.utils.ml.tr INFO      Epoch  16: train loss  0.67058 (xe:  0.671)\n",
      "18:24 madminer.utils.ml.tr INFO                 val. loss   0.67082 (xe:  0.671)\n",
      "18:25 madminer.utils.ml.tr INFO      Epoch  18: train loss  0.66998 (xe:  0.670)\n",
      "18:25 madminer.utils.ml.tr INFO                 val. loss   0.67034 (xe:  0.670)\n",
      "18:25 madminer.utils.ml.tr INFO      Epoch  20: train loss  0.66949 (xe:  0.669)\n",
      "18:25 madminer.utils.ml.tr INFO                 val. loss   0.66995 (xe:  0.670)\n",
      "18:26 madminer.utils.ml.tr INFO      Epoch  22: train loss  0.66907 (xe:  0.669)\n",
      "18:26 madminer.utils.ml.tr INFO                 val. loss   0.66962 (xe:  0.670)\n",
      "18:26 madminer.utils.ml.tr INFO      Epoch  24: train loss  0.66872 (xe:  0.669)\n",
      "18:26 madminer.utils.ml.tr INFO                 val. loss   0.66934 (xe:  0.669)\n",
      "18:27 madminer.utils.ml.tr INFO      Epoch  26: train loss  0.66842 (xe:  0.668)\n",
      "18:27 madminer.utils.ml.tr INFO                 val. loss   0.66910 (xe:  0.669)\n",
      "18:27 madminer.utils.ml.tr INFO      Epoch  28: train loss  0.66816 (xe:  0.668)\n",
      "18:27 madminer.utils.ml.tr INFO                 val. loss   0.66889 (xe:  0.669)\n",
      "18:28 madminer.utils.ml.tr INFO      Epoch  30: train loss  0.66794 (xe:  0.668)\n",
      "18:28 madminer.utils.ml.tr INFO                 val. loss   0.66871 (xe:  0.669)\n",
      "18:28 madminer.utils.ml.tr INFO      Epoch  32: train loss  0.66774 (xe:  0.668)\n",
      "18:28 madminer.utils.ml.tr INFO                 val. loss   0.66855 (xe:  0.669)\n",
      "18:29 madminer.utils.ml.tr INFO      Epoch  34: train loss  0.66757 (xe:  0.668)\n",
      "18:29 madminer.utils.ml.tr INFO                 val. loss   0.66840 (xe:  0.668)\n",
      "18:29 madminer.utils.ml.tr INFO      Epoch  36: train loss  0.66741 (xe:  0.667)\n",
      "18:29 madminer.utils.ml.tr INFO                 val. loss   0.66827 (xe:  0.668)\n",
      "18:30 madminer.utils.ml.tr INFO      Epoch  38: train loss  0.66728 (xe:  0.667)\n",
      "18:30 madminer.utils.ml.tr INFO                 val. loss   0.66815 (xe:  0.668)\n",
      "18:30 madminer.utils.ml.tr INFO      Epoch  40: train loss  0.66716 (xe:  0.667)\n",
      "18:30 madminer.utils.ml.tr INFO                 val. loss   0.66805 (xe:  0.668)\n",
      "18:31 madminer.utils.ml.tr INFO      Epoch  42: train loss  0.66705 (xe:  0.667)\n",
      "18:31 madminer.utils.ml.tr INFO                 val. loss   0.66795 (xe:  0.668)\n",
      "18:31 madminer.utils.ml.tr INFO      Epoch  44: train loss  0.66696 (xe:  0.667)\n",
      "18:31 madminer.utils.ml.tr INFO                 val. loss   0.66787 (xe:  0.668)\n",
      "18:32 madminer.utils.ml.tr INFO      Epoch  46: train loss  0.66688 (xe:  0.667)\n",
      "18:32 madminer.utils.ml.tr INFO                 val. loss   0.66779 (xe:  0.668)\n",
      "18:32 madminer.utils.ml.tr INFO      Epoch  48: train loss  0.66680 (xe:  0.667)\n",
      "18:32 madminer.utils.ml.tr INFO                 val. loss   0.66773 (xe:  0.668)\n",
      "18:33 madminer.utils.ml.tr INFO      Epoch  50: train loss  0.66674 (xe:  0.667)\n",
      "18:33 madminer.utils.ml.tr INFO                 val. loss   0.66767 (xe:  0.668)\n",
      "18:33 madminer.utils.ml.tr INFO    Early stopping did not improve performance\n",
      "18:33 madminer.utils.ml.tr INFO    Training time spend on:\n",
      "18:33 madminer.utils.ml.tr INFO                      initialize model:   0.00h\n",
      "18:33 madminer.utils.ml.tr INFO                                   ALL:   0.21h\n",
      "18:33 madminer.utils.ml.tr INFO                            check data:   0.00h\n",
      "18:33 madminer.utils.ml.tr INFO                          make dataset:   0.00h\n",
      "18:33 madminer.utils.ml.tr INFO                       make dataloader:   0.00h\n",
      "18:33 madminer.utils.ml.tr INFO                       setup optimizer:   0.00h\n",
      "18:33 madminer.utils.ml.tr INFO                   initialize training:   0.00h\n",
      "18:33 madminer.utils.ml.tr INFO                                set lr:   0.00h\n",
      "18:33 madminer.utils.ml.tr INFO                   load training batch:   0.14h\n",
      "18:33 madminer.utils.ml.tr INFO                        fwd: move data:   0.00h\n",
      "18:33 madminer.utils.ml.tr INFO                   fwd: check for nans:   0.00h\n",
      "18:33 madminer.utils.ml.tr INFO                    fwd: model.forward:   0.00h\n",
      "18:33 madminer.utils.ml.tr INFO                 fwd: calculate losses:   0.00h\n",
      "18:33 madminer.utils.ml.tr INFO                 training forward pass:   0.00h\n",
      "18:33 madminer.utils.ml.tr INFO                   training sum losses:   0.00h\n",
      "18:33 madminer.utils.ml.tr INFO                        opt: zero grad:   0.00h\n",
      "18:33 madminer.utils.ml.tr INFO                         opt: backward:   0.02h\n",
      "18:33 madminer.utils.ml.tr INFO                   opt: clip grad norm:   0.00h\n",
      "18:33 madminer.utils.ml.tr INFO                             opt: step:   0.00h\n",
      "18:33 madminer.utils.ml.tr INFO                        optimizer step:   0.02h\n",
      "18:33 madminer.utils.ml.tr INFO                 load validation batch:   0.05h\n",
      "18:33 madminer.utils.ml.tr INFO               validation forward pass:   0.00h\n",
      "18:33 madminer.utils.ml.tr INFO                 validation sum losses:   0.00h\n",
      "18:33 madminer.utils.ml.tr INFO                        early stopping:   0.00h\n",
      "18:33 madminer.utils.ml.tr INFO                          report epoch:   0.00h\n",
      "18:33 madminer.ml.base     INFO    Saving model to models/carl50-bigbatch-gw\n"
     ]
    }
   ],
   "source": [
    "#estimator = ParameterizedRatioEstimator(\n",
    "estimator = MorphingAwareRatioEstimator(\n",
    "    morphing_setup_filename='data/setup.h5',\n",
    "    n_hidden=(60,60),\n",
    "    activation=\"tanh\",\n",
    ")\n",
    "\n",
    "estimator.train(\n",
    "    method='carl',\n",
    "    theta='data/samples/theta0_train_ratio.npy',\n",
    "    x='data/samples/x_train_ratio.npy',\n",
    "    y='data/samples/y_train_ratio.npy',\n",
    "    r_xz='data/samples/r_xz_train_ratio.npy',\n",
    "    t_xz='data/samples/t_xz_train_ratio.npy',\n",
    "    alpha=10,\n",
    "    n_epochs=50,\n",
    "    batch_size=int(6000000/4),\n",
    ")\n",
    "\n",
    "estimator.save('models/carl50-bigbatch-gw')"
   ]
  },
  {
   "cell_type": "code",
   "execution_count": null,
   "metadata": {
    "scrolled": true
   },
   "outputs": [
    {
     "name": "stderr",
     "output_type": "stream",
     "text": [
      "18:33 madminer.ml.morphing INFO    Setting up morphing-aware ratio estimator with 3 morphing components\n",
      "18:33 madminer.ml.paramete INFO    Starting training\n",
      "18:33 madminer.ml.paramete INFO      Method:                 carl\n",
      "18:33 madminer.ml.paramete INFO      Batch size:             1500000\n",
      "18:33 madminer.ml.paramete INFO      Optimizer:              amsgrad\n",
      "18:33 madminer.ml.paramete INFO      Epochs:                 1000\n",
      "18:33 madminer.ml.paramete INFO      Learning rate:          0.001 initially, decaying to 0.0001\n",
      "18:33 madminer.ml.paramete INFO      Validation split:       0.25\n",
      "18:33 madminer.ml.paramete INFO      Early stopping:         True\n",
      "18:33 madminer.ml.paramete INFO      Scale inputs:           True\n",
      "18:33 madminer.ml.paramete INFO      Scale parameters:       False\n",
      "18:33 madminer.ml.paramete INFO      Shuffle labels          False\n",
      "18:33 madminer.ml.paramete INFO      Samples:                all\n",
      "18:33 madminer.ml.paramete INFO    Loading training data\n",
      "18:33 madminer.utils.vario INFO      Loading data/samples/theta0_train_ratio.npy into RAM\n",
      "18:33 madminer.utils.vario INFO      Loading data/samples/x_train_ratio.npy into RAM\n",
      "18:33 madminer.utils.vario INFO      Loading data/samples/y_train_ratio.npy into RAM\n",
      "18:33 madminer.utils.vario INFO      Loading data/samples/r_xz_train_ratio.npy into RAM\n",
      "18:33 madminer.utils.vario INFO      Loading data/samples/t_xz_train_ratio.npy into RAM\n",
      "18:33 madminer.ml.paramete INFO    Found 499996 samples with 1 parameters and 9 observables\n",
      "18:33 madminer.ml.base     INFO    Setting up input rescaling\n",
      "18:33 madminer.ml.base     INFO    Disabling parameter rescaling\n",
      "18:33 madminer.ml.paramete INFO    Creating model\n",
      "18:33 madminer.ml.paramete INFO    Training model\n",
      "18:33 madminer.utils.ml.tr INFO    Training on CPU with single precision\n",
      "18:45 madminer.utils.ml.tr INFO      Epoch  50: train loss  0.66440 (xe:  0.664)\n",
      "18:45 madminer.utils.ml.tr INFO                 val. loss   0.66468 (xe:  0.665)\n",
      "18:58 madminer.utils.ml.tr INFO      Epoch 100: train loss  0.66203 (xe:  0.662)\n",
      "18:58 madminer.utils.ml.tr INFO                 val. loss   0.66230 (xe:  0.662)\n",
      "19:12 madminer.utils.ml.tr INFO      Epoch 150: train loss  0.65942 (xe:  0.659)\n",
      "19:12 madminer.utils.ml.tr INFO                 val. loss   0.65981 (xe:  0.660)\n",
      "19:24 madminer.utils.ml.tr INFO      Epoch 200: train loss  0.65678 (xe:  0.657)\n",
      "19:24 madminer.utils.ml.tr INFO                 val. loss   0.65736 (xe:  0.657)\n",
      "19:37 madminer.utils.ml.tr INFO      Epoch 250: train loss  0.65431 (xe:  0.654)\n",
      "19:37 madminer.utils.ml.tr INFO                 val. loss   0.65507 (xe:  0.655)\n",
      "19:51 madminer.utils.ml.tr INFO      Epoch 300: train loss  0.65228 (xe:  0.652)\n",
      "19:51 madminer.utils.ml.tr INFO                 val. loss   0.65316 (xe:  0.653)\n",
      "20:04 madminer.utils.ml.tr INFO      Epoch 350: train loss  0.65081 (xe:  0.651)\n",
      "20:04 madminer.utils.ml.tr INFO                 val. loss   0.65181 (xe:  0.652)\n"
     ]
    }
   ],
   "source": [
    "#estimator = ParameterizedRatioEstimator(\n",
    "estimator = MorphingAwareRatioEstimator(\n",
    "    morphing_setup_filename='data/setup.h5',\n",
    "    n_hidden=(60,60),\n",
    "    activation=\"tanh\",\n",
    ")\n",
    "\n",
    "estimator.train(\n",
    "    method='carl',\n",
    "    theta='data/samples/theta0_train_ratio.npy',\n",
    "    x='data/samples/x_train_ratio.npy',\n",
    "    y='data/samples/y_train_ratio.npy',\n",
    "    r_xz='data/samples/r_xz_train_ratio.npy',\n",
    "    t_xz='data/samples/t_xz_train_ratio.npy',\n",
    "    alpha=10,\n",
    "    n_epochs=1000,\n",
    "    batch_size=int(6000000/4),\n",
    ")\n",
    "\n",
    "estimator.save('models/carl1000-bigbatch-gw')"
   ]
  },
  {
   "cell_type": "markdown",
   "metadata": {},
   "source": [
    "Let's for fun also train a model that only used `pt_j1` as input observable, which can be specified using the option `features` when defining the `ParameterizedRatioEstimator`"
   ]
  },
  {
   "cell_type": "code",
   "execution_count": null,
   "metadata": {},
   "outputs": [],
   "source": [
    "#estimator_pt = ParameterizedRatioEstimator(\n",
    "estimator_pt = MorphingAwareRatioEstimator(\n",
    "    morphing_setup_filename='data/setup.h5',\n",
    "    n_hidden=(40,40),\n",
    "    activation=\"tanh\",\n",
    "    features=[0],\n",
    ")\n",
    "\n",
    "estimator_pt.train(\n",
    "    method='carl',\n",
    "    theta='data/samples/theta0_train_ratio.npy',\n",
    "    x='data/samples/x_train_ratio.npy',\n",
    "    y='data/samples/y_train_ratio.npy',\n",
    "    r_xz='data/samples/r_xz_train_ratio.npy',\n",
    "    t_xz='data/samples/t_xz_train_ratio.npy',\n",
    "    alpha=8,\n",
    "    n_epochs=1000,\n",
    "    #scale_parameters=True,\n",
    ")\n",
    "\n",
    "estimator_pt.save('models/carl_pt')"
   ]
  },
  {
   "cell_type": "markdown",
   "metadata": {},
   "source": [
    "## 4. Evaluate likelihood ratio estimator"
   ]
  },
  {
   "cell_type": "markdown",
   "metadata": {},
   "source": [
    "`estimator.evaluate_log_likelihood_ratio(theta,x)` estimated the log likelihood ratio and the score for all combination between the given phase-space points `x` and parameters `theta`. That is, if given 100 events `x` and a grid of 25 `theta` points, it will return 25\\*100 estimates for the log likelihood ratio and 25\\*100 estimates for the score, both indexed by `[i_theta,i_x]`."
   ]
  },
  {
   "cell_type": "code",
   "execution_count": null,
   "metadata": {},
   "outputs": [],
   "source": [
    "theta_each = np.linspace(-1,1,25)\n",
    "theta0, theta1 = np.meshgrid(theta_each, theta_each)\n",
    "theta_grid = np.vstack((theta0.flatten(), theta1.flatten())).T\n",
    "np.save('data/samples/theta_grid.npy', theta_grid)\n",
    "\n",
    "theta_denom = np.array([[0.,0.]])\n",
    "np.save('data/samples/theta_ref.npy', theta_denom)\n"
   ]
  },
  {
   "cell_type": "code",
   "execution_count": null,
   "metadata": {},
   "outputs": [],
   "source": [
    "estimator.load('models/carl')\n",
    "\n",
    "log_r_hat, _ = estimator.evaluate_log_likelihood_ratio(\n",
    "    theta='data/samples/theta_grid.npy',\n",
    "    x='data/samples/x_test.npy',\n",
    "    evaluate_score=False\n",
    ")"
   ]
  },
  {
   "cell_type": "markdown",
   "metadata": {},
   "source": [
    "Let's look at the result:"
   ]
  },
  {
   "cell_type": "code",
   "execution_count": null,
   "metadata": {},
   "outputs": [],
   "source": [
    "bin_size = theta_each[1] - theta_each[0]\n",
    "edges = np.linspace(theta_each[0] - bin_size/2, theta_each[-1] + bin_size/2, len(theta_each)+1)\n",
    "\n",
    "fig = plt.figure(figsize=(6,5))\n",
    "ax = plt.gca()\n",
    "\n",
    "expected_llr = np.mean(log_r_hat,axis=1)\n",
    "best_fit = theta_grid[np.argmin(-2.*expected_llr)]\n",
    "\n",
    "cmin, cmax = np.min(-2*expected_llr), np.max(-2*expected_llr)\n",
    "    \n",
    "pcm = ax.pcolormesh(edges, edges, -2. * expected_llr.reshape((25,25)),\n",
    "                    norm=matplotlib.colors.Normalize(vmin=cmin, vmax=cmax),\n",
    "                    cmap='viridis_r')\n",
    "cbar = fig.colorbar(pcm, ax=ax, extend='both')\n",
    "\n",
    "plt.scatter(best_fit[0], best_fit[1], s=80., color='black', marker='*')\n",
    "\n",
    "plt.xlabel(r'$\\theta_0$')\n",
    "plt.ylabel(r'$\\theta_1$')\n",
    "cbar.set_label(r'$\\mathbb{E}_x [ -2\\, \\log \\,\\hat{r}(x | \\theta, \\theta_{SM}) ]$')\n",
    "\n",
    "plt.tight_layout()\n",
    "plt.show()\n"
   ]
  },
  {
   "cell_type": "markdown",
   "metadata": {},
   "source": [
    "Note that in this tutorial our sample size was very small, and the network might not really have a chance to converge to the correct likelihood ratio function. So don't worry if you find a minimum that is not at the right point (the SM, i.e. the origin in this plot). Feel free to dial up the event numbers in the run card as well as the training samples and see what happens then!"
   ]
  },
  {
   "cell_type": "code",
   "execution_count": null,
   "metadata": {},
   "outputs": [],
   "source": [
    "log_r_hat.shape"
   ]
  },
  {
   "cell_type": "code",
   "execution_count": null,
   "metadata": {},
   "outputs": [],
   "source": [
    "np.load('data/samples/x_train_ratio.npy').shape"
   ]
  },
  {
   "cell_type": "code",
   "execution_count": null,
   "metadata": {},
   "outputs": [],
   "source": [
    "theta = np.load('data/samples/theta0_train_ratio.npy')"
   ]
  },
  {
   "cell_type": "code",
   "execution_count": null,
   "metadata": {},
   "outputs": [],
   "source": [
    "theta.shape"
   ]
  },
  {
   "cell_type": "code",
   "execution_count": null,
   "metadata": {},
   "outputs": [],
   "source": []
  }
 ],
 "metadata": {
  "kernelspec": {
   "display_name": "Python 2",
   "language": "python",
   "name": "python2"
  },
  "language_info": {
   "codemirror_mode": {
    "name": "ipython",
    "version": 3
   },
   "file_extension": ".py",
   "mimetype": "text/x-python",
   "name": "python",
   "nbconvert_exporter": "python",
   "pygments_lexer": "ipython3",
   "version": "3.8.2"
  }
 },
 "nbformat": 4,
 "nbformat_minor": 2
}
