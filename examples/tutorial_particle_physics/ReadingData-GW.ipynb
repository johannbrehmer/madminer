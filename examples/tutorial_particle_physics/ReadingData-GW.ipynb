{
 "cells": [
  {
   "cell_type": "code",
   "execution_count": 1,
   "metadata": {},
   "outputs": [
    {
     "name": "stdout",
     "output_type": "stream",
     "text": [
      "Requirement already satisfied: tabulate in /usr/local/lib/python3.8/dist-packages (0.8.7)\n",
      "\u001b[33mWARNING: You are using pip version 20.1.1; however, version 20.2.3 is available.\n",
      "You should consider upgrading via the '/usr/bin/python3 -m pip install --upgrade pip' command.\u001b[0m\n"
     ]
    }
   ],
   "source": [
    "! pip install tabulate"
   ]
  },
  {
   "cell_type": "code",
   "execution_count": 16,
   "metadata": {},
   "outputs": [
    {
     "name": "stdout",
     "output_type": "stream",
     "text": [
      "Loading Data Files for Process: W+Z, with new physics Parameters: ['GW[TeV**-2]']\n",
      "\n",
      "Reading file .../madminer/madminer/examples/tutorial_particle_physics/toydata/ChP_pt300_gwm5e-2.h5\n",
      "##### File Info:\n",
      "{Gphi[TeV**-2], GW[TeV**-2]} = {0., -0.05}[TeV**-2] data, Ideal Events. \n",
      "Event format: {{s, θ, θZ, ϕZ, θWrec, ϕWrec, PtZ}, weight}.\n",
      "Converted from /data3/WZ_new_project/dat/Ideal_Events/ChP_pt300_gwm5e-2.dat.gz\n",
      "Charge = 1 --- Process = W+Z\n",
      "#####\n",
      "\n",
      "Reading file .../madminer/madminer/examples/tutorial_particle_physics/toydata/ChP_pt300_gwm1e-1.h5\n",
      "##### File Info:\n",
      "{Gphi[TeV**-2], GW[TeV**-2]} = {0., -0.1}[TeV**-2] data, Ideal Events. \n",
      "Event format: {{s, θ, θZ, ϕZ, θWrec, ϕWrec, PtZ}, weight}.\n",
      "Converted from /data3/WZ_new_project/dat/Ideal_Events/ChP_pt300_gwm1e-1.dat.gz\n",
      "Charge = 1 --- Process = W+Z\n",
      "#####\n",
      "\n",
      "Reading file .../madminer/madminer/examples/tutorial_particle_physics/toydata/ChP_pt300_gwm2e-1.h5\n",
      "##### File Info:\n",
      "{Gphi[TeV**-2], GW[TeV**-2]} = {0., -0.2}[TeV**-2] data, Ideal Events. \n",
      "Event format: {{s, θ, θZ, ϕZ, θWrec, ϕWrec, PtZ}, weight}.\n",
      "Converted from /data3/WZ_new_project/dat/Ideal_Events/ChP_pt300_gwm2e-1.dat.gz\n",
      "Charge = 1 --- Process = W+Z\n",
      "#####\n",
      "\n",
      "Reading file .../madminer/madminer/examples/tutorial_particle_physics/toydata/ChP_pt300_gw5e-2.h5\n",
      "##### File Info:\n",
      "{Gphi[TeV**-2], GW[TeV**-2]} = {0., 0.05}[TeV**-2] data, Ideal Events. \n",
      "Event format: {{s, θ, θZ, ϕZ, θWrec, ϕWrec, PtZ}, weight}.\n",
      "Converted from /data3/WZ_new_project/dat/Ideal_Events/ChP_pt300_gw5e-2.dat.gz\n",
      "Charge = 1 --- Process = W+Z\n",
      "#####\n",
      "\n",
      "Reading file .../madminer/madminer/examples/tutorial_particle_physics/toydata/ChP_pt300_gw1e-1.h5\n",
      "##### File Info:\n",
      "{Gphi[TeV**-2], GW[TeV**-2]} = {0., 0.1}[TeV**-2] data, Ideal Events. \n",
      "Event format: {{s, θ, θZ, ϕZ, θWrec, ϕWrec, PtZ}, weight}.\n",
      "Converted from /data3/WZ_new_project/dat/Ideal_Events/ChP_pt300_gw1e-1.dat.gz\n",
      "Charge = 1 --- Process = W+Z\n",
      "#####\n",
      "\n",
      "Reading file .../madminer/madminer/examples/tutorial_particle_physics/toydata/ChP_pt300_gw2e-1.h5\n",
      "##### File Info:\n",
      "{Gphi[TeV**-2], GW[TeV**-2]} = {0., 0.2}[TeV**-2] data, Ideal Events. \n",
      "Event format: {{s, θ, θZ, ϕZ, θWrec, ϕWrec, PtZ}, weight}.\n",
      "Converted from /data3/WZ_new_project/dat/Ideal_Events/ChP_pt300_gw2e-1.dat.gz\n",
      "Charge = 1 --- Process = W+Z\n",
      "#####\n",
      "\n",
      "Reading file .../madminer/madminer/examples/tutorial_particle_physics/toydata/ChPsm.h5\n",
      "##### File Info:\n",
      "SMIdeal = 0.[TeV**-2] data, Ideal Events. \n",
      "Event format: {{s, θ, θZ, ϕZ, θWrec, ϕWrec, PtZ}, weight}. Converted from /data3/ConvertMGevents/Ideal_Events/ChP300sm.dat\n",
      " File with charge = 1\n",
      "#####\n",
      "\n",
      "Loaded SM Files:\n",
      "  ['GW[TeV**-2]']    #Data    XS[pb](avg.w)\n",
      "-----------------  -------  ---------------\n",
      "                0  3000000         0.741835\n",
      "\n",
      "Loaded BSM Files:\n",
      "['GW[TeV**-2]']                                      #Data    XS[pb](avg.w)\n",
      "-------------------------------------------------  -------  ---------------\n",
      "tensor([[ 0.0000, -0.0500]], dtype=torch.float64)   500000         0.814992\n",
      "tensor([[ 0.0000, -0.1000]], dtype=torch.float64)   500000         1.03408\n",
      "tensor([[ 0.0000, -0.2000]], dtype=torch.float64)   500000         1.91084\n",
      "tensor([[0.0000, 0.0500]], dtype=torch.float64)     500000         0.815234\n",
      "tensor([[0.0000, 0.1000]], dtype=torch.float64)     500000         1.03439\n",
      "tensor([[0.0000, 0.2000]], dtype=torch.float64)     500000         1.91103\n",
      "\n",
      "Paired BSM/SM Datasets:\n",
      "\n",
      "['GW[TeV**-2]']                                      #Ev.BSM    #Ev.SM    Check\n",
      "-------------------------------------------------  ---------  --------  -------\n",
      "tensor([[ 0.0000, -0.0500]], dtype=torch.float64)     500000    500000   500000\n",
      "tensor([[ 0.0000, -0.1000]], dtype=torch.float64)     500000    500000   500000\n",
      "tensor([[ 0.0000, -0.2000]], dtype=torch.float64)     500000    500000   500000\n",
      "tensor([[0.0000, 0.0500]], dtype=torch.float64)       500000    500000   500000\n",
      "tensor([[0.0000, 0.1000]], dtype=torch.float64)       500000    500000   500000\n",
      "tensor([[0.0000, 0.2000]], dtype=torch.float64)       500000    500000   500000\n",
      "####\n",
      "Anlges at position [3, 5] have been converted to Sin and Cos and put at the last columns of the Data.\n",
      "####\n",
      "####\n",
      "Anlges at position [3, 5] have been converted to Sin and Cos and put at the last columns of the Data.\n",
      "####\n"
     ]
    }
   ],
   "source": [
    "from OurTrainingTools2D import *\n",
    "\n",
    "random_seed = torch.randint(0, 1339, (1,)).item()\n",
    "torch.manual_seed(random_seed)\n",
    "data_path = os.getcwd() + '/toydata'\n",
    "\n",
    "td = OurTrainingData([data_path+'/ChPsm.h5'],\n",
    "                     [data_path+'/ChP_pt300_gwm5e-2.h5',\n",
    "                     data_path+'/ChP_pt300_gwm1e-1.h5',\n",
    "                     data_path+'/ChP_pt300_gwm2e-1.h5',\n",
    "                     data_path+'/ChP_pt300_gw5e-2.h5',\n",
    "                     data_path+'/ChP_pt300_gw1e-1.h5',\n",
    "                     data_path+'/ChP_pt300_gw2e-1.h5',],\n",
    "                     process = 'W+Z', parameters =['GW[TeV**-2]'], \n",
    "                     SMNLimits=int(3e6), BSMNLimits=int(5e5))\n",
    "\n",
    "td.Data = td.Data[:, :7]\n",
    "td.CurateAngles([3, 5])\n",
    "\n",
    "Data, ParVal, Labels, Weights = td.Data, td.ParVal, td.Labels, td.Weights\n",
    "Data, ParVal, Labels, Weights = Data.float(), ParVal.float(), Labels.float(), Weights.float()\n",
    "\n",
    "\n",
    "td.Data = td.Data[:, :7]\n",
    "td.CurateAngles([3, 5])\n",
    "\n",
    "Data, ParVal, Labels, Weights = td.Data, td.ParVal, td.Labels, td.Weights\n",
    "Data, ParVal, Labels, Weights = Data.float(), ParVal.float(), Labels.float(), Weights.float()\n"
   ]
  },
  {
   "cell_type": "code",
   "execution_count": 7,
   "metadata": {},
   "outputs": [],
   "source": [
    "NSM = td.SMWeights.mean()*3000\n",
    "NBSMList = [td.BSMWeightsList[i].mean()*3000 for i in range(len(td.BSMWeightsList))]"
   ]
  },
  {
   "cell_type": "code",
   "execution_count": 8,
   "metadata": {},
   "outputs": [
    {
     "data": {
      "text/plain": [
       "array(['SM'], dtype=object)"
      ]
     },
     "execution_count": 8,
     "metadata": {},
     "output_type": "execute_result"
    }
   ],
   "source": [
    "td.SMDataFiles[0].Parameters"
   ]
  },
  {
   "cell_type": "code",
   "execution_count": 9,
   "metadata": {},
   "outputs": [],
   "source": [
    "h = h5py.File(data_path + '/gphi_toydata_gw.h5', 'w')"
   ]
  },
  {
   "cell_type": "code",
   "execution_count": 10,
   "metadata": {},
   "outputs": [
    {
     "data": {
      "text/plain": [
       "<HDF5 dataset \"NBSMList\": shape (6,), type \"<f8\">"
      ]
     },
     "execution_count": 10,
     "metadata": {},
     "output_type": "execute_result"
    }
   ],
   "source": [
    "h.create_dataset('Data', data=Data)\n",
    "h.create_dataset('Weights', data=Weights)\n",
    "h.create_dataset('Labels', data=Labels)\n",
    "h.create_dataset('NSM', data = NSM)\n",
    "h.create_dataset('NBSMList', data=NBSMList)"
   ]
  },
  {
   "cell_type": "code",
   "execution_count": 11,
   "metadata": {},
   "outputs": [],
   "source": [
    "h.close()"
   ]
  },
  {
   "cell_type": "markdown",
   "metadata": {},
   "source": [
    "# In Sample Test Data"
   ]
  },
  {
   "cell_type": "markdown",
   "metadata": {},
   "source": [
    "# Out Sample Test Data"
   ]
  },
  {
   "cell_type": "markdown",
   "metadata": {},
   "source": [
    "# New 2D format Data"
   ]
  },
  {
   "cell_type": "code",
   "execution_count": 13,
   "metadata": {
    "scrolled": true
   },
   "outputs": [
    {
     "name": "stdout",
     "output_type": "stream",
     "text": [
      "Loading Data Files for Process: W+Z, with new physics Parameters: ['GW[TeV**-2]']\n",
      "\n",
      "Reading file .../madminer/madminer/examples/tutorial_particle_physics/toydata/ChP_pt300_gw1e-2.h5\n",
      "##### File Info:\n",
      "{Gphi[TeV**-2], GW[TeV**-2]} = {0., 0.01}[TeV**-2] data, Ideal Events. \n",
      "Event format: {{s, θ, θZ, ϕZ, θWrec, ϕWrec, PtZ}, weight}.\n",
      "Converted from /data3/WZ_new_project/dat/Ideal_Events/ChP_pt300_gw1e-2.dat.gz\n",
      "Charge = 1 --- Process = W+Z\n",
      "#####\n",
      "\n",
      "Reading file .../madminer/madminer/examples/tutorial_particle_physics/toydata/ChPsmNP.h5\n",
      "##### File Info:\n",
      "SMIdeal = 0.[TeV**-2] data, Ideal Events. \n",
      "Event format: {{s, θ, θZ, ϕZ, θWrec, ϕWrec, PtZ}, weight}. Converted from /data3/ConvertMGevents/Ideal_Events/ChP300smNP.dat\n",
      " File with charge = 1\n",
      "#####\n",
      "\n",
      "Loaded SM Files:\n",
      "  ['GW[TeV**-2]']    #Data    XS[pb](avg.w)\n",
      "-----------------  -------  ---------------\n",
      "                0  3000000         0.741835\n",
      "\n",
      "Loaded BSM Files:\n",
      "['GW[TeV**-2]']                                    #Data    XS[pb](avg.w)\n",
      "-----------------------------------------------  -------  ---------------\n",
      "tensor([[0.0000, 0.0100]], dtype=torch.float64)   500000           186007\n",
      "\n",
      "Paired BSM/SM Datasets:\n",
      "\n",
      "['GW[TeV**-2]']                                    #Ev.BSM    #Ev.SM    Check\n",
      "-----------------------------------------------  ---------  --------  -------\n",
      "tensor([[0.0000, 0.0100]], dtype=torch.float64)     500000    500000   500000\n",
      "####\n",
      "Anlges at position [3, 5] have been converted to Sin and Cos and put at the last columns of the Data.\n",
      "####\n",
      "####\n",
      "Anlges at position [3, 5] have been converted to Sin and Cos and put at the last columns of the Data.\n",
      "####\n"
     ]
    }
   ],
   "source": [
    "td = OurTrainingData([os.getcwd()+'/toydata/ChPsmNP.h5'],\n",
    "                     [os.getcwd()+'/toydata/ChP_pt300_gw1e-2.h5',],\n",
    "                     #os.getcwd()+'/ChPgphim45e-1NP.h5',],\n",
    "                     process = 'W+Z', parameters =['GW[TeV**-2]'], \n",
    "                     SMNLimits=int(5e5), BSMNLimits=int(5e5))\n",
    "\n",
    "td.Data = td.Data[:, :7]\n",
    "td.CurateAngles([3, 5])\n",
    "\n",
    "Data, ParVal, Labels, Weights = td.Data, td.ParVal, td.Labels, td.Weights\n",
    "Data, ParVal, Labels, Weights = Data.float(), ParVal.float(), Labels.float(), Weights.float()\n",
    "\n",
    "\n",
    "td.Data = td.Data[:, :7]\n",
    "td.CurateAngles([3, 5])\n",
    "\n",
    "Data, ParVal, Labels, Weights = td.Data, td.ParVal, td.Labels, td.Weights\n",
    "Data, ParVal, Labels, Weights = Data.float(), ParVal.float(), Labels.float(), Weights.float()\n",
    "\n",
    "\n",
    "NSM = td.SMWeights.mean()*3000\n",
    "NBSMList = [td.BSMWeightsList[i].mean()*3000 for i in range(len(td.BSMWeightsList))]\n",
    "\n",
    "h = h5py.File(os.getcwd()+'/toydata/gw_toydata_test_1_out.h5', 'w')\n",
    "\n",
    "h.create_dataset('Data', data=Data)\n",
    "h.create_dataset('Weights', data=Weights)\n",
    "h.create_dataset('Labels', data=Labels)\n",
    "h.create_dataset('NSM', data = NSM)\n",
    "h.create_dataset('NBSMList', data=NBSMList)\n",
    "\n",
    "h.close()"
   ]
  },
  {
   "cell_type": "code",
   "execution_count": 14,
   "metadata": {
    "scrolled": true
   },
   "outputs": [
    {
     "name": "stdout",
     "output_type": "stream",
     "text": [
      "Loading Data Files for Process: W+Z, with new physics Parameters: ['GW[TeV**-2]']\n",
      "\n",
      "Reading file .../madminer/madminer/examples/tutorial_particle_physics/toydata/ChP_pt300_gw8e-3.h5\n",
      "##### File Info:\n",
      "{Gphi[TeV**-2], GW[TeV**-2]} = {0., 0.008}[TeV**-2] data, Ideal Events. \n",
      "Event format: {{s, θ, θZ, ϕZ, θWrec, ϕWrec, PtZ}, weight}.\n",
      "Converted from /data3/WZ_new_project/dat/Ideal_Events/ChP_pt300_gw8e-3.dat.gz\n",
      "Charge = 1 --- Process = W+Z\n",
      "#####\n",
      "\n",
      "Reading file .../madminer/madminer/examples/tutorial_particle_physics/toydata/ChPsmNP.h5\n",
      "##### File Info:\n",
      "SMIdeal = 0.[TeV**-2] data, Ideal Events. \n",
      "Event format: {{s, θ, θZ, ϕZ, θWrec, ϕWrec, PtZ}, weight}. Converted from /data3/ConvertMGevents/Ideal_Events/ChP300smNP.dat\n",
      " File with charge = 1\n",
      "#####\n",
      "\n",
      "Loaded SM Files:\n",
      "  ['GW[TeV**-2]']    #Data    XS[pb](avg.w)\n",
      "-----------------  -------  ---------------\n",
      "                0  3000000         0.741835\n",
      "\n",
      "Loaded BSM Files:\n",
      "['GW[TeV**-2]']                                    #Data    XS[pb](avg.w)\n",
      "-----------------------------------------------  -------  ---------------\n",
      "tensor([[0.0000, 0.0080]], dtype=torch.float64)   500000         0.743823\n",
      "\n",
      "Paired BSM/SM Datasets:\n",
      "\n",
      "['GW[TeV**-2]']                                    #Ev.BSM    #Ev.SM    Check\n",
      "-----------------------------------------------  ---------  --------  -------\n",
      "tensor([[0.0000, 0.0080]], dtype=torch.float64)     500000    500000   500000\n",
      "####\n",
      "Anlges at position [3, 5] have been converted to Sin and Cos and put at the last columns of the Data.\n",
      "####\n",
      "####\n",
      "Anlges at position [3, 5] have been converted to Sin and Cos and put at the last columns of the Data.\n",
      "####\n"
     ]
    }
   ],
   "source": [
    "td = OurTrainingData([os.getcwd()+'/toydata/ChPsmNP.h5'],\n",
    "                     [os.getcwd()+'/toydata/ChP_pt300_gw8e-3.h5',],\n",
    "                     #os.getcwd()+'/ChPgphim45e-1NP.h5',],\n",
    "                     process = 'W+Z', parameters =['GW[TeV**-2]'], \n",
    "                     SMNLimits=int(5e5), BSMNLimits=int(5e5))\n",
    "\n",
    "td.Data = td.Data[:, :7]\n",
    "td.CurateAngles([3, 5])\n",
    "\n",
    "Data, ParVal, Labels, Weights = td.Data, td.ParVal, td.Labels, td.Weights\n",
    "Data, ParVal, Labels, Weights = Data.float(), ParVal.float(), Labels.float(), Weights.float()\n",
    "\n",
    "\n",
    "td.Data = td.Data[:, :7]\n",
    "td.CurateAngles([3, 5])\n",
    "\n",
    "Data, ParVal, Labels, Weights = td.Data, td.ParVal, td.Labels, td.Weights\n",
    "Data, ParVal, Labels, Weights = Data.float(), ParVal.float(), Labels.float(), Weights.float()\n",
    "\n",
    "\n",
    "NSM = td.SMWeights.mean()*3000\n",
    "NBSMList = [td.BSMWeightsList[i].mean()*3000 for i in range(len(td.BSMWeightsList))]\n",
    "\n",
    "h = h5py.File(os.getcwd()+'/toydata/gw_toydata_test_8e-1_out.h5', 'w')\n",
    "\n",
    "h.create_dataset('Data', data=Data)\n",
    "h.create_dataset('Weights', data=Weights)\n",
    "h.create_dataset('Labels', data=Labels)\n",
    "h.create_dataset('NSM', data = NSM)\n",
    "h.create_dataset('NBSMList', data=NBSMList)\n",
    "\n",
    "h.close()"
   ]
  },
  {
   "cell_type": "code",
   "execution_count": 15,
   "metadata": {
    "scrolled": true
   },
   "outputs": [
    {
     "name": "stdout",
     "output_type": "stream",
     "text": [
      "Loading Data Files for Process: W+Z, with new physics Parameters: ['GW[TeV**-2]']\n",
      "\n",
      "Reading file .../madminer/madminer/examples/tutorial_particle_physics/toydata/ChP_pt300_gw7e-3.h5\n",
      "##### File Info:\n",
      "{Gphi[TeV**-2], GW[TeV**-2]} = {0., 0.007}[TeV**-2] data, Ideal Events. \n",
      "Event format: {{s, θ, θZ, ϕZ, θWrec, ϕWrec, PtZ}, weight}.\n",
      "Converted from /data3/WZ_new_project/dat/Ideal_Events/ChP_pt300_gw7e-3.dat.gz\n",
      "Charge = 1 --- Process = W+Z\n",
      "#####\n",
      "\n",
      "Reading file .../madminer/madminer/examples/tutorial_particle_physics/toydata/ChPsmNP.h5\n",
      "##### File Info:\n",
      "SMIdeal = 0.[TeV**-2] data, Ideal Events. \n",
      "Event format: {{s, θ, θZ, ϕZ, θWrec, ϕWrec, PtZ}, weight}. Converted from /data3/ConvertMGevents/Ideal_Events/ChP300smNP.dat\n",
      " File with charge = 1\n",
      "#####\n",
      "\n",
      "Loaded SM Files:\n",
      "  ['GW[TeV**-2]']    #Data    XS[pb](avg.w)\n",
      "-----------------  -------  ---------------\n",
      "                0  3000000         0.741835\n",
      "\n",
      "Loaded BSM Files:\n",
      "['GW[TeV**-2]']                                    #Data    XS[pb](avg.w)\n",
      "-----------------------------------------------  -------  ---------------\n",
      "tensor([[0.0000, 0.0070]], dtype=torch.float64)   500000          0.74348\n",
      "\n",
      "Paired BSM/SM Datasets:\n",
      "\n",
      "['GW[TeV**-2]']                                    #Ev.BSM    #Ev.SM    Check\n",
      "-----------------------------------------------  ---------  --------  -------\n",
      "tensor([[0.0000, 0.0070]], dtype=torch.float64)     500000    500000   500000\n",
      "####\n",
      "Anlges at position [3, 5] have been converted to Sin and Cos and put at the last columns of the Data.\n",
      "####\n",
      "####\n",
      "Anlges at position [3, 5] have been converted to Sin and Cos and put at the last columns of the Data.\n",
      "####\n"
     ]
    }
   ],
   "source": [
    "td = OurTrainingData([os.getcwd()+'/toydata/ChPsmNP.h5'],\n",
    "                     [os.getcwd()+'/toydata/ChP_pt300_gw7e-3.h5',],\n",
    "                     #os.getcwd()+'/ChPgphim45e-1NP.h5',],\n",
    "                     process = 'W+Z', parameters =['GW[TeV**-2]'], \n",
    "                     SMNLimits=int(5e5), BSMNLimits=int(5e5))\n",
    "\n",
    "td.Data = td.Data[:, :7]\n",
    "td.CurateAngles([3, 5])\n",
    "\n",
    "Data, ParVal, Labels, Weights = td.Data, td.ParVal, td.Labels, td.Weights\n",
    "Data, ParVal, Labels, Weights = Data.float(), ParVal.float(), Labels.float(), Weights.float()\n",
    "\n",
    "\n",
    "td.Data = td.Data[:, :7]\n",
    "td.CurateAngles([3, 5])\n",
    "\n",
    "Data, ParVal, Labels, Weights = td.Data, td.ParVal, td.Labels, td.Weights\n",
    "Data, ParVal, Labels, Weights = Data.float(), ParVal.float(), Labels.float(), Weights.float()\n",
    "\n",
    "\n",
    "NSM = td.SMWeights.mean()*3000\n",
    "NBSMList = [td.BSMWeightsList[i].mean()*3000 for i in range(len(td.BSMWeightsList))]\n",
    "\n",
    "h = h5py.File(os.getcwd()+'/toydata/gw_toydata_test_7e-1_out.h5', 'w')\n",
    "\n",
    "h.create_dataset('Data', data=Data)\n",
    "h.create_dataset('Weights', data=Weights)\n",
    "h.create_dataset('Labels', data=Labels)\n",
    "h.create_dataset('NSM', data = NSM)\n",
    "h.create_dataset('NBSMList', data=NBSMList)\n",
    "\n",
    "h.close()"
   ]
  },
  {
   "cell_type": "code",
   "execution_count": null,
   "metadata": {},
   "outputs": [],
   "source": []
  },
  {
   "cell_type": "code",
   "execution_count": null,
   "metadata": {},
   "outputs": [],
   "source": []
  }
 ],
 "metadata": {
  "kernelspec": {
   "display_name": "Python 2",
   "language": "python",
   "name": "python2"
  },
  "language_info": {
   "codemirror_mode": {
    "name": "ipython",
    "version": 3
   },
   "file_extension": ".py",
   "mimetype": "text/x-python",
   "name": "python",
   "nbconvert_exporter": "python",
   "pygments_lexer": "ipython3",
   "version": "3.8.2"
  }
 },
 "nbformat": 4,
 "nbformat_minor": 4
}
