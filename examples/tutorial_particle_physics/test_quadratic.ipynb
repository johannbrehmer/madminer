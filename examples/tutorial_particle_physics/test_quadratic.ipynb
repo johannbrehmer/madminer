{
 "cells": [
  {
   "cell_type": "markdown",
   "metadata": {},
   "source": [
    "# Testing the quadratic classifier"
   ]
  },
  {
   "cell_type": "markdown",
   "metadata": {},
   "source": [
    "## Setup"
   ]
  },
  {
   "cell_type": "markdown",
   "metadata": {},
   "source": [
    "Note: need to use the `quadratic-classifier` branch of MadMiner: https://github.com/diana-hep/madminer/tree/quadratic-classifier"
   ]
  },
  {
   "cell_type": "code",
   "execution_count": 1,
   "metadata": {},
   "outputs": [],
   "source": [
    "from __future__ import absolute_import, division, print_function, unicode_literals\n",
    "\n",
    "%matplotlib inline\n",
    "\n",
    "import os\n",
    "import h5py\n",
    "import logging\n",
    "import numpy as np\n",
    "import matplotlib\n",
    "from matplotlib import pyplot as plt\n",
    "import torch\n",
    "import time\n",
    "\n",
    "from madminer.analysis import DataAnalyzer\n",
    "from madminer.sampling import SampleAugmenter, combine_and_shuffle\n",
    "from madminer import sampling\n",
    "#from madminer.ml import ParameterizedRatioEstimator, MorphingAwareRatioEstimator, QuadraticMorphingAwareRatioEstimator \n",
    "#from madminer.plotting import plot_distributions, plot_1d_morphing_basis\n"
   ]
  },
  {
   "cell_type": "code",
   "execution_count": 2,
   "metadata": {},
   "outputs": [],
   "source": [
    "# MadMiner output\n",
    "logging.basicConfig(\n",
    "    format='%(asctime)-5.5s %(name)-20.20s %(levelname)-7.7s %(message)s',\n",
    "    datefmt='%H:%M',\n",
    "    level=logging.INFO\n",
    ")\n",
    "\n",
    "# Output of all other modules (e.g. matplotlib)\n",
    "for key in logging.Logger.manager.loggerDict:\n",
    "    if \"madminer\" not in key:\n",
    "        logging.getLogger(key).setLevel(logging.WARNING)"
   ]
  },
  {
   "cell_type": "markdown",
   "metadata": {},
   "source": [
    "## Shuffle dataset just in case"
   ]
  },
  {
   "cell_type": "markdown",
   "metadata": {},
   "source": [
    "Note that `toy_data_for_madminer.h5` is the file that was called `lhe_data_shuffled.h5` originally."
   ]
  },
  {
   "cell_type": "code",
   "execution_count": 3,
   "metadata": {},
   "outputs": [],
   "source": [
    "# combine_and_shuffle([\"data/toy_data_for_madminer.h5\"], \"data/toy_data_for_madminer.h5\")"
   ]
  },
  {
   "cell_type": "markdown",
   "metadata": {},
   "source": [
    "## Let's have a look at the dataset"
   ]
  },
  {
   "cell_type": "code",
   "execution_count": 4,
   "metadata": {},
   "outputs": [
    {
     "name": "stderr",
     "output_type": "stream",
     "text": [
      "16:06 madminer.analysis.da INFO    Loading data from data/toy_data_for_madminer.h5\n",
      "16:06 madminer.analysis.da INFO    Found 1 parameters\n",
      "16:06 madminer.analysis.da INFO    Did not find nuisance parameters\n",
      "16:06 madminer.analysis.da INFO    Found 10 benchmarks, of which 10 physical\n",
      "16:06 madminer.analysis.da INFO    Found 9 observables\n",
      "16:06 madminer.analysis.da INFO    Found 6000000 events\n",
      "16:06 madminer.analysis.da INFO      3000000 signal events sampled from benchmark sm\n",
      "16:06 madminer.analysis.da INFO      500000 signal events sampled from benchmark 50\n",
      "16:06 madminer.analysis.da INFO      500000 signal events sampled from benchmark 200\n",
      "16:06 madminer.analysis.da INFO      500000 signal events sampled from benchmark 500\n",
      "16:06 madminer.analysis.da INFO      500000 signal events sampled from benchmark neg_50\n",
      "16:06 madminer.analysis.da INFO      500000 signal events sampled from benchmark neg_200\n",
      "16:06 madminer.analysis.da INFO      500000 signal events sampled from benchmark neg_500\n",
      "16:06 madminer.analysis.da INFO    Found morphing setup with 3 components\n",
      "16:06 madminer.analysis.da INFO    Did not find nuisance morphing setup\n"
     ]
    },
    {
     "data": {
      "image/png": "[encoded data removed]",
      "text/plain": [
       "<Figure size 360x360 with 1 Axes>"
      ]
     },
     "metadata": {
      "needs_background": "light"
     },
     "output_type": "display_data"
    }
   ],
   "source": [
    "analyzer = DataAnalyzer(\"data/toy_data_for_madminer.h5\")\n",
    "_ = plot_1d_morphing_basis(analyzer.morpher, xrange=(-25, 25))"
   ]
  },
  {
   "cell_type": "code",
   "execution_count": 5,
   "metadata": {},
   "outputs": [],
   "source": [
    "# _ = plot_distributions(\"data/toy_data_for_madminer.h5\", uncertainties=\"none\")"
   ]
  },
  {
   "cell_type": "markdown",
   "metadata": {},
   "source": [
    "## Prepare training data"
   ]
  },
  {
   "cell_type": "code",
   "execution_count": 6,
   "metadata": {},
   "outputs": [
    {
     "name": "stderr",
     "output_type": "stream",
     "text": [
      "16:06 madminer.analysis.da INFO    Loading data from data/toy_data_for_madminer.h5\n",
      "16:06 madminer.analysis.da INFO    Found 1 parameters\n",
      "16:06 madminer.analysis.da INFO    Did not find nuisance parameters\n",
      "16:06 madminer.analysis.da INFO    Found 10 benchmarks, of which 10 physical\n",
      "16:06 madminer.analysis.da INFO    Found 9 observables\n",
      "16:06 madminer.analysis.da INFO    Found 6000000 events\n",
      "16:06 madminer.analysis.da INFO      3000000 signal events sampled from benchmark sm\n",
      "16:06 madminer.analysis.da INFO      500000 signal events sampled from benchmark 50\n",
      "16:06 madminer.analysis.da INFO      500000 signal events sampled from benchmark 200\n",
      "16:06 madminer.analysis.da INFO      500000 signal events sampled from benchmark 500\n",
      "16:06 madminer.analysis.da INFO      500000 signal events sampled from benchmark neg_50\n",
      "16:06 madminer.analysis.da INFO      500000 signal events sampled from benchmark neg_200\n",
      "16:06 madminer.analysis.da INFO      500000 signal events sampled from benchmark neg_500\n",
      "16:06 madminer.analysis.da INFO    Found morphing setup with 3 components\n",
      "16:06 madminer.analysis.da INFO    Did not find nuisance morphing setup\n"
     ]
    }
   ],
   "source": [
    "sampler = SampleAugmenter('data/toy_data_for_madminer.h5')"
   ]
  },
  {
   "cell_type": "code",
   "execution_count": 7,
   "metadata": {},
   "outputs": [
    {
     "name": "stderr",
     "output_type": "stream",
     "text": [
      "16:06 madminer.sampling.sa INFO    Extracting training sample for ratio-based methods. Numerator hypothesis: 10 benchmarks, starting with ['morphing_basis_vector_0', 'morphing_basis_vector_1', 'morphing_basis_vector_2'], denominator hypothesis: sm\n",
      "16:06 madminer.sampling.sa INFO    Starting sampling serially\n",
      "16:06 madminer.sampling.sa INFO    Sampling from parameter point 1 / 10\n",
      "16:06 madminer.sampling.sa INFO    Sampling from parameter point 2 / 10\n",
      "16:06 madminer.sampling.sa INFO    Sampling from parameter point 3 / 10\n",
      "16:06 madminer.sampling.sa INFO    Sampling from parameter point 4 / 10\n",
      "16:06 madminer.sampling.sa INFO    Sampling from parameter point 5 / 10\n",
      "16:06 madminer.sampling.sa INFO    Sampling from parameter point 6 / 10\n",
      "16:06 madminer.sampling.sa INFO    Sampling from parameter point 7 / 10\n",
      "16:06 madminer.sampling.sa INFO    Sampling from parameter point 8 / 10\n",
      "16:06 madminer.sampling.sa INFO    Sampling from parameter point 9 / 10\n",
      "16:06 madminer.sampling.sa INFO    Sampling from parameter point 10 / 10\n",
      "16:06 madminer.sampling.sa INFO    Effective number of samples: mean 555043.8, with individual thetas ranging from 369533.0 to 2220083.0\n",
      "16:06 madminer.sampling.sa INFO    Starting sampling serially\n",
      "16:06 madminer.sampling.sa INFO    Sampling from parameter point 1 / 10\n",
      "16:06 madminer.sampling.sa INFO    Sampling from parameter point 2 / 10\n",
      "16:06 madminer.sampling.sa INFO    Sampling from parameter point 3 / 10\n",
      "16:06 madminer.sampling.sa INFO    Sampling from parameter point 4 / 10\n",
      "16:06 madminer.sampling.sa INFO    Sampling from parameter point 5 / 10\n",
      "16:06 madminer.sampling.sa INFO    Sampling from parameter point 6 / 10\n",
      "16:06 madminer.sampling.sa INFO    Sampling from parameter point 7 / 10\n",
      "16:06 madminer.sampling.sa INFO    Sampling from parameter point 8 / 10\n",
      "16:06 madminer.sampling.sa INFO    Sampling from parameter point 9 / 10\n",
      "16:06 madminer.sampling.sa INFO    Sampling from parameter point 10 / 10\n",
      "16:06 madminer.sampling.sa INFO    Effective number of samples: mean 2220083.0, with individual thetas ranging from 2220083.0 to 2220083.0\n"
     ]
    }
   ],
   "source": [
    "x, theta, _, y, _, _, _ = sampler.sample_train_ratio(\n",
    "    theta0=sampling.benchmarks(list(sampler.benchmarks.keys())),\n",
    "    theta1=sampling.benchmark(\"sm\"),\n",
    "    test_split=0.01,\n",
    "    validation_split=0.25,\n",
    "    n_samples=1000000,\n",
    ")"
   ]
  },
  {
   "cell_type": "code",
   "execution_count": 47,
   "metadata": {},
   "outputs": [
    {
     "name": "stderr",
     "output_type": "stream",
     "text": [
      "16:25 madminer.sampling.sa INFO    Extracting training sample for ratio-based methods. Numerator hypothesis: 10 benchmarks, starting with ['morphing_basis_vector_0', 'morphing_basis_vector_1', 'morphing_basis_vector_2'], denominator hypothesis: sm\n",
      "16:25 madminer.sampling.sa INFO    Starting sampling serially\n",
      "16:25 madminer.sampling.sa INFO    Sampling from parameter point 1 / 10\n",
      "16:25 madminer.sampling.sa INFO    Sampling from parameter point 2 / 10\n",
      "16:25 madminer.sampling.sa INFO    Sampling from parameter point 3 / 10\n",
      "16:25 madminer.sampling.sa INFO    Sampling from parameter point 4 / 10\n",
      "16:25 madminer.sampling.sa INFO    Sampling from parameter point 5 / 10\n",
      "16:25 madminer.sampling.sa INFO    Sampling from parameter point 6 / 10\n",
      "16:25 madminer.sampling.sa INFO    Sampling from parameter point 7 / 10\n",
      "16:25 madminer.sampling.sa INFO    Sampling from parameter point 8 / 10\n",
      "16:25 madminer.sampling.sa INFO    Sampling from parameter point 9 / 10\n",
      "16:25 madminer.sampling.sa INFO    Sampling from parameter point 10 / 10\n",
      "16:25 madminer.sampling.sa INFO    Effective number of samples: mean 187451.6, with individual thetas ranging from 124446.99999999999 to 749930.0\n",
      "16:25 madminer.sampling.sa INFO    Starting sampling serially\n",
      "16:25 madminer.sampling.sa INFO    Sampling from parameter point 1 / 10\n",
      "16:25 madminer.sampling.sa INFO    Sampling from parameter point 2 / 10\n",
      "16:25 madminer.sampling.sa INFO    Sampling from parameter point 3 / 10\n",
      "16:25 madminer.sampling.sa INFO    Sampling from parameter point 4 / 10\n",
      "16:25 madminer.sampling.sa INFO    Sampling from parameter point 5 / 10\n",
      "16:25 madminer.sampling.sa INFO    Sampling from parameter point 6 / 10\n",
      "16:25 madminer.sampling.sa INFO    Sampling from parameter point 7 / 10\n",
      "16:25 madminer.sampling.sa INFO    Sampling from parameter point 8 / 10\n",
      "16:25 madminer.sampling.sa INFO    Sampling from parameter point 9 / 10\n",
      "16:25 madminer.sampling.sa INFO    Sampling from parameter point 10 / 10\n",
      "16:25 madminer.sampling.sa INFO    Effective number of samples: mean 749930.0, with individual thetas ranging from 749930.0 to 749930.0\n"
     ]
    }
   ],
   "source": [
    "x_val, theta_val, _, y_val, _, _, _ = sampler.sample_train_ratio(\n",
    "    theta0=sampling.benchmarks(list(sampler.benchmarks.keys())),\n",
    "    theta1=sampling.benchmark(\"sm\"),\n",
    "    test_split=0.0,\n",
    "    validation_split=0.25,\n",
    "    n_samples=100000,\n",
    "    partition=\"validation\"\n",
    ")"
   ]
  },
  {
   "cell_type": "markdown",
   "metadata": {},
   "source": [
    "## Training"
   ]
  },
  {
   "cell_type": "code",
   "execution_count": 49,
   "metadata": {},
   "outputs": [],
   "source": [
    "model_kwargs = {\"n_hidden\": (100, 100)}\n",
    "train_kwargs = {\n",
    "    \"method\": \"carl\",\n",
    "    \"x\": x, \"y\": y, \"theta\": theta,\n",
    "    \"x_val\":x_val, \"y_val\": y_val, \"theta_val\": theta_val,\n",
    "    \"optimizer\": \"adam\", \"batch_size\": 200\n",
    "}"
   ]
  },
  {
   "cell_type": "markdown",
   "metadata": {},
   "source": [
    "### Train morphing-aware estimator"
   ]
  },
  {
   "cell_type": "code",
   "execution_count": 50,
   "metadata": {},
   "outputs": [
    {
     "name": "stderr",
     "output_type": "stream",
     "text": [
      "16:25 madminer.ml.morphing INFO    Setting up morphing-aware ratio estimator with 3 morphing components\n",
      "16:25 madminer.ml.paramete INFO    Starting training\n",
      "16:25 madminer.ml.paramete INFO      Method:                 carl\n",
      "16:25 madminer.ml.paramete INFO      Batch size:             200\n",
      "16:25 madminer.ml.paramete INFO      Optimizer:              adam\n",
      "16:25 madminer.ml.paramete INFO      Epochs:                 50\n",
      "16:25 madminer.ml.paramete INFO      Learning rate:          0.001 initially, decaying to 0.0001\n",
      "16:25 madminer.ml.paramete INFO      Validation split:       0.25\n",
      "16:25 madminer.ml.paramete INFO      Early stopping:         True\n",
      "16:25 madminer.ml.paramete INFO      Scale inputs:           True\n",
      "16:25 madminer.ml.paramete INFO      Scale parameters:       False\n",
      "16:25 madminer.ml.paramete INFO      Shuffle labels          False\n",
      "16:25 madminer.ml.paramete INFO      Samples:                all\n",
      "16:25 madminer.ml.paramete INFO    Loading training data\n",
      "16:25 madminer.ml.paramete INFO    Found 1000000 samples with 1 parameters and 9 observables\n",
      "16:25 madminer.ml.paramete INFO    Found 100000 separate validation samples\n",
      "16:25 madminer.ml.base     INFO    Setting up input rescaling\n",
      "16:25 madminer.ml.base     INFO    Disabling parameter rescaling\n",
      "16:25 madminer.ml.paramete INFO    Creating model\n",
      "16:25 madminer.ml.paramete INFO    Training model\n",
      "16:25 madminer.utils.ml.tr INFO    Training on CPU with single precision\n",
      "16:27 madminer.utils.ml.tr INFO      Epoch   2: train loss  0.53136 (xe:  0.531)\n",
      "16:27 madminer.utils.ml.tr INFO                 val. loss   0.53147 (xe:  0.531)\n",
      "16:28 madminer.utils.ml.tr INFO      Epoch   4: train loss  0.52491 (xe:  0.525)\n",
      "16:28 madminer.utils.ml.tr INFO                 val. loss   0.52260 (xe:  0.523)\n",
      "16:29 madminer.utils.ml.tr INFO      Epoch   6: train loss  0.52278 (xe:  0.523)\n",
      "16:29 madminer.utils.ml.tr INFO                 val. loss   0.52248 (xe:  0.522)\n",
      "16:30 madminer.utils.ml.tr INFO      Epoch   8: train loss  0.52116 (xe:  0.521)\n",
      "16:30 madminer.utils.ml.tr INFO                 val. loss   0.52161 (xe:  0.522)\n",
      "16:32 madminer.utils.ml.tr INFO      Epoch  10: train loss  0.52026 (xe:  0.520)\n",
      "16:32 madminer.utils.ml.tr INFO                 val. loss   0.52186 (xe:  0.522)\n",
      "16:33 madminer.utils.ml.tr INFO      Epoch  12: train loss  0.51871 (xe:  0.519)\n",
      "16:33 madminer.utils.ml.tr INFO                 val. loss   0.51956 (xe:  0.520)\n",
      "16:34 madminer.utils.ml.tr INFO      Epoch  14: train loss  0.51981 (xe:  0.520)\n",
      "16:34 madminer.utils.ml.tr INFO                 val. loss   0.52091 (xe:  0.521)\n",
      "16:35 madminer.utils.ml.tr INFO      Epoch  16: train loss  0.51766 (xe:  0.518)\n",
      "16:35 madminer.utils.ml.tr INFO                 val. loss   0.53106 (xe:  0.531)\n",
      "16:36 madminer.utils.ml.tr INFO      Epoch  18: train loss  0.51735 (xe:  0.517)\n",
      "16:36 madminer.utils.ml.tr INFO                 val. loss   0.52110 (xe:  0.521)\n",
      "16:37 madminer.utils.ml.tr INFO      Epoch  20: train loss  0.51692 (xe:  0.517)\n",
      "16:37 madminer.utils.ml.tr INFO                 val. loss   0.51923 (xe:  0.519)\n",
      "16:38 madminer.utils.ml.tr INFO      Epoch  22: train loss  0.51637 (xe:  0.516)\n",
      "16:38 madminer.utils.ml.tr INFO                 val. loss   0.51888 (xe:  0.519)\n",
      "16:39 madminer.utils.ml.tr INFO      Epoch  24: train loss  0.51576 (xe:  0.516)\n",
      "16:39 madminer.utils.ml.tr INFO                 val. loss   0.51903 (xe:  0.519)\n",
      "16:40 madminer.utils.ml.tr INFO      Epoch  26: train loss  0.51598 (xe:  0.516)\n",
      "16:40 madminer.utils.ml.tr INFO                 val. loss   0.52001 (xe:  0.520)\n",
      "16:41 madminer.utils.ml.tr INFO      Epoch  28: train loss  0.51503 (xe:  0.515)\n",
      "16:41 madminer.utils.ml.tr INFO                 val. loss   0.51947 (xe:  0.519)\n",
      "16:42 madminer.utils.ml.tr INFO      Epoch  30: train loss  0.51495 (xe:  0.515)\n",
      "16:42 madminer.utils.ml.tr INFO                 val. loss   0.51780 (xe:  0.518)\n",
      "16:44 madminer.utils.ml.tr INFO      Epoch  32: train loss  0.51467 (xe:  0.515)\n",
      "16:44 madminer.utils.ml.tr INFO                 val. loss   0.51824 (xe:  0.518)\n",
      "16:45 madminer.utils.ml.tr INFO      Epoch  34: train loss  0.51430 (xe:  0.514)\n",
      "16:45 madminer.utils.ml.tr INFO                 val. loss   0.51745 (xe:  0.517)\n",
      "16:46 madminer.utils.ml.tr INFO      Epoch  36: train loss  0.51398 (xe:  0.514)\n",
      "16:46 madminer.utils.ml.tr INFO                 val. loss   0.51787 (xe:  0.518)\n",
      "16:47 madminer.utils.ml.tr INFO      Epoch  38: train loss  0.51389 (xe:  0.514)\n",
      "16:47 madminer.utils.ml.tr INFO                 val. loss   0.51779 (xe:  0.518)\n",
      "16:48 madminer.utils.ml.tr INFO      Epoch  40: train loss  0.51367 (xe:  0.514)\n",
      "16:48 madminer.utils.ml.tr INFO                 val. loss   0.51796 (xe:  0.518)\n",
      "16:49 madminer.utils.ml.tr INFO      Epoch  42: train loss  0.51360 (xe:  0.514)\n",
      "16:49 madminer.utils.ml.tr INFO                 val. loss   0.51744 (xe:  0.517)\n",
      "16:50 madminer.utils.ml.tr INFO      Epoch  44: train loss  0.51334 (xe:  0.513)\n",
      "16:50 madminer.utils.ml.tr INFO                 val. loss   0.51714 (xe:  0.517)\n",
      "16:51 madminer.utils.ml.tr INFO      Epoch  46: train loss  0.51314 (xe:  0.513)\n",
      "16:51 madminer.utils.ml.tr INFO                 val. loss   0.51731 (xe:  0.517)\n",
      "16:52 madminer.utils.ml.tr INFO      Epoch  48: train loss  0.51307 (xe:  0.513)\n",
      "16:52 madminer.utils.ml.tr INFO                 val. loss   0.51730 (xe:  0.517)\n",
      "16:53 madminer.utils.ml.tr INFO      Epoch  50: train loss  0.51283 (xe:  0.513)\n",
      "16:53 madminer.utils.ml.tr INFO                 val. loss   0.51727 (xe:  0.517)\n",
      "16:53 madminer.utils.ml.tr INFO    Early stopping after epoch 39, with loss  0.51671 compared to final loss  0.51727\n",
      "16:53 madminer.utils.ml.tr INFO    Training time spend on:\n",
      "16:53 madminer.utils.ml.tr INFO                      initialize model:   0.00h\n",
      "16:53 madminer.utils.ml.tr INFO                                   ALL:   0.46h\n",
      "16:53 madminer.utils.ml.tr INFO                            check data:   0.00h\n",
      "16:53 madminer.utils.ml.tr INFO                          make dataset:   0.00h\n",
      "16:53 madminer.utils.ml.tr INFO                       make dataloader:   0.00h\n",
      "16:53 madminer.utils.ml.tr INFO                       setup optimizer:   0.00h\n",
      "16:53 madminer.utils.ml.tr INFO                   initialize training:   0.00h\n",
      "16:53 madminer.utils.ml.tr INFO                                set lr:   0.00h\n",
      "16:53 madminer.utils.ml.tr INFO                   load training batch:   0.04h\n",
      "16:53 madminer.utils.ml.tr INFO                        fwd: move data:   0.01h\n",
      "16:53 madminer.utils.ml.tr INFO                   fwd: check for nans:   0.02h\n",
      "16:53 madminer.utils.ml.tr INFO                    fwd: model.forward:   0.17h\n",
      "16:53 madminer.utils.ml.tr INFO                 fwd: calculate losses:   0.01h\n",
      "16:53 madminer.utils.ml.tr INFO                 training forward pass:   0.18h\n",
      "16:53 madminer.utils.ml.tr INFO                   training sum losses:   0.01h\n",
      "16:53 madminer.utils.ml.tr INFO                        opt: zero grad:   0.01h\n",
      "16:53 madminer.utils.ml.tr INFO                         opt: backward:   0.13h\n",
      "16:53 madminer.utils.ml.tr INFO                   opt: clip grad norm:   0.00h\n",
      "16:53 madminer.utils.ml.tr INFO                             opt: step:   0.08h\n",
      "16:53 madminer.utils.ml.tr INFO                        optimizer step:   0.21h\n",
      "16:53 madminer.utils.ml.tr INFO                 load validation batch:   0.01h\n",
      "16:53 madminer.utils.ml.tr INFO               validation forward pass:   0.02h\n",
      "16:53 madminer.utils.ml.tr INFO                 validation sum losses:   0.00h\n",
      "16:53 madminer.utils.ml.tr INFO                        early stopping:   0.00h\n",
      "16:53 madminer.utils.ml.tr INFO                          report epoch:   0.00h\n"
     ]
    }
   ],
   "source": [
    "morphing_aware = MorphingAwareRatioEstimator(\n",
    "    **model_kwargs, morphing_setup_filename=\"data/toy_data_for_madminer.h5\", optimize_morphing_basis=False\n",
    ")\n",
    "_ = morphing_aware.train(**train_kwargs)"
   ]
  },
  {
   "cell_type": "markdown",
   "metadata": {},
   "source": [
    "### Train squared estimator"
   ]
  },
  {
   "cell_type": "code",
   "execution_count": 51,
   "metadata": {},
   "outputs": [
    {
     "name": "stderr",
     "output_type": "stream",
     "text": [
      "16:53 madminer.ml.paramete INFO    Starting training\n",
      "16:53 madminer.ml.paramete INFO      Method:                 carl\n",
      "16:53 madminer.ml.paramete INFO      Batch size:             200\n",
      "16:53 madminer.ml.paramete INFO      Optimizer:              adam\n",
      "16:53 madminer.ml.paramete INFO      Epochs:                 50\n",
      "16:53 madminer.ml.paramete INFO      Learning rate:          0.001 initially, decaying to 0.0001\n",
      "16:53 madminer.ml.paramete INFO      Validation split:       0.25\n",
      "16:53 madminer.ml.paramete INFO      Early stopping:         True\n",
      "16:53 madminer.ml.paramete INFO      Scale inputs:           True\n",
      "16:53 madminer.ml.paramete INFO      Scale parameters:       False\n",
      "16:53 madminer.ml.paramete INFO      Shuffle labels          False\n",
      "16:53 madminer.ml.paramete INFO      Samples:                all\n",
      "16:53 madminer.ml.paramete INFO    Loading training data\n",
      "16:53 madminer.ml.paramete INFO    Found 1000000 samples with 1 parameters and 9 observables\n",
      "16:53 madminer.ml.paramete INFO    Found 100000 separate validation samples\n",
      "16:53 madminer.ml.base     INFO    Setting up input rescaling\n",
      "16:53 madminer.ml.base     INFO    Disabling parameter rescaling\n",
      "16:53 madminer.ml.paramete INFO    Creating model\n",
      "16:53 madminer.ml.paramete INFO    Training model\n",
      "16:53 madminer.utils.ml.tr INFO    Training on CPU with single precision\n",
      "16:54 madminer.utils.ml.tr INFO      Epoch   2: train loss  0.52139 (xe:  0.521)\n",
      "16:54 madminer.utils.ml.tr INFO                 val. loss   0.52099 (xe:  0.521)\n",
      "16:55 madminer.utils.ml.tr INFO      Epoch   4: train loss  0.51826 (xe:  0.518)\n",
      "16:55 madminer.utils.ml.tr INFO                 val. loss   0.51897 (xe:  0.519)\n",
      "16:55 madminer.utils.ml.tr INFO      Epoch   6: train loss  0.51713 (xe:  0.517)\n",
      "16:55 madminer.utils.ml.tr INFO                 val. loss   0.51823 (xe:  0.518)\n",
      "16:56 madminer.utils.ml.tr INFO      Epoch   8: train loss  0.51624 (xe:  0.516)\n",
      "16:56 madminer.utils.ml.tr INFO                 val. loss   0.51742 (xe:  0.517)\n",
      "16:57 madminer.utils.ml.tr INFO      Epoch  10: train loss  0.51557 (xe:  0.516)\n",
      "16:57 madminer.utils.ml.tr INFO                 val. loss   0.51780 (xe:  0.518)\n",
      "16:58 madminer.utils.ml.tr INFO      Epoch  12: train loss  0.51508 (xe:  0.515)\n",
      "16:58 madminer.utils.ml.tr INFO                 val. loss   0.51684 (xe:  0.517)\n",
      "16:59 madminer.utils.ml.tr INFO      Epoch  14: train loss  0.51468 (xe:  0.515)\n",
      "16:59 madminer.utils.ml.tr INFO                 val. loss   0.51614 (xe:  0.516)\n",
      "17:00 madminer.utils.ml.tr INFO      Epoch  16: train loss  0.51427 (xe:  0.514)\n",
      "17:00 madminer.utils.ml.tr INFO                 val. loss   0.51653 (xe:  0.517)\n",
      "17:01 madminer.utils.ml.tr INFO      Epoch  18: train loss  0.51394 (xe:  0.514)\n",
      "17:01 madminer.utils.ml.tr INFO                 val. loss   0.51590 (xe:  0.516)\n",
      "17:01 madminer.utils.ml.tr INFO      Epoch  20: train loss  0.51364 (xe:  0.514)\n",
      "17:01 madminer.utils.ml.tr INFO                 val. loss   0.51661 (xe:  0.517)\n",
      "17:02 madminer.utils.ml.tr INFO      Epoch  22: train loss  0.51340 (xe:  0.513)\n",
      "17:02 madminer.utils.ml.tr INFO                 val. loss   0.51665 (xe:  0.517)\n",
      "17:03 madminer.utils.ml.tr INFO      Epoch  24: train loss  0.51325 (xe:  0.513)\n",
      "17:03 madminer.utils.ml.tr INFO                 val. loss   0.51581 (xe:  0.516)\n",
      "17:04 madminer.utils.ml.tr INFO      Epoch  26: train loss  0.51307 (xe:  0.513)\n",
      "17:04 madminer.utils.ml.tr INFO                 val. loss   0.51546 (xe:  0.515)\n",
      "17:05 madminer.utils.ml.tr INFO      Epoch  28: train loss  0.51282 (xe:  0.513)\n",
      "17:05 madminer.utils.ml.tr INFO                 val. loss   0.51587 (xe:  0.516)\n",
      "17:06 madminer.utils.ml.tr INFO      Epoch  30: train loss  0.51277 (xe:  0.513)\n",
      "17:06 madminer.utils.ml.tr INFO                 val. loss   0.51570 (xe:  0.516)\n",
      "17:07 madminer.utils.ml.tr INFO      Epoch  32: train loss  0.51257 (xe:  0.513)\n",
      "17:07 madminer.utils.ml.tr INFO                 val. loss   0.51559 (xe:  0.516)\n",
      "17:07 madminer.utils.ml.tr INFO      Epoch  34: train loss  0.51243 (xe:  0.512)\n",
      "17:07 madminer.utils.ml.tr INFO                 val. loss   0.51619 (xe:  0.516)\n",
      "17:08 madminer.utils.ml.tr INFO      Epoch  36: train loss  0.51232 (xe:  0.512)\n",
      "17:08 madminer.utils.ml.tr INFO                 val. loss   0.51603 (xe:  0.516)\n",
      "17:09 madminer.utils.ml.tr INFO      Epoch  38: train loss  0.51224 (xe:  0.512)\n",
      "17:09 madminer.utils.ml.tr INFO                 val. loss   0.51542 (xe:  0.515)\n",
      "17:10 madminer.utils.ml.tr INFO      Epoch  40: train loss  0.51212 (xe:  0.512)\n",
      "17:10 madminer.utils.ml.tr INFO                 val. loss   0.51568 (xe:  0.516)\n",
      "17:11 madminer.utils.ml.tr INFO      Epoch  42: train loss  0.51201 (xe:  0.512)\n",
      "17:11 madminer.utils.ml.tr INFO                 val. loss   0.51515 (xe:  0.515)\n",
      "17:12 madminer.utils.ml.tr INFO      Epoch  44: train loss  0.51190 (xe:  0.512)\n",
      "17:12 madminer.utils.ml.tr INFO                 val. loss   0.51521 (xe:  0.515)\n",
      "17:13 madminer.utils.ml.tr INFO      Epoch  46: train loss  0.51186 (xe:  0.512)\n",
      "17:13 madminer.utils.ml.tr INFO                 val. loss   0.51569 (xe:  0.516)\n",
      "17:14 madminer.utils.ml.tr INFO      Epoch  48: train loss  0.51178 (xe:  0.512)\n",
      "17:14 madminer.utils.ml.tr INFO                 val. loss   0.51518 (xe:  0.515)\n",
      "17:14 madminer.utils.ml.tr INFO      Epoch  50: train loss  0.51172 (xe:  0.512)\n",
      "17:14 madminer.utils.ml.tr INFO                 val. loss   0.51525 (xe:  0.515)\n",
      "17:14 madminer.utils.ml.tr INFO    Early stopping after epoch 42, with loss  0.51515 compared to final loss  0.51525\n",
      "17:14 madminer.utils.ml.tr INFO    Training time spend on:\n",
      "17:14 madminer.utils.ml.tr INFO                      initialize model:   0.00h\n",
      "17:14 madminer.utils.ml.tr INFO                                   ALL:   0.35h\n",
      "17:14 madminer.utils.ml.tr INFO                            check data:   0.00h\n",
      "17:14 madminer.utils.ml.tr INFO                          make dataset:   0.00h\n",
      "17:14 madminer.utils.ml.tr INFO                       make dataloader:   0.00h\n",
      "17:14 madminer.utils.ml.tr INFO                       setup optimizer:   0.00h\n",
      "17:14 madminer.utils.ml.tr INFO                   initialize training:   0.00h\n",
      "17:14 madminer.utils.ml.tr INFO                                set lr:   0.00h\n",
      "17:14 madminer.utils.ml.tr INFO                   load training batch:   0.04h\n",
      "17:14 madminer.utils.ml.tr INFO                        fwd: move data:   0.01h\n",
      "17:14 madminer.utils.ml.tr INFO                   fwd: check for nans:   0.02h\n",
      "17:14 madminer.utils.ml.tr INFO                    fwd: model.forward:   0.10h\n",
      "17:14 madminer.utils.ml.tr INFO                 fwd: calculate losses:   0.01h\n",
      "17:14 madminer.utils.ml.tr INFO                 training forward pass:   0.13h\n",
      "17:14 madminer.utils.ml.tr INFO                   training sum losses:   0.01h\n",
      "17:14 madminer.utils.ml.tr INFO                        opt: zero grad:   0.00h\n",
      "17:14 madminer.utils.ml.tr INFO                         opt: backward:   0.09h\n",
      "17:14 madminer.utils.ml.tr INFO                   opt: clip grad norm:   0.00h\n",
      "17:14 madminer.utils.ml.tr INFO                             opt: step:   0.06h\n",
      "17:14 madminer.utils.ml.tr INFO                        optimizer step:   0.15h\n",
      "17:14 madminer.utils.ml.tr INFO                 load validation batch:   0.01h\n",
      "17:14 madminer.utils.ml.tr INFO               validation forward pass:   0.02h\n",
      "17:14 madminer.utils.ml.tr INFO                 validation sum losses:   0.00h\n",
      "17:14 madminer.utils.ml.tr INFO                        early stopping:   0.00h\n",
      "17:14 madminer.utils.ml.tr INFO                          report epoch:   0.00h\n"
     ]
    }
   ],
   "source": [
    "quadratic = QuadraticMorphingAwareRatioEstimator(**model_kwargs)\n",
    "_ = quadratic.train(**train_kwargs)"
   ]
  },
  {
   "cell_type": "markdown",
   "metadata": {},
   "source": [
    "### Train agnostic parameterized estimator"
   ]
  },
  {
   "cell_type": "code",
   "execution_count": 52,
   "metadata": {},
   "outputs": [
    {
     "name": "stderr",
     "output_type": "stream",
     "text": [
      "17:14 madminer.ml.paramete INFO    Starting training\n",
      "17:14 madminer.ml.paramete INFO      Method:                 carl\n",
      "17:14 madminer.ml.paramete INFO      Batch size:             200\n",
      "17:14 madminer.ml.paramete INFO      Optimizer:              adam\n",
      "17:14 madminer.ml.paramete INFO      Epochs:                 50\n",
      "17:14 madminer.ml.paramete INFO      Learning rate:          0.001 initially, decaying to 0.0001\n",
      "17:14 madminer.ml.paramete INFO      Validation split:       0.25\n",
      "17:14 madminer.ml.paramete INFO      Early stopping:         True\n",
      "17:14 madminer.ml.paramete INFO      Scale inputs:           True\n",
      "17:14 madminer.ml.paramete INFO      Scale parameters:       True\n",
      "17:14 madminer.ml.paramete INFO      Shuffle labels          False\n",
      "17:14 madminer.ml.paramete INFO      Samples:                all\n",
      "17:14 madminer.ml.paramete INFO    Loading training data\n",
      "17:14 madminer.ml.paramete INFO    Found 1000000 samples with 1 parameters and 9 observables\n",
      "17:14 madminer.ml.paramete INFO    Found 100000 separate validation samples\n",
      "17:14 madminer.ml.base     INFO    Setting up input rescaling\n",
      "17:14 madminer.ml.paramete INFO    Rescaling parameters\n",
      "17:14 madminer.ml.base     INFO    Setting up parameter rescaling\n",
      "17:14 madminer.ml.paramete INFO    Creating model\n",
      "17:14 madminer.ml.paramete INFO    Training model\n",
      "17:14 madminer.utils.ml.tr INFO    Training on CPU with single precision\n",
      "17:15 madminer.utils.ml.tr INFO      Epoch   2: train loss  0.51601 (xe:  0.516)\n",
      "17:15 madminer.utils.ml.tr INFO                 val. loss   0.89877 (xe:  0.899)\n",
      "17:16 madminer.utils.ml.tr INFO      Epoch   4: train loss  0.51244 (xe:  0.512)\n",
      "17:16 madminer.utils.ml.tr INFO                 val. loss   0.70609 (xe:  0.706)\n",
      "17:16 madminer.utils.ml.tr INFO      Epoch   6: train loss  0.51121 (xe:  0.511)\n",
      "17:16 madminer.utils.ml.tr INFO                 val. loss   0.65394 (xe:  0.654)\n",
      "17:17 madminer.utils.ml.tr INFO      Epoch   8: train loss  0.51038 (xe:  0.510)\n",
      "17:17 madminer.utils.ml.tr INFO                 val. loss   0.66274 (xe:  0.663)\n",
      "17:17 madminer.utils.ml.tr INFO      Epoch  10: train loss  0.50966 (xe:  0.510)\n",
      "17:17 madminer.utils.ml.tr INFO                 val. loss   0.61921 (xe:  0.619)\n",
      "17:18 madminer.utils.ml.tr INFO      Epoch  12: train loss  0.50913 (xe:  0.509)\n",
      "17:18 madminer.utils.ml.tr INFO                 val. loss   0.62511 (xe:  0.625)\n",
      "17:19 madminer.utils.ml.tr INFO      Epoch  14: train loss  0.50872 (xe:  0.509)\n",
      "17:19 madminer.utils.ml.tr INFO                 val. loss   0.61156 (xe:  0.612)\n",
      "17:20 madminer.utils.ml.tr INFO      Epoch  16: train loss  0.50827 (xe:  0.508)\n",
      "17:20 madminer.utils.ml.tr INFO                 val. loss   0.61724 (xe:  0.617)\n",
      "17:20 madminer.utils.ml.tr INFO      Epoch  18: train loss  0.50793 (xe:  0.508)\n",
      "17:20 madminer.utils.ml.tr INFO                 val. loss   0.61857 (xe:  0.619)\n",
      "17:21 madminer.utils.ml.tr INFO      Epoch  20: train loss  0.50764 (xe:  0.508)\n",
      "17:21 madminer.utils.ml.tr INFO                 val. loss   0.63050 (xe:  0.630)\n",
      "17:21 madminer.utils.ml.tr INFO      Epoch  22: train loss  0.50739 (xe:  0.507)\n",
      "17:21 madminer.utils.ml.tr INFO                 val. loss   0.61979 (xe:  0.620)\n",
      "17:22 madminer.utils.ml.tr INFO      Epoch  24: train loss  0.50721 (xe:  0.507)\n",
      "17:22 madminer.utils.ml.tr INFO                 val. loss   0.61728 (xe:  0.617)\n",
      "17:23 madminer.utils.ml.tr INFO      Epoch  26: train loss  0.50699 (xe:  0.507)\n",
      "17:23 madminer.utils.ml.tr INFO                 val. loss   0.61431 (xe:  0.614)\n",
      "17:23 madminer.utils.ml.tr INFO      Epoch  28: train loss  0.50682 (xe:  0.507)\n",
      "17:23 madminer.utils.ml.tr INFO                 val. loss   0.62633 (xe:  0.626)\n",
      "17:24 madminer.utils.ml.tr INFO      Epoch  30: train loss  0.50665 (xe:  0.507)\n",
      "17:24 madminer.utils.ml.tr INFO                 val. loss   0.62473 (xe:  0.625)\n",
      "17:25 madminer.utils.ml.tr INFO      Epoch  32: train loss  0.50650 (xe:  0.507)\n",
      "17:25 madminer.utils.ml.tr INFO                 val. loss   0.62306 (xe:  0.623)\n",
      "17:25 madminer.utils.ml.tr INFO      Epoch  34: train loss  0.50641 (xe:  0.506)\n",
      "17:25 madminer.utils.ml.tr INFO                 val. loss   0.61798 (xe:  0.618)\n",
      "17:26 madminer.utils.ml.tr INFO      Epoch  36: train loss  0.50627 (xe:  0.506)\n",
      "17:26 madminer.utils.ml.tr INFO                 val. loss   0.62298 (xe:  0.623)\n",
      "17:26 madminer.utils.ml.tr INFO      Epoch  38: train loss  0.50620 (xe:  0.506)\n",
      "17:26 madminer.utils.ml.tr INFO                 val. loss   0.61933 (xe:  0.619)\n",
      "17:27 madminer.utils.ml.tr INFO      Epoch  40: train loss  0.50607 (xe:  0.506)\n",
      "17:27 madminer.utils.ml.tr INFO                 val. loss   0.62716 (xe:  0.627)\n",
      "17:28 madminer.utils.ml.tr INFO      Epoch  42: train loss  0.50598 (xe:  0.506)\n",
      "17:28 madminer.utils.ml.tr INFO                 val. loss   0.63235 (xe:  0.632)\n",
      "17:28 madminer.utils.ml.tr INFO      Epoch  44: train loss  0.50589 (xe:  0.506)\n",
      "17:28 madminer.utils.ml.tr INFO                 val. loss   0.62864 (xe:  0.629)\n",
      "17:29 madminer.utils.ml.tr INFO      Epoch  46: train loss  0.50582 (xe:  0.506)\n",
      "17:29 madminer.utils.ml.tr INFO                 val. loss   0.62357 (xe:  0.624)\n",
      "17:29 madminer.utils.ml.tr INFO      Epoch  48: train loss  0.50577 (xe:  0.506)\n",
      "17:29 madminer.utils.ml.tr INFO                 val. loss   0.62300 (xe:  0.623)\n",
      "17:30 madminer.utils.ml.tr INFO      Epoch  50: train loss  0.50571 (xe:  0.506)\n",
      "17:30 madminer.utils.ml.tr INFO                 val. loss   0.63021 (xe:  0.630)\n",
      "17:30 madminer.utils.ml.tr INFO    Early stopping after epoch 15, with loss  0.60835 compared to final loss  0.63021\n",
      "17:30 madminer.utils.ml.tr INFO    Training time spend on:\n",
      "17:30 madminer.utils.ml.tr INFO                      initialize model:   0.00h\n",
      "17:30 madminer.utils.ml.tr INFO                                   ALL:   0.26h\n",
      "17:30 madminer.utils.ml.tr INFO                            check data:   0.00h\n",
      "17:30 madminer.utils.ml.tr INFO                          make dataset:   0.00h\n",
      "17:30 madminer.utils.ml.tr INFO                       make dataloader:   0.00h\n",
      "17:30 madminer.utils.ml.tr INFO                       setup optimizer:   0.00h\n",
      "17:30 madminer.utils.ml.tr INFO                   initialize training:   0.00h\n",
      "17:30 madminer.utils.ml.tr INFO                                set lr:   0.00h\n",
      "17:30 madminer.utils.ml.tr INFO                   load training batch:   0.04h\n",
      "17:30 madminer.utils.ml.tr INFO                        fwd: move data:   0.01h\n",
      "17:30 madminer.utils.ml.tr INFO                   fwd: check for nans:   0.02h\n",
      "17:30 madminer.utils.ml.tr INFO                    fwd: model.forward:   0.07h\n",
      "17:30 madminer.utils.ml.tr INFO                 fwd: calculate losses:   0.01h\n",
      "17:30 madminer.utils.ml.tr INFO                 training forward pass:   0.10h\n",
      "17:30 madminer.utils.ml.tr INFO                   training sum losses:   0.00h\n",
      "17:30 madminer.utils.ml.tr INFO                        opt: zero grad:   0.00h\n",
      "17:30 madminer.utils.ml.tr INFO                         opt: backward:   0.05h\n",
      "17:30 madminer.utils.ml.tr INFO                   opt: clip grad norm:   0.00h\n",
      "17:30 madminer.utils.ml.tr INFO                             opt: step:   0.03h\n",
      "17:30 madminer.utils.ml.tr INFO                        optimizer step:   0.09h\n",
      "17:30 madminer.utils.ml.tr INFO                 load validation batch:   0.01h\n",
      "17:30 madminer.utils.ml.tr INFO               validation forward pass:   0.02h\n",
      "17:30 madminer.utils.ml.tr INFO                 validation sum losses:   0.00h\n",
      "17:30 madminer.utils.ml.tr INFO                        early stopping:   0.00h\n",
      "17:30 madminer.utils.ml.tr INFO                          report epoch:   0.00h\n"
     ]
    }
   ],
   "source": [
    "agnostic = ParameterizedRatioEstimator(**model_kwargs)\n",
    "_ = agnostic.train(**train_kwargs)"
   ]
  },
  {
   "cell_type": "markdown",
   "metadata": {},
   "source": [
    "### Random baseline"
   ]
  },
  {
   "cell_type": "code",
   "execution_count": 53,
   "metadata": {},
   "outputs": [
    {
     "name": "stderr",
     "output_type": "stream",
     "text": [
      "17:30 madminer.ml.paramete INFO    Starting training\n",
      "17:30 madminer.ml.paramete INFO      Method:                 carl\n",
      "17:30 madminer.ml.paramete INFO      Batch size:             200\n",
      "17:30 madminer.ml.paramete INFO      Optimizer:              adam\n",
      "17:30 madminer.ml.paramete INFO      Epochs:                 5\n",
      "17:30 madminer.ml.paramete INFO      Learning rate:          0.001 initially, decaying to 0.0001\n",
      "17:30 madminer.ml.paramete INFO      Validation split:       0.25\n",
      "17:30 madminer.ml.paramete INFO      Early stopping:         True\n",
      "17:30 madminer.ml.paramete INFO      Scale inputs:           True\n",
      "17:30 madminer.ml.paramete INFO      Scale parameters:       True\n",
      "17:30 madminer.ml.paramete INFO      Shuffle labels          True\n",
      "17:30 madminer.ml.paramete INFO      Samples:                all\n",
      "17:30 madminer.ml.paramete INFO    Loading training data\n",
      "17:30 madminer.ml.paramete INFO    Found 1000000 samples with 1 parameters and 9 observables\n",
      "17:30 madminer.ml.paramete INFO    Found 100000 separate validation samples\n",
      "17:30 madminer.ml.base     INFO    Setting up input rescaling\n",
      "17:30 madminer.ml.paramete INFO    Rescaling parameters\n",
      "17:30 madminer.ml.base     INFO    Setting up parameter rescaling\n",
      "17:30 madminer.ml.paramete INFO    Shuffling labels\n",
      "17:30 madminer.ml.paramete INFO    Creating model\n",
      "17:30 madminer.ml.paramete INFO    Training model\n",
      "17:30 madminer.utils.ml.tr INFO    Training on CPU with single precision\n",
      "17:30 madminer.utils.ml.tr INFO      Epoch   1: train loss  0.69346 (xe:  0.693)\n",
      "17:30 madminer.utils.ml.tr INFO                 val. loss   0.69289 (xe:  0.693)\n",
      "17:31 madminer.utils.ml.tr INFO      Epoch   2: train loss  0.69320 (xe:  0.693)\n",
      "17:31 madminer.utils.ml.tr INFO                 val. loss   0.69473 (xe:  0.695)\n",
      "17:31 madminer.utils.ml.tr INFO      Epoch   3: train loss  0.69318 (xe:  0.693)\n",
      "17:31 madminer.utils.ml.tr INFO                 val. loss   0.69324 (xe:  0.693)\n",
      "17:31 madminer.utils.ml.tr INFO      Epoch   4: train loss  0.69317 (xe:  0.693)\n",
      "17:31 madminer.utils.ml.tr INFO                 val. loss   0.69311 (xe:  0.693)\n",
      "17:32 madminer.utils.ml.tr INFO      Epoch   5: train loss  0.69315 (xe:  0.693)\n",
      "17:32 madminer.utils.ml.tr INFO                 val. loss   0.69314 (xe:  0.693)\n",
      "17:32 madminer.utils.ml.tr INFO    Early stopping after epoch 1, with loss  0.69289 compared to final loss  0.69314\n",
      "17:32 madminer.utils.ml.tr INFO    Training time spend on:\n",
      "17:32 madminer.utils.ml.tr INFO                      initialize model:   0.00h\n",
      "17:32 madminer.utils.ml.tr INFO                                   ALL:   0.02h\n",
      "17:32 madminer.utils.ml.tr INFO                            check data:   0.00h\n",
      "17:32 madminer.utils.ml.tr INFO                          make dataset:   0.00h\n",
      "17:32 madminer.utils.ml.tr INFO                       make dataloader:   0.00h\n",
      "17:32 madminer.utils.ml.tr INFO                       setup optimizer:   0.00h\n",
      "17:32 madminer.utils.ml.tr INFO                   initialize training:   0.00h\n",
      "17:32 madminer.utils.ml.tr INFO                                set lr:   0.00h\n",
      "17:32 madminer.utils.ml.tr INFO                   load training batch:   0.00h\n",
      "17:32 madminer.utils.ml.tr INFO                        fwd: move data:   0.00h\n",
      "17:32 madminer.utils.ml.tr INFO                   fwd: check for nans:   0.00h\n",
      "17:32 madminer.utils.ml.tr INFO                    fwd: model.forward:   0.01h\n",
      "17:32 madminer.utils.ml.tr INFO                 fwd: calculate losses:   0.00h\n",
      "17:32 madminer.utils.ml.tr INFO                 training forward pass:   0.01h\n",
      "17:32 madminer.utils.ml.tr INFO                   training sum losses:   0.00h\n",
      "17:32 madminer.utils.ml.tr INFO                        opt: zero grad:   0.00h\n",
      "17:32 madminer.utils.ml.tr INFO                         opt: backward:   0.00h\n",
      "17:32 madminer.utils.ml.tr INFO                   opt: clip grad norm:   0.00h\n",
      "17:32 madminer.utils.ml.tr INFO                             opt: step:   0.00h\n",
      "17:32 madminer.utils.ml.tr INFO                        optimizer step:   0.01h\n",
      "17:32 madminer.utils.ml.tr INFO                 load validation batch:   0.00h\n",
      "17:32 madminer.utils.ml.tr INFO               validation forward pass:   0.00h\n",
      "17:32 madminer.utils.ml.tr INFO                 validation sum losses:   0.00h\n",
      "17:32 madminer.utils.ml.tr INFO                        early stopping:   0.00h\n",
      "17:32 madminer.utils.ml.tr INFO                          report epoch:   0.00h\n"
     ]
    }
   ],
   "source": [
    "random = ParameterizedRatioEstimator(**model_kwargs)\n",
    "_ = random.train(shuffle_labels=True, **train_kwargs, n_epochs=5)"
   ]
  },
  {
   "cell_type": "markdown",
   "metadata": {},
   "source": [
    "## Evaluation"
   ]
  },
  {
   "cell_type": "markdown",
   "metadata": {},
   "source": [
    "### Evaluation functions based on TestEstimatorLight.ipynb"
   ]
  },
  {
   "cell_type": "code",
   "execution_count": 3,
   "metadata": {},
   "outputs": [],
   "source": [
    "def compute_t_original(model, theta, nev, counter, test_input, NSM, NBSM):\n",
    "    \"\"\" Original test statistic, but fixing the likelihood ratio evaluation to be at the correct parameter point \"\"\"\n",
    "    \n",
    "    # computing test statistics t (or lambda) in equation (2) of paper\n",
    "    \n",
    "    # generate number of points for testing under Poisson distribution\n",
    "    n_gen = 0\n",
    "    while n_gen == 0:\n",
    "        n_gen = np.random.poisson(nev)\n",
    "\n",
    "    # stop if there are no more points to test\n",
    "    if (counter + n_gen) >= len(test_input):\n",
    "        return 0., -1\n",
    "\n",
    "    points = test_input[int(counter): int(counter+n_gen)]\n",
    "\n",
    "    # compute test statistics\n",
    "    log_ratio = model.evaluate_log_likelihood_ratio(points.numpy(), np.array([[theta]]))[0][0]\n",
    "    log_ratio = torch.tensor(log_ratio)\n",
    "    out  = 2 * (NBSM - NSM - (log_ratio + torch.log(torch.tensor(NBSM/NSM))).sum(0))\n",
    "\n",
    "    #return test statistics and the starting point for the next batch\n",
    "    return out, int(counter + n_gen)\n",
    "\n",
    "\n",
    "def compute_t_modified(model, theta, nev, counter, test_input):\n",
    "    \"\"\" Kinematics-only test statistic \"\"\"\n",
    "    \n",
    "    # generate number of points for testing under Poisson distribution\n",
    "    n_gen = 0\n",
    "    while n_gen == 0:\n",
    "        n_gen = np.random.poisson(nev)\n",
    "    n_gen = max(n_gen, 1000)\n",
    "\n",
    "    # stop if there are no more points to test\n",
    "    if (counter + n_gen) >= len(test_input):\n",
    "        return 0., -1\n",
    "\n",
    "    points = test_input[int(counter): int(counter+n_gen)]\n",
    "\n",
    "    # compute test statistics\n",
    "    log_ratio = model.evaluate_log_likelihood_ratio(points.numpy(), np.array([[theta]]))[0][0]\n",
    "    t = -2.0 * nev * np.mean(log_ratio)  # Rescale to number of expected events to remove xsec influence\n",
    "    \n",
    "    return t, int(counter + n_gen)\n",
    "\n",
    "\n",
    "def hypo_test(\n",
    "    model, theta, test_input_sm, test_input_bsm, epochs, e, n_meas, pm, NSM, NBSM, verbose_t=True, verbose_period_t=1e5, title='', include_xsec=False,\n",
    "):\n",
    "    test_start = time.time()\n",
    "    if verbose_t:\n",
    "        print(\"NSM = %.3f --- NBSM = %.3f\"%(NSM, NBSM))\n",
    "    tsm  = torch.empty(n_meas)\n",
    "    tbsm = torch.empty(n_meas)\n",
    "\n",
    "    # empty array to store values\n",
    "    tsmcount  = torch.zeros(n_meas+1)\n",
    "    tbsmcount = torch.zeros(n_meas+1)\n",
    "\n",
    "    for i in range(n_meas):\n",
    "        if include_xsec:\n",
    "            tsm[i], tsmcount[i+1] = compute_t_original(model, theta, NSM, tsmcount[i], test_input_sm, NSM=NSM, NBSM=NBSM)\n",
    "            tbsm[i], tbsmcount[i+1] = compute_t_original(model, theta, NBSM, tbsmcount[i], test_input_bsm, NSM=NSM, NBSM=NBSM)\n",
    "        else:\n",
    "            tsm[i], tsmcount[i+1] = compute_t_modified(model, theta, NSM, tbsmcount[i], test_input_sm)\n",
    "            tbsm[i], tbsmcount[i+1] = compute_t_modified(model, theta, NSM, tbsmcount[i], test_input_bsm)\n",
    "\n",
    "        if (tsmcount[i+1] < 0) or (tbsmcount[i+1] < 0):\n",
    "            if verbose_t: \n",
    "                print('Reaching the end of test data. Stop tests at %d. '%i)\n",
    "            tsm, tbsm = tsm[: i], tbsm[: i]\n",
    "            n_meas = i\n",
    "            break\n",
    "\n",
    "        if verbose_t and i % (verbose_period_t) == 0:\n",
    "            print('test %s: tsm = %.3f,  tbsm = %.3f'%(str(i).ljust(4), tsm[i], tbsm[i]))\n",
    "\n",
    "    test_duration = time.time() - test_start\n",
    "\n",
    "    # compute mean and variation of the test statistics in two hypotheses\n",
    "    mu_sm     = tsm.mean().item()\n",
    "    mu_bsm    = tbsm.mean().item()\n",
    "    sigma_sm  = tsm.std().item()\n",
    "    sigma_bsm = tbsm.std().item()\n",
    "    med_sm    = tsm.median().item()\n",
    "\n",
    "    # compute separation and p-value\n",
    "    sep    = (mu_sm - mu_bsm)/sigma_bsm\n",
    "    p      = 1.*len([i for i in tbsm if i > med_sm])/len(tsm) \n",
    "    delta1 = (p * (1 - p)/n_meas)**0.5\n",
    "    delta2 = (sigma_sm/sigma_bsm) * np.exp(-((mu_bsm - mu_sm)**2)/(2 * sigma_bsm**2))/(2*(n_meas**0.5))\n",
    "    \n",
    "    deltap = (delta1**2 + delta2**2)**0.5\n",
    "\n",
    "    if verbose_t:\n",
    "        print('===> delta1 = %.3f, delta2 = %.3f'%(delta1, delta2))\n",
    "        print('p = %.3f +/- %.3f' %(p, deltap))\n",
    "        print('Separation = %.2f sigmas'%(sep))\n",
    "        training_properties = '/toydata/madminer-carl-'+title\n",
    "        plot_histogram(tsm, tbsm, int(NSM), int(NBSM), p, deltap, sep, epochs, e, training_properties, results_path)\n",
    "        print('Partial test after %d epochs (took %.2f seconds)\\n'%(e, test_duration))\n",
    "\n",
    "    # return tsm, tbsm, NSM, NBSM\n",
    "    return p, sep\n"
   ]
  },
  {
   "cell_type": "code",
   "execution_count": 12,
   "metadata": {},
   "outputs": [],
   "source": [
    "def test(estimator, gphival=50, gphi_fname='50', include_xsec=False, n_meas=4000):  #Wilson coefficient value (*10^-2 TeV^-2)\n",
    "    #toy data file path\n",
    "    with h5py.File(os.getcwd() + '/toydata/gphi_toydata_test_%s_out.h5'%(gphi_fname), 'r') as f:\n",
    "        Data = np.array(f['Data'])\n",
    "        Labels = np.array(f['Labels'])\n",
    "        NSM = np.array(f['NSM'])\n",
    "        NBSMList = np.array(f['NBSMList'])\n",
    "        NBSM = NBSMList[0]\n",
    "        \n",
    "        print(NSM)\n",
    "        print(NBSM)\n",
    "\n",
    "    #randomise\n",
    "    Idx_test = torch.randperm(len(Data))\n",
    "    Data_test = torch.Tensor(Data[Idx_test])\n",
    "    Label_test = torch.Tensor(Labels[Idx_test])\n",
    "\n",
    "    #select data from each hypothesis\n",
    "    SM_Data  = Data_test[Label_test==0, :]\n",
    "    BSM_Data = Data_test[Label_test==1, :]\n",
    "\n",
    "    #for plotting/ printing\n",
    "    n_epochs = current_epoch = int(1e4)\n",
    "    results_path = os.getcwd()\n",
    "    charge = 'plus'\n",
    "    \n",
    "    # MadMiner parameter normalization\n",
    "    theta = 0.9399 / 50 * gphival\n",
    "\n",
    "    p, sep = hypo_test(\n",
    "        estimator, theta, SM_Data, BSM_Data, n_epochs, current_epoch, n_meas, charge,\n",
    "        verbose_t=False, verbose_period_t=1e5, title='gphi%d_new'%(gphival), NSM=NSM, NBSM=NBSM, include_xsec=include_xsec\n",
    "    )\n",
    "        \n",
    "    return p, sep\n"
   ]
  },
  {
   "cell_type": "code",
   "execution_count": 9,
   "metadata": {},
   "outputs": [
    {
     "name": "stderr",
     "output_type": "stream",
     "text": [
      "20:21 madminer.ml.morphing INFO    Setting up morphing-aware ratio estimator with 3 morphing components\n",
      "20:21 madminer.ml.base     INFO    Loading model from /madminer/madminer/examples/tutorial_particle_physics/models/carl10-bigbatch\n",
      "20:21 madminer.ml.base     WARNING Parameter scaling information not found in /madminer/madminer/examples/tutorial_particle_physics/models/carl10-bigbatch\n"
     ]
    },
    {
     "name": "stdout",
     "output_type": "stream",
     "text": [
      "2225.5037678738263\n",
      "2284.0421363853184\n"
     ]
    },
    {
     "ename": "TypeError",
     "evalue": "can't multiply sequence by non-int of type 'float'",
     "output_type": "error",
     "traceback": [
      "\u001b[0;31m---------------------------------------------------------------------------\u001b[0m",
      "\u001b[0;31mTypeError\u001b[0m                                 Traceback (most recent call last)",
      "\u001b[0;32m<ipython-input-9-9529fa475780>\u001b[0m in \u001b[0;36m<module>\u001b[0;34m\u001b[0m\n\u001b[1;32m     10\u001b[0m \u001b[0mmodel\u001b[0m \u001b[0;34m=\u001b[0m \u001b[0mestimator\u001b[0m\u001b[0;34m.\u001b[0m\u001b[0mload\u001b[0m\u001b[0;34m(\u001b[0m\u001b[0mos\u001b[0m\u001b[0;34m.\u001b[0m\u001b[0mgetcwd\u001b[0m\u001b[0;34m(\u001b[0m\u001b[0;34m)\u001b[0m\u001b[0;34m+\u001b[0m\u001b[0;34m'/models/carl10-bigbatch'\u001b[0m\u001b[0;34m)\u001b[0m\u001b[0;34m\u001b[0m\u001b[0;34m\u001b[0m\u001b[0m\n\u001b[1;32m     11\u001b[0m \u001b[0;34m\u001b[0m\u001b[0m\n\u001b[0;32m---> 12\u001b[0;31m \u001b[0mp\u001b[0m\u001b[0;34m,\u001b[0m \u001b[0msep\u001b[0m \u001b[0;34m=\u001b[0m \u001b[0mtest\u001b[0m\u001b[0;34m(\u001b[0m\u001b[0mmodel\u001b[0m\u001b[0;34m,\u001b[0m \u001b[0;34m'6e-3'\u001b[0m\u001b[0;34m,\u001b[0m \u001b[0minclude_xsec\u001b[0m\u001b[0;34m=\u001b[0m\u001b[0;32mFalse\u001b[0m\u001b[0;34m)\u001b[0m\u001b[0;34m\u001b[0m\u001b[0;34m\u001b[0m\u001b[0m\n\u001b[0m",
      "\u001b[0;32m<ipython-input-8-4624fbbc8b0d>\u001b[0m in \u001b[0;36mtest\u001b[0;34m(estimator, gphival, include_xsec, n_meas)\u001b[0m\n\u001b[1;32m     26\u001b[0m \u001b[0;34m\u001b[0m\u001b[0m\n\u001b[1;32m     27\u001b[0m     \u001b[0;31m# MadMiner parameter normalization\u001b[0m\u001b[0;34m\u001b[0m\u001b[0;34m\u001b[0m\u001b[0;34m\u001b[0m\u001b[0m\n\u001b[0;32m---> 28\u001b[0;31m     \u001b[0mtheta\u001b[0m \u001b[0;34m=\u001b[0m \u001b[0;36m0.9399\u001b[0m \u001b[0;34m/\u001b[0m \u001b[0;36m50\u001b[0m \u001b[0;34m*\u001b[0m \u001b[0mgphival\u001b[0m\u001b[0;34m\u001b[0m\u001b[0;34m\u001b[0m\u001b[0m\n\u001b[0m\u001b[1;32m     29\u001b[0m \u001b[0;34m\u001b[0m\u001b[0m\n\u001b[1;32m     30\u001b[0m     p, sep = hypo_test(\n",
      "\u001b[0;31mTypeError\u001b[0m: can't multiply sequence by non-int of type 'float'"
     ]
    }
   ],
   "source": [
    "from madminer import ParameterizedRatioEstimator\n",
    "from madminer.ml.morphing_aware import MorphingAwareRatioEstimator\n",
    "\n",
    "\n",
    "estimator = MorphingAwareRatioEstimator(\n",
    "    morphing_setup_filename=os.getcwd()+'/data/setup.h5',\n",
    "    n_hidden=(60,60),\n",
    "    activation=\"tanh\",)\n",
    "\n",
    "model = estimator.load(os.getcwd()+'/models/carl10-bigbatch')\n",
    "\n",
    "p, sep = test(model, '6e-3', include_xsec=False)"
   ]
  },
  {
   "cell_type": "markdown",
   "metadata": {},
   "source": [
    "### Evaluate all models, with and without cross section effects"
   ]
  },
  {
   "cell_type": "code",
   "execution_count": 56,
   "metadata": {},
   "outputs": [
    {
     "name": "stdout",
     "output_type": "stream",
     "text": [
      "quadratic for g_phi = 5: p = 0.4605, sep = 0.1059121360585815\n",
      "quadratic for g_phi = 10: p = 0.4275, sep = 0.17704975194358652\n",
      "quadratic for g_phi = 20: p = 0.35975, sep = 0.37412015640255114\n",
      "quadratic for g_phi = 30: p = 0.27225, sep = 0.5632854480605051\n",
      "quadratic for g_phi = 40: p = 0.20875, sep = 0.7006092155142076\n",
      "quadratic for g_phi = 45: p = 0.19075, sep = 0.7629671483119467\n",
      "quadratic for g_phi = 50: p = 0.18025, sep = 0.8284891044786227\n",
      "quadratic for g_phi = 200: p = 0.00125, sep = 2.3304304901495807\n",
      "quadratic for g_phi = 500: p = 0.00025, sep = 3.6502129974428503\n",
      "morphing-aware for g_phi = 5: p = 0.47325, sep = 0.06396665050004251\n",
      "morphing-aware for g_phi = 10: p = 0.424, sep = 0.1762729085251339\n",
      "morphing-aware for g_phi = 20: p = 0.375, sep = 0.31531835237258565\n",
      "morphing-aware for g_phi = 30: p = 0.29275, sep = 0.5161449975456953\n",
      "morphing-aware for g_phi = 40: p = 0.225, sep = 0.6639995819813942\n",
      "morphing-aware for g_phi = 45: p = 0.2075, sep = 0.7533180441939995\n",
      "morphing-aware for g_phi = 50: p = 0.17525, sep = 0.8256219026877551\n",
      "morphing-aware for g_phi = 200: p = 0.004, sep = 2.3424621537011365\n",
      "morphing-aware for g_phi = 500: p = 0.0, sep = 3.7581515952681497\n",
      "agnostic for g_phi = 5: p = 0.473, sep = 0.09983864365708298\n",
      "agnostic for g_phi = 10: p = 0.474, sep = 0.094015050007883\n",
      "agnostic for g_phi = 20: p = 0.36075, sep = 0.3373266553474599\n",
      "agnostic for g_phi = 30: p = 0.3045, sep = 0.5041788907641448\n",
      "agnostic for g_phi = 40: p = 0.24425, sep = 0.6619105561496281\n",
      "agnostic for g_phi = 45: p = 0.20425, sep = 0.7463597431578026\n",
      "agnostic for g_phi = 50: p = 0.179, sep = 0.8110355417331399\n",
      "agnostic for g_phi = 200: p = 0.00275, sep = 2.2436653525289754\n",
      "agnostic for g_phi = 500: p = 0.0, sep = 3.796508577259097\n",
      "random for g_phi = 5: p = 0.50975, sep = -0.008590825006389125\n",
      "random for g_phi = 10: p = 0.51775, sep = -0.05140702143278684\n",
      "random for g_phi = 20: p = 0.52175, sep = -0.07146779570484978\n",
      "random for g_phi = 30: p = 0.527, sep = -0.09095610148746165\n",
      "random for g_phi = 40: p = 0.5565, sep = -0.13833726440982844\n",
      "random for g_phi = 45: p = 0.57225, sep = -0.16186177427662532\n",
      "random for g_phi = 50: p = 0.57125, sep = -0.18179349116403026\n",
      "random for g_phi = 200: p = 0.7465, sep = -0.6662711472938935\n",
      "random for g_phi = 500: p = 0.88425, sep = -1.1736239331985094\n"
     ]
    }
   ],
   "source": [
    "models = {\"quadratic\": quadratic, \"morphing-aware\": morphing_aware, \"agnostic\": agnostic, \"random\": random}\n",
    "gphis = [5, 10, 20, 30, 40, 45, 50, 200, 500]\n",
    "\n",
    "pvals = {key:[] for key in models.keys()}\n",
    "seps = {key:[] for key in models.keys()}\n",
    "\n",
    "for key, model in models.items():\n",
    "    for gphi in gphis:\n",
    "        p, sep = test(model, gphi, include_xsec=False)\n",
    "        \n",
    "        print(f\"{key} for g_phi = {gphi}: p = {p}, sep = {sep}\")\n",
    "        pvals[key].append(p)\n",
    "        seps[key].append(sep)\n"
   ]
  },
  {
   "cell_type": "code",
   "execution_count": 57,
   "metadata": {},
   "outputs": [
    {
     "name": "stdout",
     "output_type": "stream",
     "text": [
      "quadratic for g_phi = 5: p = 0.0091324200913242, sep = 2.156249067642847\n",
      "quadratic for g_phi = 10: p = 0.0, sep = 4.017805352816178\n",
      "quadratic for g_phi = 20: p = 0.0, sep = 7.181279288627266\n",
      "quadratic for g_phi = 30: p = 0.0, sep = 10.537343623977943\n",
      "quadratic for g_phi = 40: p = 0.0, sep = 12.589139805946788\n",
      "quadratic for g_phi = 45: p = 0.0, sep = 14.550243155883475\n",
      "quadratic for g_phi = 50: p = 0.0, sep = 15.285524261766955\n",
      "quadratic for g_phi = 200: p = 0.0, sep = 49.82163349759285\n",
      "quadratic for g_phi = 500: p = 0.0, sep = 137.80754731499692\n",
      "morphing-aware for g_phi = 5: p = 0.3105022831050228, sep = 0.45577044133980626\n",
      "morphing-aware for g_phi = 10: p = 0.018604651162790697, sep = 2.068196247950657\n",
      "morphing-aware for g_phi = 20: p = 0.0, sep = 5.060923577504371\n",
      "morphing-aware for g_phi = 30: p = 0.0, sep = 8.991340621136636\n",
      "morphing-aware for g_phi = 40: p = 0.0, sep = 12.098425405656048\n",
      "morphing-aware for g_phi = 45: p = 0.0, sep = 13.808479263894094\n",
      "morphing-aware for g_phi = 50: p = 0.0, sep = 15.96187120827293\n",
      "morphing-aware for g_phi = 200: p = 0.0, sep = 54.20402372349474\n",
      "morphing-aware for g_phi = 500: p = 0.0, sep = 129.40888161075887\n",
      "agnostic for g_phi = 5: p = 0.1461187214611872, sep = 0.9346884323004425\n",
      "agnostic for g_phi = 10: p = 0.013953488372093023, sep = 2.540956374307756\n",
      "agnostic for g_phi = 20: p = 0.0, sep = 6.13874807594249\n",
      "agnostic for g_phi = 30: p = 0.0, sep = 9.602166451774954\n",
      "agnostic for g_phi = 40: p = 0.0, sep = 12.893467377793911\n",
      "agnostic for g_phi = 45: p = 0.0, sep = 14.689080612126105\n",
      "agnostic for g_phi = 50: p = 0.0, sep = 14.314401925310495\n",
      "agnostic for g_phi = 200: p = 0.0, sep = 45.56478234109493\n",
      "agnostic for g_phi = 500: p = 0.0, sep = 124.73676976932347\n",
      "random for g_phi = 5: p = 0.1963470319634703, sep = 0.9925700912145264\n",
      "random for g_phi = 10: p = 0.018691588785046728, sep = 2.0658960369456376\n",
      "random for g_phi = 20: p = 0.0, sep = 4.012032497296448\n",
      "random for g_phi = 30: p = 0.0, sep = 6.59406602728482\n",
      "random for g_phi = 40: p = 0.0, sep = 8.966595342893173\n",
      "random for g_phi = 45: p = 0.0, sep = 10.806131641863107\n",
      "random for g_phi = 50: p = 0.0, sep = 11.254725531303045\n",
      "random for g_phi = 200: p = 0.0, sep = 50.40185209940169\n",
      "random for g_phi = 500: p = 0.0, sep = 142.9221678922827\n"
     ]
    }
   ],
   "source": [
    "pvals_with_xsec = {key:[] for key in models.keys()}\n",
    "seps_with_xsec = {key:[] for key in models.keys()}\n",
    "\n",
    "for key, model in models.items():\n",
    "    for gphi in gphis:\n",
    "        p, sep = test(model, gphi, include_xsec=True)\n",
    "        \n",
    "        print(f\"{key} for g_phi = {gphi}: p = {p}, sep = {sep}\")\n",
    "        pvals_with_xsec[key].append(p)\n",
    "        seps_with_xsec[key].append(sep)\n"
   ]
  },
  {
   "cell_type": "markdown",
   "metadata": {},
   "source": [
    "## Plot results"
   ]
  },
  {
   "cell_type": "code",
   "execution_count": 59,
   "metadata": {},
   "outputs": [],
   "source": [
    "colors = [\"C1\", \"C0\", \"C3\", \"0.6\"]\n",
    "linestyles = [\"-.\", \"--\", \"-\", \":\"]"
   ]
  },
  {
   "cell_type": "code",
   "execution_count": 63,
   "metadata": {},
   "outputs": [
    {
     "data": {
      "image/png": "[encoded data removed]",
      "text/plain": [
       "<Figure size 576x288 with 2 Axes>"
      ]
     },
     "metadata": {
      "needs_background": "light"
     },
     "output_type": "display_data"
    }
   ],
   "source": [
    "data_sets = [pvals_with_xsec, pvals]\n",
    "panel_labels = [\"p-value (xsec + kinematics)\", \"p-value (kinematic effects only)\"]\n",
    "\n",
    "fig = plt.figure(figsize=(8,4))\n",
    "\n",
    "for panel, (data, label) in enumerate(zip(data_sets, panel_labels)):\n",
    "    ax = plt.subplot(1,2,panel+1)\n",
    "\n",
    "    for c, ls, (key, datum) in zip(colors, linestyles, data.items()):\n",
    "        plt.plot(gphis, datum, label=key, ls=ls, c=c)\n",
    "    \n",
    "    plt.legend()\n",
    "\n",
    "    plt.xscale(\"log\")\n",
    "    plt.yscale(\"log\")\n",
    "    plt.xlabel(f\"$g_\\phi$\")\n",
    "    plt.ylabel(label)\n",
    "\n",
    "plt.tight_layout()\n",
    "plt.savefig(\"quadratic_test_pvals.pdf\")\n"
   ]
  },
  {
   "cell_type": "code",
   "execution_count": 68,
   "metadata": {},
   "outputs": [
    {
     "data": {
      "image/png": "[encoded data removed]",
      "text/plain": [
       "<Figure size 576x288 with 2 Axes>"
      ]
     },
     "metadata": {
      "needs_background": "light"
     },
     "output_type": "display_data"
    }
   ],
   "source": [
    "data_sets = [seps_with_xsec, seps]\n",
    "panel_labels = [\"Significance (xsec + kinematics)\", \"Significance (kinematic effects only)\"]\n",
    "\n",
    "fig = plt.figure(figsize=(8,4))\n",
    "\n",
    "for panel, (data, label) in enumerate(zip(data_sets, panel_labels)):\n",
    "    ax = plt.subplot(1,2,panel+1)\n",
    "\n",
    "    for c, ls, (key, datum) in zip(colors, linestyles, data.items()):\n",
    "        plt.plot(gphis, np.abs(datum), label=key, ls=ls, c=c)\n",
    "    \n",
    "    plt.legend()\n",
    "\n",
    "    plt.xscale(\"log\")\n",
    "    # plt.yscale(\"log\")\n",
    "    plt.xlabel(f\"$g_\\phi$\")\n",
    "    plt.ylabel(label)\n",
    "\n",
    "plt.tight_layout()\n",
    "plt.savefig(\"quadratic_test_significance.pdf\")\n"
   ]
  },
  {
   "cell_type": "code",
   "execution_count": null,
   "metadata": {},
   "outputs": [],
   "source": []
  }
 ],
 "metadata": {
  "kernelspec": {
   "display_name": "Python 3",
   "language": "python",
   "name": "python3"
  },
  "language_info": {
   "codemirror_mode": {
    "name": "ipython",
    "version": 3
   },
   "file_extension": ".py",
   "mimetype": "text/x-python",
   "name": "python",
   "nbconvert_exporter": "python",
   "pygments_lexer": "ipython3",
   "version": "3.8.2"
  }
 },
 "nbformat": 4,
 "nbformat_minor": 4
}
