{
 "cells": [
  {
   "cell_type": "code",
   "execution_count": 2,
   "metadata": {},
   "outputs": [
    {
     "name": "stdout",
     "output_type": "stream",
     "text": [
      "Collecting tabulate\n",
      "  Downloading tabulate-0.8.7-py3-none-any.whl (24 kB)\n",
      "Installing collected packages: tabulate\n",
      "Successfully installed tabulate-0.8.7\n",
      "\u001b[33mWARNING: You are using pip version 20.1.1; however, version 20.2.4 is available.\n",
      "You should consider upgrading via the '/usr/bin/python3 -m pip install --upgrade pip' command.\u001b[0m\n"
     ]
    }
   ],
   "source": [
    "! pip install tabulate"
   ]
  },
  {
   "cell_type": "code",
   "execution_count": 3,
   "metadata": {
    "scrolled": true
   },
   "outputs": [
    {
     "name": "stdout",
     "output_type": "stream",
     "text": [
      "Loading Data Files for Process: W+Z, with new physics Parameters: ['Gphi[TeV**-2]', 'GW[TeV**-2]']\n",
      "Only 1D Implemented in Training !\n",
      "\n",
      "Reading file .../madminer/madminer/examples/tutorial_particle_physics/toydata/ChP_pt300_gphi5e-2.h5\n",
      "##### File Info:\n",
      "{Gphi[TeV**-2], GW[TeV**-2]} = {0.05, 0.}[TeV**-2] data, Ideal Events. \n",
      "Event format: {{s, θ, θZ, ϕZ, θWrec, ϕWrec, PtZ}, weight}.\n",
      "Converted from /data3/WZ_new_project/dat/Ideal_Events/ChP_pt300_gphi5e-2.dat.gz\n",
      "Charge = 1 --- Process = W+Z\n",
      "#####\n",
      "\n",
      "Reading file .../madminer/madminer/examples/tutorial_particle_physics/toydata/ChP_pt300_gphi2e-1.h5\n",
      "##### File Info:\n",
      "{Gphi[TeV**-2], GW[TeV**-2]} = {0.2, 0.}[TeV**-2] data, Ideal Events. \n",
      "Event format: {{s, θ, θZ, ϕZ, θWrec, ϕWrec, PtZ}, weight}.\n",
      "Converted from /data3/WZ_new_project/dat/Ideal_Events/ChP_pt300_gphi2e-1.dat.gz\n",
      "Charge = 1 --- Process = W+Z\n",
      "#####\n",
      "\n",
      "Reading file .../madminer/madminer/examples/tutorial_particle_physics/toydata/ChP_pt300_gphi5e-1.h5\n",
      "##### File Info:\n",
      "{Gphi[TeV**-2], GW[TeV**-2]} = {0.5, 0.}[TeV**-2] data, Ideal Events. \n",
      "Event format: {{s, θ, θZ, ϕZ, θWrec, ϕWrec, PtZ}, weight}.\n",
      "Converted from /data3/WZ_new_project/dat/Ideal_Events/ChP_pt300_gphi5e-1.dat.gz\n",
      "Charge = 1 --- Process = W+Z\n",
      "#####\n",
      "\n",
      "Reading file .../madminer/madminer/examples/tutorial_particle_physics/toydata/ChP_pt300_gphim5e-2.h5\n",
      "##### File Info:\n",
      "{Gphi[TeV**-2], GW[TeV**-2]} = {-0.05, 0.}[TeV**-2] data, Ideal Events. \n",
      "Event format: {{s, θ, θZ, ϕZ, θWrec, ϕWrec, PtZ}, weight}.\n",
      "Converted from /data3/WZ_new_project/dat/Ideal_Events/ChP_pt300_gphim5e-2.dat.gz\n",
      "Charge = 1 --- Process = W+Z\n",
      "#####\n",
      "\n",
      "Reading file .../madminer/madminer/examples/tutorial_particle_physics/toydata/ChP_pt300_gphim2e-1.h5\n",
      "##### File Info:\n",
      "{Gphi[TeV**-2], GW[TeV**-2]} = {-0.2, 0.}[TeV**-2] data, Ideal Events. \n",
      "Event format: {{s, θ, θZ, ϕZ, θWrec, ϕWrec, PtZ}, weight}.\n",
      "Converted from /data3/WZ_new_project/dat/Ideal_Events/ChP_pt300_gphim2e-1.dat.gz\n",
      "Charge = 1 --- Process = W+Z\n",
      "#####\n",
      "\n",
      "Reading file .../madminer/madminer/examples/tutorial_particle_physics/toydata/ChP_pt300_gphim5e-1.h5\n",
      "##### File Info:\n",
      "{Gphi[TeV**-2], GW[TeV**-2]} = {-0.5, 0.}[TeV**-2] data, Ideal Events. \n",
      "Event format: {{s, θ, θZ, ϕZ, θWrec, ϕWrec, PtZ}, weight}.\n",
      "Converted from /data3/WZ_new_project/dat/Ideal_Events/ChP_pt300_gphim5e-1.dat.gz\n",
      "Charge = 1 --- Process = W+Z\n",
      "#####\n",
      "\n",
      "Reading file .../madminer/madminer/examples/tutorial_particle_physics/toydata/ChP_pt300_sm.h5\n",
      "##### File Info:\n",
      "SM = {0., 0.}[TeV**-2] data, Ideal Events. \n",
      "Event format: {{s, θ, θZ, ϕZ, θWrec, ϕWrec, PtZ}, weight}.\n",
      "Converted from /data3/WZ_new_project/dat/Ideal_Events/ChP_pt300_sm_1.dat.gz\n",
      "Charge = 1 --- Process = W+Z\n",
      "#####\n",
      "\n",
      "Loaded SM Files:\n",
      "['Gphi[TeV**-2]', 'GW[TeV**-2]']           #Data    XS[pb](avg.w)\n",
      "---------------------------------------  -------  ---------------\n",
      "tensor([[0., 0.]], dtype=torch.float64)  3000000         0.741835\n",
      "\n",
      "Loaded BSM Files:\n",
      "['Gphi[TeV**-2]', 'GW[TeV**-2]']                     #Data    XS[pb](avg.w)\n",
      "-------------------------------------------------  -------  ---------------\n",
      "tensor([[0.0500, 0.0000]], dtype=torch.float64)     500000         0.947113\n",
      "tensor([[0.2000, 0.0000]], dtype=torch.float64)     500000         2.16749\n",
      "tensor([[0.5000, 0.0000]], dtype=torch.float64)     500000         7.32829\n",
      "tensor([[-0.0500,  0.0000]], dtype=torch.float64)   500000         0.637632\n",
      "tensor([[-0.2000,  0.0000]], dtype=torch.float64)   500000         0.929192\n",
      "tensor([[-0.5000,  0.0000]], dtype=torch.float64)   500000         4.23431\n",
      "\n",
      "Paired BSM/SM Datasets:\n",
      "\n",
      "['Gphi[TeV**-2]', 'GW[TeV**-2]']                     #Ev.BSM    #Ev.SM    Check\n",
      "-------------------------------------------------  ---------  --------  -------\n",
      "tensor([[0.0500, 0.0000]], dtype=torch.float64)       500000    500000   500000\n",
      "tensor([[0.2000, 0.0000]], dtype=torch.float64)       500000    500000   500000\n",
      "tensor([[0.5000, 0.0000]], dtype=torch.float64)       500000    500000   500000\n",
      "tensor([[-0.0500,  0.0000]], dtype=torch.float64)     500000    500000   500000\n",
      "tensor([[-0.2000,  0.0000]], dtype=torch.float64)     500000    500000   500000\n",
      "tensor([[-0.5000,  0.0000]], dtype=torch.float64)     500000    500000   500000\n",
      "####\n",
      "Anlges at position [3, 5] have been converted to Sin and Cos and put at the last columns of the Data.\n",
      "####\n"
     ]
    }
   ],
   "source": [
    "from OurTrainingTools2D import *\n",
    "\n",
    "random_seed = torch.randint(0, 1339, (1,)).item()\n",
    "torch.manual_seed(random_seed)\n",
    "data_path = os.getcwd() + '/toydata'\n",
    "\n",
    "td = OurTrainingData([data_path+'/ChP_pt300_sm.h5'],\n",
    "                     [data_path+'/ChP_pt300_gphi5e-2.h5',\n",
    "                     data_path+'/ChP_pt300_gphi2e-1.h5',\n",
    "                     data_path+'/ChP_pt300_gphi5e-1.h5',\n",
    "                     data_path+'/ChP_pt300_gphim5e-2.h5',\n",
    "                     data_path+'/ChP_pt300_gphim2e-1.h5',\n",
    "                     data_path+'/ChP_pt300_gphim5e-1.h5',],\n",
    "                     process = 'W+Z', parameters =['Gphi[TeV**-2]','GW[TeV**-2]'], \n",
    "                     SMNLimits=int(3e6), BSMNLimits=int(5e5))\n",
    "\n",
    "td.Data = td.Data[:, :7]\n",
    "td.CurateAngles([3, 5])\n",
    "\n",
    "Data, ParVal, Labels, Weights = td.Data, td.ParVal, td.Labels, td.Weights\n",
    "Data, ParVal, Labels, Weights = Data.float(), ParVal.float(), Labels.float(), Weights.float()"
   ]
  },
  {
   "cell_type": "code",
   "execution_count": 4,
   "metadata": {},
   "outputs": [],
   "source": [
    "NSM = td.SMWeights.mean()*3000\n",
    "NBSMList = [td.BSMWeightsList[i].mean()*3000 for i in range(len(td.BSMWeightsList))]"
   ]
  },
  {
   "cell_type": "code",
   "execution_count": 5,
   "metadata": {},
   "outputs": [
    {
     "data": {
      "text/plain": [
       "array(['SM'], dtype=object)"
      ]
     },
     "execution_count": 5,
     "metadata": {},
     "output_type": "execute_result"
    }
   ],
   "source": [
    "td.SMDataFiles[0].Parameters"
   ]
  },
  {
   "cell_type": "code",
   "execution_count": 6,
   "metadata": {},
   "outputs": [],
   "source": [
    "h = h5py.File(data_path + '/gphi_toydata.h5', 'w')"
   ]
  },
  {
   "cell_type": "code",
   "execution_count": 7,
   "metadata": {},
   "outputs": [
    {
     "data": {
      "text/plain": [
       "<HDF5 dataset \"NBSMList\": shape (6,), type \"<f8\">"
      ]
     },
     "execution_count": 7,
     "metadata": {},
     "output_type": "execute_result"
    }
   ],
   "source": [
    "h.create_dataset('Data', data=Data)\n",
    "h.create_dataset('Weights', data=Weights)\n",
    "h.create_dataset('Labels', data=Labels)\n",
    "h.create_dataset('NSM', data = NSM)\n",
    "h.create_dataset('NBSMList', data=NBSMList)"
   ]
  },
  {
   "cell_type": "code",
   "execution_count": 8,
   "metadata": {},
   "outputs": [],
   "source": [
    "h.close()"
   ]
  },
  {
   "cell_type": "markdown",
   "metadata": {},
   "source": [
    "# In Sample Test Data"
   ]
  },
  {
   "cell_type": "code",
   "execution_count": 30,
   "metadata": {
    "scrolled": true
   },
   "outputs": [
    {
     "name": "stdout",
     "output_type": "stream",
     "text": [
      "Loading Data Files for Process: W+Z, with new physics Parameters: ['Gphi[TeV**-2]', 'GW[TeV**-2]']\n",
      "Only 1D Implemented in Training !\n",
      "\n",
      "Reading file .../madminer/madminer/examples/tutorial_particle_physics/toydata/ChP_pt300_gphi5e-2.h5\n",
      "##### File Info:\n",
      "{Gphi[TeV**-2], GW[TeV**-2]} = {0.05, 0.}[TeV**-2] data, Ideal Events. \n",
      "Event format: {{s, θ, θZ, ϕZ, θWrec, ϕWrec, PtZ}, weight}.\n",
      "Converted from /data3/WZ_new_project/dat/Ideal_Events/ChP_pt300_gphi5e-2.dat.gz\n",
      "Charge = 1 --- Process = W+Z\n",
      "#####\n",
      "\n",
      "Reading file .../madminer/madminer/examples/tutorial_particle_physics/toydata/ChP_pt300_sm.h5\n",
      "##### File Info:\n",
      "SM = {0., 0.}[TeV**-2] data, Ideal Events. \n",
      "Event format: {{s, θ, θZ, ϕZ, θWrec, ϕWrec, PtZ}, weight}.\n",
      "Converted from /data3/WZ_new_project/dat/Ideal_Events/ChP_pt300_sm_1.dat.gz\n",
      "Charge = 1 --- Process = W+Z\n",
      "#####\n",
      "\n",
      "Loaded SM Files:\n",
      "['Gphi[TeV**-2]', 'GW[TeV**-2]']           #Data    XS[pb](avg.w)\n",
      "---------------------------------------  -------  ---------------\n",
      "tensor([[0., 0.]], dtype=torch.float64)  3000000         0.741835\n",
      "\n",
      "Loaded BSM Files:\n",
      "['Gphi[TeV**-2]', 'GW[TeV**-2]']                   #Data    XS[pb](avg.w)\n",
      "-----------------------------------------------  -------  ---------------\n",
      "tensor([[0.0500, 0.0000]], dtype=torch.float64)   500000         0.947113\n",
      "\n",
      "Paired BSM/SM Datasets:\n",
      "\n",
      "['Gphi[TeV**-2]', 'GW[TeV**-2]']                   #Ev.BSM    #Ev.SM    Check\n",
      "-----------------------------------------------  ---------  --------  -------\n",
      "tensor([[0.0500, 0.0000]], dtype=torch.float64)     500000    500000   500000\n",
      "####\n",
      "Anlges at position [3, 5] have been converted to Sin and Cos and put at the last columns of the Data.\n",
      "####\n"
     ]
    }
   ],
   "source": [
    "td = OurTrainingData([data_path+'/ChP_pt300_sm.h5'],\n",
    "                     [data_path+'/ChP_pt300_gphi5e-2.h5',],\n",
    "                     process = 'W+Z', parameters =['Gphi[TeV**-2]','GW[TeV**-2]'], \n",
    "                     SMNLimits=int(5e5), BSMNLimits=int(2e6))\n",
    "\n",
    "td.Data = td.Data[:, :7]\n",
    "td.CurateAngles([3, 5])\n",
    "\n",
    "Data, ParVal, Labels, Weights = td.Data, td.ParVal, td.Labels, td.Weights\n",
    "Data, ParVal, Labels, Weights = Data.float(), ParVal.float(), Labels.float(), Weights.float()\n",
    "\n",
    "NSM = td.SMWeights.mean()*3000\n",
    "NBSMList = [td.BSMWeightsList[i].mean()*3000 for i in range(len(td.BSMWeightsList))]\n",
    "\n",
    "h = h5py.File(os.getcwd()+'/toydata/gphi_toydata_test_5e-2_in.h5', 'w')\n",
    "\n",
    "h.create_dataset('Data', data=Data)\n",
    "h.create_dataset('Weights', data=Weights)\n",
    "h.create_dataset('Labels', data=Labels)\n",
    "h.create_dataset('NSM', data = NSM)\n",
    "h.create_dataset('NBSMList', data=NBSMList)\n",
    "\n",
    "h.close()"
   ]
  },
  {
   "cell_type": "code",
   "execution_count": 18,
   "metadata": {
    "scrolled": true
   },
   "outputs": [
    {
     "name": "stdout",
     "output_type": "stream",
     "text": [
      "Loading Data Files for Process: W+Z, with new physics Parameters: ['Gphi[TeV**-2]', 'GW[TeV**-2]']\n",
      "Only 1D Implemented in Training !\n",
      "\n",
      "Reading file .../madminer/madminer/examples/tutorial_particle_physics/toydata/ChP_pt300_gphi2e-1.h5\n",
      "##### File Info:\n",
      "{Gphi[TeV**-2], GW[TeV**-2]} = {0.2, 0.}[TeV**-2] data, Ideal Events. \n",
      "Event format: {{s, θ, θZ, ϕZ, θWrec, ϕWrec, PtZ}, weight}.\n",
      "Converted from /data3/WZ_new_project/dat/Ideal_Events/ChP_pt300_gphi2e-1.dat.gz\n",
      "Charge = 1 --- Process = W+Z\n",
      "#####\n",
      "\n",
      "Reading file .../madminer/madminer/examples/tutorial_particle_physics/toydata/ChP_pt300_sm.h5\n",
      "##### File Info:\n",
      "SM = {0., 0.}[TeV**-2] data, Ideal Events. \n",
      "Event format: {{s, θ, θZ, ϕZ, θWrec, ϕWrec, PtZ}, weight}.\n",
      "Converted from /data3/WZ_new_project/dat/Ideal_Events/ChP_pt300_sm_1.dat.gz\n",
      "Charge = 1 --- Process = W+Z\n",
      "#####\n",
      "\n",
      "Loaded SM Files:\n",
      "['Gphi[TeV**-2]', 'GW[TeV**-2]']           #Data    XS[pb](avg.w)\n",
      "---------------------------------------  -------  ---------------\n",
      "tensor([[0., 0.]], dtype=torch.float64)  3000000         0.741835\n",
      "\n",
      "Loaded BSM Files:\n",
      "['Gphi[TeV**-2]', 'GW[TeV**-2]']                   #Data    XS[pb](avg.w)\n",
      "-----------------------------------------------  -------  ---------------\n",
      "tensor([[0.2000, 0.0000]], dtype=torch.float64)   500000          2.16749\n",
      "\n",
      "Paired BSM/SM Datasets:\n",
      "\n",
      "['Gphi[TeV**-2]', 'GW[TeV**-2]']                   #Ev.BSM    #Ev.SM    Check\n",
      "-----------------------------------------------  ---------  --------  -------\n",
      "tensor([[0.2000, 0.0000]], dtype=torch.float64)     500000    500000   500000\n",
      "####\n",
      "Anlges at position [3, 5] have been converted to Sin and Cos and put at the last columns of the Data.\n",
      "####\n"
     ]
    }
   ],
   "source": [
    "td = OurTrainingData([data_path+'/ChP_pt300_sm.h5'],\n",
    "                     [data_path+'/ChP_pt300_gphi2e-1.h5',],\n",
    "                     process = 'W+Z', parameters =['Gphi[TeV**-2]','GW[TeV**-2]'], \n",
    "                     SMNLimits=int(5e5), BSMNLimits=int(5e5))\n",
    "\n",
    "td.Data = td.Data[:, :7]\n",
    "td.CurateAngles([3, 5])\n",
    "\n",
    "Data, ParVal, Labels, Weights = td.Data, td.ParVal, td.Labels, td.Weights\n",
    "Data, ParVal, Labels, Weights = Data.float(), ParVal.float(), Labels.float(), Weights.float()\n",
    "\n",
    "NSM = td.SMWeights.mean()*3000\n",
    "NBSMList = [td.BSMWeightsList[i].mean()*3000 for i in range(len(td.BSMWeightsList))]\n",
    "\n",
    "h = h5py.File(os.getcwd()+'/toydata/gphi_toydata_test_2e-1_in.h5', 'w')\n",
    "\n",
    "h.create_dataset('Data', data=Data)\n",
    "h.create_dataset('Weights', data=Weights)\n",
    "h.create_dataset('Labels', data=Labels)\n",
    "h.create_dataset('NSM', data = NSM)\n",
    "h.create_dataset('NBSMList', data=NBSMList)\n",
    "\n",
    "h.close()"
   ]
  },
  {
   "cell_type": "code",
   "execution_count": 19,
   "metadata": {
    "scrolled": true
   },
   "outputs": [
    {
     "name": "stdout",
     "output_type": "stream",
     "text": [
      "Loading Data Files for Process: W+Z, with new physics Parameters: ['Gphi[TeV**-2]', 'GW[TeV**-2]']\n",
      "Only 1D Implemented in Training !\n",
      "\n",
      "Reading file .../madminer/madminer/examples/tutorial_particle_physics/toydata/ChP_pt300_gphi5e-1.h5\n",
      "##### File Info:\n",
      "{Gphi[TeV**-2], GW[TeV**-2]} = {0.5, 0.}[TeV**-2] data, Ideal Events. \n",
      "Event format: {{s, θ, θZ, ϕZ, θWrec, ϕWrec, PtZ}, weight}.\n",
      "Converted from /data3/WZ_new_project/dat/Ideal_Events/ChP_pt300_gphi5e-1.dat.gz\n",
      "Charge = 1 --- Process = W+Z\n",
      "#####\n",
      "\n",
      "Reading file .../madminer/madminer/examples/tutorial_particle_physics/toydata/ChP_pt300_sm.h5\n",
      "##### File Info:\n",
      "SM = {0., 0.}[TeV**-2] data, Ideal Events. \n",
      "Event format: {{s, θ, θZ, ϕZ, θWrec, ϕWrec, PtZ}, weight}.\n",
      "Converted from /data3/WZ_new_project/dat/Ideal_Events/ChP_pt300_sm_1.dat.gz\n",
      "Charge = 1 --- Process = W+Z\n",
      "#####\n",
      "\n",
      "Loaded SM Files:\n",
      "['Gphi[TeV**-2]', 'GW[TeV**-2]']           #Data    XS[pb](avg.w)\n",
      "---------------------------------------  -------  ---------------\n",
      "tensor([[0., 0.]], dtype=torch.float64)  3000000         0.741835\n",
      "\n",
      "Loaded BSM Files:\n",
      "['Gphi[TeV**-2]', 'GW[TeV**-2]']                   #Data    XS[pb](avg.w)\n",
      "-----------------------------------------------  -------  ---------------\n",
      "tensor([[0.5000, 0.0000]], dtype=torch.float64)   500000          7.32829\n",
      "\n",
      "Paired BSM/SM Datasets:\n",
      "\n",
      "['Gphi[TeV**-2]', 'GW[TeV**-2]']                   #Ev.BSM    #Ev.SM    Check\n",
      "-----------------------------------------------  ---------  --------  -------\n",
      "tensor([[0.5000, 0.0000]], dtype=torch.float64)     500000    500000   500000\n",
      "####\n",
      "Anlges at position [3, 5] have been converted to Sin and Cos and put at the last columns of the Data.\n",
      "####\n"
     ]
    }
   ],
   "source": [
    "td = OurTrainingData([data_path+'/ChP_pt300_sm.h5'],\n",
    "                     [data_path+'/ChP_pt300_gphi5e-1.h5',],\n",
    "                     process = 'W+Z', parameters =['Gphi[TeV**-2]','GW[TeV**-2]'], \n",
    "                     SMNLimits=int(5e5), BSMNLimits=int(5e5))\n",
    "\n",
    "td.Data = td.Data[:, :7]\n",
    "td.CurateAngles([3, 5])\n",
    "\n",
    "Data, ParVal, Labels, Weights = td.Data, td.ParVal, td.Labels, td.Weights\n",
    "Data, ParVal, Labels, Weights = Data.float(), ParVal.float(), Labels.float(), Weights.float()\n",
    "\n",
    "NSM = td.SMWeights.mean()*3000\n",
    "NBSMList = [td.BSMWeightsList[i].mean()*3000 for i in range(len(td.BSMWeightsList))]\n",
    "\n",
    "h = h5py.File(os.getcwd()+'/toydata/gphi_toydata_test_5e-1_in.h5', 'w')\n",
    "\n",
    "h.create_dataset('Data', data=Data)\n",
    "h.create_dataset('Weights', data=Weights)\n",
    "h.create_dataset('Labels', data=Labels)\n",
    "h.create_dataset('NSM', data = NSM)\n",
    "h.create_dataset('NBSMList', data=NBSMList)\n",
    "\n",
    "h.close()"
   ]
  },
  {
   "cell_type": "markdown",
   "metadata": {},
   "source": [
    "# Out Sample Test Data"
   ]
  },
  {
   "cell_type": "code",
   "execution_count": 32,
   "metadata": {
    "scrolled": true
   },
   "outputs": [
    {
     "name": "stdout",
     "output_type": "stream",
     "text": [
      "Loading Data Files for Process: W+Z, with new physics Parameters: ['Gphi[TeV**-2]', 'GW[TeV**-2]']\n",
      "Only 1D Implemented in Training !\n",
      "\n",
      "Reading file .../madminer/madminer/examples/tutorial_particle_physics/toydata/ChP_pt300_gphi6e-3.h5\n",
      "##### File Info:\n",
      "{Gphi[TeV**-2], GW[TeV**-2]} = {0.006, 0.}[TeV**-2] data, Ideal Events. \n",
      "Event format: {{s, θ, θZ, ϕZ, θWrec, ϕWrec, PtZ}, weight}.\n",
      "Converted from /data3/WZ_new_project/dat/Ideal_Events/ChP_pt300_gphi6e-3.dat.gz\n",
      "Charge = 1 --- Process = W+Z\n",
      "#####\n",
      "\n",
      "Reading file .../madminer/madminer/examples/tutorial_particle_physics/toydata/ChP_pt300_sm_out.h5\n",
      "##### File Info:\n",
      "SM = {0., 0.}[TeV**-2] data, Ideal Events. \n",
      "Event format: {{s, θ, θZ, ϕZ, θWrec, ϕWrec, PtZ}, weight}.\n",
      "Converted from /data3/WZ_new_project/dat/Ideal_Events/ChP_pt300_sm_2.dat.gz\n",
      "Charge = 1 --- Process = W+Z\n",
      "#####\n",
      "\n",
      "Loaded SM Files:\n",
      "['Gphi[TeV**-2]', 'GW[TeV**-2]']           #Data    XS[pb](avg.w)\n",
      "---------------------------------------  -------  ---------------\n",
      "tensor([[0., 0.]], dtype=torch.float64)  3000000         0.741835\n",
      "\n",
      "Loaded BSM Files:\n",
      "['Gphi[TeV**-2]', 'GW[TeV**-2]']                   #Data    XS[pb](avg.w)\n",
      "-----------------------------------------------  -------  ---------------\n",
      "tensor([[0.0060, 0.0000]], dtype=torch.float64)  3000000         0.761347\n",
      "\n",
      "Paired BSM/SM Datasets:\n",
      "\n",
      "['Gphi[TeV**-2]', 'GW[TeV**-2]']                   #Ev.BSM    #Ev.SM    Check\n",
      "-----------------------------------------------  ---------  --------  -------\n",
      "tensor([[0.0060, 0.0000]], dtype=torch.float64)    3000000   3000000    3e+06\n",
      "####\n",
      "Anlges at position [3, 5] have been converted to Sin and Cos and put at the last columns of the Data.\n",
      "####\n"
     ]
    }
   ],
   "source": [
    "td = OurTrainingData([data_path+'/ChP_pt300_sm_out.h5'],\n",
    "                     [data_path+'/ChP_pt300_gphi6e-3.h5',],\n",
    "                     process = 'W+Z', parameters =['Gphi[TeV**-2]','GW[TeV**-2]'], \n",
    "                     SMNLimits=int(3e6), BSMNLimits=int(3e6))\n",
    "\n",
    "td.Data = td.Data[:, :7]\n",
    "td.CurateAngles([3, 5])\n",
    "\n",
    "Data, ParVal, Labels, Weights = td.Data, td.ParVal, td.Labels, td.Weights\n",
    "Data, ParVal, Labels, Weights = Data.float(), ParVal.float(), Labels.float(), Weights.float()\n",
    "\n",
    "NSM = td.SMWeights.mean()*3000\n",
    "NBSMList = [td.BSMWeightsList[i].mean()*3000 for i in range(len(td.BSMWeightsList))]\n",
    "\n",
    "h = h5py.File(os.getcwd()+'/toydata/gphi_toydata_test_6e-3_out.h5', 'w')\n",
    "\n",
    "h.create_dataset('Data', data=Data)\n",
    "h.create_dataset('Weights', data=Weights)\n",
    "h.create_dataset('Labels', data=Labels)\n",
    "h.create_dataset('NSM', data = NSM)\n",
    "h.create_dataset('NBSMList', data=NBSMList)\n",
    "\n",
    "h.close()"
   ]
  },
  {
   "cell_type": "code",
   "execution_count": 33,
   "metadata": {
    "scrolled": true
   },
   "outputs": [
    {
     "name": "stdout",
     "output_type": "stream",
     "text": [
      "Loading Data Files for Process: W+Z, with new physics Parameters: ['Gphi[TeV**-2]', 'GW[TeV**-2]']\n",
      "Only 1D Implemented in Training !\n",
      "\n",
      "Reading file .../madminer/madminer/examples/tutorial_particle_physics/toydata/ChP_pt300_gphi5e-3.h5\n",
      "##### File Info:\n",
      "{Gphi[TeV**-2], GW[TeV**-2]} = {0.005, 0.}[TeV**-2] data, Ideal Events. \n",
      "Event format: {{s, θ, θZ, ϕZ, θWrec, ϕWrec, PtZ}, weight}.\n",
      "Converted from /data3/WZ_new_project/dat/Ideal_Events/ChP_pt300_gphi5e-3.dat.gz\n",
      "Charge = 1 --- Process = W+Z\n",
      "#####\n",
      "\n",
      "Reading file .../madminer/madminer/examples/tutorial_particle_physics/toydata/ChP_pt300_sm_out.h5\n",
      "##### File Info:\n",
      "SM = {0., 0.}[TeV**-2] data, Ideal Events. \n",
      "Event format: {{s, θ, θZ, ϕZ, θWrec, ϕWrec, PtZ}, weight}.\n",
      "Converted from /data3/WZ_new_project/dat/Ideal_Events/ChP_pt300_sm_2.dat.gz\n",
      "Charge = 1 --- Process = W+Z\n",
      "#####\n",
      "\n",
      "Loaded SM Files:\n",
      "['Gphi[TeV**-2]', 'GW[TeV**-2]']           #Data    XS[pb](avg.w)\n",
      "---------------------------------------  -------  ---------------\n",
      "tensor([[0., 0.]], dtype=torch.float64)  3000000         0.741835\n",
      "\n",
      "Loaded BSM Files:\n",
      "['Gphi[TeV**-2]', 'GW[TeV**-2]']                   #Data    XS[pb](avg.w)\n",
      "-----------------------------------------------  -------  ---------------\n",
      "tensor([[0.0050, 0.0000]], dtype=torch.float64)  3000000         0.757816\n",
      "\n",
      "Paired BSM/SM Datasets:\n",
      "\n",
      "['Gphi[TeV**-2]', 'GW[TeV**-2]']                   #Ev.BSM    #Ev.SM    Check\n",
      "-----------------------------------------------  ---------  --------  -------\n",
      "tensor([[0.0050, 0.0000]], dtype=torch.float64)    3000000   3000000    3e+06\n",
      "####\n",
      "Anlges at position [3, 5] have been converted to Sin and Cos and put at the last columns of the Data.\n",
      "####\n"
     ]
    }
   ],
   "source": [
    "td = OurTrainingData([data_path+'/ChP_pt300_sm_out.h5'],\n",
    "                     [data_path+'/ChP_pt300_gphi5e-3.h5',],\n",
    "                     process = 'W+Z', parameters =['Gphi[TeV**-2]','GW[TeV**-2]'], \n",
    "                     SMNLimits=int(3e6), BSMNLimits=int(3e6))\n",
    "\n",
    "td.Data = td.Data[:, :7]\n",
    "td.CurateAngles([3, 5])\n",
    "\n",
    "Data, ParVal, Labels, Weights = td.Data, td.ParVal, td.Labels, td.Weights\n",
    "Data, ParVal, Labels, Weights = Data.float(), ParVal.float(), Labels.float(), Weights.float()\n",
    "\n",
    "NSM = td.SMWeights.mean()*3000\n",
    "NBSMList = [td.BSMWeightsList[i].mean()*3000 for i in range(len(td.BSMWeightsList))]\n",
    "\n",
    "h = h5py.File(os.getcwd()+'/toydata/gphi_toydata_test_5e-3_out.h5', 'w')\n",
    "\n",
    "h.create_dataset('Data', data=Data)\n",
    "h.create_dataset('Weights', data=Weights)\n",
    "h.create_dataset('Labels', data=Labels)\n",
    "h.create_dataset('NSM', data = NSM)\n",
    "h.create_dataset('NBSMList', data=NBSMList)\n",
    "\n",
    "h.close()"
   ]
  },
  {
   "cell_type": "code",
   "execution_count": 34,
   "metadata": {
    "scrolled": true
   },
   "outputs": [
    {
     "name": "stdout",
     "output_type": "stream",
     "text": [
      "Loading Data Files for Process: W+Z, with new physics Parameters: ['Gphi[TeV**-2]', 'GW[TeV**-2]']\n",
      "Only 1D Implemented in Training !\n",
      "\n",
      "Reading file .../madminer/madminer/examples/tutorial_particle_physics/toydata/ChP_pt300_gphi4e-3.h5\n",
      "##### File Info:\n",
      "{Gphi[TeV**-2], GW[TeV**-2]} = {0.004, 0.}[TeV**-2] data, Ideal Events. \n",
      "Event format: {{s, θ, θZ, ϕZ, θWrec, ϕWrec, PtZ}, weight}.\n",
      "Converted from /data3/WZ_new_project/dat/Ideal_Events/ChP_pt300_gphi4e-3.dat.gz\n",
      "Charge = 1 --- Process = W+Z\n",
      "#####\n",
      "\n",
      "Reading file .../madminer/madminer/examples/tutorial_particle_physics/toydata/ChP_pt300_sm_out.h5\n",
      "##### File Info:\n",
      "SM = {0., 0.}[TeV**-2] data, Ideal Events. \n",
      "Event format: {{s, θ, θZ, ϕZ, θWrec, ϕWrec, PtZ}, weight}.\n",
      "Converted from /data3/WZ_new_project/dat/Ideal_Events/ChP_pt300_sm_2.dat.gz\n",
      "Charge = 1 --- Process = W+Z\n",
      "#####\n",
      "\n",
      "Loaded SM Files:\n",
      "['Gphi[TeV**-2]', 'GW[TeV**-2]']           #Data    XS[pb](avg.w)\n",
      "---------------------------------------  -------  ---------------\n",
      "tensor([[0., 0.]], dtype=torch.float64)  3000000         0.741835\n",
      "\n",
      "Loaded BSM Files:\n",
      "['Gphi[TeV**-2]', 'GW[TeV**-2]']                   #Data    XS[pb](avg.w)\n",
      "-----------------------------------------------  -------  ---------------\n",
      "tensor([[0.0040, 0.0000]], dtype=torch.float64)  3000000         0.754596\n",
      "\n",
      "Paired BSM/SM Datasets:\n",
      "\n",
      "['Gphi[TeV**-2]', 'GW[TeV**-2]']                   #Ev.BSM    #Ev.SM    Check\n",
      "-----------------------------------------------  ---------  --------  -------\n",
      "tensor([[0.0040, 0.0000]], dtype=torch.float64)    3000000   3000000    3e+06\n",
      "####\n",
      "Anlges at position [3, 5] have been converted to Sin and Cos and put at the last columns of the Data.\n",
      "####\n"
     ]
    }
   ],
   "source": [
    "td = OurTrainingData([data_path+'/ChP_pt300_sm_out.h5'],\n",
    "                     [data_path+'/ChP_pt300_gphi4e-3.h5',],\n",
    "                     process = 'W+Z', parameters =['Gphi[TeV**-2]','GW[TeV**-2]'], \n",
    "                     SMNLimits=int(3e6), BSMNLimits=int(3e6))\n",
    "\n",
    "td.Data = td.Data[:, :7]\n",
    "td.CurateAngles([3, 5])\n",
    "\n",
    "Data, ParVal, Labels, Weights = td.Data, td.ParVal, td.Labels, td.Weights\n",
    "Data, ParVal, Labels, Weights = Data.float(), ParVal.float(), Labels.float(), Weights.float()\n",
    "\n",
    "NSM = td.SMWeights.mean()*3000\n",
    "NBSMList = [td.BSMWeightsList[i].mean()*3000 for i in range(len(td.BSMWeightsList))]\n",
    "\n",
    "h = h5py.File(os.getcwd()+'/toydata/gphi_toydata_test_4e-3_out.h5', 'w')\n",
    "\n",
    "h.create_dataset('Data', data=Data)\n",
    "h.create_dataset('Weights', data=Weights)\n",
    "h.create_dataset('Labels', data=Labels)\n",
    "h.create_dataset('NSM', data = NSM)\n",
    "h.create_dataset('NBSMList', data=NBSMList)\n",
    "\n",
    "h.close()"
   ]
  },
  {
   "cell_type": "code",
   "execution_count": 25,
   "metadata": {
    "scrolled": true
   },
   "outputs": [
    {
     "name": "stdout",
     "output_type": "stream",
     "text": [
      "Loading Data Files for Process: W+Z, with new physics Parameters: ['Gphi[TeV**-2]', 'GW[TeV**-2]']\n",
      "Only 1D Implemented in Training !\n",
      "\n",
      "Reading file .../madminer/madminer/examples/tutorial_particle_physics/toydata/ChP_pt300_gphi35e-4.h5\n",
      "##### File Info:\n",
      "{Gphi[TeV**-2], GW[TeV**-2]} = {0.0035, 0.}[TeV**-2] data, Ideal Events. \n",
      "Event format: {{s, θ, θZ, ϕZ, θWrec, ϕWrec, PtZ}, weight}.\n",
      "Converted from /data3/WZ_new_project/dat/Ideal_Events/ChP_pt300_gphi35e-4.dat.gz\n",
      "Charge = 1 --- Process = W+Z\n",
      "#####\n",
      "\n",
      "Reading file .../madminer/madminer/examples/tutorial_particle_physics/toydata/ChP_pt300_sm_out.h5\n",
      "##### File Info:\n",
      "SM = {0., 0.}[TeV**-2] data, Ideal Events. \n",
      "Event format: {{s, θ, θZ, ϕZ, θWrec, ϕWrec, PtZ}, weight}.\n",
      "Converted from /data3/WZ_new_project/dat/Ideal_Events/ChP_pt300_sm_2.dat.gz\n",
      "Charge = 1 --- Process = W+Z\n",
      "#####\n",
      "\n",
      "Loaded SM Files:\n",
      "['Gphi[TeV**-2]', 'GW[TeV**-2]']           #Data    XS[pb](avg.w)\n",
      "---------------------------------------  -------  ---------------\n",
      "tensor([[0., 0.]], dtype=torch.float64)  3000000         0.741835\n",
      "\n",
      "Loaded BSM Files:\n",
      "['Gphi[TeV**-2]', 'GW[TeV**-2]']                   #Data    XS[pb](avg.w)\n",
      "-----------------------------------------------  -------  ---------------\n",
      "tensor([[0.0035, 0.0000]], dtype=torch.float64)  3000000         0.753149\n",
      "\n",
      "Paired BSM/SM Datasets:\n",
      "\n",
      "['Gphi[TeV**-2]', 'GW[TeV**-2]']                   #Ev.BSM    #Ev.SM    Check\n",
      "-----------------------------------------------  ---------  --------  -------\n",
      "tensor([[0.0035, 0.0000]], dtype=torch.float64)     500000    500000   500000\n",
      "####\n",
      "Anlges at position [3, 5] have been converted to Sin and Cos and put at the last columns of the Data.\n",
      "####\n"
     ]
    }
   ],
   "source": [
    "td = OurTrainingData([data_path+'/ChP_pt300_sm_out.h5'],\n",
    "                     [data_path+'/ChP_pt300_gphi35e-4.h5',],\n",
    "                     process = 'W+Z', parameters =['Gphi[TeV**-2]','GW[TeV**-2]'], \n",
    "                     SMNLimits=int(5e5), BSMNLimits=int(5e5))\n",
    "\n",
    "td.Data = td.Data[:, :7]\n",
    "td.CurateAngles([3, 5])\n",
    "\n",
    "Data, ParVal, Labels, Weights = td.Data, td.ParVal, td.Labels, td.Weights\n",
    "Data, ParVal, Labels, Weights = Data.float(), ParVal.float(), Labels.float(), Weights.float()\n",
    "\n",
    "NSM = td.SMWeights.mean()*3000\n",
    "NBSMList = [td.BSMWeightsList[i].mean()*3000 for i in range(len(td.BSMWeightsList))]\n",
    "\n",
    "h = h5py.File(os.getcwd()+'/toydata/gphi_toydata_test_35e-4_out.h5', 'w')\n",
    "\n",
    "h.create_dataset('Data', data=Data)\n",
    "h.create_dataset('Weights', data=Weights)\n",
    "h.create_dataset('Labels', data=Labels)\n",
    "h.create_dataset('NSM', data = NSM)\n",
    "h.create_dataset('NBSMList', data=NBSMList)\n",
    "\n",
    "h.close()"
   ]
  },
  {
   "cell_type": "code",
   "execution_count": null,
   "metadata": {},
   "outputs": [],
   "source": []
  },
  {
   "cell_type": "code",
   "execution_count": null,
   "metadata": {},
   "outputs": [],
   "source": []
  }
 ],
 "metadata": {
  "kernelspec": {
   "display_name": "Python 2",
   "language": "python",
   "name": "python2"
  },
  "language_info": {
   "codemirror_mode": {
    "name": "ipython",
    "version": 3
   },
   "file_extension": ".py",
   "mimetype": "text/x-python",
   "name": "python",
   "nbconvert_exporter": "python",
   "pygments_lexer": "ipython3",
   "version": "3.8.2"
  }
 },
 "nbformat": 4,
 "nbformat_minor": 4
}
