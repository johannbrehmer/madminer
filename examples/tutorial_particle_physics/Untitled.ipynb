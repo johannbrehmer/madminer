{
 "cells": [
  {
   "cell_type": "code",
   "execution_count": 32,
   "metadata": {},
   "outputs": [],
   "source": [
    "import h5py, os\n",
    "import numpy as np"
   ]
  },
  {
   "cell_type": "code",
   "execution_count": 33,
   "metadata": {},
   "outputs": [],
   "source": [
    "f = h5py.File(os.getcwd()+'/data/lhe_data.h5', 'r+')\n",
    "#f = h5py.File(os.getcwd()+'/data/lhe_data_shuffled.h5', 'r+')"
   ]
  },
  {
   "cell_type": "code",
   "execution_count": 34,
   "metadata": {},
   "outputs": [
    {
     "data": {
      "text/plain": [
       "<KeysViewHDF5 ['benchmarks', 'morphing', 'observables', 'parameters', 'sample_summary', 'samples']>"
      ]
     },
     "execution_count": 34,
     "metadata": {},
     "output_type": "execute_result"
    }
   ],
   "source": [
    "f.keys()"
   ]
  },
  {
   "cell_type": "code",
   "execution_count": 35,
   "metadata": {},
   "outputs": [
    {
     "data": {
      "text/plain": [
       "<KeysViewHDF5 ['is_nuisance', 'is_reference', 'names', 'values']>"
      ]
     },
     "execution_count": 35,
     "metadata": {},
     "output_type": "execute_result"
    }
   ],
   "source": [
    "bm = f['benchmarks']\n",
    "bm.keys()"
   ]
  },
  {
   "cell_type": "code",
   "execution_count": 36,
   "metadata": {},
   "outputs": [
    {
     "data": {
      "text/plain": [
       "<KeysViewHDF5 ['components', 'morphing_matrix']>"
      ]
     },
     "execution_count": 36,
     "metadata": {},
     "output_type": "execute_result"
    }
   ],
   "source": [
    "mp = f['morphing']\n",
    "mp.keys()"
   ]
  },
  {
   "cell_type": "code",
   "execution_count": 37,
   "metadata": {},
   "outputs": [
    {
     "data": {
      "text/plain": [
       "<KeysViewHDF5 ['definitions', 'names']>"
      ]
     },
     "execution_count": 37,
     "metadata": {},
     "output_type": "execute_result"
    }
   ],
   "source": [
    "ob = f['observables']\n",
    "ob.keys()"
   ]
  },
  {
   "cell_type": "code",
   "execution_count": 38,
   "metadata": {},
   "outputs": [
    {
     "data": {
      "text/plain": [
       "<KeysViewHDF5 ['lha_blocks', 'lha_ids', 'max_power', 'names', 'ranges', 'transforms']>"
      ]
     },
     "execution_count": 38,
     "metadata": {},
     "output_type": "execute_result"
    }
   ],
   "source": [
    "pm = f['parameters']\n",
    "pm.keys()"
   ]
  },
  {
   "cell_type": "code",
   "execution_count": 39,
   "metadata": {},
   "outputs": [
    {
     "data": {
      "text/plain": [
       "<KeysViewHDF5 ['background_events', 'signal_events_per_benchmark']>"
      ]
     },
     "execution_count": 39,
     "metadata": {},
     "output_type": "execute_result"
    }
   ],
   "source": [
    "ss = f['sample_summary']\n",
    "ss.keys()"
   ]
  },
  {
   "cell_type": "code",
   "execution_count": 40,
   "metadata": {},
   "outputs": [
    {
     "data": {
      "text/plain": [
       "<KeysViewHDF5 ['observations', 'sampling_benchmarks', 'weights']>"
      ]
     },
     "execution_count": 40,
     "metadata": {},
     "output_type": "execute_result"
    }
   ],
   "source": [
    "samples = f['samples']\n",
    "samples.keys()"
   ]
  },
  {
   "cell_type": "code",
   "execution_count": 41,
   "metadata": {},
   "outputs": [
    {
     "data": {
      "text/plain": [
       "array([3., 3., 3., ..., 9., 9., 9.])"
      ]
     },
     "execution_count": 41,
     "metadata": {},
     "output_type": "execute_result"
    }
   ],
   "source": [
    "np.array(f['samples/sampling_benchmarks'])"
   ]
  },
  {
   "cell_type": "code",
   "execution_count": 11,
   "metadata": {},
   "outputs": [],
   "source": [
    "f.close()"
   ]
  },
  {
   "cell_type": "markdown",
   "metadata": {},
   "source": [
    "### Samples"
   ]
  },
  {
   "cell_type": "code",
   "execution_count": 15,
   "metadata": {},
   "outputs": [
    {
     "data": {
      "text/plain": [
       "(6000000, 9)"
      ]
     },
     "execution_count": 15,
     "metadata": {},
     "output_type": "execute_result"
    }
   ],
   "source": [
    "observations = np.array(samples['observations'])\n",
    "observations.shape"
   ]
  },
  {
   "cell_type": "code",
   "execution_count": 42,
   "metadata": {},
   "outputs": [
    {
     "data": {
      "text/plain": [
       "array([[1.00000000e+10, 1.00000000e+10, 1.00000000e+10, ...,\n",
       "        1.00000000e+10, 1.00000000e+10, 1.00000000e+10],\n",
       "       [1.00000000e+10, 1.00000000e+10, 1.00000000e+10, ...,\n",
       "        1.00000000e+10, 1.00000000e+10, 1.00000000e+10],\n",
       "       [1.00000000e+10, 1.00000000e+10, 1.00000000e+10, ...,\n",
       "        1.00000000e+10, 1.00000000e+10, 1.00000000e+10],\n",
       "       ...,\n",
       "       [1.00000000e+10, 1.00000000e+10, 1.00000000e+10, ...,\n",
       "        1.00000000e+10, 1.00000000e+10, 2.08103695e-12],\n",
       "       [1.00000000e+10, 1.00000000e+10, 1.00000000e+10, ...,\n",
       "        1.00000000e+10, 1.00000000e+10, 2.08103695e-12],\n",
       "       [1.00000000e+10, 1.00000000e+10, 1.00000000e+10, ...,\n",
       "        1.00000000e+10, 1.00000000e+10, 2.08103695e-12]])"
      ]
     },
     "execution_count": 42,
     "metadata": {},
     "output_type": "execute_result"
    }
   ],
   "source": [
    "weights = np.array(samples['weights'])\n",
    "weights"
   ]
  },
  {
   "cell_type": "code",
   "execution_count": 36,
   "metadata": {},
   "outputs": [
    {
     "ename": "KeyboardInterrupt",
     "evalue": "",
     "output_type": "error",
     "traceback": [
      "\u001b[0;31m---------------------------------------------------------------------------\u001b[0m",
      "\u001b[0;31mKeyboardInterrupt\u001b[0m                         Traceback (most recent call last)",
      "\u001b[0;32m<ipython-input-36-b00cfe728aa1>\u001b[0m in \u001b[0;36m<module>\u001b[0;34m\u001b[0m\n\u001b[1;32m      1\u001b[0m \u001b[0msampling_benchmarks\u001b[0m \u001b[0;34m=\u001b[0m \u001b[0mnp\u001b[0m\u001b[0;34m.\u001b[0m\u001b[0marray\u001b[0m\u001b[0;34m(\u001b[0m\u001b[0msamples\u001b[0m\u001b[0;34m[\u001b[0m\u001b[0;34m'sampling_benchmarks'\u001b[0m\u001b[0;34m]\u001b[0m\u001b[0;34m)\u001b[0m\u001b[0;34m\u001b[0m\u001b[0;34m\u001b[0m\u001b[0m\n\u001b[0;32m----> 2\u001b[0;31m \u001b[0mprint\u001b[0m\u001b[0;34m(\u001b[0m\u001b[0;34m'num of sm events: '\u001b[0m\u001b[0;34m+\u001b[0m\u001b[0mstr\u001b[0m\u001b[0;34m(\u001b[0m\u001b[0msum\u001b[0m\u001b[0;34m(\u001b[0m\u001b[0msampling_benchmarks\u001b[0m \u001b[0;34m==\u001b[0m \u001b[0;36m3\u001b[0m\u001b[0;34m)\u001b[0m\u001b[0;34m)\u001b[0m\u001b[0;34m)\u001b[0m\u001b[0;34m\u001b[0m\u001b[0;34m\u001b[0m\u001b[0m\n\u001b[0m\u001b[1;32m      3\u001b[0m \u001b[0;31m#print('num of 50 events: '+str(sum(sampling_benchmarks == 4)))\u001b[0m\u001b[0;34m\u001b[0m\u001b[0;34m\u001b[0m\u001b[0;34m\u001b[0m\u001b[0m\n\u001b[1;32m      4\u001b[0m \u001b[0;31m#print('num of neg_50 events: '+str(sum(sampling_benchmarks == 5)))\u001b[0m\u001b[0;34m\u001b[0m\u001b[0;34m\u001b[0m\u001b[0;34m\u001b[0m\u001b[0m\n\u001b[1;32m      5\u001b[0m \u001b[0;31m#print('num of 200 events: '+str(sum(sampling_benchmarks == 6)))\u001b[0m\u001b[0;34m\u001b[0m\u001b[0;34m\u001b[0m\u001b[0;34m\u001b[0m\u001b[0m\n",
      "\u001b[0;31mKeyboardInterrupt\u001b[0m: "
     ]
    }
   ],
   "source": [
    "sampling_benchmarks = np.array(samples['sampling_benchmarks'])\n",
    "print('num of sm events: '+str(sum(sampling_benchmarks == 3)))\n",
    "#print('num of 50 events: '+str(sum(sampling_benchmarks == 4)))\n",
    "#print('num of neg_50 events: '+str(sum(sampling_benchmarks == 5)))\n",
    "#print('num of 200 events: '+str(sum(sampling_benchmarks == 6)))\n",
    "#print('num of neg_200 events: '+str(sum(sampling_benchmarks == 7)))\n",
    "#print('num of 500 events: '+str(sum(sampling_benchmarks == 8)))\n",
    "#print('num of neg_500 events: '+str(sum(sampling_benchmarks == 9)))"
   ]
  },
  {
   "cell_type": "code",
   "execution_count": null,
   "metadata": {},
   "outputs": [],
   "source": []
  },
  {
   "cell_type": "markdown",
   "metadata": {},
   "source": [
    "### Embedding toy data"
   ]
  },
  {
   "cell_type": "code",
   "execution_count": 17,
   "metadata": {},
   "outputs": [],
   "source": [
    "toydataFile = h5py.File(os.getcwd()+'/toydata/gphi_toydata.h5', 'r')"
   ]
  },
  {
   "cell_type": "markdown",
   "metadata": {},
   "source": [
    "#### data"
   ]
  },
  {
   "cell_type": "code",
   "execution_count": 18,
   "metadata": {
    "scrolled": true
   },
   "outputs": [
    {
     "data": {
      "text/plain": [
       "<HDF5 dataset \"observations\": shape (6000000, 9), type \"<f4\">"
      ]
     },
     "execution_count": 18,
     "metadata": {},
     "output_type": "execute_result"
    }
   ],
   "source": [
    "del f['samples/observations']\n",
    "f.create_dataset('samples/observations', data=np.array(toydataFile['Data']))"
   ]
  },
  {
   "cell_type": "markdown",
   "metadata": {},
   "source": [
    "#### sampling_benchmarks"
   ]
  },
  {
   "cell_type": "code",
   "execution_count": 19,
   "metadata": {},
   "outputs": [
    {
     "data": {
      "text/plain": [
       "<HDF5 dataset \"sampling_benchmarks\": shape (6000000,), type \"<f8\">"
      ]
     },
     "execution_count": 19,
     "metadata": {},
     "output_type": "execute_result"
    }
   ],
   "source": [
    "N = 500000\n",
    "sampling_benchmarks = np.concatenate([np.concatenate([np.ones(N)*3, np.ones(N)*i]) for i in range(4, 10)])\n",
    "del f['samples/sampling_benchmarks']\n",
    "f.create_dataset('samples/sampling_benchmarks', data=sampling_benchmarks)"
   ]
  },
  {
   "cell_type": "markdown",
   "metadata": {},
   "source": [
    "#### weights"
   ]
  },
  {
   "cell_type": "code",
   "execution_count": 21,
   "metadata": {},
   "outputs": [],
   "source": [
    "Weights = np.array(toydataFile['Weights'])"
   ]
  },
  {
   "cell_type": "code",
   "execution_count": 22,
   "metadata": {},
   "outputs": [
    {
     "data": {
      "text/plain": [
       "array([1.0429338e-12, 1.0429338e-12, 1.0429338e-12, ..., 2.8697630e-12,\n",
       "       6.3399472e-12, 4.3035228e-10], dtype=float32)"
      ]
     },
     "execution_count": 22,
     "metadata": {},
     "output_type": "execute_result"
    }
   ],
   "source": [
    "Weights"
   ]
  },
  {
   "cell_type": "code",
   "execution_count": 24,
   "metadata": {},
   "outputs": [],
   "source": [
    "weights = np.ones([N*12, 10])*(1e10)"
   ]
  },
  {
   "cell_type": "code",
   "execution_count": 25,
   "metadata": {},
   "outputs": [],
   "source": [
    "#weights[N*0:N*1, 3] = Weights[N*0]\n",
    "#weights[N*1:N*2, 4] = Weights[N*1]\n",
    "#weights[N*:N*1, 3] = Weights[N*0]"
   ]
  },
  {
   "cell_type": "code",
   "execution_count": 26,
   "metadata": {},
   "outputs": [
    {
     "name": "stdout",
     "output_type": "stream",
     "text": [
      "sm data, pos=3\n",
      "bsm data, pos=4\n",
      "sm data, pos=3\n",
      "bsm data, pos=5\n",
      "sm data, pos=3\n",
      "bsm data, pos=6\n",
      "sm data, pos=3\n",
      "bsm data, pos=7\n",
      "sm data, pos=3\n",
      "bsm data, pos=8\n",
      "sm data, pos=3\n",
      "bsm data, pos=9\n"
     ]
    }
   ],
   "source": [
    "for i in range(12):\n",
    "    if i%2==0:\n",
    "        print('sm data, pos=%d'%(3))\n",
    "        weights[N*i:N*(i+1), 3] = Weights[N*i]\n",
    "    else:\n",
    "        print('bsm data, pos=%d'%(3+(i+1)/2))\n",
    "        weights[N*i:N*(i+1), int(3+(i+1)/2)] = Weights[N*i]"
   ]
  },
  {
   "cell_type": "code",
   "execution_count": 27,
   "metadata": {},
   "outputs": [
    {
     "data": {
      "text/plain": [
       "<HDF5 dataset \"weights\": shape (6000000, 10), type \"<f8\">"
      ]
     },
     "execution_count": 27,
     "metadata": {},
     "output_type": "execute_result"
    }
   ],
   "source": [
    "del f['samples/weights']\n",
    "f.create_dataset('samples/weights', data=weights)"
   ]
  },
  {
   "cell_type": "markdown",
   "metadata": {},
   "source": [
    "#### observable numbers"
   ]
  },
  {
   "cell_type": "code",
   "execution_count": 28,
   "metadata": {},
   "outputs": [
    {
     "data": {
      "text/plain": [
       "<KeysViewHDF5 ['definitions', 'names']>"
      ]
     },
     "execution_count": 28,
     "metadata": {},
     "output_type": "execute_result"
    }
   ],
   "source": [
    "f['observables'].keys()"
   ]
  },
  {
   "cell_type": "code",
   "execution_count": 29,
   "metadata": {},
   "outputs": [
    {
     "name": "stdout",
     "output_type": "stream",
     "text": [
      "[b's' b'theta' b'thetaZ' b'thetaW' b'Sin(phiZ)' b'Sin(phiW)' b'Cos(phiZ)'\n",
      " b'Cos(phiW)' b'Pt']\n",
      "[b's' b'theta' b'thetaZ' b'thetaW' b'Sin(phiZ)' b'Sin(phiW)' b'Cos(phiZ)'\n",
      " b'Cos(phiW)' b'Pt']\n"
     ]
    }
   ],
   "source": [
    "print(np.array(f['observables/definitions']))\n",
    "print(np.array(f['observables/names']))"
   ]
  },
  {
   "cell_type": "code",
   "execution_count": 30,
   "metadata": {},
   "outputs": [
    {
     "data": {
      "text/plain": [
       "<HDF5 dataset \"names\": shape (9,), type \"|S9\">"
      ]
     },
     "execution_count": 30,
     "metadata": {},
     "output_type": "execute_result"
    }
   ],
   "source": [
    "del f['observables/definitions']\n",
    "del f['observables/names']\n",
    "\n",
    "observables = ['s', 'theta', 'thetaZ', 'thetaW', 'Sin(phiZ)', 'Sin(phiW)', 'Cos(phiZ)', 'Cos(phiW)', 'Pt']\n",
    "f.create_dataset('observables/definitions', data=(np.array(observables, dtype='S')))\n",
    "f.create_dataset('observables/names', data=(np.array(observables, dtype='S')))"
   ]
  },
  {
   "cell_type": "code",
   "execution_count": 31,
   "metadata": {},
   "outputs": [],
   "source": [
    "f.close()"
   ]
  },
  {
   "cell_type": "code",
   "execution_count": null,
   "metadata": {},
   "outputs": [],
   "source": []
  }
 ],
 "metadata": {
  "kernelspec": {
   "display_name": "Python 2",
   "language": "python",
   "name": "python2"
  },
  "language_info": {
   "codemirror_mode": {
    "name": "ipython",
    "version": 3
   },
   "file_extension": ".py",
   "mimetype": "text/x-python",
   "name": "python",
   "nbconvert_exporter": "python",
   "pygments_lexer": "ipython3",
   "version": "3.8.2"
  }
 },
 "nbformat": 4,
 "nbformat_minor": 4
}
