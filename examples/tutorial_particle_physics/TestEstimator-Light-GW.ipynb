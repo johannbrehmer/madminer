{
 "cells": [
  {
   "cell_type": "code",
   "execution_count": null,
   "metadata": {},
   "outputs": [],
   "source": [
    "#if you have not installed tabulate \n",
    "#this is just for printing the information of data in a prettier format\n",
    "! pip install tabulate"
   ]
  },
  {
   "cell_type": "markdown",
   "metadata": {},
   "source": [
    "## Testing Function"
   ]
  },
  {
   "cell_type": "code",
   "execution_count": 1,
   "metadata": {},
   "outputs": [
    {
     "name": "stdout",
     "output_type": "stream",
     "text": [
      "=========== Random Seed: 119 ===========\n"
     ]
    }
   ],
   "source": [
    "#import main code\n",
    "from OurTrainingTools import *\n",
    "#this will throw a random number and print it\n",
    "#to reset the random number manually, use\n",
    "#torch.manual_seed(random_seed)\n",
    "\n",
    "\n",
    "def test_model(madminermodel, test_input_sm, test_input_bsm, bsmparval, NSM, NBSM, epochs, e, n_meas, pm, verbose_t=True, verbose_period_t=1e5, title=''):\n",
    "        \n",
    "        # computing test statistics t (or lambda) in equation (2) of paper\n",
    "        def compute_t(madminermodel, nev, counter, test_input):\n",
    "            # generate number of points for testing under Poisson distribution\n",
    "            n_gen = 0\n",
    "            while n_gen == 0:\n",
    "                n_gen = np.random.poisson(nev)\n",
    "            \n",
    "            # stop if there are no more points to test\n",
    "            if (counter + n_gen) >= len(test_input):\n",
    "                return 0., -1\n",
    "            \n",
    "            points = test_input[int(counter): int(counter+n_gen)]\n",
    "            \n",
    "            # compute test statistics\n",
    "            log_ratio = (madminermodel.evaluate_log_likelihood_ratio(points.numpy(), \n",
    "                                            np.array([0.]), np.array([bsmparval,]))[0][0])\n",
    "            log_ratio = torch.tensor(log_ratio)\n",
    "            #ratio = 1./ratio\n",
    "            log_ratio = log_ratio\n",
    "            out  = 2 * (NBSM - NSM - (log_ratio+torch.log(torch.tensor(NBSM/NSM))).sum(0))\n",
    "            \n",
    "            #return test statistics and the starting point for the next batch\n",
    "            return out, int(counter+n_gen)\n",
    "        \n",
    "        test_start = time.time()\n",
    "        if verbose_t:\n",
    "            print(\"NSM = %.3f --- NBSM = %.3f\"%(NSM, NBSM))\n",
    "        tsm  = torch.empty(n_meas)\n",
    "        tbsm = torch.empty(n_meas)\n",
    "        \n",
    "        # empty array to store values\n",
    "        tsmcount  = torch.zeros(n_meas+1)\n",
    "        tbsmcount = torch.zeros(n_meas+1)\n",
    "            \n",
    "        for i in range(n_meas):\n",
    "            tsm[i], tsmcount[i+1] = compute_t(madminermodel, NSM, tsmcount[i], \n",
    "                                       test_input_sm)\n",
    "            tbsm[i], tbsmcount[i+1] = compute_t(madminermodel, NBSM, tbsmcount[i], \n",
    "                                       test_input_bsm)\n",
    "            \n",
    "            if (tsmcount[i+1] < 0) or (tbsmcount[i+1] < 0):\n",
    "                print('Reaching the end of test data. Stop tests at %d. '%i)\n",
    "                tsm, tbsm = tsm[: i], tbsm[: i]\n",
    "                n_meas = i\n",
    "                break\n",
    "                \n",
    "            if i % (verbose_period_t) == 0:\n",
    "                print('test %s: tsm = %.3f,  tbsm = %.3f'%(\n",
    "                        str(i).ljust(4), tsm[i], tbsm[i]))\n",
    "        \n",
    "        test_duration = time.time() - test_start\n",
    "        #compute mean and variation of the test statistics in two hypotheses\n",
    "        mu_sm     = tsm.mean().item()\n",
    "        mu_bsm    = tbsm.mean().item()\n",
    "        sigma_sm  = tsm.std().item()\n",
    "        sigma_bsm = tbsm.std().item()\n",
    "        med_sm    = tsm.median().item()\n",
    "        \n",
    "        #compute separation and p-value\n",
    "        sep    = (mu_sm - mu_bsm)/sigma_bsm\n",
    "        p      = 1.*len([i for i in tbsm if i > med_sm])/len(tsm) \n",
    "        #print(len([i for i in tbsm if i>med_sm]))\n",
    "        delta1 = (p * (1 - p)/n_meas)**0.5\n",
    "        delta2 = (sigma_sm/sigma_bsm) * np.exp(-((mu_bsm - mu_sm)**2)/(\n",
    "                2 * sigma_bsm**2))/(2*(n_meas**0.5))\n",
    "        print('===> delta1 = %.3f, delta2 = %.3f'%(delta1, delta2))\n",
    "        deltap = (delta1**2 + delta2**2)**0.5\n",
    "        \n",
    "        results_path = os.getcwd()\n",
    "        \n",
    "        if verbose_t:\n",
    "            print('p = %.3f +/- %.3f' %(p, deltap))\n",
    "            print('Separation = %.2f sigmas'%(sep))\n",
    "            training_properties = '/toydata/madminer-carl-'+title\n",
    "            plot_histogram(tsm, tbsm, int(NSM), int(NBSM), p, deltap, sep, epochs, e, \n",
    "                                training_properties, results_path)\n",
    "            print('Partial test after %d epochs (took %.2f seconds)\\n'\n",
    "                          %(e, test_duration))\n",
    "            \n",
    "        \n",
    "        return sep, p"
   ]
  },
  {
   "cell_type": "code",
   "execution_count": 2,
   "metadata": {},
   "outputs": [],
   "source": [
    "#import main code\n",
    "from OurTrainingTools import *\n",
    "#this will throw a random number and print it\n",
    "#to reset the random number manually, use\n",
    "#torch.manual_seed(random_seed)\n",
    "\n",
    "\n",
    "def test_model_qc(model, test_input_sm, test_input_bsm, bsmparval, NSM, NBSM, epochs, e, n_meas, pm, verbose_t=True, verbose_period_t=1e5, title=''):\n",
    "        \n",
    "        # computing test statistics t (or lambda) in equation (2) of paper\n",
    "        def compute_t(model, nev, counter, test_input):\n",
    "            # generate number of points for testing under Poisson distribution\n",
    "            n_gen = 0\n",
    "            while n_gen == 0:\n",
    "                n_gen = np.random.poisson(nev)\n",
    "            \n",
    "            # stop if there are no more points to test\n",
    "            if (counter + n_gen) >= len(test_input):\n",
    "                return 0., -1\n",
    "            \n",
    "            points = test_input[int(counter): int(counter+n_gen)]\n",
    "            \n",
    "            # compute test statistics\n",
    "            #print(points)\n",
    "            y = model.Forward(points, np.ones(len(points))*bsmparval).detach()\n",
    "            log_ratio = np.log(y/(1.-y))\n",
    "            #calculate_ratio\n",
    "            #log_ratio = torch.tensor(log_ratio)\n",
    "            out  = 2 * (NBSM - NSM - (log_ratio+torch.log(torch.tensor(NBSM/NSM))).sum(0))\n",
    "            \n",
    "            #return test statistics and the starting point for the next batch\n",
    "            return out, int(counter+n_gen)\n",
    "        \n",
    "        test_start = time.time()\n",
    "        if verbose_t:\n",
    "            print(\"NSM = %.3f --- NBSM = %.3f\"%(NSM, NBSM))\n",
    "        tsm  = torch.empty(n_meas)\n",
    "        tbsm = torch.empty(n_meas)\n",
    "        \n",
    "        # empty array to store values\n",
    "        tsmcount  = torch.zeros(n_meas+1)\n",
    "        tbsmcount = torch.zeros(n_meas+1)\n",
    "            \n",
    "        for i in range(n_meas):\n",
    "            tsm[i], tsmcount[i+1] = compute_t(model, NSM, tsmcount[i], \n",
    "                                       test_input_sm)\n",
    "            tbsm[i], tbsmcount[i+1] = compute_t(model, NBSM, tbsmcount[i], \n",
    "                                       test_input_bsm)\n",
    "            \n",
    "            if (tsmcount[i+1] < 0) or (tbsmcount[i+1] < 0):\n",
    "                print('Reaching the end of test data. Stop tests at %d. '%i)\n",
    "                tsm, tbsm = tsm[: i], tbsm[: i]\n",
    "                n_meas = i\n",
    "                break\n",
    "                \n",
    "            if i % (verbose_period_t) == 0:\n",
    "                print('test %s: tsm = %.3f,  tbsm = %.3f'%(\n",
    "                        str(i).ljust(4), tsm[i], tbsm[i]))\n",
    "        \n",
    "        test_duration = time.time() - test_start\n",
    "        \n",
    "        #compute mean and variation of the test statistics in two hypotheses\n",
    "        mu_sm     = tsm.mean().item()\n",
    "        mu_bsm    = tbsm.mean().item()\n",
    "        sigma_sm  = tsm.std().item()\n",
    "        sigma_bsm = tbsm.std().item()\n",
    "        med_sm    = tsm.median().item()\n",
    "        \n",
    "        #compute separation and p-value\n",
    "        sep    = (mu_sm - mu_bsm)/sigma_bsm\n",
    "        p      = 1.*len([i for i in tbsm if i > med_sm])/len(tsm) \n",
    "        #print(len([i for i in tbsm if i>med_sm]))\n",
    "        delta1 = (p * (1 - p)/n_meas)**0.5\n",
    "        delta2 = (sigma_sm/sigma_bsm) * np.exp(-((mu_bsm - mu_sm)**2)/(\n",
    "                2 * sigma_bsm**2))/(2*(n_meas**0.5))\n",
    "        print('===> delta1 = %.3f, delta2 = %.3f'%(delta1, delta2))\n",
    "        deltap = (delta1**2 + delta2**2)**0.5\n",
    "        \n",
    "        results_path = os.getcwd()\n",
    "        if verbose_t:\n",
    "            print('p = %.3f +/- %.3f' %(p, deltap))\n",
    "            print('Separation = %.2f sigmas'%(sep))\n",
    "            training_properties = title\n",
    "            plot_histogram(tsm, tbsm, int(NSM), int(NBSM), p, deltap, sep, epochs, e, \n",
    "                                training_properties, results_path)\n",
    "            print('Partial test after %d epochs (took %.2f seconds)\\n'\n",
    "                          %(e, test_duration))\n",
    "            \n",
    "        \n",
    "        return sep, p"
   ]
  },
  {
   "cell_type": "code",
   "execution_count": 3,
   "metadata": {},
   "outputs": [],
   "source": [
    "def combine_pm(tsm_plus, tbsm_plus, tsm_minus, tbsm_minus, e):\n",
    "    len_sm    = min(len(tsm_plus), len(tsm_minus))\n",
    "    len_bsm   = min(len(tbsm_plus), len(tbsm_minus))\n",
    "    \n",
    "    tsm       = (tsm_plus[:len_sm] + tsm_minus[:len_sm])\n",
    "    tbsm      = (tbsm_plus[:len_bsm] + tbsm_minus[:len_bsm])\n",
    "    \n",
    "    mu_sm     = tsm.mean().item()\n",
    "    mu_bsm    = tbsm.mean().item()\n",
    "    sigma_sm  = tsm.std().item()\n",
    "    sigma_bsm = tbsm.std().item()\n",
    "    med_sm    = tsm.median().item()\n",
    "    \n",
    "    sep    = (mu_sm - mu_bsm)/sigma_bsm\n",
    "    p      = 1.*len([i for i in tbsm if i > med_sm])/len(tsm)\n",
    "    \n",
    "    delta1 = (p * (1 - p)/min(len_sm, len_bsm))**0.5\n",
    "    delta2 = (sigma_sm/sigma_bsm) * np.exp(-((mu_bsm - mu_sm)**2)/(\n",
    "            2 * sigma_bsm**2))/(2*(n_meas**0.5))\n",
    "    deltap = (delta1**2 + delta2**2)**0.5\n",
    "    \n",
    "    title = '%s, %s%s, combined, %s, N=%d, epochs=%d'%(\n",
    "                     outputheader, str(n_neurons), bsm_op, bsm_test, N, e)\n",
    "\n",
    "    simpleplot(tsm, tbsm, title, sep, p, deltap)\n",
    "    \n",
    "    return (p, deltap)"
   ]
  },
  {
   "cell_type": "code",
   "execution_count": 4,
   "metadata": {},
   "outputs": [],
   "source": [
    "def plot_histogram(tsm, tbsm, nsm, nbsm, p, deltap, sep, epochs, \n",
    "                   e, training_properties, results_folder):\n",
    "    mint = torch.min(torch.cat((tsm, tbsm))).item()\n",
    "    maxt = torch.max(torch.cat((tsm, tbsm))).item()\n",
    "    \n",
    "    # for some reason the code complains if i don't detach the variables \n",
    "    # from their grad-on versions\n",
    "    tsm, tbsm = tsm.detach(), tbsm.detach()\n",
    "    \n",
    "    bins = np.linspace(mint, maxt, 60)\n",
    "    plt.figure(figsize=(8, 6))\n",
    "    ax = plt.subplot()\n",
    "    plt.hist(tsm,  bins, alpha=0.5, label='SM')\n",
    "    plt.hist(tbsm, bins, alpha=0.5, label='BSM')\n",
    "    plt.legend(loc='upper right')\n",
    "    \n",
    "    sn   = 'nsm = %s \\nnbsm = %s'%(str(nsm), str(nbsm))\n",
    "    sp   = 'p      '+'= '+ ('%.3f +/- %.3f'%(p, deltap))\n",
    "    ssep = 'sep   ' + '= ' + ('%.3f'%(sep))\n",
    "    \n",
    "    plt.text(x=0.05, y=0.85, transform=ax.transAxes, \n",
    "         s=sn+'\\n'+sp+'\\n'+ssep, bbox=dict(facecolor='blue', alpha=0.2))\n",
    "    plt.xlabel('t')\n",
    "    plt.ylabel('p(t)')\n",
    "    if epochs == e:\n",
    "        plt.title('Final test\\n' + training_properties)\n",
    "        filename = results_folder + training_properties \\\n",
    "                    + ' histogram.pdf'\n",
    "        plt.savefig(filename)\n",
    "        return \n",
    "    plt.title(training_properties)\n",
    "    plt.show()\n",
    "    \n",
    "    return"
   ]
  },
  {
   "cell_type": "code",
   "execution_count": 23,
   "metadata": {},
   "outputs": [],
   "source": [
    "def TestEstimator(estimator, bsmval, bsm_fname='', withXS=True, title_message='', qc=False):\n",
    "    #name of operator\n",
    "    op_name = bsm_fname.split('_')[0]\n",
    "    bsmval_name = bsm_fname.split('_')[-2] \n",
    "    \n",
    "    #toy data file path\n",
    "    f = h5py.File(os.getcwd()+'/toydata/%s.h5'%(bsm_fname), 'r')\n",
    "\n",
    "    #parse data \n",
    "    Data = np.array(f['Data'])\n",
    "    Labels = np.array(f['Labels'])\n",
    "    NSM = np.array(f['NSM'])\n",
    "    \n",
    "    \n",
    "    if withXS:\n",
    "        NBSMList = np.array(f['NBSMList'])\n",
    "        NBSM = NBSMList[0]\n",
    "    else:\n",
    "        NBSM = NSM\n",
    "        \n",
    "    #randomise\n",
    "    Idx_test = torch.randperm(len(Data))\n",
    "    Data_test = torch.Tensor(Data[Idx_test])\n",
    "    Label_test = torch.Tensor(Labels[Idx_test])\n",
    "\n",
    "    #print(Data.mean(0), Data.std(0))\n",
    "    \n",
    "    #select data from each hypothesis\n",
    "    SM_Data  = Data_test[Label_test==0, :]\n",
    "    BSM_Data = Data_test[Label_test==1, :]\n",
    "\n",
    "    #for plotting/ printing\n",
    "    #n_epochs = current_epoch = int(1e4)\n",
    "    n_epochs = int(1e4)\n",
    "    current_epoch = 0\n",
    "    results_path = os.getcwd()\n",
    "    charge = 'plus'\n",
    "\n",
    "    #number of tests thrown on the data\n",
    "    #the test function will stop automatically if points run out\n",
    "    n_meas = 4000\n",
    "\n",
    "    if withXS:\n",
    "        if not qc:\n",
    "            sep, p = test_model(estimator, SM_Data, BSM_Data, bsmval, NSM, NBSM, n_epochs, current_epoch, n_meas, charge, \n",
    "                  verbose_t=True, verbose_period_t=1e5, title='%s = %s'%(op_name, bsmval_name)+title_message)\n",
    "        else:\n",
    "            sep, p = test_model_qc(estimator, SM_Data, BSM_Data, bsmval, NSM, NBSM, n_epochs, current_epoch, n_meas, charge, \n",
    "                  verbose_t=True, verbose_period_t=1e5, title='%s = %s'%(op_name, bsmval_name)+title_message)\n",
    "    else:\n",
    "        if not qc:\n",
    "            sep, p = test_model(estimator, SM_Data, BSM_Data, bsmval, NSM, NBSM, n_epochs, current_epoch, n_meas, charge, \n",
    "              verbose_t=True, verbose_period_t=1e5, title='%s = %s'%(op_name, bsmval_name)+title_message)\n",
    "        else:\n",
    "            sep, p = test_model_qc(estimator, SM_Data, BSM_Data, bsmval, NSM, NBSM, n_epochs, current_epoch, n_meas, charge, \n",
    "              verbose_t=True, verbose_period_t=1e5, title='%s = %s'%(op_name, bsmval_name)+title_message)\n",
    "        \n",
    "        \n",
    "    f.close()\n",
    "    return sep, p"
   ]
  },
  {
   "cell_type": "markdown",
   "metadata": {},
   "source": [
    "## Reading Model"
   ]
  },
  {
   "cell_type": "code",
   "execution_count": 18,
   "metadata": {
    "scrolled": true
   },
   "outputs": [
    {
     "name": "stdout",
     "output_type": "stream",
     "text": [
      "Model successfully loaded.\n",
      "Path: /madminer/madminer/examples/tutorial_particle_physics/models/ChPgw_355.pth\n"
     ]
    }
   ],
   "source": [
    "estimator = OurModel(AR=[9, 32, 32, 32, 32, 1])\n",
    "estimator.Load_CPU('ChPgw_355', os.getcwd()+'/models/')"
   ]
  },
  {
   "cell_type": "code",
   "execution_count": 25,
   "metadata": {},
   "outputs": [
    {
     "name": "stdout",
     "output_type": "stream",
     "text": [
      "NSM = 2225.504 --- NBSM = 2231.468\n",
      "test 0   : tsm = -6.239,  tbsm = -2.807\n",
      "Reaching the end of test data. Stop tests at 223. \n",
      "===> delta1 = 0.021, delta2 = 0.014\n",
      "p = 0.117 +/- 0.026\n",
      "Separation = 1.20 sigmas\n"
     ]
    },
    {
     "data": {
      "image/png": "[encoded data removed]",
      "text/plain": [
       "<Figure size 576x432 with 1 Axes>"
      ]
     },
     "metadata": {
      "needs_background": "light"
     },
     "output_type": "display_data"
    },
    {
     "name": "stdout",
     "output_type": "stream",
     "text": [
      "Partial test after 0 epochs (took 2.83 seconds)\n",
      "\n"
     ]
    },
    {
     "data": {
      "text/plain": [
       "(1.1987297791508915, 0.11659192825112108)"
      ]
     },
     "execution_count": 25,
     "metadata": {},
     "output_type": "execute_result"
    }
   ],
   "source": [
    "gwval = 8e-3\n",
    "gwval_name = 'gw_toydata_test_8e-3_out'\n",
    "\n",
    "TestEstimator(estimator, gwval , gwval_name, title_message=', quadratic classifier', qc=True)"
   ]
  },
  {
   "cell_type": "markdown",
   "metadata": {},
   "source": [
    "### madminer"
   ]
  },
  {
   "cell_type": "code",
   "execution_count": 27,
   "metadata": {},
   "outputs": [],
   "source": [
    "from madminer import ParameterizedRatioEstimator\n",
    "from madminer.ml.morphing_aware import MorphingAwareRatioEstimator\n",
    "\n",
    "estimator = MorphingAwareRatioEstimator(\n",
    "    morphing_setup_filename=os.getcwd()+'/data/setup_gw.h5',\n",
    "    n_hidden=(60,60),\n",
    "    activation=\"tanh\",\n",
    ")\n",
    "\n",
    "estimator.load(os.getcwd()+'/models/carl10-bigbatch-gw')"
   ]
  },
  {
   "cell_type": "code",
   "execution_count": 28,
   "metadata": {},
   "outputs": [
    {
     "name": "stdout",
     "output_type": "stream",
     "text": [
      "NSM = 2225.504 --- NBSM = 2231.468\n",
      "test 0   : tsm = 25.757,  tbsm = 29.117\n",
      "Reaching the end of test data. Stop tests at 223. \n",
      "===> delta1 = 0.033, delta2 = 0.034\n",
      "p = 0.404 +/- 0.047\n",
      "Separation = 0.29 sigmas\n"
     ]
    },
    {
     "data": {
      "image/png": "[encoded data removed]",
      "text/plain": [
       "<Figure size 576x432 with 1 Axes>"
      ]
     },
     "metadata": {
      "needs_background": "light"
     },
     "output_type": "display_data"
    },
    {
     "name": "stdout",
     "output_type": "stream",
     "text": [
      "Partial test after 0 epochs (took 77.32 seconds)\n",
      "\n"
     ]
    },
    {
     "data": {
      "text/plain": [
       "(0.2889469342348861, 0.40358744394618834)"
      ]
     },
     "execution_count": 28,
     "metadata": {},
     "output_type": "execute_result"
    }
   ],
   "source": [
    "gwval = 8e-3\n",
    "gwval_name = 'gw_toydata_test_8e-3_out'\n",
    "\n",
    "TestEstimator(estimator, gwval , gwval_name, title_message=', madminer', qc=False)"
   ]
  },
  {
   "cell_type": "code",
   "execution_count": null,
   "metadata": {},
   "outputs": [],
   "source": []
  }
 ],
 "metadata": {
  "kernelspec": {
   "display_name": "Python 2",
   "language": "python",
   "name": "python2"
  },
  "language_info": {
   "codemirror_mode": {
    "name": "ipython",
    "version": 3
   },
   "file_extension": ".py",
   "mimetype": "text/x-python",
   "name": "python",
   "nbconvert_exporter": "python",
   "pygments_lexer": "ipython3",
   "version": "3.8.2"
  }
 },
 "nbformat": 4,
 "nbformat_minor": 4
}
